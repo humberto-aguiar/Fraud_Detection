{
 "cells": [
  {
   "cell_type": "markdown",
   "metadata": {},
   "source": [
    "# 0.0 Imports"
   ]
  },
  {
   "cell_type": "markdown",
   "metadata": {},
   "source": [
    "## 0.1 Imports"
   ]
  },
  {
   "cell_type": "code",
   "execution_count": 47,
   "metadata": {},
   "outputs": [],
   "source": [
    "import pandas as pd\n",
    "import numpy as np\n",
    "import matplotlib.pyplot as plt\n",
    "import math\n",
    "\n",
    "from pyspark.sql.functions import udf\n",
    "from pyspark.sql import SparkSession\n",
    "from pyspark.sql.types import DoubleType, IntegerType, FloatType, LongType, ShortType\n",
    "\n",
    "from pyspark.ml.pipeline import Pipeline\n",
    "from pyspark.ml.classification import RandomForestClassifier\n",
    "from pyspark.ml.feature import OneHotEncoder, StringIndexer, VectorAssembler\n",
    "\n",
    "from sklearn.metrics import confusion_matrix, ConfusionMatrixDisplay, RocCurveDisplay, PrecisionRecallDisplay\n"
   ]
  },
  {
   "cell_type": "markdown",
   "metadata": {},
   "source": [
    "## 0.2 Starting Spark Session"
   ]
  },
  {
   "cell_type": "code",
   "execution_count": 2,
   "metadata": {},
   "outputs": [
    {
     "name": "stderr",
     "output_type": "stream",
     "text": [
      "WARNING: An illegal reflective access operation has occurred\n",
      "WARNING: Illegal reflective access by org.apache.spark.unsafe.Platform (file:/home/humberto/.pyenv/versions/3.8.0/envs/pyspark/lib/python3.8/site-packages/pyspark/jars/spark-unsafe_2.12-3.2.1.jar) to constructor java.nio.DirectByteBuffer(long,int)\n",
      "WARNING: Please consider reporting this to the maintainers of org.apache.spark.unsafe.Platform\n",
      "WARNING: Use --illegal-access=warn to enable warnings of further illegal reflective access operations\n",
      "WARNING: All illegal access operations will be denied in a future release\n",
      "Using Spark's default log4j profile: org/apache/spark/log4j-defaults.properties\n",
      "Setting default log level to \"WARN\".\n",
      "To adjust logging level use sc.setLogLevel(newLevel). For SparkR, use setLogLevel(newLevel).\n",
      "22/04/26 14:27:19 WARN NativeCodeLoader: Unable to load native-hadoop library for your platform... using builtin-java classes where applicable\n"
     ]
    },
    {
     "data": {
      "text/html": [
       "\n",
       "            <div>\n",
       "                <p><b>SparkSession - in-memory</b></p>\n",
       "                \n",
       "        <div>\n",
       "            <p><b>SparkContext</b></p>\n",
       "\n",
       "            <p><a href=\"http://1berto:4040\">Spark UI</a></p>\n",
       "\n",
       "            <dl>\n",
       "              <dt>Version</dt>\n",
       "                <dd><code>v3.2.1</code></dd>\n",
       "              <dt>Master</dt>\n",
       "                <dd><code>local[*]</code></dd>\n",
       "              <dt>AppName</dt>\n",
       "                <dd><code>Fraud</code></dd>\n",
       "            </dl>\n",
       "        </div>\n",
       "        \n",
       "            </div>\n",
       "        "
      ],
      "text/plain": [
       "<pyspark.sql.session.SparkSession at 0x7fc2e9406c40>"
      ]
     },
     "execution_count": 2,
     "metadata": {},
     "output_type": "execute_result"
    }
   ],
   "source": [
    "spark = (SparkSession\n",
    ".builder\n",
    ".appName('Fraud')\n",
    ".getOrCreate())\n",
    "\n",
    "spark"
   ]
  },
  {
   "cell_type": "markdown",
   "metadata": {},
   "source": [
    "## 0.3 Helper Functions\n",
    "\n"
   ]
  },
  {
   "cell_type": "code",
   "execution_count": 3,
   "metadata": {},
   "outputs": [],
   "source": [
    "import matplotlib.pyplot as plt\n",
    "\n",
    "def jupyter_settings():\n",
    "    %matplotlib inline\n",
    "    # %pylab inline\n",
    "    plt.style.use( 'bmh' )\n",
    "    plt.rcParams['figure.figsize'] = [25, 12]\n",
    "    plt.rcParams['font.size'] = 16\n",
    "    plt.rcParams['figure.facecolor'] = 'white'\n",
    "    \n",
    "    # display( HTML( '<style>.container { width:100% !important; }</style>') )\n",
    "    pd.options.display.max_columns = None\n",
    "    pd.options.display.max_rows = None\n",
    "    pd.set_option( 'display.expand_frame_repr', False )\n",
    "    # sns.set()\n",
    "\n",
    "jupyter_settings()\n",
    "\n",
    "def proba_to_pandas(dataframe, prob_col:str, label_col:str):\n",
    "    \"\"\"\n",
    "    Converts a PySpark SQL DataFrame's probability and label columns to a pandas dataframe.\n",
    "    \"\"\"\n",
    "    # convert to pandas df\n",
    "    result = dataframe.select([prob_col, label_col]).toPandas()\n",
    "    \n",
    "    # rename cols\n",
    "    result.columns = ['y_pred', 'y_true']\n",
    "\n",
    "    # select proba of positive class\n",
    "    result['y_pred'] = result['y_pred'].apply(lambda x : x[1])\n",
    "    \n",
    "    return result\n",
    "\n",
    "def describe_stats(dataframe):\n",
    "    \"\"\"\n",
    "    Calculates min, max, mean, std, skewnewss and kurtosis for the given pyspark df\n",
    "    and returns a pandas df with the results.\n",
    "    \"\"\"\n",
    "    import pyspark.sql. functions as funcs\n",
    "    num_cols = [f.name for f in dataframe.schema.fields if isinstance(f.dataType, (DoubleType, IntegerType, FloatType, LongType, ShortType))]\n",
    "\n",
    "    min = []\n",
    "    max = []\n",
    "    mean = []\n",
    "    std = []\n",
    "    skewness = []\n",
    "    kurtosis = []\n",
    "\n",
    "    for col in num_cols:\n",
    "        # evaluates each metric, collect (to execute) and extracts the result to append to lis\n",
    "        min.append( data.agg( funcs.min(col) ).collect()[0][0] )\n",
    "        max.append( data.agg( funcs.max(col) ).collect()[0][0] )\n",
    "        mean.append( data.agg( funcs.mean(col) ).collect()[0][0] )\n",
    "        std.append( data.agg( funcs.stddev(col) ).collect()[0][0] )\n",
    "        skewness.append( data.agg( funcs.skewness(col) ).collect()[0][0] )\n",
    "        kurtosis.append( data.agg( funcs.kurtosis(col) ).collect()[0][0] )\n",
    "\n",
    "    # create a dataframe with results\n",
    "    res = {'min': min, 'max': max, 'mean': mean, 'std': std, 'skewness': skewness, 'kurtosis': kurtosis}\n",
    "    return pd.DataFrame(res, index = num_cols)"
   ]
  },
  {
   "cell_type": "markdown",
   "metadata": {
    "heading_collapsed": true
   },
   "source": [
    "## 0.4 Data Loading"
   ]
  },
  {
   "cell_type": "code",
   "execution_count": 4,
   "metadata": {},
   "outputs": [
    {
     "name": "stderr",
     "output_type": "stream",
     "text": [
      "[Stage 1:=============================>                             (2 + 2) / 4]\r"
     ]
    },
    {
     "name": "stdout",
     "output_type": "stream",
     "text": [
      "CPU times: user 25.2 ms, sys: 657 µs, total: 25.8 ms\n",
      "Wall time: 38.6 s\n"
     ]
    },
    {
     "name": "stderr",
     "output_type": "stream",
     "text": [
      "                                                                                \r"
     ]
    }
   ],
   "source": [
    "%%time\n",
    "data = spark.read.csv('../data/raw/fraud.csv', header = True, inferSchema=True)"
   ]
  },
  {
   "cell_type": "code",
   "execution_count": 5,
   "metadata": {},
   "outputs": [
    {
     "name": "stdout",
     "output_type": "stream",
     "text": [
      "+----+--------+--------+-----------+-------------+--------------+-----------+--------------+--------------+-------+--------------+\n",
      "|step|    type|  amount|   nameOrig|oldbalanceOrg|newbalanceOrig|   nameDest|oldbalanceDest|newbalanceDest|isFraud|isFlaggedFraud|\n",
      "+----+--------+--------+-----------+-------------+--------------+-----------+--------------+--------------+-------+--------------+\n",
      "|   1| PAYMENT| 9839.64|C1231006815|     170136.0|     160296.36|M1979787155|           0.0|           0.0|      0|             0|\n",
      "|   1| PAYMENT| 1864.28|C1666544295|      21249.0|      19384.72|M2044282225|           0.0|           0.0|      0|             0|\n",
      "|   1|TRANSFER|   181.0|C1305486145|        181.0|           0.0| C553264065|           0.0|           0.0|      1|             0|\n",
      "|   1|CASH_OUT|   181.0| C840083671|        181.0|           0.0|  C38997010|       21182.0|           0.0|      1|             0|\n",
      "|   1| PAYMENT|11668.14|C2048537720|      41554.0|      29885.86|M1230701703|           0.0|           0.0|      0|             0|\n",
      "+----+--------+--------+-----------+-------------+--------------+-----------+--------------+--------------+-------+--------------+\n",
      "only showing top 5 rows\n",
      "\n"
     ]
    }
   ],
   "source": [
    "data.show(5)"
   ]
  },
  {
   "cell_type": "code",
   "execution_count": 6,
   "metadata": {},
   "outputs": [
    {
     "data": {
      "text/plain": [
       "pyspark.sql.dataframe.DataFrame"
      ]
     },
     "execution_count": 6,
     "metadata": {},
     "output_type": "execute_result"
    }
   ],
   "source": [
    "type(data)"
   ]
  },
  {
   "cell_type": "code",
   "execution_count": 7,
   "metadata": {},
   "outputs": [
    {
     "data": {
      "text/plain": [
       "[('step', 'int'),\n",
       " ('type', 'string'),\n",
       " ('amount', 'double'),\n",
       " ('nameOrig', 'string'),\n",
       " ('oldbalanceOrg', 'double'),\n",
       " ('newbalanceOrig', 'double'),\n",
       " ('nameDest', 'string'),\n",
       " ('oldbalanceDest', 'double'),\n",
       " ('newbalanceDest', 'double'),\n",
       " ('isFraud', 'int'),\n",
       " ('isFlaggedFraud', 'int')]"
      ]
     },
     "execution_count": 7,
     "metadata": {},
     "output_type": "execute_result"
    }
   ],
   "source": [
    "data.dtypes"
   ]
  },
  {
   "cell_type": "markdown",
   "metadata": {
    "heading_collapsed": true
   },
   "source": [
    "## 0.5 Columns Description\n",
    "\n"
   ]
  },
  {
   "cell_type": "markdown",
   "metadata": {},
   "source": [
    "**step** - maps a unit of time in the real world. In this case 1 step is 1 hour of time. Total steps 744 (30 days simulation).\n",
    "\n",
    "**type** - CASH-IN, CASH-OUT, DEBIT, PAYMENT and TRANSFER.\n",
    "\n",
    "**amount** -\n",
    "amount of the transaction in local currency.\n",
    "\n",
    "**nameOrig** - customer who started the transaction\n",
    "\n",
    "**oldbalanceOrg** - initial balance before the transaction\n",
    "\n",
    "**newbalanceOrig** - new balance after the transaction\n",
    "\n",
    "**nameDest** - customer who is the recipient of the transaction\n",
    "\n",
    "**oldbalanceDest** - initial balance recipient before the transaction. Note that there is not information for customers that start with M (Merchants).\n",
    "\n",
    "**newbalanceDest** - new balance recipient after the transaction. Note that there is not information for customers that start with M (Merchants).\n",
    "\n",
    "**isFraud** - This is the transactions made by the fraudulent agents inside the simulation. In this specific dataset the fraudulent behavior of the agents aims to profit by taking control or customers accounts and try to empty the funds by transferring to another account and then cashing out of the system.\n",
    "\n",
    "**isFlaggedFraud** - The business model aims to control massive transfers from one account to another and flags illegal attempts. An illegal attempt in this dataset is an attempt to transfer more than 200.000 in a single transaction."
   ]
  },
  {
   "cell_type": "markdown",
   "metadata": {},
   "source": [
    "# 1.0 Data Description\n"
   ]
  },
  {
   "cell_type": "markdown",
   "metadata": {
    "hidden": true
   },
   "source": [
    "## 1.1 Rename Columns"
   ]
  },
  {
   "cell_type": "code",
   "execution_count": 6,
   "metadata": {},
   "outputs": [
    {
     "name": "stdout",
     "output_type": "stream",
     "text": [
      "+----+--------+---------+-----------+---------------+---------------+-----------+----------------+----------------+--------+----------------+\n",
      "|step|    type|   amount|  name_orig|old_balance_org|new_balance_org|  name_dest|old_balance_dest|new_balance_dest|is_fraud|is_flagged_fraud|\n",
      "+----+--------+---------+-----------+---------------+---------------+-----------+----------------+----------------+--------+----------------+\n",
      "|   1| PAYMENT|  9839.64|C1231006815|       170136.0|      160296.36|M1979787155|             0.0|             0.0|       0|               0|\n",
      "|   1| PAYMENT|  1864.28|C1666544295|        21249.0|       19384.72|M2044282225|             0.0|             0.0|       0|               0|\n",
      "|   1|TRANSFER|    181.0|C1305486145|          181.0|            0.0| C553264065|             0.0|             0.0|       1|               0|\n",
      "|   1|CASH_OUT|    181.0| C840083671|          181.0|            0.0|  C38997010|         21182.0|             0.0|       1|               0|\n",
      "|   1| PAYMENT| 11668.14|C2048537720|        41554.0|       29885.86|M1230701703|             0.0|             0.0|       0|               0|\n",
      "|   1| PAYMENT|  7817.71|  C90045638|        53860.0|       46042.29| M573487274|             0.0|             0.0|       0|               0|\n",
      "|   1| PAYMENT|  7107.77| C154988899|       183195.0|      176087.23| M408069119|             0.0|             0.0|       0|               0|\n",
      "|   1| PAYMENT|  7861.64|C1912850431|      176087.23|      168225.59| M633326333|             0.0|             0.0|       0|               0|\n",
      "|   1| PAYMENT|  4024.36|C1265012928|         2671.0|            0.0|M1176932104|             0.0|             0.0|       0|               0|\n",
      "|   1|   DEBIT|  5337.77| C712410124|        41720.0|       36382.23| C195600860|         41898.0|        40348.79|       0|               0|\n",
      "|   1|   DEBIT|  9644.94|C1900366749|         4465.0|            0.0| C997608398|         10845.0|       157982.12|       0|               0|\n",
      "|   1| PAYMENT|  3099.97| C249177573|        20771.0|       17671.03|M2096539129|             0.0|             0.0|       0|               0|\n",
      "|   1| PAYMENT|  2560.74|C1648232591|         5070.0|        2509.26| M972865270|             0.0|             0.0|       0|               0|\n",
      "|   1| PAYMENT| 11633.76|C1716932897|        10127.0|            0.0| M801569151|             0.0|             0.0|       0|               0|\n",
      "|   1| PAYMENT|  4098.78|C1026483832|       503264.0|      499165.22|M1635378213|             0.0|             0.0|       0|               0|\n",
      "|   1|CASH_OUT|229133.94| C905080434|        15325.0|            0.0| C476402209|          5083.0|        51513.44|       0|               0|\n",
      "|   1| PAYMENT|  1563.82| C761750706|          450.0|            0.0|M1731217984|             0.0|             0.0|       0|               0|\n",
      "|   1| PAYMENT|  1157.86|C1237762639|        21156.0|       19998.14|M1877062907|             0.0|             0.0|       0|               0|\n",
      "|   1| PAYMENT|   671.64|C2033524545|        15123.0|       14451.36| M473053293|             0.0|             0.0|       0|               0|\n",
      "|   1|TRANSFER| 215310.3|C1670993182|          705.0|            0.0|C1100439041|         22425.0|             0.0|       0|               0|\n",
      "+----+--------+---------+-----------+---------------+---------------+-----------+----------------+----------------+--------+----------------+\n",
      "only showing top 20 rows\n",
      "\n"
     ]
    }
   ],
   "source": [
    "# new column names\n",
    "cols = ['step',\n",
    " 'type',\n",
    " 'amount',\n",
    " 'name_orig',\n",
    " 'old_balance_org',\n",
    " 'new_balance_org',\n",
    " 'name_dest',\n",
    " 'old_balance_dest',\n",
    " 'new_balance_dest',\n",
    " 'is_fraud',\n",
    " 'is_flagged_fraud']\n",
    "\n",
    "data = data.toDF(*cols)\n",
    "data.show()"
   ]
  },
  {
   "cell_type": "markdown",
   "metadata": {},
   "source": [
    "## 1.2 Data Dimensions"
   ]
  },
  {
   "cell_type": "markdown",
   "metadata": {},
   "source": [
    "## 1.3 Data Types"
   ]
  },
  {
   "cell_type": "markdown",
   "metadata": {},
   "source": [
    "## 1.4 NA Check"
   ]
  },
  {
   "cell_type": "code",
   "execution_count": 9,
   "metadata": {},
   "outputs": [
    {
     "name": "stderr",
     "output_type": "stream",
     "text": [
      "                                                                                \r"
     ]
    },
    {
     "data": {
      "text/plain": [
       "{'step': 0,\n",
       " 'type': 0,\n",
       " 'amount': 0,\n",
       " 'name_orig': 0,\n",
       " 'old_balance_org': 0,\n",
       " 'new_balance_org': 0,\n",
       " 'name_dest': 0,\n",
       " 'old_balance_dest': 0,\n",
       " 'new_balance_dest': 0,\n",
       " 'is_fraud': 0,\n",
       " 'is_flagged_fraud': 0}"
      ]
     },
     "execution_count": 9,
     "metadata": {},
     "output_type": "execute_result"
    }
   ],
   "source": [
    "columns = data.columns\n",
    "\n",
    "\n",
    "NAs = {col: data[data[col].isNull()].count() for col in columns }\n",
    "\n",
    "NAs"
   ]
  },
  {
   "cell_type": "markdown",
   "metadata": {},
   "source": [
    "## 1.5 NA Fillout"
   ]
  },
  {
   "cell_type": "markdown",
   "metadata": {},
   "source": [
    "## 1.6 Changing Data Types\n"
   ]
  },
  {
   "cell_type": "code",
   "execution_count": 9,
   "metadata": {},
   "outputs": [
    {
     "name": "stdout",
     "output_type": "stream",
     "text": [
      "root\n",
      " |-- step: integer (nullable = true)\n",
      " |-- type: string (nullable = true)\n",
      " |-- amount: double (nullable = true)\n",
      " |-- name_orig: string (nullable = true)\n",
      " |-- old_balance_org: double (nullable = true)\n",
      " |-- new_balance_org: double (nullable = true)\n",
      " |-- name_dest: string (nullable = true)\n",
      " |-- old_balance_dest: double (nullable = true)\n",
      " |-- new_balance_dest: double (nullable = true)\n",
      " |-- is_fraud: integer (nullable = true)\n",
      " |-- is_flagged_fraud: integer (nullable = true)\n",
      "\n"
     ]
    }
   ],
   "source": [
    "data.printSchema()"
   ]
  },
  {
   "cell_type": "markdown",
   "metadata": {},
   "source": [
    "## 1.7 Descriptive Statistics"
   ]
  },
  {
   "cell_type": "markdown",
   "metadata": {},
   "source": [
    "### 1.7.1 Numerical Attributes"
   ]
  },
  {
   "cell_type": "code",
   "execution_count": 83,
   "metadata": {},
   "outputs": [
    {
     "name": "stderr",
     "output_type": "stream",
     "text": [
      "                                                                                \r"
     ]
    }
   ],
   "source": [
    "desc = describe_stats(data)\n",
    "# 8 min to run"
   ]
  },
  {
   "cell_type": "code",
   "execution_count": 97,
   "metadata": {},
   "outputs": [
    {
     "data": {
      "text/html": [
       "<style type=\"text/css\">\n",
       "</style>\n",
       "<table id=\"T_609dd\">\n",
       "  <thead>\n",
       "    <tr>\n",
       "      <th class=\"blank level0\" >&nbsp;</th>\n",
       "      <th id=\"T_609dd_level0_col0\" class=\"col_heading level0 col0\" >min</th>\n",
       "      <th id=\"T_609dd_level0_col1\" class=\"col_heading level0 col1\" >max</th>\n",
       "      <th id=\"T_609dd_level0_col2\" class=\"col_heading level0 col2\" >mean</th>\n",
       "      <th id=\"T_609dd_level0_col3\" class=\"col_heading level0 col3\" >std</th>\n",
       "      <th id=\"T_609dd_level0_col4\" class=\"col_heading level0 col4\" >skewness</th>\n",
       "      <th id=\"T_609dd_level0_col5\" class=\"col_heading level0 col5\" >kurtosis</th>\n",
       "    </tr>\n",
       "  </thead>\n",
       "  <tbody>\n",
       "    <tr>\n",
       "      <th id=\"T_609dd_level0_row0\" class=\"row_heading level0 row0\" >step</th>\n",
       "      <td id=\"T_609dd_row0_col0\" class=\"data row0 col0\" >1.00</td>\n",
       "      <td id=\"T_609dd_row0_col1\" class=\"data row0 col1\" >743.00</td>\n",
       "      <td id=\"T_609dd_row0_col2\" class=\"data row0 col2\" >243.40</td>\n",
       "      <td id=\"T_609dd_row0_col3\" class=\"data row0 col3\" >142.33</td>\n",
       "      <td id=\"T_609dd_row0_col4\" class=\"data row0 col4\" >0.38</td>\n",
       "      <td id=\"T_609dd_row0_col5\" class=\"data row0 col5\" >0.33</td>\n",
       "    </tr>\n",
       "    <tr>\n",
       "      <th id=\"T_609dd_level0_row1\" class=\"row_heading level0 row1\" >amount</th>\n",
       "      <td id=\"T_609dd_row1_col0\" class=\"data row1 col0\" >0.00</td>\n",
       "      <td id=\"T_609dd_row1_col1\" class=\"data row1 col1\" >92,445,516.64</td>\n",
       "      <td id=\"T_609dd_row1_col2\" class=\"data row1 col2\" >179,861.90</td>\n",
       "      <td id=\"T_609dd_row1_col3\" class=\"data row1 col3\" >603,858.23</td>\n",
       "      <td id=\"T_609dd_row1_col4\" class=\"data row1 col4\" >30.99</td>\n",
       "      <td id=\"T_609dd_row1_col5\" class=\"data row1 col5\" >1,797.96</td>\n",
       "    </tr>\n",
       "    <tr>\n",
       "      <th id=\"T_609dd_level0_row2\" class=\"row_heading level0 row2\" >old_balance_org</th>\n",
       "      <td id=\"T_609dd_row2_col0\" class=\"data row2 col0\" >0.00</td>\n",
       "      <td id=\"T_609dd_row2_col1\" class=\"data row2 col1\" >59,585,040.37</td>\n",
       "      <td id=\"T_609dd_row2_col2\" class=\"data row2 col2\" >833,883.10</td>\n",
       "      <td id=\"T_609dd_row2_col3\" class=\"data row2 col3\" >2,888,242.67</td>\n",
       "      <td id=\"T_609dd_row2_col4\" class=\"data row2 col4\" >5.25</td>\n",
       "      <td id=\"T_609dd_row2_col5\" class=\"data row2 col5\" >32.96</td>\n",
       "    </tr>\n",
       "    <tr>\n",
       "      <th id=\"T_609dd_level0_row3\" class=\"row_heading level0 row3\" >new_balance_org</th>\n",
       "      <td id=\"T_609dd_row3_col0\" class=\"data row3 col0\" >0.00</td>\n",
       "      <td id=\"T_609dd_row3_col1\" class=\"data row3 col1\" >49,585,040.37</td>\n",
       "      <td id=\"T_609dd_row3_col2\" class=\"data row3 col2\" >855,113.67</td>\n",
       "      <td id=\"T_609dd_row3_col3\" class=\"data row3 col3\" >2,924,048.50</td>\n",
       "      <td id=\"T_609dd_row3_col4\" class=\"data row3 col4\" >5.18</td>\n",
       "      <td id=\"T_609dd_row3_col5\" class=\"data row3 col5\" >32.07</td>\n",
       "    </tr>\n",
       "    <tr>\n",
       "      <th id=\"T_609dd_level0_row4\" class=\"row_heading level0 row4\" >old_balance_dest</th>\n",
       "      <td id=\"T_609dd_row4_col0\" class=\"data row4 col0\" >0.00</td>\n",
       "      <td id=\"T_609dd_row4_col1\" class=\"data row4 col1\" >356,015,889.35</td>\n",
       "      <td id=\"T_609dd_row4_col2\" class=\"data row4 col2\" >1,100,701.67</td>\n",
       "      <td id=\"T_609dd_row4_col3\" class=\"data row4 col3\" >3,399,180.11</td>\n",
       "      <td id=\"T_609dd_row4_col4\" class=\"data row4 col4\" >19.92</td>\n",
       "      <td id=\"T_609dd_row4_col5\" class=\"data row4 col5\" >948.67</td>\n",
       "    </tr>\n",
       "    <tr>\n",
       "      <th id=\"T_609dd_level0_row5\" class=\"row_heading level0 row5\" >new_balance_dest</th>\n",
       "      <td id=\"T_609dd_row5_col0\" class=\"data row5 col0\" >0.00</td>\n",
       "      <td id=\"T_609dd_row5_col1\" class=\"data row5 col1\" >356,179,278.92</td>\n",
       "      <td id=\"T_609dd_row5_col2\" class=\"data row5 col2\" >1,224,996.40</td>\n",
       "      <td id=\"T_609dd_row5_col3\" class=\"data row5 col3\" >3,674,128.94</td>\n",
       "      <td id=\"T_609dd_row5_col4\" class=\"data row5 col4\" >19.35</td>\n",
       "      <td id=\"T_609dd_row5_col5\" class=\"data row5 col5\" >862.16</td>\n",
       "    </tr>\n",
       "    <tr>\n",
       "      <th id=\"T_609dd_level0_row6\" class=\"row_heading level0 row6\" >is_fraud</th>\n",
       "      <td id=\"T_609dd_row6_col0\" class=\"data row6 col0\" >0.00</td>\n",
       "      <td id=\"T_609dd_row6_col1\" class=\"data row6 col1\" >1.00</td>\n",
       "      <td id=\"T_609dd_row6_col2\" class=\"data row6 col2\" >0.00</td>\n",
       "      <td id=\"T_609dd_row6_col3\" class=\"data row6 col3\" >0.04</td>\n",
       "      <td id=\"T_609dd_row6_col4\" class=\"data row6 col4\" >27.78</td>\n",
       "      <td id=\"T_609dd_row6_col5\" class=\"data row6 col5\" >769.70</td>\n",
       "    </tr>\n",
       "    <tr>\n",
       "      <th id=\"T_609dd_level0_row7\" class=\"row_heading level0 row7\" >is_flagged_fraud</th>\n",
       "      <td id=\"T_609dd_row7_col0\" class=\"data row7 col0\" >0.00</td>\n",
       "      <td id=\"T_609dd_row7_col1\" class=\"data row7 col1\" >1.00</td>\n",
       "      <td id=\"T_609dd_row7_col2\" class=\"data row7 col2\" >0.00</td>\n",
       "      <td id=\"T_609dd_row7_col3\" class=\"data row7 col3\" >0.00</td>\n",
       "      <td id=\"T_609dd_row7_col4\" class=\"data row7 col4\" >630.60</td>\n",
       "      <td id=\"T_609dd_row7_col5\" class=\"data row7 col5\" >397,658.75</td>\n",
       "    </tr>\n",
       "  </tbody>\n",
       "</table>\n"
      ],
      "text/plain": [
       "<pandas.io.formats.style.Styler at 0x7fc2e17e1520>"
      ]
     },
     "execution_count": 97,
     "metadata": {},
     "output_type": "execute_result"
    }
   ],
   "source": [
    "desc.style.format(\"{:,.2f}\")"
   ]
  },
  {
   "cell_type": "code",
   "execution_count": 98,
   "metadata": {},
   "outputs": [
    {
     "data": {
      "text/html": [
       "<style type=\"text/css\">\n",
       "</style>\n",
       "<table id=\"T_37a5b\">\n",
       "  <thead>\n",
       "    <tr>\n",
       "      <th class=\"blank level0\" >&nbsp;</th>\n",
       "      <th id=\"T_37a5b_level0_col0\" class=\"col_heading level0 col0\" >min</th>\n",
       "      <th id=\"T_37a5b_level0_col1\" class=\"col_heading level0 col1\" >max</th>\n",
       "      <th id=\"T_37a5b_level0_col2\" class=\"col_heading level0 col2\" >mean</th>\n",
       "      <th id=\"T_37a5b_level0_col3\" class=\"col_heading level0 col3\" >std</th>\n",
       "      <th id=\"T_37a5b_level0_col4\" class=\"col_heading level0 col4\" >skewness</th>\n",
       "      <th id=\"T_37a5b_level0_col5\" class=\"col_heading level0 col5\" >kurtosis</th>\n",
       "    </tr>\n",
       "  </thead>\n",
       "  <tbody>\n",
       "    <tr>\n",
       "      <th id=\"T_37a5b_level0_row0\" class=\"row_heading level0 row0\" >step</th>\n",
       "      <td id=\"T_37a5b_row0_col0\" class=\"data row0 col0\" >1.0000</td>\n",
       "      <td id=\"T_37a5b_row0_col1\" class=\"data row0 col1\" >743.0000</td>\n",
       "      <td id=\"T_37a5b_row0_col2\" class=\"data row0 col2\" >243.3972</td>\n",
       "      <td id=\"T_37a5b_row0_col3\" class=\"data row0 col3\" >142.3320</td>\n",
       "      <td id=\"T_37a5b_row0_col4\" class=\"data row0 col4\" >0.3752</td>\n",
       "      <td id=\"T_37a5b_row0_col5\" class=\"data row0 col5\" >0.3291</td>\n",
       "    </tr>\n",
       "    <tr>\n",
       "      <th id=\"T_37a5b_level0_row1\" class=\"row_heading level0 row1\" >amount</th>\n",
       "      <td id=\"T_37a5b_row1_col0\" class=\"data row1 col0\" >0.0000</td>\n",
       "      <td id=\"T_37a5b_row1_col1\" class=\"data row1 col1\" >92,445,516.6400</td>\n",
       "      <td id=\"T_37a5b_row1_col2\" class=\"data row1 col2\" >179,861.9035</td>\n",
       "      <td id=\"T_37a5b_row1_col3\" class=\"data row1 col3\" >603,858.2315</td>\n",
       "      <td id=\"T_37a5b_row1_col4\" class=\"data row1 col4\" >30.9939</td>\n",
       "      <td id=\"T_37a5b_row1_col5\" class=\"data row1 col5\" >1,797.9553</td>\n",
       "    </tr>\n",
       "    <tr>\n",
       "      <th id=\"T_37a5b_level0_row2\" class=\"row_heading level0 row2\" >old_balance_org</th>\n",
       "      <td id=\"T_37a5b_row2_col0\" class=\"data row2 col0\" >0.0000</td>\n",
       "      <td id=\"T_37a5b_row2_col1\" class=\"data row2 col1\" >59,585,040.3700</td>\n",
       "      <td id=\"T_37a5b_row2_col2\" class=\"data row2 col2\" >833,883.1041</td>\n",
       "      <td id=\"T_37a5b_row2_col3\" class=\"data row2 col3\" >2,888,242.6730</td>\n",
       "      <td id=\"T_37a5b_row2_col4\" class=\"data row2 col4\" >5.2491</td>\n",
       "      <td id=\"T_37a5b_row2_col5\" class=\"data row2 col5\" >32.9649</td>\n",
       "    </tr>\n",
       "    <tr>\n",
       "      <th id=\"T_37a5b_level0_row3\" class=\"row_heading level0 row3\" >new_balance_org</th>\n",
       "      <td id=\"T_37a5b_row3_col0\" class=\"data row3 col0\" >0.0000</td>\n",
       "      <td id=\"T_37a5b_row3_col1\" class=\"data row3 col1\" >49,585,040.3700</td>\n",
       "      <td id=\"T_37a5b_row3_col2\" class=\"data row3 col2\" >855,113.6686</td>\n",
       "      <td id=\"T_37a5b_row3_col3\" class=\"data row3 col3\" >2,924,048.5030</td>\n",
       "      <td id=\"T_37a5b_row3_col4\" class=\"data row3 col4\" >5.1769</td>\n",
       "      <td id=\"T_37a5b_row3_col5\" class=\"data row3 col5\" >32.0670</td>\n",
       "    </tr>\n",
       "    <tr>\n",
       "      <th id=\"T_37a5b_level0_row4\" class=\"row_heading level0 row4\" >old_balance_dest</th>\n",
       "      <td id=\"T_37a5b_row4_col0\" class=\"data row4 col0\" >0.0000</td>\n",
       "      <td id=\"T_37a5b_row4_col1\" class=\"data row4 col1\" >356,015,889.3500</td>\n",
       "      <td id=\"T_37a5b_row4_col2\" class=\"data row4 col2\" >1,100,701.6665</td>\n",
       "      <td id=\"T_37a5b_row4_col3\" class=\"data row4 col3\" >3,399,180.1130</td>\n",
       "      <td id=\"T_37a5b_row4_col4\" class=\"data row4 col4\" >19.9218</td>\n",
       "      <td id=\"T_37a5b_row4_col5\" class=\"data row4 col5\" >948.6734</td>\n",
       "    </tr>\n",
       "    <tr>\n",
       "      <th id=\"T_37a5b_level0_row5\" class=\"row_heading level0 row5\" >new_balance_dest</th>\n",
       "      <td id=\"T_37a5b_row5_col0\" class=\"data row5 col0\" >0.0000</td>\n",
       "      <td id=\"T_37a5b_row5_col1\" class=\"data row5 col1\" >356,179,278.9200</td>\n",
       "      <td id=\"T_37a5b_row5_col2\" class=\"data row5 col2\" >1,224,996.3982</td>\n",
       "      <td id=\"T_37a5b_row5_col3\" class=\"data row5 col3\" >3,674,128.9421</td>\n",
       "      <td id=\"T_37a5b_row5_col4\" class=\"data row5 col4\" >19.3523</td>\n",
       "      <td id=\"T_37a5b_row5_col5\" class=\"data row5 col5\" >862.1558</td>\n",
       "    </tr>\n",
       "    <tr>\n",
       "      <th id=\"T_37a5b_level0_row6\" class=\"row_heading level0 row6\" >is_fraud</th>\n",
       "      <td id=\"T_37a5b_row6_col0\" class=\"data row6 col0\" >0.0000</td>\n",
       "      <td id=\"T_37a5b_row6_col1\" class=\"data row6 col1\" >1.0000</td>\n",
       "      <td id=\"T_37a5b_row6_col2\" class=\"data row6 col2\" >0.0013</td>\n",
       "      <td id=\"T_37a5b_row6_col3\" class=\"data row6 col3\" >0.0359</td>\n",
       "      <td id=\"T_37a5b_row6_col4\" class=\"data row6 col4\" >27.7795</td>\n",
       "      <td id=\"T_37a5b_row6_col5\" class=\"data row6 col5\" >769.7024</td>\n",
       "    </tr>\n",
       "    <tr>\n",
       "      <th id=\"T_37a5b_level0_row7\" class=\"row_heading level0 row7\" >is_flagged_fraud</th>\n",
       "      <td id=\"T_37a5b_row7_col0\" class=\"data row7 col0\" >0.0000</td>\n",
       "      <td id=\"T_37a5b_row7_col1\" class=\"data row7 col1\" >1.0000</td>\n",
       "      <td id=\"T_37a5b_row7_col2\" class=\"data row7 col2\" >0.0000</td>\n",
       "      <td id=\"T_37a5b_row7_col3\" class=\"data row7 col3\" >0.0016</td>\n",
       "      <td id=\"T_37a5b_row7_col4\" class=\"data row7 col4\" >630.6035</td>\n",
       "      <td id=\"T_37a5b_row7_col5\" class=\"data row7 col5\" >397,658.7500</td>\n",
       "    </tr>\n",
       "  </tbody>\n",
       "</table>\n"
      ],
      "text/plain": [
       "<pandas.io.formats.style.Styler at 0x7fc2e17e1be0>"
      ]
     },
     "execution_count": 98,
     "metadata": {},
     "output_type": "execute_result"
    }
   ],
   "source": [
    "desc.style.format(\"{:,.4f}\")"
   ]
  },
  {
   "cell_type": "code",
   "execution_count": null,
   "metadata": {},
   "outputs": [
    {
     "name": "stdout",
     "output_type": "stream",
     "text": [
      "fraud percentage: 0.1291%\n"
     ]
    }
   ],
   "source": [
    "frauds = prop.iloc[0,1]\n",
    "non_frauds = prop.iloc[1,1]\n",
    "\n",
    "print('fraud percentage: {:.4f}%'.format( 100*frauds/(frauds+non_frauds)))\n"
   ]
  },
  {
   "cell_type": "markdown",
   "metadata": {},
   "source": [
    "### 1.7.2 Categorical Attributes"
   ]
  },
  {
   "cell_type": "markdown",
   "metadata": {
    "heading_collapsed": true
   },
   "source": [
    "# 2.0 Feature Engineering"
   ]
  },
  {
   "cell_type": "markdown",
   "metadata": {},
   "source": [
    "## 2.1 Response Variable Mind Map"
   ]
  },
  {
   "cell_type": "markdown",
   "metadata": {},
   "source": [
    "## 2.2 Hypothesis List"
   ]
  },
  {
   "cell_type": "markdown",
   "metadata": {},
   "source": [
    "## 2.3 Selected Hypothesis:"
   ]
  },
  {
   "cell_type": "markdown",
   "metadata": {},
   "source": [
    "**H1:** \n",
    "\n",
    "**H2:** \n",
    "\n",
    "**H3:** \n",
    "\n",
    "**H4:** \n",
    "\n",
    "**H5:** \n",
    "\n",
    "**H6:** \n",
    "\n",
    "**H7:** \n",
    "\n",
    "**H8:** \n",
    "\n",
    "**H9:** \n",
    "\n",
    "**H10:** \n",
    "\n",
    "**H11:** "
   ]
  },
  {
   "cell_type": "markdown",
   "metadata": {},
   "source": [
    "## 2.4 Feature Engineering"
   ]
  },
  {
   "cell_type": "markdown",
   "metadata": {},
   "source": [
    "### 2.4.1 datetime"
   ]
  },
  {
   "cell_type": "code",
   "execution_count": 99,
   "metadata": {},
   "outputs": [],
   "source": [
    "# defining functions to convert hour to sinusoidal\n",
    "hour_sin = udf( lambda x: math.sin(2*math.pi*x/24) , DoubleType())\n",
    "hour_cos = udf( lambda x: math.cos(2*math.pi*x/24) , DoubleType())"
   ]
  },
  {
   "cell_type": "code",
   "execution_count": 100,
   "metadata": {},
   "outputs": [
    {
     "name": "stderr",
     "output_type": "stream",
     "text": [
      "[Stage 202:>                                                        (0 + 1) / 1]\r"
     ]
    },
    {
     "name": "stdout",
     "output_type": "stream",
     "text": [
      "+-------------------+------------------+----+\n",
      "|           hour_sin|          hour_cos|hour|\n",
      "+-------------------+------------------+----+\n",
      "|0.25881904510252074|0.9659258262890683| 1.0|\n",
      "|0.25881904510252074|0.9659258262890683| 1.0|\n",
      "|0.25881904510252074|0.9659258262890683| 1.0|\n",
      "|0.25881904510252074|0.9659258262890683| 1.0|\n",
      "|0.25881904510252074|0.9659258262890683| 1.0|\n",
      "+-------------------+------------------+----+\n",
      "only showing top 5 rows\n",
      "\n"
     ]
    },
    {
     "name": "stderr",
     "output_type": "stream",
     "text": [
      "                                                                                \r"
     ]
    }
   ],
   "source": [
    "# converting hour to sinusoidal using udf\n",
    "\n",
    "data = data.withColumn( \"hour_sin\", hour_sin(data.step) )\n",
    "data = data.withColumn( \"hour_cos\", hour_cos(data.step) )\n",
    "\n",
    "data = data.withColumn(\"hour\", data['step']%24.0)\n",
    "data.select(['hour_sin', 'hour_cos', 'hour']).show(5)"
   ]
  },
  {
   "cell_type": "markdown",
   "metadata": {},
   "source": [
    "### 2.4.2 delta percentage of balance"
   ]
  },
  {
   "cell_type": "code",
   "execution_count": 102,
   "metadata": {},
   "outputs": [],
   "source": [
    "data = data.withColumn('delta_balance_org', (data['new_balance_org'] - data['old_balance_org'])/data['old_balance_org'] )\n",
    "data = data.withColumn('delta_balance_dest', (data['new_balance_dest'] - data['old_balance_dest'])/data['old_balance_dest'] )"
   ]
  },
  {
   "cell_type": "code",
   "execution_count": 103,
   "metadata": {},
   "outputs": [
    {
     "name": "stdout",
     "output_type": "stream",
     "text": [
      "+--------------------+--------------------+\n",
      "|   delta_balance_org|  delta_balance_dest|\n",
      "+--------------------+--------------------+\n",
      "|-0.05783396811962...|                null|\n",
      "|-0.08773495223304621|                null|\n",
      "|                -1.0|                null|\n",
      "|                -1.0|                -1.0|\n",
      "|-0.28079462867593974|                null|\n",
      "|-0.14514871890085404|                null|\n",
      "|-0.03879893010180403|                null|\n",
      "|-0.04464628127775088|                null|\n",
      "|                -1.0|                null|\n",
      "|-0.12794271332694143|-0.03697575063248...|\n",
      "|                -1.0|  13.567277086214846|\n",
      "|-0.14924510134321897|                null|\n",
      "|  -0.505076923076923|                null|\n",
      "|                -1.0|                null|\n",
      "|-0.00814439339988...|                null|\n",
      "|                -1.0|   9.134456029903602|\n",
      "|                -1.0|                null|\n",
      "|-0.05472962752883345|                null|\n",
      "|-0.04441182305098191|                null|\n",
      "|                -1.0|                -1.0|\n",
      "+--------------------+--------------------+\n",
      "only showing top 20 rows\n",
      "\n"
     ]
    }
   ],
   "source": [
    "data['delta_balance_org', 'delta_balance_dest'].show()"
   ]
  },
  {
   "cell_type": "markdown",
   "metadata": {},
   "source": [
    "### 2.4.3 Nº of transactions done with customer"
   ]
  },
  {
   "cell_type": "code",
   "execution_count": 104,
   "metadata": {},
   "outputs": [
    {
     "name": "stderr",
     "output_type": "stream",
     "text": [
      "                                                                                \r"
     ]
    },
    {
     "data": {
      "text/plain": [
       "6353307"
      ]
     },
     "execution_count": 104,
     "metadata": {},
     "output_type": "execute_result"
    }
   ],
   "source": [
    "data[['name_orig']].distinct().count()\n",
    "\n",
    "# it wont be possible to count the amount of transactions a customer has done with the destination customer\n",
    "# since we have almost only unique customers"
   ]
  },
  {
   "cell_type": "markdown",
   "metadata": {},
   "source": [
    "### Type"
   ]
  },
  {
   "cell_type": "code",
   "execution_count": null,
   "metadata": {},
   "outputs": [],
   "source": [
    "# data[ data['type'] == 'CASH_IN' ].show(5)\n",
    "# data[ (data['type'] == 'CASH_IN') & (data['isFraud'] == 1) ].show(5)\n",
    "\n",
    "# data[ data['isFraud'] == 1 ]\n",
    "# data.filter(data.isFraud == 1).select('type').distinct().show() # frauds only happened on transfer and cash out\n",
    "\n",
    "# data.filter(data.isFraud == 1).select('nameDest').distinct().count() # \n"
   ]
  },
  {
   "cell_type": "markdown",
   "metadata": {
    "heading_collapsed": true
   },
   "source": [
    "# 3.0 Variable Selection"
   ]
  },
  {
   "cell_type": "code",
   "execution_count": 39,
   "metadata": {},
   "outputs": [
    {
     "data": {
      "text/plain": [
       "[('step', 'int'),\n",
       " ('type', 'string'),\n",
       " ('amount', 'double'),\n",
       " ('name_orig', 'string'),\n",
       " ('old_balance_org', 'double'),\n",
       " ('new_balance_org', 'double'),\n",
       " ('name_dest', 'string'),\n",
       " ('old_balance_dest', 'double'),\n",
       " ('new_balance_dest', 'double'),\n",
       " ('is_fraud', 'int'),\n",
       " ('is_flagged_fraud', 'int'),\n",
       " ('hour_sin', 'double'),\n",
       " ('hour_cos', 'double'),\n",
       " ('hour', 'double'),\n",
       " ('delta_balance_org', 'double'),\n",
       " ('delta_balance_dest', 'double')]"
      ]
     },
     "execution_count": 39,
     "metadata": {},
     "output_type": "execute_result"
    }
   ],
   "source": [
    "# numerical variables\n",
    "\n",
    "data.dtypes"
   ]
  },
  {
   "cell_type": "code",
   "execution_count": 113,
   "metadata": {},
   "outputs": [],
   "source": [
    "# Selecting cols and transformers to apply RF\n",
    "\n",
    "# #('step', 'int'), use later\n",
    "# ('type', 'string'), # OHE\n",
    "# ('amount', 'double'), \n",
    "# # ('nameOrig', 'string'),\n",
    "# ('oldbalanceOrg', 'double'),\n",
    "# ('newbalanceOrig', 'double'),\n",
    "# # ('nameDest', 'string'),\n",
    "# ('oldbalanceDest', 'double'),\n",
    "# ('newbalanceDest', 'double'),\n",
    "# ('isFraud', 'int'),\n",
    "# # ('isFlaggedFraud', 'int')\n",
    "\n",
    "num_cols = ['amount','old_balance_org','new_balance_org','old_balance_dest','new_balance_dest', 'is_flagged_fraud', 'hour_sin','hour_cos','hour','delta_balance_org','delta_balance_dest']\n",
    "cat_cols = ['type']"
   ]
  },
  {
   "cell_type": "markdown",
   "metadata": {
    "heading_collapsed": true
   },
   "source": [
    "# 4.0 Exploratory Data Analysis"
   ]
  },
  {
   "cell_type": "markdown",
   "metadata": {
    "heading_collapsed": true,
    "hidden": true
   },
   "source": [
    "## 4.1 Univariate Analysis"
   ]
  },
  {
   "cell_type": "markdown",
   "metadata": {
    "hidden": true
   },
   "source": [
    "### 4.1.1 Response Variable"
   ]
  },
  {
   "cell_type": "markdown",
   "metadata": {
    "hidden": true
   },
   "source": [
    "### 4.1.2 Numerical Variables"
   ]
  },
  {
   "cell_type": "markdown",
   "metadata": {
    "hidden": true
   },
   "source": [
    "### 4.1.3 Categorical Variables"
   ]
  },
  {
   "cell_type": "markdown",
   "metadata": {
    "hidden": true
   },
   "source": [
    "## 4.2 Bivariate Analysis"
   ]
  },
  {
   "cell_type": "markdown",
   "metadata": {},
   "source": [
    "### **H1.**"
   ]
  },
  {
   "cell_type": "markdown",
   "metadata": {},
   "source": [
    "### **H2.**\n"
   ]
  },
  {
   "cell_type": "markdown",
   "metadata": {},
   "source": [
    "### **H3.**"
   ]
  },
  {
   "cell_type": "markdown",
   "metadata": {},
   "source": [
    "### **H4.**"
   ]
  },
  {
   "cell_type": "markdown",
   "metadata": {},
   "source": [
    "### **H5.**"
   ]
  },
  {
   "cell_type": "markdown",
   "metadata": {},
   "source": [
    "### **H6.**"
   ]
  },
  {
   "cell_type": "markdown",
   "metadata": {},
   "source": [
    "### **H7.**"
   ]
  },
  {
   "cell_type": "markdown",
   "metadata": {},
   "source": [
    "### **H8.**"
   ]
  },
  {
   "cell_type": "markdown",
   "metadata": {},
   "source": [
    "### **H9.**"
   ]
  },
  {
   "cell_type": "markdown",
   "metadata": {},
   "source": [
    "### **H10.**"
   ]
  },
  {
   "cell_type": "markdown",
   "metadata": {
    "hidden": true
   },
   "source": [
    "## 4.3 Multivariate Analysis"
   ]
  },
  {
   "cell_type": "markdown",
   "metadata": {
    "hidden": true
   },
   "source": [
    "### 4.3.1 Numerical Attributes"
   ]
  },
  {
   "cell_type": "markdown",
   "metadata": {
    "hidden": true
   },
   "source": [
    "### 4.3.2 Categorical Attributes"
   ]
  },
  {
   "cell_type": "markdown",
   "metadata": {
    "heading_collapsed": true
   },
   "source": [
    "# 5.0 Data Preparation"
   ]
  },
  {
   "cell_type": "code",
   "execution_count": 105,
   "metadata": {},
   "outputs": [
    {
     "data": {
      "text/html": [
       "<div>\n",
       "<style scoped>\n",
       "    .dataframe tbody tr th:only-of-type {\n",
       "        vertical-align: middle;\n",
       "    }\n",
       "\n",
       "    .dataframe tbody tr th {\n",
       "        vertical-align: top;\n",
       "    }\n",
       "\n",
       "    .dataframe thead th {\n",
       "        text-align: right;\n",
       "    }\n",
       "</style>\n",
       "<table border=\"1\" class=\"dataframe\">\n",
       "  <thead>\n",
       "    <tr style=\"text-align: right;\">\n",
       "      <th></th>\n",
       "      <th>step</th>\n",
       "      <th>type</th>\n",
       "      <th>amount</th>\n",
       "      <th>name_orig</th>\n",
       "      <th>old_balance_org</th>\n",
       "      <th>new_balance_org</th>\n",
       "      <th>name_dest</th>\n",
       "      <th>old_balance_dest</th>\n",
       "      <th>new_balance_dest</th>\n",
       "      <th>is_fraud</th>\n",
       "      <th>is_flagged_fraud</th>\n",
       "      <th>hour_sin</th>\n",
       "      <th>hour_cos</th>\n",
       "      <th>hour</th>\n",
       "      <th>delta_balance_org</th>\n",
       "      <th>delta_balance_dest</th>\n",
       "    </tr>\n",
       "  </thead>\n",
       "  <tbody>\n",
       "    <tr>\n",
       "      <th>0</th>\n",
       "      <td>1</td>\n",
       "      <td>PAYMENT</td>\n",
       "      <td>9839.64</td>\n",
       "      <td>C1231006815</td>\n",
       "      <td>170136.0</td>\n",
       "      <td>160296.36</td>\n",
       "      <td>M1979787155</td>\n",
       "      <td>0.0</td>\n",
       "      <td>0.0</td>\n",
       "      <td>0</td>\n",
       "      <td>0</td>\n",
       "      <td>0.258819</td>\n",
       "      <td>0.965926</td>\n",
       "      <td>1.0</td>\n",
       "      <td>-0.057834</td>\n",
       "      <td>NaN</td>\n",
       "    </tr>\n",
       "    <tr>\n",
       "      <th>1</th>\n",
       "      <td>1</td>\n",
       "      <td>PAYMENT</td>\n",
       "      <td>1864.28</td>\n",
       "      <td>C1666544295</td>\n",
       "      <td>21249.0</td>\n",
       "      <td>19384.72</td>\n",
       "      <td>M2044282225</td>\n",
       "      <td>0.0</td>\n",
       "      <td>0.0</td>\n",
       "      <td>0</td>\n",
       "      <td>0</td>\n",
       "      <td>0.258819</td>\n",
       "      <td>0.965926</td>\n",
       "      <td>1.0</td>\n",
       "      <td>-0.087735</td>\n",
       "      <td>NaN</td>\n",
       "    </tr>\n",
       "    <tr>\n",
       "      <th>2</th>\n",
       "      <td>1</td>\n",
       "      <td>TRANSFER</td>\n",
       "      <td>181.00</td>\n",
       "      <td>C1305486145</td>\n",
       "      <td>181.0</td>\n",
       "      <td>0.00</td>\n",
       "      <td>C553264065</td>\n",
       "      <td>0.0</td>\n",
       "      <td>0.0</td>\n",
       "      <td>1</td>\n",
       "      <td>0</td>\n",
       "      <td>0.258819</td>\n",
       "      <td>0.965926</td>\n",
       "      <td>1.0</td>\n",
       "      <td>-1.000000</td>\n",
       "      <td>NaN</td>\n",
       "    </tr>\n",
       "    <tr>\n",
       "      <th>3</th>\n",
       "      <td>1</td>\n",
       "      <td>CASH_OUT</td>\n",
       "      <td>181.00</td>\n",
       "      <td>C840083671</td>\n",
       "      <td>181.0</td>\n",
       "      <td>0.00</td>\n",
       "      <td>C38997010</td>\n",
       "      <td>21182.0</td>\n",
       "      <td>0.0</td>\n",
       "      <td>1</td>\n",
       "      <td>0</td>\n",
       "      <td>0.258819</td>\n",
       "      <td>0.965926</td>\n",
       "      <td>1.0</td>\n",
       "      <td>-1.000000</td>\n",
       "      <td>-1.0</td>\n",
       "    </tr>\n",
       "    <tr>\n",
       "      <th>4</th>\n",
       "      <td>1</td>\n",
       "      <td>PAYMENT</td>\n",
       "      <td>11668.14</td>\n",
       "      <td>C2048537720</td>\n",
       "      <td>41554.0</td>\n",
       "      <td>29885.86</td>\n",
       "      <td>M1230701703</td>\n",
       "      <td>0.0</td>\n",
       "      <td>0.0</td>\n",
       "      <td>0</td>\n",
       "      <td>0</td>\n",
       "      <td>0.258819</td>\n",
       "      <td>0.965926</td>\n",
       "      <td>1.0</td>\n",
       "      <td>-0.280795</td>\n",
       "      <td>NaN</td>\n",
       "    </tr>\n",
       "  </tbody>\n",
       "</table>\n",
       "</div>"
      ],
      "text/plain": [
       "   step      type    amount    name_orig  old_balance_org  new_balance_org    name_dest  old_balance_dest  new_balance_dest  is_fraud  is_flagged_fraud  hour_sin  hour_cos  hour  delta_balance_org  delta_balance_dest\n",
       "0     1   PAYMENT   9839.64  C1231006815         170136.0        160296.36  M1979787155               0.0               0.0         0                 0  0.258819  0.965926   1.0          -0.057834                 NaN\n",
       "1     1   PAYMENT   1864.28  C1666544295          21249.0         19384.72  M2044282225               0.0               0.0         0                 0  0.258819  0.965926   1.0          -0.087735                 NaN\n",
       "2     1  TRANSFER    181.00  C1305486145            181.0             0.00   C553264065               0.0               0.0         1                 0  0.258819  0.965926   1.0          -1.000000                 NaN\n",
       "3     1  CASH_OUT    181.00   C840083671            181.0             0.00    C38997010           21182.0               0.0         1                 0  0.258819  0.965926   1.0          -1.000000                -1.0\n",
       "4     1   PAYMENT  11668.14  C2048537720          41554.0         29885.86  M1230701703               0.0               0.0         0                 0  0.258819  0.965926   1.0          -0.280795                 NaN"
      ]
     },
     "execution_count": 105,
     "metadata": {},
     "output_type": "execute_result"
    }
   ],
   "source": [
    "data.limit(5).toPandas()"
   ]
  },
  {
   "cell_type": "markdown",
   "metadata": {},
   "source": [
    "## 5.1 Data Preparation"
   ]
  },
  {
   "cell_type": "code",
   "execution_count": 106,
   "metadata": {},
   "outputs": [
    {
     "data": {
      "text/html": [
       "<div>\n",
       "<style scoped>\n",
       "    .dataframe tbody tr th:only-of-type {\n",
       "        vertical-align: middle;\n",
       "    }\n",
       "\n",
       "    .dataframe tbody tr th {\n",
       "        vertical-align: top;\n",
       "    }\n",
       "\n",
       "    .dataframe thead th {\n",
       "        text-align: right;\n",
       "    }\n",
       "</style>\n",
       "<table border=\"1\" class=\"dataframe\">\n",
       "  <thead>\n",
       "    <tr style=\"text-align: right;\">\n",
       "      <th></th>\n",
       "      <th>step</th>\n",
       "      <th>type</th>\n",
       "      <th>amount</th>\n",
       "      <th>name_orig</th>\n",
       "      <th>old_balance_org</th>\n",
       "      <th>new_balance_org</th>\n",
       "      <th>name_dest</th>\n",
       "      <th>old_balance_dest</th>\n",
       "      <th>new_balance_dest</th>\n",
       "      <th>is_fraud</th>\n",
       "      <th>is_flagged_fraud</th>\n",
       "      <th>hour_sin</th>\n",
       "      <th>hour_cos</th>\n",
       "      <th>hour</th>\n",
       "      <th>delta_balance_org</th>\n",
       "      <th>delta_balance_dest</th>\n",
       "    </tr>\n",
       "  </thead>\n",
       "  <tbody>\n",
       "    <tr>\n",
       "      <th>0</th>\n",
       "      <td>1</td>\n",
       "      <td>PAYMENT</td>\n",
       "      <td>9839.64</td>\n",
       "      <td>C1231006815</td>\n",
       "      <td>170136.0</td>\n",
       "      <td>160296.36</td>\n",
       "      <td>M1979787155</td>\n",
       "      <td>0.0</td>\n",
       "      <td>0.0</td>\n",
       "      <td>0</td>\n",
       "      <td>0</td>\n",
       "      <td>0.258819</td>\n",
       "      <td>0.965926</td>\n",
       "      <td>1.0</td>\n",
       "      <td>-0.057834</td>\n",
       "      <td>0.0</td>\n",
       "    </tr>\n",
       "    <tr>\n",
       "      <th>1</th>\n",
       "      <td>1</td>\n",
       "      <td>PAYMENT</td>\n",
       "      <td>1864.28</td>\n",
       "      <td>C1666544295</td>\n",
       "      <td>21249.0</td>\n",
       "      <td>19384.72</td>\n",
       "      <td>M2044282225</td>\n",
       "      <td>0.0</td>\n",
       "      <td>0.0</td>\n",
       "      <td>0</td>\n",
       "      <td>0</td>\n",
       "      <td>0.258819</td>\n",
       "      <td>0.965926</td>\n",
       "      <td>1.0</td>\n",
       "      <td>-0.087735</td>\n",
       "      <td>0.0</td>\n",
       "    </tr>\n",
       "    <tr>\n",
       "      <th>2</th>\n",
       "      <td>1</td>\n",
       "      <td>TRANSFER</td>\n",
       "      <td>181.00</td>\n",
       "      <td>C1305486145</td>\n",
       "      <td>181.0</td>\n",
       "      <td>0.00</td>\n",
       "      <td>C553264065</td>\n",
       "      <td>0.0</td>\n",
       "      <td>0.0</td>\n",
       "      <td>1</td>\n",
       "      <td>0</td>\n",
       "      <td>0.258819</td>\n",
       "      <td>0.965926</td>\n",
       "      <td>1.0</td>\n",
       "      <td>-1.000000</td>\n",
       "      <td>0.0</td>\n",
       "    </tr>\n",
       "    <tr>\n",
       "      <th>3</th>\n",
       "      <td>1</td>\n",
       "      <td>CASH_OUT</td>\n",
       "      <td>181.00</td>\n",
       "      <td>C840083671</td>\n",
       "      <td>181.0</td>\n",
       "      <td>0.00</td>\n",
       "      <td>C38997010</td>\n",
       "      <td>21182.0</td>\n",
       "      <td>0.0</td>\n",
       "      <td>1</td>\n",
       "      <td>0</td>\n",
       "      <td>0.258819</td>\n",
       "      <td>0.965926</td>\n",
       "      <td>1.0</td>\n",
       "      <td>-1.000000</td>\n",
       "      <td>-1.0</td>\n",
       "    </tr>\n",
       "    <tr>\n",
       "      <th>4</th>\n",
       "      <td>1</td>\n",
       "      <td>PAYMENT</td>\n",
       "      <td>11668.14</td>\n",
       "      <td>C2048537720</td>\n",
       "      <td>41554.0</td>\n",
       "      <td>29885.86</td>\n",
       "      <td>M1230701703</td>\n",
       "      <td>0.0</td>\n",
       "      <td>0.0</td>\n",
       "      <td>0</td>\n",
       "      <td>0</td>\n",
       "      <td>0.258819</td>\n",
       "      <td>0.965926</td>\n",
       "      <td>1.0</td>\n",
       "      <td>-0.280795</td>\n",
       "      <td>0.0</td>\n",
       "    </tr>\n",
       "  </tbody>\n",
       "</table>\n",
       "</div>"
      ],
      "text/plain": [
       "   step      type    amount    name_orig  old_balance_org  new_balance_org    name_dest  old_balance_dest  new_balance_dest  is_fraud  is_flagged_fraud  hour_sin  hour_cos  hour  delta_balance_org  delta_balance_dest\n",
       "0     1   PAYMENT   9839.64  C1231006815         170136.0        160296.36  M1979787155               0.0               0.0         0                 0  0.258819  0.965926   1.0          -0.057834                 0.0\n",
       "1     1   PAYMENT   1864.28  C1666544295          21249.0         19384.72  M2044282225               0.0               0.0         0                 0  0.258819  0.965926   1.0          -0.087735                 0.0\n",
       "2     1  TRANSFER    181.00  C1305486145            181.0             0.00   C553264065               0.0               0.0         1                 0  0.258819  0.965926   1.0          -1.000000                 0.0\n",
       "3     1  CASH_OUT    181.00   C840083671            181.0             0.00    C38997010           21182.0               0.0         1                 0  0.258819  0.965926   1.0          -1.000000                -1.0\n",
       "4     1   PAYMENT  11668.14  C2048537720          41554.0         29885.86  M1230701703               0.0               0.0         0                 0  0.258819  0.965926   1.0          -0.280795                 0.0"
      ]
     },
     "execution_count": 106,
     "metadata": {},
     "output_type": "execute_result"
    }
   ],
   "source": [
    "data = data.fillna(0)\n",
    "data.limit(5).toPandas()"
   ]
  },
  {
   "cell_type": "markdown",
   "metadata": {},
   "source": [
    "## 5.2 Train Test Split"
   ]
  },
  {
   "cell_type": "code",
   "execution_count": 107,
   "metadata": {},
   "outputs": [],
   "source": [
    "# train test split yielding 80% 20% split, stratified on response variable\n",
    "\n",
    "train = data.sampleBy( col='is_fraud', fractions = {0:0.8, 1:0.8}, seed = 42 )\n",
    "test = data.exceptAll(train)"
   ]
  },
  {
   "cell_type": "markdown",
   "metadata": {},
   "source": [
    "## 5.3 Pipeline"
   ]
  },
  {
   "cell_type": "code",
   "execution_count": 119,
   "metadata": {},
   "outputs": [],
   "source": [
    "selected_cols = num_cols + ['type_ohe']\n",
    "\n",
    "# type category to idx\n",
    "string_indx = StringIndexer(inputCols=['type'], outputCols=['type_idx'])\n",
    "\n",
    "# ohe of type category idx\n",
    "ohe = OneHotEncoder(inputCols=['type_idx'], outputCols=['type_ohe'])\n",
    "\n",
    "# join everything with untransformed numeric values\n",
    "vec_asm = VectorAssembler(inputCols= selected_cols, outputCol='features')\n",
    "\n",
    "# instantiating model\n",
    "rf = RandomForestClassifier(featuresCol='features', labelCol='is_fraud', seed=42, numTrees=10)\n",
    "\n",
    "pipeline = Pipeline(stages=[string_indx, ohe, vec_asm, rf])"
   ]
  },
  {
   "cell_type": "markdown",
   "metadata": {
    "heading_collapsed": true
   },
   "source": [
    "# 6.0 Feature Selection"
   ]
  },
  {
   "cell_type": "markdown",
   "metadata": {
    "hidden": true
   },
   "source": [
    "## 6.1 Spliting Dataframe into Train Test "
   ]
  },
  {
   "cell_type": "code",
   "execution_count": 120,
   "metadata": {},
   "outputs": [],
   "source": [
    "# train test split yielding 80% 20% split, stratified on response variable\n",
    "\n",
    "train = data.sampleBy( col='isFraud' ,fractions = {0:0.8, 1:0.8}, seed = 42 )\n",
    "test = data.exceptAll(train)"
   ]
  },
  {
   "cell_type": "code",
   "execution_count": 121,
   "metadata": {},
   "outputs": [
    {
     "data": {
      "text/plain": [
       "DataFrame[step: int, type: string, amount: double, name_orig: string, old_balance_org: double, new_balance_org: double, name_dest: string, old_balance_dest: double, new_balance_dest: double, is_fraud: int, is_flagged_fraud: int, hour_sin: double, hour_cos: double, hour: double, delta_balance_org: double, delta_balance_dest: double]"
      ]
     },
     "execution_count": 121,
     "metadata": {},
     "output_type": "execute_result"
    }
   ],
   "source": [
    "data.unpersist()"
   ]
  },
  {
   "cell_type": "code",
   "execution_count": null,
   "metadata": {},
   "outputs": [
    {
     "name": "stderr",
     "output_type": "stream",
     "text": [
      "[Stage 59:===========================================>              (3 + 1) / 4]\r"
     ]
    },
    {
     "name": "stdout",
     "output_type": "stream",
     "text": [
      "+-------+-------+\n",
      "|isFraud|  count|\n",
      "+-------+-------+\n",
      "|      1|   6544|\n",
      "|      0|5083314|\n",
      "+-------+-------+\n",
      "\n"
     ]
    },
    {
     "name": "stderr",
     "output_type": "stream",
     "text": [
      "                                                                                \r"
     ]
    }
   ],
   "source": [
    "# executing and verifying split results\n",
    "\n",
    "train.groupBy('isFraud').count().show()"
   ]
  },
  {
   "cell_type": "code",
   "execution_count": null,
   "metadata": {},
   "outputs": [
    {
     "name": "stderr",
     "output_type": "stream",
     "text": [
      "22/04/23 19:19:08 WARN RowBasedKeyValueBatch: Calling spill() on RowBasedKeyValueBatch. Will not spill but return 0.\n",
      "22/04/23 19:19:09 WARN RowBasedKeyValueBatch: Calling spill() on RowBasedKeyValueBatch. Will not spill but return 0.\n",
      "22/04/23 19:19:09 WARN RowBasedKeyValueBatch: Calling spill() on RowBasedKeyValueBatch. Will not spill but return 0.\n",
      "22/04/23 19:19:10 WARN RowBasedKeyValueBatch: Calling spill() on RowBasedKeyValueBatch. Will not spill but return 0.\n",
      "22/04/23 19:19:21 WARN RowBasedKeyValueBatch: Calling spill() on RowBasedKeyValueBatch. Will not spill but return 0.\n",
      "22/04/23 19:19:21 WARN RowBasedKeyValueBatch: Calling spill() on RowBasedKeyValueBatch. Will not spill but return 0.\n",
      "22/04/23 19:19:22 WARN RowBasedKeyValueBatch: Calling spill() on RowBasedKeyValueBatch. Will not spill but return 0.\n",
      "22/04/23 19:19:22 WARN RowBasedKeyValueBatch: Calling spill() on RowBasedKeyValueBatch. Will not spill but return 0.\n",
      "22/04/23 19:19:38 WARN RowBasedKeyValueBatch: Calling spill() on RowBasedKeyValueBatch. Will not spill but return 0.\n",
      "22/04/23 19:19:40 WARN RowBasedKeyValueBatch: Calling spill() on RowBasedKeyValueBatch. Will not spill but return 0.\n",
      "22/04/23 19:20:15 WARN RowBasedKeyValueBatch: Calling spill() on RowBasedKeyValueBatch. Will not spill but return 0.\n",
      "22/04/23 19:20:15 WARN RowBasedKeyValueBatch: Calling spill() on RowBasedKeyValueBatch. Will not spill but return 0.\n",
      "22/04/23 19:20:15 WARN RowBasedKeyValueBatch: Calling spill() on RowBasedKeyValueBatch. Will not spill but return 0.\n",
      "22/04/23 19:20:15 WARN RowBasedKeyValueBatch: Calling spill() on RowBasedKeyValueBatch. Will not spill but return 0.\n",
      "22/04/23 19:20:27 WARN RowBasedKeyValueBatch: Calling spill() on RowBasedKeyValueBatch. Will not spill but return 0.\n",
      "22/04/23 19:20:27 WARN RowBasedKeyValueBatch: Calling spill() on RowBasedKeyValueBatch. Will not spill but return 0.\n",
      "22/04/23 19:20:28 WARN RowBasedKeyValueBatch: Calling spill() on RowBasedKeyValueBatch. Will not spill but return 0.\n",
      "22/04/23 19:20:28 WARN RowBasedKeyValueBatch: Calling spill() on RowBasedKeyValueBatch. Will not spill but return 0.\n",
      "22/04/23 19:20:48 WARN RowBasedKeyValueBatch: Calling spill() on RowBasedKeyValueBatch. Will not spill but return 0.\n",
      "22/04/23 19:20:48 WARN RowBasedKeyValueBatch: Calling spill() on RowBasedKeyValueBatch. Will not spill but return 0.\n",
      "22/04/23 19:20:48 WARN RowBasedKeyValueBatch: Calling spill() on RowBasedKeyValueBatch. Will not spill but return 0.\n",
      "22/04/23 19:20:48 WARN RowBasedKeyValueBatch: Calling spill() on RowBasedKeyValueBatch. Will not spill but return 0.\n",
      "22/04/23 19:21:01 WARN RowBasedKeyValueBatch: Calling spill() on RowBasedKeyValueBatch. Will not spill but return 0.\n",
      "22/04/23 19:21:01 WARN RowBasedKeyValueBatch: Calling spill() on RowBasedKeyValueBatch. Will not spill but return 0.\n",
      "22/04/23 19:21:01 WARN RowBasedKeyValueBatch: Calling spill() on RowBasedKeyValueBatch. Will not spill but return 0.\n",
      "22/04/23 19:21:01 WARN RowBasedKeyValueBatch: Calling spill() on RowBasedKeyValueBatch. Will not spill but return 0.\n",
      "[Stage 64:==============================================>          (9 + 2) / 11]\r"
     ]
    },
    {
     "name": "stdout",
     "output_type": "stream",
     "text": [
      "+-------+-------+\n",
      "|isFraud|  count|\n",
      "+-------+-------+\n",
      "|      1|   1669|\n",
      "|      0|1271093|\n",
      "+-------+-------+\n",
      "\n"
     ]
    },
    {
     "name": "stderr",
     "output_type": "stream",
     "text": [
      "                                                                                \r"
     ]
    }
   ],
   "source": [
    "test.groupBy('isFraud').count().show()"
   ]
  },
  {
   "cell_type": "code",
   "execution_count": null,
   "metadata": {},
   "outputs": [
    {
     "data": {
      "text/plain": [
       "DataFrame[step: int, type: string, amount: double, nameOrig: string, oldbalanceOrg: double, newbalanceOrig: double, nameDest: string, oldbalanceDest: double, newbalanceDest: double, isFraud: int, isFlaggedFraud: int]"
      ]
     },
     "execution_count": 28,
     "metadata": {},
     "output_type": "execute_result"
    }
   ],
   "source": [
    "data.unpersist()"
   ]
  },
  {
   "cell_type": "code",
   "execution_count": 122,
   "metadata": {},
   "outputs": [],
   "source": [
    "spark.catalog.clearCache()"
   ]
  },
  {
   "cell_type": "markdown",
   "metadata": {},
   "source": [
    "# 7.0 Model Testing"
   ]
  },
  {
   "cell_type": "markdown",
   "metadata": {},
   "source": [
    "## 7.1 Random Forest"
   ]
  },
  {
   "cell_type": "code",
   "execution_count": 123,
   "metadata": {},
   "outputs": [
    {
     "name": "stderr",
     "output_type": "stream",
     "text": [
      "22/04/26 15:56:58 WARN MemoryStore: Not enough space to cache rdd_697_3 in memory! (computed 64.1 MiB so far)\n",
      "22/04/26 15:56:58 WARN BlockManager: Persisting block rdd_697_3 to disk instead.\n",
      "22/04/26 15:56:59 WARN MemoryStore: Not enough space to cache rdd_697_2 in memory! (computed 64.1 MiB so far)\n",
      "22/04/26 15:56:59 WARN BlockManager: Persisting block rdd_697_2 to disk instead.\n",
      "22/04/26 15:57:23 WARN MemoryStore: Not enough space to cache rdd_697_0 in memory! (computed 144.3 MiB so far)\n",
      "22/04/26 15:57:23 WARN BlockManager: Persisting block rdd_697_0 to disk instead.\n",
      "22/04/26 15:57:55 WARN MemoryStore: Not enough space to cache rdd_697_3 in memory! (computed 28.5 MiB so far)\n",
      "22/04/26 15:57:56 WARN MemoryStore: Not enough space to cache rdd_697_2 in memory! (computed 42.7 MiB so far)\n",
      "22/04/26 15:57:56 WARN MemoryStore: Not enough space to cache rdd_697_0 in memory! (computed 96.2 MiB so far)\n",
      "22/04/26 15:58:05 WARN MemoryStore: Not enough space to cache rdd_697_2 in memory! (computed 42.7 MiB so far)\n",
      "22/04/26 15:58:05 WARN MemoryStore: Not enough space to cache rdd_697_0 in memory! (computed 64.1 MiB so far)\n",
      "22/04/26 15:58:06 WARN MemoryStore: Not enough space to cache rdd_697_3 in memory! (computed 64.1 MiB so far)\n",
      "22/04/26 15:58:17 WARN MemoryStore: Not enough space to cache rdd_697_0 in memory! (computed 64.1 MiB so far)\n",
      "22/04/26 15:58:18 WARN MemoryStore: Not enough space to cache rdd_697_2 in memory! (computed 42.7 MiB so far)\n",
      "22/04/26 15:58:18 WARN MemoryStore: Not enough space to cache rdd_697_3 in memory! (computed 64.1 MiB so far)\n",
      "22/04/26 15:58:31 WARN MemoryStore: Not enough space to cache rdd_697_2 in memory! (computed 64.1 MiB so far)\n",
      "22/04/26 15:58:31 WARN MemoryStore: Not enough space to cache rdd_697_3 in memory! (computed 42.7 MiB so far)\n",
      "22/04/26 15:58:32 WARN MemoryStore: Not enough space to cache rdd_697_0 in memory! (computed 64.1 MiB so far)\n",
      "22/04/26 15:58:45 WARN MemoryStore: Not enough space to cache rdd_697_0 in memory! (computed 42.7 MiB so far)\n",
      "22/04/26 15:58:45 WARN MemoryStore: Not enough space to cache rdd_697_3 in memory! (computed 64.1 MiB so far)\n",
      "22/04/26 15:58:45 WARN MemoryStore: Not enough space to cache rdd_697_2 in memory! (computed 64.1 MiB so far)\n",
      "                                                                                \r"
     ]
    }
   ],
   "source": [
    "DTmodel = pipeline.fit(train)"
   ]
  },
  {
   "cell_type": "code",
   "execution_count": 124,
   "metadata": {},
   "outputs": [
    {
     "data": {
      "text/plain": [
       "{'old_balance_org': 0.4069264868993115,\n",
       " 'new_balance_dest': 0.2469790744650072,\n",
       " 'old_balance_dest': 0.05017278948381814,\n",
       " 'delta_balance_org': 0.04293415664158811,\n",
       " 'amount': 0.03301570611019181,\n",
       " 'hour_sin': 0.02820867680495259,\n",
       " 'hour': 0.02273737854653862,\n",
       " 'hour_cos': 0.0180352420623078,\n",
       " 'delta_balance_dest': 0.012096151521775535,\n",
       " 'new_balance_org': 0.008674204354115506,\n",
       " 'type_ohe': 0.002268049965339607,\n",
       " 'is_flagged_fraud': 0.0}"
      ]
     },
     "execution_count": 124,
     "metadata": {},
     "output_type": "execute_result"
    }
   ],
   "source": [
    "# model\n",
    "tree = DTmodel.stages[-1]\n",
    "\n",
    "# vector asslembler's cols\n",
    "va_cols = DTmodel.stages[-2].getInputCols()\n",
    "\n",
    "# model features' importance\n",
    "feat_imp = tree.featureImportances\n",
    "\n",
    "# saving in a dict\n",
    "aux = dict(zip(va_cols, feat_imp))\n",
    "\n",
    "#sorting \n",
    "features = {k: v for k, v in sorted(aux.items(), key = lambda x: x[1], reverse=True) }\n",
    "features"
   ]
  },
  {
   "cell_type": "code",
   "execution_count": 125,
   "metadata": {},
   "outputs": [
    {
     "name": "stderr",
     "output_type": "stream",
     "text": [
      "22/04/26 16:00:17 WARN RowBasedKeyValueBatch: Calling spill() on RowBasedKeyValueBatch. Will not spill but return 0.\n",
      "22/04/26 16:00:17 WARN RowBasedKeyValueBatch: Calling spill() on RowBasedKeyValueBatch. Will not spill but return 0.\n",
      "22/04/26 16:00:17 WARN RowBasedKeyValueBatch: Calling spill() on RowBasedKeyValueBatch. Will not spill but return 0.\n",
      "22/04/26 16:00:17 WARN RowBasedKeyValueBatch: Calling spill() on RowBasedKeyValueBatch. Will not spill but return 0.\n",
      "22/04/26 16:00:18 WARN RowBasedKeyValueBatch: Calling spill() on RowBasedKeyValueBatch. Will not spill but return 0.\n",
      "22/04/26 16:00:18 WARN RowBasedKeyValueBatch: Calling spill() on RowBasedKeyValueBatch. Will not spill but return 0.\n",
      "22/04/26 16:00:18 WARN RowBasedKeyValueBatch: Calling spill() on RowBasedKeyValueBatch. Will not spill but return 0.\n",
      "22/04/26 16:00:18 WARN RowBasedKeyValueBatch: Calling spill() on RowBasedKeyValueBatch. Will not spill but return 0.\n",
      "22/04/26 16:00:18 WARN RowBasedKeyValueBatch: Calling spill() on RowBasedKeyValueBatch. Will not spill but return 0.\n",
      "22/04/26 16:00:18 WARN RowBasedKeyValueBatch: Calling spill() on RowBasedKeyValueBatch. Will not spill but return 0.\n",
      "22/04/26 16:00:18 WARN RowBasedKeyValueBatch: Calling spill() on RowBasedKeyValueBatch. Will not spill but return 0.\n",
      "22/04/26 16:00:18 WARN RowBasedKeyValueBatch: Calling spill() on RowBasedKeyValueBatch. Will not spill but return 0.\n",
      "22/04/26 16:00:19 WARN RowBasedKeyValueBatch: Calling spill() on RowBasedKeyValueBatch. Will not spill but return 0.\n",
      "22/04/26 16:00:19 WARN RowBasedKeyValueBatch: Calling spill() on RowBasedKeyValueBatch. Will not spill but return 0.\n",
      "22/04/26 16:00:19 WARN RowBasedKeyValueBatch: Calling spill() on RowBasedKeyValueBatch. Will not spill but return 0.\n",
      "22/04/26 16:00:19 WARN RowBasedKeyValueBatch: Calling spill() on RowBasedKeyValueBatch. Will not spill but return 0.\n",
      "22/04/26 16:00:19 WARN RowBasedKeyValueBatch: Calling spill() on RowBasedKeyValueBatch. Will not spill but return 0.\n",
      "22/04/26 16:00:43 WARN RowBasedKeyValueBatch: Calling spill() on RowBasedKeyValueBatch. Will not spill but return 0.\n",
      "22/04/26 16:00:43 WARN RowBasedKeyValueBatch: Calling spill() on RowBasedKeyValueBatch. Will not spill but return 0.\n",
      "22/04/26 16:00:44 WARN RowBasedKeyValueBatch: Calling spill() on RowBasedKeyValueBatch. Will not spill but return 0.\n",
      "22/04/26 16:00:44 WARN RowBasedKeyValueBatch: Calling spill() on RowBasedKeyValueBatch. Will not spill but return 0.\n",
      "22/04/26 16:00:44 WARN RowBasedKeyValueBatch: Calling spill() on RowBasedKeyValueBatch. Will not spill but return 0.\n",
      "22/04/26 16:00:45 WARN RowBasedKeyValueBatch: Calling spill() on RowBasedKeyValueBatch. Will not spill but return 0.\n",
      "22/04/26 16:00:45 WARN RowBasedKeyValueBatch: Calling spill() on RowBasedKeyValueBatch. Will not spill but return 0.\n",
      "22/04/26 16:00:45 WARN RowBasedKeyValueBatch: Calling spill() on RowBasedKeyValueBatch. Will not spill but return 0.\n",
      "22/04/26 16:00:45 WARN RowBasedKeyValueBatch: Calling spill() on RowBasedKeyValueBatch. Will not spill but return 0.\n",
      "22/04/26 16:00:46 WARN RowBasedKeyValueBatch: Calling spill() on RowBasedKeyValueBatch. Will not spill but return 0.\n",
      "22/04/26 16:00:46 WARN RowBasedKeyValueBatch: Calling spill() on RowBasedKeyValueBatch. Will not spill but return 0.\n",
      "22/04/26 16:00:46 WARN RowBasedKeyValueBatch: Calling spill() on RowBasedKeyValueBatch. Will not spill but return 0.\n",
      "22/04/26 16:00:46 WARN RowBasedKeyValueBatch: Calling spill() on RowBasedKeyValueBatch. Will not spill but return 0.\n",
      "22/04/26 16:00:46 WARN RowBasedKeyValueBatch: Calling spill() on RowBasedKeyValueBatch. Will not spill but return 0.\n",
      "22/04/26 16:00:46 WARN RowBasedKeyValueBatch: Calling spill() on RowBasedKeyValueBatch. Will not spill but return 0.\n",
      "22/04/26 16:00:47 WARN RowBasedKeyValueBatch: Calling spill() on RowBasedKeyValueBatch. Will not spill but return 0.\n",
      "22/04/26 16:00:47 WARN RowBasedKeyValueBatch: Calling spill() on RowBasedKeyValueBatch. Will not spill but return 0.\n",
      "22/04/26 16:00:47 WARN RowBasedKeyValueBatch: Calling spill() on RowBasedKeyValueBatch. Will not spill but return 0.\n",
      "22/04/26 16:00:47 WARN RowBasedKeyValueBatch: Calling spill() on RowBasedKeyValueBatch. Will not spill but return 0.\n",
      "22/04/26 16:00:48 WARN RowBasedKeyValueBatch: Calling spill() on RowBasedKeyValueBatch. Will not spill but return 0.\n",
      "22/04/26 16:00:56 WARN RowBasedKeyValueBatch: Calling spill() on RowBasedKeyValueBatch. Will not spill but return 0.\n",
      "22/04/26 16:00:57 WARN RowBasedKeyValueBatch: Calling spill() on RowBasedKeyValueBatch. Will not spill but return 0.\n",
      "22/04/26 16:00:58 WARN RowBasedKeyValueBatch: Calling spill() on RowBasedKeyValueBatch. Will not spill but return 0.\n",
      "22/04/26 16:00:59 WARN RowBasedKeyValueBatch: Calling spill() on RowBasedKeyValueBatch. Will not spill but return 0.\n",
      "22/04/26 16:01:00 WARN RowBasedKeyValueBatch: Calling spill() on RowBasedKeyValueBatch. Will not spill but return 0.\n",
      "22/04/26 16:01:00 WARN RowBasedKeyValueBatch: Calling spill() on RowBasedKeyValueBatch. Will not spill but return 0.\n",
      "22/04/26 16:01:00 WARN RowBasedKeyValueBatch: Calling spill() on RowBasedKeyValueBatch. Will not spill but return 0.\n",
      "22/04/26 16:01:01 WARN RowBasedKeyValueBatch: Calling spill() on RowBasedKeyValueBatch. Will not spill but return 0.\n",
      "22/04/26 16:01:01 WARN RowBasedKeyValueBatch: Calling spill() on RowBasedKeyValueBatch. Will not spill but return 0.\n",
      "22/04/26 16:01:01 WARN RowBasedKeyValueBatch: Calling spill() on RowBasedKeyValueBatch. Will not spill but return 0.\n",
      "22/04/26 16:01:01 WARN RowBasedKeyValueBatch: Calling spill() on RowBasedKeyValueBatch. Will not spill but return 0.\n",
      "22/04/26 16:01:03 WARN RowBasedKeyValueBatch: Calling spill() on RowBasedKeyValueBatch. Will not spill but return 0.\n",
      "22/04/26 16:01:03 WARN RowBasedKeyValueBatch: Calling spill() on RowBasedKeyValueBatch. Will not spill but return 0.\n",
      "22/04/26 16:01:03 WARN RowBasedKeyValueBatch: Calling spill() on RowBasedKeyValueBatch. Will not spill but return 0.\n",
      "22/04/26 16:01:36 WARN RowBasedKeyValueBatch: Calling spill() on RowBasedKeyValueBatch. Will not spill but return 0.\n",
      "22/04/26 16:01:37 WARN RowBasedKeyValueBatch: Calling spill() on RowBasedKeyValueBatch. Will not spill but return 0.\n",
      "22/04/26 16:01:37 WARN RowBasedKeyValueBatch: Calling spill() on RowBasedKeyValueBatch. Will not spill but return 0.\n",
      "22/04/26 16:01:38 WARN RowBasedKeyValueBatch: Calling spill() on RowBasedKeyValueBatch. Will not spill but return 0.\n",
      "22/04/26 16:01:38 WARN RowBasedKeyValueBatch: Calling spill() on RowBasedKeyValueBatch. Will not spill but return 0.\n",
      "22/04/26 16:01:38 WARN RowBasedKeyValueBatch: Calling spill() on RowBasedKeyValueBatch. Will not spill but return 0.\n",
      "22/04/26 16:01:39 WARN RowBasedKeyValueBatch: Calling spill() on RowBasedKeyValueBatch. Will not spill but return 0.\n",
      "22/04/26 16:01:39 WARN RowBasedKeyValueBatch: Calling spill() on RowBasedKeyValueBatch. Will not spill but return 0.\n",
      "22/04/26 16:01:40 WARN RowBasedKeyValueBatch: Calling spill() on RowBasedKeyValueBatch. Will not spill but return 0.\n",
      "22/04/26 16:01:40 WARN RowBasedKeyValueBatch: Calling spill() on RowBasedKeyValueBatch. Will not spill but return 0.\n",
      "22/04/26 16:01:55 WARN RowBasedKeyValueBatch: Calling spill() on RowBasedKeyValueBatch. Will not spill but return 0.\n",
      "22/04/26 16:01:55 WARN RowBasedKeyValueBatch: Calling spill() on RowBasedKeyValueBatch. Will not spill but return 0.\n",
      "22/04/26 16:01:57 WARN RowBasedKeyValueBatch: Calling spill() on RowBasedKeyValueBatch. Will not spill but return 0.\n",
      "22/04/26 16:01:57 WARN RowBasedKeyValueBatch: Calling spill() on RowBasedKeyValueBatch. Will not spill but return 0.\n",
      "22/04/26 16:01:57 WARN RowBasedKeyValueBatch: Calling spill() on RowBasedKeyValueBatch. Will not spill but return 0.\n",
      "22/04/26 16:01:57 WARN RowBasedKeyValueBatch: Calling spill() on RowBasedKeyValueBatch. Will not spill but return 0.\n",
      "22/04/26 16:01:57 WARN RowBasedKeyValueBatch: Calling spill() on RowBasedKeyValueBatch. Will not spill but return 0.\n",
      "22/04/26 16:01:57 WARN RowBasedKeyValueBatch: Calling spill() on RowBasedKeyValueBatch. Will not spill but return 0.\n",
      "22/04/26 16:01:57 WARN RowBasedKeyValueBatch: Calling spill() on RowBasedKeyValueBatch. Will not spill but return 0.\n",
      "22/04/26 16:01:57 WARN RowBasedKeyValueBatch: Calling spill() on RowBasedKeyValueBatch. Will not spill but return 0.\n",
      "22/04/26 16:01:58 WARN RowBasedKeyValueBatch: Calling spill() on RowBasedKeyValueBatch. Will not spill but return 0.\n",
      "22/04/26 16:01:59 WARN RowBasedKeyValueBatch: Calling spill() on RowBasedKeyValueBatch. Will not spill but return 0.\n",
      "22/04/26 16:01:59 WARN RowBasedKeyValueBatch: Calling spill() on RowBasedKeyValueBatch. Will not spill but return 0.\n",
      "22/04/26 16:01:59 WARN RowBasedKeyValueBatch: Calling spill() on RowBasedKeyValueBatch. Will not spill but return 0.\n",
      "22/04/26 16:01:59 WARN RowBasedKeyValueBatch: Calling spill() on RowBasedKeyValueBatch. Will not spill but return 0.\n",
      "22/04/26 16:01:59 WARN RowBasedKeyValueBatch: Calling spill() on RowBasedKeyValueBatch. Will not spill but return 0.\n",
      "22/04/26 16:02:00 WARN RowBasedKeyValueBatch: Calling spill() on RowBasedKeyValueBatch. Will not spill but return 0.\n",
      "22/04/26 16:02:00 WARN RowBasedKeyValueBatch: Calling spill() on RowBasedKeyValueBatch. Will not spill but return 0.\n",
      "22/04/26 16:02:20 WARN RowBasedKeyValueBatch: Calling spill() on RowBasedKeyValueBatch. Will not spill but return 0.\n",
      "22/04/26 16:02:20 WARN RowBasedKeyValueBatch: Calling spill() on RowBasedKeyValueBatch. Will not spill but return 0.\n",
      "22/04/26 16:02:21 WARN RowBasedKeyValueBatch: Calling spill() on RowBasedKeyValueBatch. Will not spill but return 0.\n",
      "22/04/26 16:02:22 WARN RowBasedKeyValueBatch: Calling spill() on RowBasedKeyValueBatch. Will not spill but return 0.\n",
      "22/04/26 16:02:22 WARN RowBasedKeyValueBatch: Calling spill() on RowBasedKeyValueBatch. Will not spill but return 0.\n",
      "22/04/26 16:02:23 WARN RowBasedKeyValueBatch: Calling spill() on RowBasedKeyValueBatch. Will not spill but return 0.\n",
      "                                                                                \r"
     ]
    },
    {
     "data": {
      "text/html": [
       "<div>\n",
       "<style scoped>\n",
       "    .dataframe tbody tr th:only-of-type {\n",
       "        vertical-align: middle;\n",
       "    }\n",
       "\n",
       "    .dataframe tbody tr th {\n",
       "        vertical-align: top;\n",
       "    }\n",
       "\n",
       "    .dataframe thead th {\n",
       "        text-align: right;\n",
       "    }\n",
       "</style>\n",
       "<table border=\"1\" class=\"dataframe\">\n",
       "  <thead>\n",
       "    <tr style=\"text-align: right;\">\n",
       "      <th></th>\n",
       "      <th>step</th>\n",
       "      <th>type</th>\n",
       "      <th>amount</th>\n",
       "      <th>name_orig</th>\n",
       "      <th>old_balance_org</th>\n",
       "      <th>new_balance_org</th>\n",
       "      <th>name_dest</th>\n",
       "      <th>old_balance_dest</th>\n",
       "      <th>new_balance_dest</th>\n",
       "      <th>is_fraud</th>\n",
       "      <th>is_flagged_fraud</th>\n",
       "      <th>hour_sin</th>\n",
       "      <th>hour_cos</th>\n",
       "      <th>hour</th>\n",
       "      <th>delta_balance_org</th>\n",
       "      <th>delta_balance_dest</th>\n",
       "      <th>type_idx</th>\n",
       "      <th>type_ohe</th>\n",
       "      <th>features</th>\n",
       "      <th>rawPrediction</th>\n",
       "      <th>probability</th>\n",
       "      <th>prediction</th>\n",
       "    </tr>\n",
       "  </thead>\n",
       "  <tbody>\n",
       "    <tr>\n",
       "      <th>0</th>\n",
       "      <td>3</td>\n",
       "      <td>PAYMENT</td>\n",
       "      <td>13030.42</td>\n",
       "      <td>C1857063398</td>\n",
       "      <td>13485.00</td>\n",
       "      <td>454.58</td>\n",
       "      <td>M1901752553</td>\n",
       "      <td>0.00</td>\n",
       "      <td>0.00</td>\n",
       "      <td>0</td>\n",
       "      <td>0</td>\n",
       "      <td>0.707107</td>\n",
       "      <td>7.071068e-01</td>\n",
       "      <td>3.0</td>\n",
       "      <td>-0.966290</td>\n",
       "      <td>0.000000</td>\n",
       "      <td>1.0</td>\n",
       "      <td>(0.0, 1.0, 0.0, 0.0)</td>\n",
       "      <td>(13030.42, 13485.0, 454.58, 0.0, 0.0, 0.0, 0.7...</td>\n",
       "      <td>[9.999389473360385, 0.0006105266396159273]</td>\n",
       "      <td>[0.9999389473360385, 6.105266396159273e-05]</td>\n",
       "      <td>0.0</td>\n",
       "    </tr>\n",
       "    <tr>\n",
       "      <th>1</th>\n",
       "      <td>3</td>\n",
       "      <td>CASH_IN</td>\n",
       "      <td>177087.19</td>\n",
       "      <td>C504509135</td>\n",
       "      <td>5963237.56</td>\n",
       "      <td>6140324.75</td>\n",
       "      <td>C1916720513</td>\n",
       "      <td>6412853.73</td>\n",
       "      <td>6235766.54</td>\n",
       "      <td>0</td>\n",
       "      <td>0</td>\n",
       "      <td>0.707107</td>\n",
       "      <td>7.071068e-01</td>\n",
       "      <td>3.0</td>\n",
       "      <td>0.029696</td>\n",
       "      <td>-0.027614</td>\n",
       "      <td>2.0</td>\n",
       "      <td>(0.0, 0.0, 1.0, 0.0)</td>\n",
       "      <td>[177087.19, 5963237.56, 6140324.75, 6412853.73...</td>\n",
       "      <td>[9.98185223614558, 0.01814776385442124]</td>\n",
       "      <td>[0.998185223614558, 0.001814776385442124]</td>\n",
       "      <td>0.0</td>\n",
       "    </tr>\n",
       "    <tr>\n",
       "      <th>2</th>\n",
       "      <td>5</td>\n",
       "      <td>PAYMENT</td>\n",
       "      <td>14144.91</td>\n",
       "      <td>C1623813812</td>\n",
       "      <td>0.00</td>\n",
       "      <td>0.00</td>\n",
       "      <td>M2129554451</td>\n",
       "      <td>0.00</td>\n",
       "      <td>0.00</td>\n",
       "      <td>0</td>\n",
       "      <td>0</td>\n",
       "      <td>0.965926</td>\n",
       "      <td>2.588190e-01</td>\n",
       "      <td>5.0</td>\n",
       "      <td>0.000000</td>\n",
       "      <td>0.000000</td>\n",
       "      <td>1.0</td>\n",
       "      <td>(0.0, 1.0, 0.0, 0.0)</td>\n",
       "      <td>(14144.91, 0.0, 0.0, 0.0, 0.0, 0.0, 0.96592582...</td>\n",
       "      <td>[9.950156744181067, 0.04984325581893482]</td>\n",
       "      <td>[0.9950156744181065, 0.004984325581893481]</td>\n",
       "      <td>0.0</td>\n",
       "    </tr>\n",
       "    <tr>\n",
       "      <th>3</th>\n",
       "      <td>6</td>\n",
       "      <td>PAYMENT</td>\n",
       "      <td>11097.96</td>\n",
       "      <td>C17041642</td>\n",
       "      <td>52937.00</td>\n",
       "      <td>41839.04</td>\n",
       "      <td>M1031486232</td>\n",
       "      <td>0.00</td>\n",
       "      <td>0.00</td>\n",
       "      <td>0</td>\n",
       "      <td>0</td>\n",
       "      <td>1.000000</td>\n",
       "      <td>6.123234e-17</td>\n",
       "      <td>6.0</td>\n",
       "      <td>-0.209645</td>\n",
       "      <td>0.000000</td>\n",
       "      <td>1.0</td>\n",
       "      <td>(0.0, 1.0, 0.0, 0.0)</td>\n",
       "      <td>(11097.96, 52937.0, 41839.04, 0.0, 0.0, 0.0, 1...</td>\n",
       "      <td>[9.950156744181067, 0.04984325581893482]</td>\n",
       "      <td>[0.9950156744181065, 0.004984325581893481]</td>\n",
       "      <td>0.0</td>\n",
       "    </tr>\n",
       "    <tr>\n",
       "      <th>4</th>\n",
       "      <td>6</td>\n",
       "      <td>PAYMENT</td>\n",
       "      <td>37699.34</td>\n",
       "      <td>C831656273</td>\n",
       "      <td>642830.98</td>\n",
       "      <td>605131.64</td>\n",
       "      <td>M1464460851</td>\n",
       "      <td>0.00</td>\n",
       "      <td>0.00</td>\n",
       "      <td>0</td>\n",
       "      <td>0</td>\n",
       "      <td>1.000000</td>\n",
       "      <td>6.123234e-17</td>\n",
       "      <td>6.0</td>\n",
       "      <td>-0.058646</td>\n",
       "      <td>0.000000</td>\n",
       "      <td>1.0</td>\n",
       "      <td>(0.0, 1.0, 0.0, 0.0)</td>\n",
       "      <td>(37699.34, 642830.98, 605131.64, 0.0, 0.0, 0.0...</td>\n",
       "      <td>[9.971683753536261, 0.028316246463739154]</td>\n",
       "      <td>[0.9971683753536261, 0.0028316246463739154]</td>\n",
       "      <td>0.0</td>\n",
       "    </tr>\n",
       "  </tbody>\n",
       "</table>\n",
       "</div>"
      ],
      "text/plain": [
       "   step     type     amount    name_orig  old_balance_org  new_balance_org    name_dest  old_balance_dest  new_balance_dest  is_fraud  is_flagged_fraud  hour_sin      hour_cos  hour  delta_balance_org  delta_balance_dest  type_idx              type_ohe                                           features                               rawPrediction                                  probability  prediction\n",
       "0     3  PAYMENT   13030.42  C1857063398         13485.00           454.58  M1901752553              0.00              0.00         0                 0  0.707107  7.071068e-01   3.0          -0.966290            0.000000       1.0  (0.0, 1.0, 0.0, 0.0)  (13030.42, 13485.0, 454.58, 0.0, 0.0, 0.0, 0.7...  [9.999389473360385, 0.0006105266396159273]  [0.9999389473360385, 6.105266396159273e-05]         0.0\n",
       "1     3  CASH_IN  177087.19   C504509135       5963237.56       6140324.75  C1916720513        6412853.73        6235766.54         0                 0  0.707107  7.071068e-01   3.0           0.029696           -0.027614       2.0  (0.0, 0.0, 1.0, 0.0)  [177087.19, 5963237.56, 6140324.75, 6412853.73...     [9.98185223614558, 0.01814776385442124]    [0.998185223614558, 0.001814776385442124]         0.0\n",
       "2     5  PAYMENT   14144.91  C1623813812             0.00             0.00  M2129554451              0.00              0.00         0                 0  0.965926  2.588190e-01   5.0           0.000000            0.000000       1.0  (0.0, 1.0, 0.0, 0.0)  (14144.91, 0.0, 0.0, 0.0, 0.0, 0.0, 0.96592582...    [9.950156744181067, 0.04984325581893482]   [0.9950156744181065, 0.004984325581893481]         0.0\n",
       "3     6  PAYMENT   11097.96    C17041642         52937.00         41839.04  M1031486232              0.00              0.00         0                 0  1.000000  6.123234e-17   6.0          -0.209645            0.000000       1.0  (0.0, 1.0, 0.0, 0.0)  (11097.96, 52937.0, 41839.04, 0.0, 0.0, 0.0, 1...    [9.950156744181067, 0.04984325581893482]   [0.9950156744181065, 0.004984325581893481]         0.0\n",
       "4     6  PAYMENT   37699.34   C831656273        642830.98        605131.64  M1464460851              0.00              0.00         0                 0  1.000000  6.123234e-17   6.0          -0.058646            0.000000       1.0  (0.0, 1.0, 0.0, 0.0)  (37699.34, 642830.98, 605131.64, 0.0, 0.0, 0.0...   [9.971683753536261, 0.028316246463739154]  [0.9971683753536261, 0.0028316246463739154]         0.0"
      ]
     },
     "execution_count": 125,
     "metadata": {},
     "output_type": "execute_result"
    }
   ],
   "source": [
    "results = DTmodel.transform(test)\n",
    "results.limit(5).toPandas()"
   ]
  },
  {
   "cell_type": "markdown",
   "metadata": {},
   "source": [
    "# 8.0. Checking model performance"
   ]
  },
  {
   "cell_type": "code",
   "execution_count": 126,
   "metadata": {},
   "outputs": [
    {
     "name": "stderr",
     "output_type": "stream",
     "text": [
      "22/04/26 16:03:05 WARN RowBasedKeyValueBatch: Calling spill() on RowBasedKeyValueBatch. Will not spill but return 0.\n",
      "22/04/26 16:03:05 WARN RowBasedKeyValueBatch: Calling spill() on RowBasedKeyValueBatch. Will not spill but return 0.\n",
      "22/04/26 16:03:06 WARN RowBasedKeyValueBatch: Calling spill() on RowBasedKeyValueBatch. Will not spill but return 0.\n",
      "22/04/26 16:03:06 WARN RowBasedKeyValueBatch: Calling spill() on RowBasedKeyValueBatch. Will not spill but return 0.\n",
      "22/04/26 16:03:06 WARN RowBasedKeyValueBatch: Calling spill() on RowBasedKeyValueBatch. Will not spill but return 0.\n",
      "22/04/26 16:03:06 WARN RowBasedKeyValueBatch: Calling spill() on RowBasedKeyValueBatch. Will not spill but return 0.\n",
      "22/04/26 16:03:06 WARN RowBasedKeyValueBatch: Calling spill() on RowBasedKeyValueBatch. Will not spill but return 0.\n",
      "22/04/26 16:03:06 WARN RowBasedKeyValueBatch: Calling spill() on RowBasedKeyValueBatch. Will not spill but return 0.\n",
      "22/04/26 16:03:06 WARN RowBasedKeyValueBatch: Calling spill() on RowBasedKeyValueBatch. Will not spill but return 0.\n",
      "22/04/26 16:03:07 WARN RowBasedKeyValueBatch: Calling spill() on RowBasedKeyValueBatch. Will not spill but return 0.\n",
      "22/04/26 16:03:07 WARN RowBasedKeyValueBatch: Calling spill() on RowBasedKeyValueBatch. Will not spill but return 0.\n",
      "22/04/26 16:03:07 WARN RowBasedKeyValueBatch: Calling spill() on RowBasedKeyValueBatch. Will not spill but return 0.\n",
      "22/04/26 16:03:07 WARN RowBasedKeyValueBatch: Calling spill() on RowBasedKeyValueBatch. Will not spill but return 0.\n",
      "22/04/26 16:03:07 WARN RowBasedKeyValueBatch: Calling spill() on RowBasedKeyValueBatch. Will not spill but return 0.\n",
      "22/04/26 16:03:10 WARN RowBasedKeyValueBatch: Calling spill() on RowBasedKeyValueBatch. Will not spill but return 0.\n",
      "22/04/26 16:03:10 WARN RowBasedKeyValueBatch: Calling spill() on RowBasedKeyValueBatch. Will not spill but return 0.\n",
      "22/04/26 16:03:10 WARN RowBasedKeyValueBatch: Calling spill() on RowBasedKeyValueBatch. Will not spill but return 0.\n",
      "22/04/26 16:03:11 WARN RowBasedKeyValueBatch: Calling spill() on RowBasedKeyValueBatch. Will not spill but return 0.\n",
      "22/04/26 16:03:25 WARN RowBasedKeyValueBatch: Calling spill() on RowBasedKeyValueBatch. Will not spill but return 0.\n",
      "22/04/26 16:03:25 WARN RowBasedKeyValueBatch: Calling spill() on RowBasedKeyValueBatch. Will not spill but return 0.\n",
      "22/04/26 16:03:26 WARN RowBasedKeyValueBatch: Calling spill() on RowBasedKeyValueBatch. Will not spill but return 0.\n",
      "22/04/26 16:03:26 WARN RowBasedKeyValueBatch: Calling spill() on RowBasedKeyValueBatch. Will not spill but return 0.\n",
      "22/04/26 16:03:26 WARN RowBasedKeyValueBatch: Calling spill() on RowBasedKeyValueBatch. Will not spill but return 0.\n",
      "22/04/26 16:03:26 WARN RowBasedKeyValueBatch: Calling spill() on RowBasedKeyValueBatch. Will not spill but return 0.\n",
      "22/04/26 16:03:27 WARN RowBasedKeyValueBatch: Calling spill() on RowBasedKeyValueBatch. Will not spill but return 0.\n",
      "22/04/26 16:03:27 WARN RowBasedKeyValueBatch: Calling spill() on RowBasedKeyValueBatch. Will not spill but return 0.\n",
      "22/04/26 16:03:27 WARN RowBasedKeyValueBatch: Calling spill() on RowBasedKeyValueBatch. Will not spill but return 0.\n",
      "22/04/26 16:03:27 WARN RowBasedKeyValueBatch: Calling spill() on RowBasedKeyValueBatch. Will not spill but return 0.\n",
      "22/04/26 16:03:27 WARN RowBasedKeyValueBatch: Calling spill() on RowBasedKeyValueBatch. Will not spill but return 0.\n",
      "22/04/26 16:03:28 WARN RowBasedKeyValueBatch: Calling spill() on RowBasedKeyValueBatch. Will not spill but return 0.\n",
      "22/04/26 16:03:28 WARN RowBasedKeyValueBatch: Calling spill() on RowBasedKeyValueBatch. Will not spill but return 0.\n",
      "22/04/26 16:03:28 WARN RowBasedKeyValueBatch: Calling spill() on RowBasedKeyValueBatch. Will not spill but return 0.\n",
      "22/04/26 16:03:28 WARN RowBasedKeyValueBatch: Calling spill() on RowBasedKeyValueBatch. Will not spill but return 0.\n",
      "22/04/26 16:03:28 WARN RowBasedKeyValueBatch: Calling spill() on RowBasedKeyValueBatch. Will not spill but return 0.\n",
      "22/04/26 16:03:28 WARN RowBasedKeyValueBatch: Calling spill() on RowBasedKeyValueBatch. Will not spill but return 0.\n",
      "22/04/26 16:03:28 WARN RowBasedKeyValueBatch: Calling spill() on RowBasedKeyValueBatch. Will not spill but return 0.\n",
      "22/04/26 16:03:28 WARN RowBasedKeyValueBatch: Calling spill() on RowBasedKeyValueBatch. Will not spill but return 0.\n",
      "22/04/26 16:03:29 WARN RowBasedKeyValueBatch: Calling spill() on RowBasedKeyValueBatch. Will not spill but return 0.\n",
      "22/04/26 16:03:29 WARN RowBasedKeyValueBatch: Calling spill() on RowBasedKeyValueBatch. Will not spill but return 0.\n",
      "22/04/26 16:03:42 WARN RowBasedKeyValueBatch: Calling spill() on RowBasedKeyValueBatch. Will not spill but return 0.\n",
      "22/04/26 16:03:42 WARN RowBasedKeyValueBatch: Calling spill() on RowBasedKeyValueBatch. Will not spill but return 0.\n",
      "22/04/26 16:03:42 WARN RowBasedKeyValueBatch: Calling spill() on RowBasedKeyValueBatch. Will not spill but return 0.\n",
      "22/04/26 16:03:44 WARN RowBasedKeyValueBatch: Calling spill() on RowBasedKeyValueBatch. Will not spill but return 0.\n",
      "22/04/26 16:03:44 WARN RowBasedKeyValueBatch: Calling spill() on RowBasedKeyValueBatch. Will not spill but return 0.\n",
      "22/04/26 16:03:44 WARN RowBasedKeyValueBatch: Calling spill() on RowBasedKeyValueBatch. Will not spill but return 0.\n",
      "22/04/26 16:03:45 WARN RowBasedKeyValueBatch: Calling spill() on RowBasedKeyValueBatch. Will not spill but return 0.\n",
      "22/04/26 16:03:45 WARN RowBasedKeyValueBatch: Calling spill() on RowBasedKeyValueBatch. Will not spill but return 0.\n",
      "22/04/26 16:03:47 WARN RowBasedKeyValueBatch: Calling spill() on RowBasedKeyValueBatch. Will not spill but return 0.\n",
      "22/04/26 16:03:47 WARN RowBasedKeyValueBatch: Calling spill() on RowBasedKeyValueBatch. Will not spill but return 0.\n",
      "22/04/26 16:03:49 WARN RowBasedKeyValueBatch: Calling spill() on RowBasedKeyValueBatch. Will not spill but return 0.\n",
      "22/04/26 16:03:49 WARN RowBasedKeyValueBatch: Calling spill() on RowBasedKeyValueBatch. Will not spill but return 0.\n",
      "22/04/26 16:03:49 WARN RowBasedKeyValueBatch: Calling spill() on RowBasedKeyValueBatch. Will not spill but return 0.\n",
      "22/04/26 16:03:50 WARN RowBasedKeyValueBatch: Calling spill() on RowBasedKeyValueBatch. Will not spill but return 0.\n",
      "22/04/26 16:03:50 WARN RowBasedKeyValueBatch: Calling spill() on RowBasedKeyValueBatch. Will not spill but return 0.\n",
      "22/04/26 16:03:51 WARN RowBasedKeyValueBatch: Calling spill() on RowBasedKeyValueBatch. Will not spill but return 0.\n",
      "22/04/26 16:03:52 WARN RowBasedKeyValueBatch: Calling spill() on RowBasedKeyValueBatch. Will not spill but return 0.\n",
      "22/04/26 16:03:52 WARN RowBasedKeyValueBatch: Calling spill() on RowBasedKeyValueBatch. Will not spill but return 0.\n",
      "22/04/26 16:03:52 WARN RowBasedKeyValueBatch: Calling spill() on RowBasedKeyValueBatch. Will not spill but return 0.\n",
      "22/04/26 16:04:40 WARN RowBasedKeyValueBatch: Calling spill() on RowBasedKeyValueBatch. Will not spill but return 0.\n",
      "22/04/26 16:04:40 WARN RowBasedKeyValueBatch: Calling spill() on RowBasedKeyValueBatch. Will not spill but return 0.\n",
      "22/04/26 16:04:41 WARN RowBasedKeyValueBatch: Calling spill() on RowBasedKeyValueBatch. Will not spill but return 0.\n",
      "22/04/26 16:04:41 WARN RowBasedKeyValueBatch: Calling spill() on RowBasedKeyValueBatch. Will not spill but return 0.\n",
      "22/04/26 16:04:43 WARN RowBasedKeyValueBatch: Calling spill() on RowBasedKeyValueBatch. Will not spill but return 0.\n",
      "22/04/26 16:04:43 WARN RowBasedKeyValueBatch: Calling spill() on RowBasedKeyValueBatch. Will not spill but return 0.\n",
      "22/04/26 16:04:43 WARN RowBasedKeyValueBatch: Calling spill() on RowBasedKeyValueBatch. Will not spill but return 0.\n",
      "22/04/26 16:04:43 WARN RowBasedKeyValueBatch: Calling spill() on RowBasedKeyValueBatch. Will not spill but return 0.\n",
      "22/04/26 16:04:43 WARN RowBasedKeyValueBatch: Calling spill() on RowBasedKeyValueBatch. Will not spill but return 0.\n",
      "22/04/26 16:04:43 WARN RowBasedKeyValueBatch: Calling spill() on RowBasedKeyValueBatch. Will not spill but return 0.\n",
      "22/04/26 16:04:43 WARN RowBasedKeyValueBatch: Calling spill() on RowBasedKeyValueBatch. Will not spill but return 0.\n",
      "22/04/26 16:04:43 WARN RowBasedKeyValueBatch: Calling spill() on RowBasedKeyValueBatch. Will not spill but return 0.\n",
      "22/04/26 16:04:43 WARN RowBasedKeyValueBatch: Calling spill() on RowBasedKeyValueBatch. Will not spill but return 0.\n",
      "22/04/26 16:04:44 WARN RowBasedKeyValueBatch: Calling spill() on RowBasedKeyValueBatch. Will not spill but return 0.\n",
      "22/04/26 16:04:45 WARN RowBasedKeyValueBatch: Calling spill() on RowBasedKeyValueBatch. Will not spill but return 0.\n",
      "22/04/26 16:04:45 WARN RowBasedKeyValueBatch: Calling spill() on RowBasedKeyValueBatch. Will not spill but return 0.\n",
      "22/04/26 16:05:00 WARN RowBasedKeyValueBatch: Calling spill() on RowBasedKeyValueBatch. Will not spill but return 0.\n",
      "22/04/26 16:05:00 WARN RowBasedKeyValueBatch: Calling spill() on RowBasedKeyValueBatch. Will not spill but return 0.\n",
      "22/04/26 16:05:01 WARN RowBasedKeyValueBatch: Calling spill() on RowBasedKeyValueBatch. Will not spill but return 0.\n",
      "22/04/26 16:05:01 WARN RowBasedKeyValueBatch: Calling spill() on RowBasedKeyValueBatch. Will not spill but return 0.\n",
      "22/04/26 16:05:01 WARN RowBasedKeyValueBatch: Calling spill() on RowBasedKeyValueBatch. Will not spill but return 0.\n",
      "22/04/26 16:05:02 WARN RowBasedKeyValueBatch: Calling spill() on RowBasedKeyValueBatch. Will not spill but return 0.\n",
      "22/04/26 16:05:03 WARN RowBasedKeyValueBatch: Calling spill() on RowBasedKeyValueBatch. Will not spill but return 0.\n",
      "22/04/26 16:05:03 WARN RowBasedKeyValueBatch: Calling spill() on RowBasedKeyValueBatch. Will not spill but return 0.\n",
      "22/04/26 16:05:03 WARN RowBasedKeyValueBatch: Calling spill() on RowBasedKeyValueBatch. Will not spill but return 0.\n",
      "22/04/26 16:05:03 WARN RowBasedKeyValueBatch: Calling spill() on RowBasedKeyValueBatch. Will not spill but return 0.\n",
      "22/04/26 16:05:03 WARN RowBasedKeyValueBatch: Calling spill() on RowBasedKeyValueBatch. Will not spill but return 0.\n",
      "22/04/26 16:05:04 WARN RowBasedKeyValueBatch: Calling spill() on RowBasedKeyValueBatch. Will not spill but return 0.\n",
      "22/04/26 16:05:04 WARN RowBasedKeyValueBatch: Calling spill() on RowBasedKeyValueBatch. Will not spill but return 0.\n",
      "22/04/26 16:05:04 WARN RowBasedKeyValueBatch: Calling spill() on RowBasedKeyValueBatch. Will not spill but return 0.\n",
      "22/04/26 16:05:04 WARN RowBasedKeyValueBatch: Calling spill() on RowBasedKeyValueBatch. Will not spill but return 0.\n",
      "22/04/26 16:05:06 WARN RowBasedKeyValueBatch: Calling spill() on RowBasedKeyValueBatch. Will not spill but return 0.\n",
      "22/04/26 16:05:17 WARN RowBasedKeyValueBatch: Calling spill() on RowBasedKeyValueBatch. Will not spill but return 0.\n",
      "22/04/26 16:05:17 WARN RowBasedKeyValueBatch: Calling spill() on RowBasedKeyValueBatch. Will not spill but return 0.\n",
      "22/04/26 16:05:18 WARN RowBasedKeyValueBatch: Calling spill() on RowBasedKeyValueBatch. Will not spill but return 0.\n",
      "22/04/26 16:05:18 WARN RowBasedKeyValueBatch: Calling spill() on RowBasedKeyValueBatch. Will not spill but return 0.\n",
      "22/04/26 16:05:21 WARN RowBasedKeyValueBatch: Calling spill() on RowBasedKeyValueBatch. Will not spill but return 0.\n",
      "22/04/26 16:05:21 WARN RowBasedKeyValueBatch: Calling spill() on RowBasedKeyValueBatch. Will not spill but return 0.\n",
      "                                                                                \r"
     ]
    }
   ],
   "source": [
    "results_pd = proba_to_pandas(dataframe = results, prob_col='probability', label_col='is_fraud')"
   ]
  },
  {
   "cell_type": "code",
   "execution_count": 126,
   "metadata": {},
   "outputs": [
    {
     "data": {
      "text/html": [
       "<div>\n",
       "<style scoped>\n",
       "    .dataframe tbody tr th:only-of-type {\n",
       "        vertical-align: middle;\n",
       "    }\n",
       "\n",
       "    .dataframe tbody tr th {\n",
       "        vertical-align: top;\n",
       "    }\n",
       "\n",
       "    .dataframe thead th {\n",
       "        text-align: right;\n",
       "    }\n",
       "</style>\n",
       "<table border=\"1\" class=\"dataframe\">\n",
       "  <thead>\n",
       "    <tr style=\"text-align: right;\">\n",
       "      <th></th>\n",
       "      <th>y_pred</th>\n",
       "      <th>y_true</th>\n",
       "    </tr>\n",
       "  </thead>\n",
       "  <tbody>\n",
       "    <tr>\n",
       "      <th>0</th>\n",
       "      <td>0.001815</td>\n",
       "      <td>0</td>\n",
       "    </tr>\n",
       "    <tr>\n",
       "      <th>1</th>\n",
       "      <td>0.001815</td>\n",
       "      <td>0</td>\n",
       "    </tr>\n",
       "    <tr>\n",
       "      <th>2</th>\n",
       "      <td>0.001815</td>\n",
       "      <td>0</td>\n",
       "    </tr>\n",
       "    <tr>\n",
       "      <th>3</th>\n",
       "      <td>0.001815</td>\n",
       "      <td>0</td>\n",
       "    </tr>\n",
       "    <tr>\n",
       "      <th>4</th>\n",
       "      <td>0.001815</td>\n",
       "      <td>0</td>\n",
       "    </tr>\n",
       "  </tbody>\n",
       "</table>\n",
       "</div>"
      ],
      "text/plain": [
       "     y_pred  y_true\n",
       "0  0.001815       0\n",
       "1  0.001815       0\n",
       "2  0.001815       0\n",
       "3  0.001815       0\n",
       "4  0.001815       0"
      ]
     },
     "execution_count": 126,
     "metadata": {},
     "output_type": "execute_result"
    }
   ],
   "source": [
    "results_pd.head()"
   ]
  },
  {
   "cell_type": "code",
   "execution_count": 129,
   "metadata": {},
   "outputs": [
    {
     "data": {
      "text/plain": [
       "array([[1271058,      35],\n",
       "       [    522,    1147]])"
      ]
     },
     "execution_count": 129,
     "metadata": {},
     "output_type": "execute_result"
    }
   ],
   "source": [
    "cm = confusion_matrix(y_true=results_pd.y_true, y_pred=results_pd.y_pred > 0.3)\n",
    "cm"
   ]
  },
  {
   "cell_type": "code",
   "execution_count": 127,
   "metadata": {},
   "outputs": [
    {
     "data": {
      "image/png": "[encoded data removed]",
      "text/plain": [
       "<Figure size 1800x864 with 4 Axes>"
      ]
     },
     "metadata": {},
     "output_type": "display_data"
    }
   ],
   "source": [
    "fig, ax = plt.subplots(1,2)\n",
    "\n",
    "# 50 % threshold\n",
    "cm = confusion_matrix(y_true=results_pd.y_true, y_pred=results_pd.y_pred > 0.5)\n",
    "disp = ConfusionMatrixDisplay(cm)\n",
    "disp.plot(ax = ax[0])\n",
    "ax[0].set_title('CM for a threshold of 50%')\n",
    "\n",
    "# 30 % threshold\n",
    "cm = confusion_matrix(y_true=results_pd.y_true, y_pred=results_pd.y_pred > 0.3)\n",
    "disp = ConfusionMatrixDisplay(cm)\n",
    "disp.plot(ax = ax[1])\n",
    "ax[1].set_title('CM for a threshold of 30%');"
   ]
  },
  {
   "cell_type": "code",
   "execution_count": 128,
   "metadata": {},
   "outputs": [
    {
     "data": {
      "image/png": "[encoded data removed]",
      "text/plain": [
       "<Figure size 1800x864 with 1 Axes>"
      ]
     },
     "metadata": {},
     "output_type": "display_data"
    }
   ],
   "source": [
    "PrecisionRecallDisplay.from_predictions(y_true=results_pd.y_true, y_pred = results_pd.y_pred);"
   ]
  },
  {
   "cell_type": "code",
   "execution_count": 150,
   "metadata": {},
   "outputs": [
    {
     "name": "stdout",
     "output_type": "stream",
     "text": [
      "precision: 0.6257\n",
      "recall:    0.7513\n"
     ]
    }
   ],
   "source": [
    "from sklearn.metrics import recall_score, precision_score\n",
    "# testing a few thresholds\n",
    "\n",
    "threshold = 0.05\n",
    "print('precision: {:.4f}'.format(precision_score(y_true=results_pd.y_true, y_pred = results_pd.y_pred > threshold)))\n",
    "print('recall:    {:.4f}'.format(recall_score(y_true=results_pd.y_true, y_pred = results_pd.y_pred > threshold)))"
   ]
  },
  {
   "cell_type": "markdown",
   "metadata": {},
   "source": [
    "The precision and recall increased a little bit by adding new features\n",
    "\n",
    "TODO:\n",
    "Remove hour sin and cosine\n",
    "\n",
    "Implement MLFlow tracking\n",
    "\n",
    "Test other models\n",
    "\n",
    "Search for new metrics\n",
    "\n",
    "Perform EDA"
   ]
  }
 ],
 "metadata": {
  "interpreter": {
   "hash": "da8010f0f20355106034bde63a2468ec8e64683c6adfc729f12ddf3965425c16"
  },
  "kernelspec": {
   "display_name": "Python 3.8.0 64-bit ('pyspark')",
   "language": "python",
   "name": "python3"
  },
  "language_info": {
   "codemirror_mode": {
    "name": "ipython",
    "version": 3
   },
   "file_extension": ".py",
   "mimetype": "text/x-python",
   "name": "python",
   "nbconvert_exporter": "python",
   "pygments_lexer": "ipython3",
   "version": "3.8.0"
  },
  "orig_nbformat": 4
 },
 "nbformat": 4,
 "nbformat_minor": 2
}
