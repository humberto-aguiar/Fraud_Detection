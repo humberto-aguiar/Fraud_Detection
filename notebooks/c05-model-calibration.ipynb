{
 "cells": [
  {
   "cell_type": "markdown",
   "metadata": {},
   "source": [
    "# 0.0 Imports"
   ]
  },
  {
   "cell_type": "markdown",
   "metadata": {},
   "source": [
    "## 0.1 Imports"
   ]
  },
  {
   "cell_type": "code",
   "execution_count": 1,
   "metadata": {},
   "outputs": [],
   "source": [
    "import pandas as pd\n",
    "import numpy as np\n",
    "import matplotlib.pyplot as plt\n",
    "import math\n",
    "import mlflow\n",
    "import os\n",
    "import gc \n",
    "\n",
    "from pyspark import SparkConf\n",
    "from pyspark.sql.functions import udf\n",
    "from pyspark.sql import SparkSession\n",
    "from pyspark.sql.types import DoubleType, IntegerType, FloatType, LongType, ShortType\n",
    "\n",
    "from pyspark.ml.pipeline import Pipeline\n",
    "from pyspark.ml.classification import RandomForestClassifier, LogisticRegression, NaiveBayes\n",
    "\n",
    "from pyspark.ml.feature import OneHotEncoder, StringIndexer, VectorAssembler\n",
    "\n",
    "from sklearn.metrics import confusion_matrix, ConfusionMatrixDisplay, PrecisionRecallDisplay, average_precision_score\n",
    "from sklearn.metrics import recall_score, precision_score, average_precision_score, roc_auc_score\n"
   ]
  },
  {
   "cell_type": "markdown",
   "metadata": {},
   "source": [
    "## 0.2 Setting MLflow"
   ]
  },
  {
   "cell_type": "code",
   "execution_count": 2,
   "metadata": {},
   "outputs": [],
   "source": [
    "# # use this to change mlflow folder\n",
    "# mlflow.set_tracking_uri(\"file:///home/humberto/DS/fraud_detection/reports/mlruns\")"
   ]
  },
  {
   "cell_type": "code",
   "execution_count": 15,
   "metadata": {},
   "outputs": [
    {
     "data": {
      "text/plain": [
       "<Experiment: artifact_location='file:///home/humberto/DS/fraud_detection/notebooks/mlruns/2', experiment_id='2', lifecycle_stage='active', name='attempting to calibrate some models', tags={}>"
      ]
     },
     "execution_count": 15,
     "metadata": {},
     "output_type": "execute_result"
    }
   ],
   "source": [
    "experiment_id = mlflow.create_experiment(\"attempting to calibrate some models\")\n",
    "experiment = mlflow.get_experiment(experiment_id)\n",
    "experiment"
   ]
  },
  {
   "cell_type": "code",
   "execution_count": 6,
   "metadata": {},
   "outputs": [],
   "source": [
    "# # use this standard\n",
    "# mlflow.start_run(experiment_id=experiment_id)\n",
    "# mlflow.log_param('max_depth', 16)\n",
    "# mlflow.log_metric('recall', 0.89)\n",
    "# mlflow.end_run()"
   ]
  },
  {
   "cell_type": "markdown",
   "metadata": {},
   "source": [
    "## 0.2 Starting Spark Session"
   ]
  },
  {
   "cell_type": "code",
   "execution_count": 2,
   "metadata": {},
   "outputs": [
    {
     "name": "stderr",
     "output_type": "stream",
     "text": [
      "WARNING: An illegal reflective access operation has occurred\n",
      "WARNING: Illegal reflective access by org.apache.spark.unsafe.Platform (file:/home/humberto/.pyenv/versions/3.8.0/envs/pyspark/lib/python3.8/site-packages/pyspark/jars/spark-unsafe_2.12-3.2.1.jar) to constructor java.nio.DirectByteBuffer(long,int)\n",
      "WARNING: Please consider reporting this to the maintainers of org.apache.spark.unsafe.Platform\n",
      "WARNING: Use --illegal-access=warn to enable warnings of further illegal reflective access operations\n",
      "WARNING: All illegal access operations will be denied in a future release\n",
      "Using Spark's default log4j profile: org/apache/spark/log4j-defaults.properties\n",
      "Setting default log level to \"WARN\".\n",
      "To adjust logging level use sc.setLogLevel(newLevel). For SparkR, use setLogLevel(newLevel).\n",
      "22/05/11 20:40:34 WARN NativeCodeLoader: Unable to load native-hadoop library for your platform... using builtin-java classes where applicable\n"
     ]
    },
    {
     "data": {
      "text/html": [
       "\n",
       "            <div>\n",
       "                <p><b>SparkSession - in-memory</b></p>\n",
       "                \n",
       "        <div>\n",
       "            <p><b>SparkContext</b></p>\n",
       "\n",
       "            <p><a href=\"http://1berto:4040\">Spark UI</a></p>\n",
       "\n",
       "            <dl>\n",
       "              <dt>Version</dt>\n",
       "                <dd><code>v3.2.1</code></dd>\n",
       "              <dt>Master</dt>\n",
       "                <dd><code>local[*]</code></dd>\n",
       "              <dt>AppName</dt>\n",
       "                <dd><code>Fraud</code></dd>\n",
       "            </dl>\n",
       "        </div>\n",
       "        \n",
       "            </div>\n",
       "        "
      ],
      "text/plain": [
       "<pyspark.sql.session.SparkSession at 0x7ffb5a3175e0>"
      ]
     },
     "execution_count": 2,
     "metadata": {},
     "output_type": "execute_result"
    }
   ],
   "source": [
    "spark = (SparkSession\n",
    ".builder\n",
    ".config(\"spark.driver.memory\", \"4g\")\n",
    ".appName('Fraud')\n",
    ".getOrCreate())\n",
    "\n",
    "spark"
   ]
  },
  {
   "cell_type": "code",
   "execution_count": 2,
   "metadata": {},
   "outputs": [
    {
     "name": "stderr",
     "output_type": "stream",
     "text": [
      "WARNING: An illegal reflective access operation has occurred\n",
      "WARNING: Illegal reflective access by org.apache.spark.unsafe.Platform (file:/home/humberto/.pyenv/versions/3.8.0/envs/pyspark/lib/python3.8/site-packages/pyspark/jars/spark-unsafe_2.12-3.2.1.jar) to constructor java.nio.DirectByteBuffer(long,int)\n",
      "WARNING: Please consider reporting this to the maintainers of org.apache.spark.unsafe.Platform\n",
      "WARNING: Use --illegal-access=warn to enable warnings of further illegal reflective access operations\n",
      "WARNING: All illegal access operations will be denied in a future release\n",
      "https://mmlspark.azureedge.net/maven added as a remote repository with the name: repo-1\n"
     ]
    },
    {
     "name": "stdout",
     "output_type": "stream",
     "text": [
      ":: loading settings :: url = jar:file:/home/humberto/.pyenv/versions/3.8.0/envs/pyspark/lib/python3.8/site-packages/pyspark/jars/ivy-2.5.0.jar!/org/apache/ivy/core/settings/ivysettings.xml\n"
     ]
    },
    {
     "name": "stderr",
     "output_type": "stream",
     "text": [
      "Ivy Default Cache set to: /home/humberto/.ivy2/cache\n",
      "The jars for the packages stored in: /home/humberto/.ivy2/jars\n",
      "com.microsoft.azure#synapseml_2.12 added as a dependency\n",
      ":: resolving dependencies :: org.apache.spark#spark-submit-parent-b31f2b77-6ffc-4150-b063-ef00f04c9f1a;1.0\n",
      "\tconfs: [default]\n",
      "\tfound com.microsoft.azure#synapseml_2.12;0.9.5 in central\n",
      "\tfound com.microsoft.azure#synapseml-core_2.12;0.9.5 in central\n",
      "\tfound org.scalactic#scalactic_2.12;3.0.5 in central\n",
      "\tfound org.scala-lang#scala-reflect;2.12.4 in central\n",
      "\tfound io.spray#spray-json_2.12;1.3.2 in central\n",
      "\tfound com.jcraft#jsch;0.1.54 in central\n",
      "\tfound org.apache.httpcomponents#httpclient;4.5.6 in central\n",
      "\tfound org.apache.httpcomponents#httpcore;4.4.10 in central\n",
      "\tfound commons-logging#commons-logging;1.2 in central\n",
      "\tfound commons-codec#commons-codec;1.10 in central\n",
      "\tfound org.apache.httpcomponents#httpmime;4.5.6 in central\n",
      "\tfound com.linkedin.isolation-forest#isolation-forest_3.2.0_2.12;2.0.8 in central\n",
      "\tfound com.chuusai#shapeless_2.12;2.3.2 in central\n",
      "\tfound org.typelevel#macro-compat_2.12;1.1.1 in central\n",
      "\tfound org.apache.spark#spark-avro_2.12;3.2.0 in central\n",
      "\tfound org.tukaani#xz;1.8 in central\n",
      "\tfound org.spark-project.spark#unused;1.0.0 in central\n",
      "\tfound org.testng#testng;6.8.8 in central\n",
      "\tfound org.beanshell#bsh;2.0b4 in central\n",
      "\tfound com.beust#jcommander;1.27 in central\n",
      "\tfound com.microsoft.azure#synapseml-deep-learning_2.12;0.9.5 in central\n",
      "\tfound com.microsoft.azure#synapseml-opencv_2.12;0.9.5 in central\n",
      "\tfound org.openpnp#opencv;3.2.0-1 in central\n",
      "\tfound com.microsoft.cntk#cntk;2.4 in central\n",
      "\tfound com.microsoft.onnxruntime#onnxruntime_gpu;1.8.1 in central\n",
      "\tfound com.microsoft.azure#synapseml-cognitive_2.12;0.9.5 in central\n",
      "\tfound com.microsoft.cognitiveservices.speech#client-jar-sdk;1.14.0 in central\n",
      "\tfound com.azure#azure-storage-blob;12.14.2 in central\n",
      "\tfound com.azure#azure-core;1.22.0 in central\n",
      "\tfound com.fasterxml.jackson.core#jackson-annotations;2.12.5 in central\n",
      "\tfound com.fasterxml.jackson.core#jackson-core;2.12.5 in central\n",
      "\tfound com.fasterxml.jackson.core#jackson-databind;2.12.5 in central\n",
      "\tfound com.fasterxml.jackson.datatype#jackson-datatype-jsr310;2.12.5 in central\n",
      "\tfound com.fasterxml.jackson.dataformat#jackson-dataformat-xml;2.12.5 in central\n",
      "\tfound com.fasterxml.jackson.module#jackson-module-jaxb-annotations;2.12.5 in central\n",
      "\tfound jakarta.xml.bind#jakarta.xml.bind-api;2.3.2 in central\n",
      "\tfound jakarta.activation#jakarta.activation-api;1.2.1 in central\n",
      "\tfound org.codehaus.woodstox#stax2-api;4.2.1 in central\n",
      "\tfound com.fasterxml.woodstox#woodstox-core;6.2.4 in central\n",
      "\tfound org.slf4j#slf4j-api;1.7.32 in central\n",
      "\tfound io.projectreactor#reactor-core;3.4.10 in central\n",
      "\tfound org.reactivestreams#reactive-streams;1.0.3 in central\n",
      "\tfound io.netty#netty-tcnative-boringssl-static;2.0.43.Final in central\n",
      "\tfound com.azure#azure-core-http-netty;1.11.2 in central\n",
      "\tfound io.netty#netty-handler;4.1.68.Final in central\n",
      "\tfound io.netty#netty-common;4.1.68.Final in central\n",
      "\tfound io.netty#netty-resolver;4.1.68.Final in central\n",
      "\tfound io.netty#netty-buffer;4.1.68.Final in central\n",
      "\tfound io.netty#netty-transport;4.1.68.Final in central\n",
      "\tfound io.netty#netty-codec;4.1.68.Final in central\n",
      "\tfound io.netty#netty-handler-proxy;4.1.68.Final in central\n",
      "\tfound io.netty#netty-codec-socks;4.1.68.Final in central\n",
      "\tfound io.netty#netty-codec-http;4.1.68.Final in central\n",
      "\tfound io.netty#netty-codec-http2;4.1.68.Final in central\n",
      "\tfound io.netty#netty-transport-native-unix-common;4.1.68.Final in central\n",
      "\tfound io.netty#netty-transport-native-epoll;4.1.68.Final in central\n",
      "\tfound io.netty#netty-transport-native-kqueue;4.1.68.Final in central\n",
      "\tfound io.projectreactor.netty#reactor-netty-http;1.0.11 in central\n",
      "\tfound io.netty#netty-resolver-dns;4.1.68.Final in central\n",
      "\tfound io.netty#netty-codec-dns;4.1.68.Final in central\n",
      "\tfound io.netty#netty-resolver-dns-native-macos;4.1.68.Final in central\n",
      "\tfound io.projectreactor.netty#reactor-netty-core;1.0.11 in central\n",
      "\tfound com.azure#azure-storage-common;12.14.1 in central\n",
      "\tfound com.azure#azure-storage-internal-avro;12.1.2 in central\n",
      "\tfound com.azure#azure-ai-textanalytics;5.1.4 in central\n",
      "\tfound com.microsoft.azure#synapseml-vw_2.12;0.9.5 in central\n",
      "\tfound com.github.vowpalwabbit#vw-jni;8.9.1 in central\n",
      "\tfound com.microsoft.azure#synapseml-lightgbm_2.12;0.9.5 in central\n",
      "\tfound com.microsoft.ml.lightgbm#lightgbmlib;3.2.110 in central\n",
      ":: resolution report :: resolve 10060ms :: artifacts dl 448ms\n",
      "\t:: modules in use:\n",
      "\tcom.azure#azure-ai-textanalytics;5.1.4 from central in [default]\n",
      "\tcom.azure#azure-core;1.22.0 from central in [default]\n",
      "\tcom.azure#azure-core-http-netty;1.11.2 from central in [default]\n",
      "\tcom.azure#azure-storage-blob;12.14.2 from central in [default]\n",
      "\tcom.azure#azure-storage-common;12.14.1 from central in [default]\n",
      "\tcom.azure#azure-storage-internal-avro;12.1.2 from central in [default]\n",
      "\tcom.beust#jcommander;1.27 from central in [default]\n",
      "\tcom.chuusai#shapeless_2.12;2.3.2 from central in [default]\n",
      "\tcom.fasterxml.jackson.core#jackson-annotations;2.12.5 from central in [default]\n",
      "\tcom.fasterxml.jackson.core#jackson-core;2.12.5 from central in [default]\n",
      "\tcom.fasterxml.jackson.core#jackson-databind;2.12.5 from central in [default]\n",
      "\tcom.fasterxml.jackson.dataformat#jackson-dataformat-xml;2.12.5 from central in [default]\n",
      "\tcom.fasterxml.jackson.datatype#jackson-datatype-jsr310;2.12.5 from central in [default]\n",
      "\tcom.fasterxml.jackson.module#jackson-module-jaxb-annotations;2.12.5 from central in [default]\n",
      "\tcom.fasterxml.woodstox#woodstox-core;6.2.4 from central in [default]\n",
      "\tcom.github.vowpalwabbit#vw-jni;8.9.1 from central in [default]\n",
      "\tcom.jcraft#jsch;0.1.54 from central in [default]\n",
      "\tcom.linkedin.isolation-forest#isolation-forest_3.2.0_2.12;2.0.8 from central in [default]\n",
      "\tcom.microsoft.azure#synapseml-cognitive_2.12;0.9.5 from central in [default]\n",
      "\tcom.microsoft.azure#synapseml-core_2.12;0.9.5 from central in [default]\n",
      "\tcom.microsoft.azure#synapseml-deep-learning_2.12;0.9.5 from central in [default]\n",
      "\tcom.microsoft.azure#synapseml-lightgbm_2.12;0.9.5 from central in [default]\n",
      "\tcom.microsoft.azure#synapseml-opencv_2.12;0.9.5 from central in [default]\n",
      "\tcom.microsoft.azure#synapseml-vw_2.12;0.9.5 from central in [default]\n",
      "\tcom.microsoft.azure#synapseml_2.12;0.9.5 from central in [default]\n",
      "\tcom.microsoft.cntk#cntk;2.4 from central in [default]\n",
      "\tcom.microsoft.cognitiveservices.speech#client-jar-sdk;1.14.0 from central in [default]\n",
      "\tcom.microsoft.ml.lightgbm#lightgbmlib;3.2.110 from central in [default]\n",
      "\tcom.microsoft.onnxruntime#onnxruntime_gpu;1.8.1 from central in [default]\n",
      "\tcommons-codec#commons-codec;1.10 from central in [default]\n",
      "\tcommons-logging#commons-logging;1.2 from central in [default]\n",
      "\tio.netty#netty-buffer;4.1.68.Final from central in [default]\n",
      "\tio.netty#netty-codec;4.1.68.Final from central in [default]\n",
      "\tio.netty#netty-codec-dns;4.1.68.Final from central in [default]\n",
      "\tio.netty#netty-codec-http;4.1.68.Final from central in [default]\n",
      "\tio.netty#netty-codec-http2;4.1.68.Final from central in [default]\n",
      "\tio.netty#netty-codec-socks;4.1.68.Final from central in [default]\n",
      "\tio.netty#netty-common;4.1.68.Final from central in [default]\n",
      "\tio.netty#netty-handler;4.1.68.Final from central in [default]\n",
      "\tio.netty#netty-handler-proxy;4.1.68.Final from central in [default]\n",
      "\tio.netty#netty-resolver;4.1.68.Final from central in [default]\n",
      "\tio.netty#netty-resolver-dns;4.1.68.Final from central in [default]\n",
      "\tio.netty#netty-resolver-dns-native-macos;4.1.68.Final from central in [default]\n",
      "\tio.netty#netty-tcnative-boringssl-static;2.0.43.Final from central in [default]\n",
      "\tio.netty#netty-transport;4.1.68.Final from central in [default]\n",
      "\tio.netty#netty-transport-native-epoll;4.1.68.Final from central in [default]\n",
      "\tio.netty#netty-transport-native-kqueue;4.1.68.Final from central in [default]\n",
      "\tio.netty#netty-transport-native-unix-common;4.1.68.Final from central in [default]\n",
      "\tio.projectreactor#reactor-core;3.4.10 from central in [default]\n",
      "\tio.projectreactor.netty#reactor-netty-core;1.0.11 from central in [default]\n",
      "\tio.projectreactor.netty#reactor-netty-http;1.0.11 from central in [default]\n",
      "\tio.spray#spray-json_2.12;1.3.2 from central in [default]\n",
      "\tjakarta.activation#jakarta.activation-api;1.2.1 from central in [default]\n",
      "\tjakarta.xml.bind#jakarta.xml.bind-api;2.3.2 from central in [default]\n",
      "\torg.apache.httpcomponents#httpclient;4.5.6 from central in [default]\n",
      "\torg.apache.httpcomponents#httpcore;4.4.10 from central in [default]\n",
      "\torg.apache.httpcomponents#httpmime;4.5.6 from central in [default]\n",
      "\torg.apache.spark#spark-avro_2.12;3.2.0 from central in [default]\n",
      "\torg.beanshell#bsh;2.0b4 from central in [default]\n",
      "\torg.codehaus.woodstox#stax2-api;4.2.1 from central in [default]\n",
      "\torg.openpnp#opencv;3.2.0-1 from central in [default]\n",
      "\torg.reactivestreams#reactive-streams;1.0.3 from central in [default]\n",
      "\torg.scala-lang#scala-reflect;2.12.4 from central in [default]\n",
      "\torg.scalactic#scalactic_2.12;3.0.5 from central in [default]\n",
      "\torg.slf4j#slf4j-api;1.7.32 from central in [default]\n",
      "\torg.spark-project.spark#unused;1.0.0 from central in [default]\n",
      "\torg.testng#testng;6.8.8 from central in [default]\n",
      "\torg.tukaani#xz;1.8 from central in [default]\n",
      "\torg.typelevel#macro-compat_2.12;1.1.1 from central in [default]\n",
      "\t---------------------------------------------------------------------\n",
      "\t|                  |            modules            ||   artifacts   |\n",
      "\t|       conf       | number| search|dwnlded|evicted|| number|dwnlded|\n",
      "\t---------------------------------------------------------------------\n",
      "\t|      default     |   69  |   0   |   0   |   0   ||   69  |   0   |\n",
      "\t---------------------------------------------------------------------\n",
      ":: retrieving :: org.apache.spark#spark-submit-parent-b31f2b77-6ffc-4150-b063-ef00f04c9f1a\n",
      "\tconfs: [default]\n",
      "\t0 artifacts copied, 69 already retrieved (0kB/95ms)\n",
      "22/05/12 10:51:32 WARN NativeCodeLoader: Unable to load native-hadoop library for your platform... using builtin-java classes where applicable\n",
      "Using Spark's default log4j profile: org/apache/spark/log4j-defaults.properties\n",
      "Setting default log level to \"WARN\".\n",
      "To adjust logging level use sc.setLogLevel(newLevel). For SparkR, use setLogLevel(newLevel).\n"
     ]
    },
    {
     "name": "stdout",
     "output_type": "stream",
     "text": [
      "CPU times: user 530 ms, sys: 82.9 ms, total: 613 ms\n",
      "Wall time: 1min\n"
     ]
    }
   ],
   "source": [
    "%%time\n",
    "spark = SparkSession.builder.appName(\"MyApp\") \\\n",
    "            .config(\"spark.jars.packages\", \"com.microsoft.azure:synapseml_2.12:0.9.5\") \\\n",
    "            .config(\"spark.driver.memory\", \"4g\") \\\n",
    "            .config(\"spark.jars.repositories\", \"https://mmlspark.azureedge.net/maven\") \\\n",
    "            .getOrCreate()\n",
    "\n",
    "import synapse.ml"
   ]
  },
  {
   "cell_type": "markdown",
   "metadata": {},
   "source": [
    "## 0.3 Helper Functions\n",
    "\n"
   ]
  },
  {
   "cell_type": "code",
   "execution_count": 27,
   "metadata": {},
   "outputs": [],
   "source": [
    "import matplotlib.pyplot as plt\n",
    "\n",
    "def jupyter_settings():\n",
    "    %matplotlib inline\n",
    "    # %pylab inline\n",
    "    # plt.style.use( 'bmh' )\n",
    "    # plt.style.use( 'seaborn-notebook' )\n",
    "    plt.style.use( 'ggplot' )\n",
    "    plt.rcParams['figure.figsize'] = [25, 12]\n",
    "    plt.rcParams['font.size'] = 16\n",
    "    plt.rcParams['figure.facecolor'] = 'white'\n",
    "    \n",
    "    # display( HTML( '<style>.container { width:100% !important; }</style>') )\n",
    "    pd.options.display.max_columns = None\n",
    "    pd.options.display.max_rows = None\n",
    "    pd.set_option( 'display.expand_frame_repr', False )\n",
    "    # sns.set()\n",
    "\n",
    "jupyter_settings()\n",
    "\n",
    "def proba_to_pandas(dataframe, prob_col:str, label_col:str):\n",
    "    \"\"\"\n",
    "    Converts a PySpark SQL DataFrame's probability and label columns to a pandas dataframe.\n",
    "    \"\"\"\n",
    "    # convert to pandas df\n",
    "    result = dataframe.select([prob_col, label_col]).toPandas()\n",
    "    \n",
    "    # rename cols\n",
    "    result.columns = ['y_pred', 'y_true']\n",
    "\n",
    "    # select proba of positive class\n",
    "    result['y_pred'] = result['y_pred'].apply(lambda x : x[1])\n",
    "    \n",
    "    return result\n",
    "\n",
    "def describe_stats(dataframe):\n",
    "    \"\"\"\n",
    "    Calculates min, max, mean, std, skewnewss and kurtosis for the given pyspark df\n",
    "    and returns a pandas df with the results.\n",
    "    \"\"\"\n",
    "    import pyspark.sql. functions as funcs\n",
    "    num_cols = [f.name for f in dataframe.schema.fields if isinstance(f.dataType, (DoubleType, IntegerType, FloatType, LongType, ShortType))]\n",
    "\n",
    "    min = []\n",
    "    max = []\n",
    "    mean = []\n",
    "    std = []\n",
    "    skewness = []\n",
    "    kurtosis = []\n",
    "\n",
    "    for col in num_cols:\n",
    "        # evaluates each metric, collect (to execute) and extracts the result to append to lis\n",
    "        min.append( data.agg( funcs.min(col) ).collect()[0][0] )\n",
    "        max.append( data.agg( funcs.max(col) ).collect()[0][0] )\n",
    "        mean.append( data.agg( funcs.mean(col) ).collect()[0][0] )\n",
    "        std.append( data.agg( funcs.stddev(col) ).collect()[0][0] )\n",
    "        skewness.append( data.agg( funcs.skewness(col) ).collect()[0][0] )\n",
    "        kurtosis.append( data.agg( funcs.kurtosis(col) ).collect()[0][0] )\n",
    "\n",
    "    # create a dataframe with results\n",
    "    res = {'min': min, 'max': max, 'mean': mean, 'std': std, 'skewness': skewness, 'kurtosis': kurtosis}\n",
    "    return pd.DataFrame(res, index = num_cols)"
   ]
  },
  {
   "cell_type": "markdown",
   "metadata": {
    "heading_collapsed": true
   },
   "source": [
    "## 0.4 Data Loading"
   ]
  },
  {
   "cell_type": "code",
   "execution_count": 8,
   "metadata": {},
   "outputs": [
    {
     "name": "stderr",
     "output_type": "stream",
     "text": [
      "[Stage 4:=============================>                             (2 + 2) / 4]\r"
     ]
    },
    {
     "name": "stdout",
     "output_type": "stream",
     "text": [
      "CPU times: user 9.99 ms, sys: 7.74 ms, total: 17.7 ms\n",
      "Wall time: 21.9 s\n"
     ]
    },
    {
     "name": "stderr",
     "output_type": "stream",
     "text": [
      "                                                                                \r"
     ]
    }
   ],
   "source": [
    "%%time\n",
    "data = spark.read.csv('../data/raw/fraud.csv', header = True, inferSchema=True) #.cache()"
   ]
  },
  {
   "cell_type": "code",
   "execution_count": 9,
   "metadata": {},
   "outputs": [
    {
     "name": "stdout",
     "output_type": "stream",
     "text": [
      "+----+--------+--------+-----------+-------------+--------------+-----------+--------------+--------------+-------+--------------+\n",
      "|step|    type|  amount|   nameOrig|oldbalanceOrg|newbalanceOrig|   nameDest|oldbalanceDest|newbalanceDest|isFraud|isFlaggedFraud|\n",
      "+----+--------+--------+-----------+-------------+--------------+-----------+--------------+--------------+-------+--------------+\n",
      "|   1| PAYMENT| 9839.64|C1231006815|     170136.0|     160296.36|M1979787155|           0.0|           0.0|      0|             0|\n",
      "|   1| PAYMENT| 1864.28|C1666544295|      21249.0|      19384.72|M2044282225|           0.0|           0.0|      0|             0|\n",
      "|   1|TRANSFER|   181.0|C1305486145|        181.0|           0.0| C553264065|           0.0|           0.0|      1|             0|\n",
      "|   1|CASH_OUT|   181.0| C840083671|        181.0|           0.0|  C38997010|       21182.0|           0.0|      1|             0|\n",
      "|   1| PAYMENT|11668.14|C2048537720|      41554.0|      29885.86|M1230701703|           0.0|           0.0|      0|             0|\n",
      "+----+--------+--------+-----------+-------------+--------------+-----------+--------------+--------------+-------+--------------+\n",
      "only showing top 5 rows\n",
      "\n"
     ]
    }
   ],
   "source": [
    "data.show(5)"
   ]
  },
  {
   "cell_type": "code",
   "execution_count": 8,
   "metadata": {},
   "outputs": [
    {
     "data": {
      "text/plain": [
       "pyspark.sql.dataframe.DataFrame"
      ]
     },
     "execution_count": 8,
     "metadata": {},
     "output_type": "execute_result"
    }
   ],
   "source": [
    "type(data)"
   ]
  },
  {
   "cell_type": "code",
   "execution_count": 9,
   "metadata": {},
   "outputs": [
    {
     "data": {
      "text/plain": [
       "[('step', 'int'),\n",
       " ('type', 'string'),\n",
       " ('amount', 'double'),\n",
       " ('nameOrig', 'string'),\n",
       " ('oldbalanceOrg', 'double'),\n",
       " ('newbalanceOrig', 'double'),\n",
       " ('nameDest', 'string'),\n",
       " ('oldbalanceDest', 'double'),\n",
       " ('newbalanceDest', 'double'),\n",
       " ('isFraud', 'int'),\n",
       " ('isFlaggedFraud', 'int')]"
      ]
     },
     "execution_count": 9,
     "metadata": {},
     "output_type": "execute_result"
    }
   ],
   "source": [
    "data.dtypes"
   ]
  },
  {
   "cell_type": "markdown",
   "metadata": {
    "heading_collapsed": true
   },
   "source": [
    "## 0.5 Columns Description\n",
    "\n"
   ]
  },
  {
   "cell_type": "markdown",
   "metadata": {},
   "source": [
    "**step** - maps a unit of time in the real world. In this case 1 step is 1 hour of time. Total steps 744 (30 days simulation).\n",
    "\n",
    "**type** - CASH-IN, CASH-OUT, DEBIT, PAYMENT and TRANSFER.\n",
    "\n",
    "**amount** -\n",
    "amount of the transaction in local currency.\n",
    "\n",
    "**nameOrig** - customer who started the transaction\n",
    "\n",
    "**oldbalanceOrg** - initial balance before the transaction\n",
    "\n",
    "**newbalanceOrig** - new balance after the transaction\n",
    "\n",
    "**nameDest** - customer who is the recipient of the transaction\n",
    "\n",
    "**oldbalanceDest** - initial balance recipient before the transaction. Note that there is not information for customers that start with M (Merchants).\n",
    "\n",
    "**newbalanceDest** - new balance recipient after the transaction. Note that there is not information for customers that start with M (Merchants).\n",
    "\n",
    "**isFraud** - This is the transactions made by the fraudulent agents inside the simulation. In this specific dataset the fraudulent behavior of the agents aims to profit by taking control or customers accounts and try to empty the funds by transferring to another account and then cashing out of the system.\n",
    "\n",
    "**isFlaggedFraud** - The business model aims to control massive transfers from one account to another and flags illegal attempts. An illegal attempt in this dataset is an attempt to transfer more than 200.000 in a single transaction."
   ]
  },
  {
   "cell_type": "markdown",
   "metadata": {},
   "source": [
    "# 1.0 Data Description\n"
   ]
  },
  {
   "cell_type": "markdown",
   "metadata": {
    "hidden": true
   },
   "source": [
    "## 1.1 Rename Columns"
   ]
  },
  {
   "cell_type": "code",
   "execution_count": 10,
   "metadata": {},
   "outputs": [
    {
     "name": "stdout",
     "output_type": "stream",
     "text": [
      "+----+--------+---------+-----------+---------------+---------------+-----------+----------------+----------------+--------+----------------+\n",
      "|step|    type|   amount|  name_orig|old_balance_org|new_balance_org|  name_dest|old_balance_dest|new_balance_dest|is_fraud|is_flagged_fraud|\n",
      "+----+--------+---------+-----------+---------------+---------------+-----------+----------------+----------------+--------+----------------+\n",
      "|   1| PAYMENT|  9839.64|C1231006815|       170136.0|      160296.36|M1979787155|             0.0|             0.0|       0|               0|\n",
      "|   1| PAYMENT|  1864.28|C1666544295|        21249.0|       19384.72|M2044282225|             0.0|             0.0|       0|               0|\n",
      "|   1|TRANSFER|    181.0|C1305486145|          181.0|            0.0| C553264065|             0.0|             0.0|       1|               0|\n",
      "|   1|CASH_OUT|    181.0| C840083671|          181.0|            0.0|  C38997010|         21182.0|             0.0|       1|               0|\n",
      "|   1| PAYMENT| 11668.14|C2048537720|        41554.0|       29885.86|M1230701703|             0.0|             0.0|       0|               0|\n",
      "|   1| PAYMENT|  7817.71|  C90045638|        53860.0|       46042.29| M573487274|             0.0|             0.0|       0|               0|\n",
      "|   1| PAYMENT|  7107.77| C154988899|       183195.0|      176087.23| M408069119|             0.0|             0.0|       0|               0|\n",
      "|   1| PAYMENT|  7861.64|C1912850431|      176087.23|      168225.59| M633326333|             0.0|             0.0|       0|               0|\n",
      "|   1| PAYMENT|  4024.36|C1265012928|         2671.0|            0.0|M1176932104|             0.0|             0.0|       0|               0|\n",
      "|   1|   DEBIT|  5337.77| C712410124|        41720.0|       36382.23| C195600860|         41898.0|        40348.79|       0|               0|\n",
      "|   1|   DEBIT|  9644.94|C1900366749|         4465.0|            0.0| C997608398|         10845.0|       157982.12|       0|               0|\n",
      "|   1| PAYMENT|  3099.97| C249177573|        20771.0|       17671.03|M2096539129|             0.0|             0.0|       0|               0|\n",
      "|   1| PAYMENT|  2560.74|C1648232591|         5070.0|        2509.26| M972865270|             0.0|             0.0|       0|               0|\n",
      "|   1| PAYMENT| 11633.76|C1716932897|        10127.0|            0.0| M801569151|             0.0|             0.0|       0|               0|\n",
      "|   1| PAYMENT|  4098.78|C1026483832|       503264.0|      499165.22|M1635378213|             0.0|             0.0|       0|               0|\n",
      "|   1|CASH_OUT|229133.94| C905080434|        15325.0|            0.0| C476402209|          5083.0|        51513.44|       0|               0|\n",
      "|   1| PAYMENT|  1563.82| C761750706|          450.0|            0.0|M1731217984|             0.0|             0.0|       0|               0|\n",
      "|   1| PAYMENT|  1157.86|C1237762639|        21156.0|       19998.14|M1877062907|             0.0|             0.0|       0|               0|\n",
      "|   1| PAYMENT|   671.64|C2033524545|        15123.0|       14451.36| M473053293|             0.0|             0.0|       0|               0|\n",
      "|   1|TRANSFER| 215310.3|C1670993182|          705.0|            0.0|C1100439041|         22425.0|             0.0|       0|               0|\n",
      "+----+--------+---------+-----------+---------------+---------------+-----------+----------------+----------------+--------+----------------+\n",
      "only showing top 20 rows\n",
      "\n"
     ]
    }
   ],
   "source": [
    "# new column names\n",
    "cols = ['step',\n",
    " 'type',\n",
    " 'amount',\n",
    " 'name_orig',\n",
    " 'old_balance_org',\n",
    " 'new_balance_org',\n",
    " 'name_dest',\n",
    " 'old_balance_dest',\n",
    " 'new_balance_dest',\n",
    " 'is_fraud',\n",
    " 'is_flagged_fraud']\n",
    "\n",
    "data = data.toDF(*cols)\n",
    "data.show()"
   ]
  },
  {
   "cell_type": "markdown",
   "metadata": {},
   "source": [
    "## 1.2 Data Dimensions"
   ]
  },
  {
   "cell_type": "markdown",
   "metadata": {},
   "source": [
    "## 1.3 Data Types"
   ]
  },
  {
   "cell_type": "markdown",
   "metadata": {},
   "source": [
    "## 1.4 NA Check"
   ]
  },
  {
   "cell_type": "code",
   "execution_count": null,
   "metadata": {},
   "outputs": [
    {
     "ename": "",
     "evalue": "",
     "output_type": "error",
     "traceback": [
      "\u001b[1;31mFailed to start the Kernel. \n",
      "Canceled. \n",
      "View Jupyter <a href='command:jupyter.viewOutput'>log</a> for further details."
     ]
    }
   ],
   "source": [
    "columns = data.columns\n",
    "\n",
    "\n",
    "NAs = {col: data[data[col].isNull()].count() for col in columns }\n",
    "\n",
    "NAs"
   ]
  },
  {
   "cell_type": "markdown",
   "metadata": {},
   "source": [
    "## 1.5 NA Fillout"
   ]
  },
  {
   "cell_type": "markdown",
   "metadata": {},
   "source": [
    "## 1.6 Changing Data Types\n"
   ]
  },
  {
   "cell_type": "code",
   "execution_count": 13,
   "metadata": {},
   "outputs": [
    {
     "name": "stdout",
     "output_type": "stream",
     "text": [
      "root\n",
      " |-- step: integer (nullable = true)\n",
      " |-- type: string (nullable = true)\n",
      " |-- amount: double (nullable = true)\n",
      " |-- name_orig: string (nullable = true)\n",
      " |-- old_balance_org: double (nullable = true)\n",
      " |-- new_balance_org: double (nullable = true)\n",
      " |-- name_dest: string (nullable = true)\n",
      " |-- old_balance_dest: double (nullable = true)\n",
      " |-- new_balance_dest: double (nullable = true)\n",
      " |-- is_fraud: integer (nullable = true)\n",
      " |-- is_flagged_fraud: integer (nullable = true)\n",
      "\n"
     ]
    }
   ],
   "source": [
    "data.printSchema()"
   ]
  },
  {
   "cell_type": "markdown",
   "metadata": {},
   "source": [
    "## 1.7 Descriptive Statistics"
   ]
  },
  {
   "cell_type": "markdown",
   "metadata": {},
   "source": [
    "### 1.7.1 Numerical Attributes"
   ]
  },
  {
   "cell_type": "code",
   "execution_count": null,
   "metadata": {},
   "outputs": [
    {
     "ename": "",
     "evalue": "",
     "output_type": "error",
     "traceback": [
      "\u001b[1;31mFailed to start the Kernel. \n",
      "Canceled. \n",
      "View Jupyter <a href='command:jupyter.viewOutput'>log</a> for further details."
     ]
    }
   ],
   "source": [
    "desc = describe_stats(data)\n",
    "# 8 min to run"
   ]
  },
  {
   "cell_type": "code",
   "execution_count": null,
   "metadata": {},
   "outputs": [
    {
     "ename": "",
     "evalue": "",
     "output_type": "error",
     "traceback": [
      "\u001b[1;31mFailed to start the Kernel. \n",
      "Canceled. \n",
      "View Jupyter <a href='command:jupyter.viewOutput'>log</a> for further details."
     ]
    }
   ],
   "source": [
    "desc.style.format(\"{:,.2f}\")"
   ]
  },
  {
   "cell_type": "code",
   "execution_count": null,
   "metadata": {},
   "outputs": [
    {
     "ename": "",
     "evalue": "",
     "output_type": "error",
     "traceback": [
      "\u001b[1;31mFailed to start the Kernel. \n",
      "Canceled. \n",
      "View Jupyter <a href='command:jupyter.viewOutput'>log</a> for further details."
     ]
    }
   ],
   "source": [
    "desc.style.format(\"{:,.4f}\")"
   ]
  },
  {
   "cell_type": "code",
   "execution_count": null,
   "metadata": {},
   "outputs": [
    {
     "ename": "",
     "evalue": "",
     "output_type": "error",
     "traceback": [
      "\u001b[1;31mFailed to start the Kernel. \n",
      "Canceled. \n",
      "View Jupyter <a href='command:jupyter.viewOutput'>log</a> for further details."
     ]
    }
   ],
   "source": [
    "# frauds = prop.iloc[0,1]\n",
    "# non_frauds = prop.iloc[1,1]\n",
    "\n",
    "# print('fraud percentage: {:.4f}%'.format( 100*frauds/(frauds+non_frauds)))\n"
   ]
  },
  {
   "cell_type": "markdown",
   "metadata": {},
   "source": [
    "### 1.7.2 Categorical Attributes"
   ]
  },
  {
   "cell_type": "markdown",
   "metadata": {
    "heading_collapsed": true
   },
   "source": [
    "# 2.0 Feature Engineering"
   ]
  },
  {
   "cell_type": "markdown",
   "metadata": {},
   "source": [
    "## 2.1 Response Variable Mind Map"
   ]
  },
  {
   "cell_type": "markdown",
   "metadata": {},
   "source": [
    "## 2.2 Hypothesis List"
   ]
  },
  {
   "cell_type": "markdown",
   "metadata": {},
   "source": [
    "## 2.3 Selected Hypothesis:"
   ]
  },
  {
   "cell_type": "markdown",
   "metadata": {},
   "source": [
    "**H1:** \n",
    "\n",
    "**H2:** \n",
    "\n",
    "**H3:** \n",
    "\n",
    "**H4:** \n",
    "\n",
    "**H5:** \n",
    "\n",
    "**H6:** \n",
    "\n",
    "**H7:** \n",
    "\n",
    "**H8:** \n",
    "\n",
    "**H9:** \n",
    "\n",
    "**H10:** \n",
    "\n",
    "**H11:** "
   ]
  },
  {
   "cell_type": "markdown",
   "metadata": {},
   "source": [
    "## 2.4 Feature Engineering"
   ]
  },
  {
   "cell_type": "markdown",
   "metadata": {},
   "source": [
    "### 2.4.1 datetime"
   ]
  },
  {
   "cell_type": "code",
   "execution_count": 11,
   "metadata": {},
   "outputs": [
    {
     "name": "stdout",
     "output_type": "stream",
     "text": [
      "+----+\n",
      "|hour|\n",
      "+----+\n",
      "| 1.0|\n",
      "| 1.0|\n",
      "| 1.0|\n",
      "| 1.0|\n",
      "| 1.0|\n",
      "+----+\n",
      "only showing top 5 rows\n",
      "\n"
     ]
    }
   ],
   "source": [
    "data = data.withColumn(\"hour\", data['step']%24.0)\n",
    "data.select(['hour']).show(5)"
   ]
  },
  {
   "cell_type": "markdown",
   "metadata": {},
   "source": [
    "### 2.4.2 delta percentage of balance"
   ]
  },
  {
   "cell_type": "code",
   "execution_count": 12,
   "metadata": {},
   "outputs": [],
   "source": [
    "data = data.withColumn('delta_balance_org', (data['new_balance_org'] - data['old_balance_org'])/data['old_balance_org'] )\n",
    "data = data.withColumn('delta_balance_dest', (data['new_balance_dest'] - data['old_balance_dest'])/data['old_balance_dest'] )"
   ]
  },
  {
   "cell_type": "code",
   "execution_count": 13,
   "metadata": {},
   "outputs": [
    {
     "name": "stdout",
     "output_type": "stream",
     "text": [
      "+--------------------+--------------------+\n",
      "|   delta_balance_org|  delta_balance_dest|\n",
      "+--------------------+--------------------+\n",
      "|-0.05783396811962...|                null|\n",
      "|-0.08773495223304621|                null|\n",
      "|                -1.0|                null|\n",
      "|                -1.0|                -1.0|\n",
      "|-0.28079462867593974|                null|\n",
      "|-0.14514871890085404|                null|\n",
      "|-0.03879893010180403|                null|\n",
      "|-0.04464628127775088|                null|\n",
      "|                -1.0|                null|\n",
      "|-0.12794271332694143|-0.03697575063248...|\n",
      "|                -1.0|  13.567277086214846|\n",
      "|-0.14924510134321897|                null|\n",
      "|  -0.505076923076923|                null|\n",
      "|                -1.0|                null|\n",
      "|-0.00814439339988...|                null|\n",
      "|                -1.0|   9.134456029903602|\n",
      "|                -1.0|                null|\n",
      "|-0.05472962752883345|                null|\n",
      "|-0.04441182305098191|                null|\n",
      "|                -1.0|                -1.0|\n",
      "+--------------------+--------------------+\n",
      "only showing top 20 rows\n",
      "\n"
     ]
    }
   ],
   "source": [
    "data['delta_balance_org', 'delta_balance_dest'].show()"
   ]
  },
  {
   "cell_type": "markdown",
   "metadata": {},
   "source": [
    "### 2.4.3 Nº of transactions done with customer"
   ]
  },
  {
   "cell_type": "code",
   "execution_count": 14,
   "metadata": {},
   "outputs": [],
   "source": [
    "# data[['name_orig']].distinct().count()\n",
    "\n",
    "# it wont be possible to count the amount of transactions a customer has done with the destination customer\n",
    "# since we have almost only unique customers"
   ]
  },
  {
   "cell_type": "markdown",
   "metadata": {},
   "source": [
    "### Type"
   ]
  },
  {
   "cell_type": "code",
   "execution_count": 10,
   "metadata": {},
   "outputs": [],
   "source": [
    "# data[ data['type'] == 'CASH_IN' ].show(5)\n",
    "# data[ (data['type'] == 'CASH_IN') & (data['isFraud'] == 1) ].show(5)\n",
    "\n",
    "# data[ data['isFraud'] == 1 ]\n",
    "# data.filter(data.isFraud == 1).select('type').distinct().show() # frauds only happened on transfer and cash out\n",
    "\n",
    "# data.filter(data.isFraud == 1).select('nameDest').distinct().count() # \n"
   ]
  },
  {
   "cell_type": "markdown",
   "metadata": {
    "heading_collapsed": true
   },
   "source": [
    "# 3.0 Variable Selection"
   ]
  },
  {
   "cell_type": "code",
   "execution_count": 14,
   "metadata": {},
   "outputs": [
    {
     "data": {
      "text/plain": [
       "[('step', 'int'),\n",
       " ('type', 'string'),\n",
       " ('amount', 'double'),\n",
       " ('name_orig', 'string'),\n",
       " ('old_balance_org', 'double'),\n",
       " ('new_balance_org', 'double'),\n",
       " ('name_dest', 'string'),\n",
       " ('old_balance_dest', 'double'),\n",
       " ('new_balance_dest', 'double'),\n",
       " ('is_fraud', 'int'),\n",
       " ('is_flagged_fraud', 'int')]"
      ]
     },
     "execution_count": 14,
     "metadata": {},
     "output_type": "execute_result"
    }
   ],
   "source": [
    "# numerical variables\n",
    "\n",
    "data.dtypes"
   ]
  },
  {
   "cell_type": "code",
   "execution_count": 14,
   "metadata": {},
   "outputs": [],
   "source": [
    "# Selecting cols and transformers to apply RF\n",
    "\n",
    "# #('step', 'int'), use later\n",
    "# ('type', 'string'), # OHE\n",
    "# ('amount', 'double'), \n",
    "# # ('nameOrig', 'string'),\n",
    "# ('oldbalanceOrg', 'double'),\n",
    "# ('newbalanceOrig', 'double'),\n",
    "# # ('nameDest', 'string'),\n",
    "# ('oldbalanceDest', 'double'),\n",
    "# ('newbalanceDest', 'double'),\n",
    "# ('isFraud', 'int'),\n",
    "# # ('isFlaggedFraud', 'int')\n",
    "\n",
    "num_cols = ['amount','old_balance_org','new_balance_org','old_balance_dest','new_balance_dest', 'is_flagged_fraud', 'hour','delta_balance_org','delta_balance_dest']\n",
    "cat_cols = ['type']"
   ]
  },
  {
   "cell_type": "markdown",
   "metadata": {
    "heading_collapsed": true
   },
   "source": [
    "# 4.0 Exploratory Data Analysis"
   ]
  },
  {
   "cell_type": "markdown",
   "metadata": {
    "heading_collapsed": true,
    "hidden": true
   },
   "source": [
    "## 4.1 Univariate Analysis"
   ]
  },
  {
   "cell_type": "markdown",
   "metadata": {
    "hidden": true
   },
   "source": [
    "### 4.1.1 Response Variable"
   ]
  },
  {
   "cell_type": "markdown",
   "metadata": {
    "hidden": true
   },
   "source": [
    "### 4.1.2 Numerical Variables"
   ]
  },
  {
   "cell_type": "markdown",
   "metadata": {
    "hidden": true
   },
   "source": [
    "### 4.1.3 Categorical Variables"
   ]
  },
  {
   "cell_type": "markdown",
   "metadata": {
    "hidden": true
   },
   "source": [
    "## 4.2 Bivariate Analysis"
   ]
  },
  {
   "cell_type": "markdown",
   "metadata": {},
   "source": [
    "### **H1.**"
   ]
  },
  {
   "cell_type": "markdown",
   "metadata": {},
   "source": [
    "### **H2.**\n"
   ]
  },
  {
   "cell_type": "markdown",
   "metadata": {},
   "source": [
    "### **H3.**"
   ]
  },
  {
   "cell_type": "markdown",
   "metadata": {},
   "source": [
    "### **H4.**"
   ]
  },
  {
   "cell_type": "markdown",
   "metadata": {},
   "source": [
    "### **H5.**"
   ]
  },
  {
   "cell_type": "markdown",
   "metadata": {},
   "source": [
    "### **H6.**"
   ]
  },
  {
   "cell_type": "markdown",
   "metadata": {},
   "source": [
    "### **H7.**"
   ]
  },
  {
   "cell_type": "markdown",
   "metadata": {},
   "source": [
    "### **H8.**"
   ]
  },
  {
   "cell_type": "markdown",
   "metadata": {},
   "source": [
    "### **H9.**"
   ]
  },
  {
   "cell_type": "markdown",
   "metadata": {},
   "source": [
    "### **H10.**"
   ]
  },
  {
   "cell_type": "markdown",
   "metadata": {
    "hidden": true
   },
   "source": [
    "## 4.3 Multivariate Analysis"
   ]
  },
  {
   "cell_type": "markdown",
   "metadata": {
    "hidden": true
   },
   "source": [
    "### 4.3.1 Numerical Attributes"
   ]
  },
  {
   "cell_type": "markdown",
   "metadata": {
    "hidden": true
   },
   "source": [
    "### 4.3.2 Categorical Attributes"
   ]
  },
  {
   "cell_type": "markdown",
   "metadata": {
    "heading_collapsed": true
   },
   "source": [
    "# 5.0 Data Preparation"
   ]
  },
  {
   "cell_type": "code",
   "execution_count": 13,
   "metadata": {},
   "outputs": [
    {
     "data": {
      "text/html": [
       "<div>\n",
       "<style scoped>\n",
       "    .dataframe tbody tr th:only-of-type {\n",
       "        vertical-align: middle;\n",
       "    }\n",
       "\n",
       "    .dataframe tbody tr th {\n",
       "        vertical-align: top;\n",
       "    }\n",
       "\n",
       "    .dataframe thead th {\n",
       "        text-align: right;\n",
       "    }\n",
       "</style>\n",
       "<table border=\"1\" class=\"dataframe\">\n",
       "  <thead>\n",
       "    <tr style=\"text-align: right;\">\n",
       "      <th></th>\n",
       "      <th>step</th>\n",
       "      <th>type</th>\n",
       "      <th>amount</th>\n",
       "      <th>name_orig</th>\n",
       "      <th>old_balance_org</th>\n",
       "      <th>new_balance_org</th>\n",
       "      <th>name_dest</th>\n",
       "      <th>old_balance_dest</th>\n",
       "      <th>new_balance_dest</th>\n",
       "      <th>is_fraud</th>\n",
       "      <th>is_flagged_fraud</th>\n",
       "      <th>hour</th>\n",
       "      <th>delta_balance_org</th>\n",
       "      <th>delta_balance_dest</th>\n",
       "    </tr>\n",
       "  </thead>\n",
       "  <tbody>\n",
       "    <tr>\n",
       "      <th>0</th>\n",
       "      <td>1</td>\n",
       "      <td>PAYMENT</td>\n",
       "      <td>9839.64</td>\n",
       "      <td>C1231006815</td>\n",
       "      <td>170136.0</td>\n",
       "      <td>160296.36</td>\n",
       "      <td>M1979787155</td>\n",
       "      <td>0.0</td>\n",
       "      <td>0.0</td>\n",
       "      <td>0</td>\n",
       "      <td>0</td>\n",
       "      <td>1.0</td>\n",
       "      <td>-0.057834</td>\n",
       "      <td>NaN</td>\n",
       "    </tr>\n",
       "    <tr>\n",
       "      <th>1</th>\n",
       "      <td>1</td>\n",
       "      <td>PAYMENT</td>\n",
       "      <td>1864.28</td>\n",
       "      <td>C1666544295</td>\n",
       "      <td>21249.0</td>\n",
       "      <td>19384.72</td>\n",
       "      <td>M2044282225</td>\n",
       "      <td>0.0</td>\n",
       "      <td>0.0</td>\n",
       "      <td>0</td>\n",
       "      <td>0</td>\n",
       "      <td>1.0</td>\n",
       "      <td>-0.087735</td>\n",
       "      <td>NaN</td>\n",
       "    </tr>\n",
       "    <tr>\n",
       "      <th>2</th>\n",
       "      <td>1</td>\n",
       "      <td>TRANSFER</td>\n",
       "      <td>181.00</td>\n",
       "      <td>C1305486145</td>\n",
       "      <td>181.0</td>\n",
       "      <td>0.00</td>\n",
       "      <td>C553264065</td>\n",
       "      <td>0.0</td>\n",
       "      <td>0.0</td>\n",
       "      <td>1</td>\n",
       "      <td>0</td>\n",
       "      <td>1.0</td>\n",
       "      <td>-1.000000</td>\n",
       "      <td>NaN</td>\n",
       "    </tr>\n",
       "    <tr>\n",
       "      <th>3</th>\n",
       "      <td>1</td>\n",
       "      <td>CASH_OUT</td>\n",
       "      <td>181.00</td>\n",
       "      <td>C840083671</td>\n",
       "      <td>181.0</td>\n",
       "      <td>0.00</td>\n",
       "      <td>C38997010</td>\n",
       "      <td>21182.0</td>\n",
       "      <td>0.0</td>\n",
       "      <td>1</td>\n",
       "      <td>0</td>\n",
       "      <td>1.0</td>\n",
       "      <td>-1.000000</td>\n",
       "      <td>-1.0</td>\n",
       "    </tr>\n",
       "    <tr>\n",
       "      <th>4</th>\n",
       "      <td>1</td>\n",
       "      <td>PAYMENT</td>\n",
       "      <td>11668.14</td>\n",
       "      <td>C2048537720</td>\n",
       "      <td>41554.0</td>\n",
       "      <td>29885.86</td>\n",
       "      <td>M1230701703</td>\n",
       "      <td>0.0</td>\n",
       "      <td>0.0</td>\n",
       "      <td>0</td>\n",
       "      <td>0</td>\n",
       "      <td>1.0</td>\n",
       "      <td>-0.280795</td>\n",
       "      <td>NaN</td>\n",
       "    </tr>\n",
       "  </tbody>\n",
       "</table>\n",
       "</div>"
      ],
      "text/plain": [
       "   step      type    amount    name_orig  old_balance_org  new_balance_org    name_dest  old_balance_dest  new_balance_dest  is_fraud  is_flagged_fraud  hour  delta_balance_org  delta_balance_dest\n",
       "0     1   PAYMENT   9839.64  C1231006815         170136.0        160296.36  M1979787155               0.0               0.0         0                 0   1.0          -0.057834                 NaN\n",
       "1     1   PAYMENT   1864.28  C1666544295          21249.0         19384.72  M2044282225               0.0               0.0         0                 0   1.0          -0.087735                 NaN\n",
       "2     1  TRANSFER    181.00  C1305486145            181.0             0.00   C553264065               0.0               0.0         1                 0   1.0          -1.000000                 NaN\n",
       "3     1  CASH_OUT    181.00   C840083671            181.0             0.00    C38997010           21182.0               0.0         1                 0   1.0          -1.000000                -1.0\n",
       "4     1   PAYMENT  11668.14  C2048537720          41554.0         29885.86  M1230701703               0.0               0.0         0                 0   1.0          -0.280795                 NaN"
      ]
     },
     "execution_count": 13,
     "metadata": {},
     "output_type": "execute_result"
    }
   ],
   "source": [
    "data.limit(5).toPandas()"
   ]
  },
  {
   "cell_type": "markdown",
   "metadata": {},
   "source": [
    "## 5.1 Data Preparation"
   ]
  },
  {
   "cell_type": "code",
   "execution_count": 15,
   "metadata": {},
   "outputs": [
    {
     "data": {
      "text/html": [
       "<div>\n",
       "<style scoped>\n",
       "    .dataframe tbody tr th:only-of-type {\n",
       "        vertical-align: middle;\n",
       "    }\n",
       "\n",
       "    .dataframe tbody tr th {\n",
       "        vertical-align: top;\n",
       "    }\n",
       "\n",
       "    .dataframe thead th {\n",
       "        text-align: right;\n",
       "    }\n",
       "</style>\n",
       "<table border=\"1\" class=\"dataframe\">\n",
       "  <thead>\n",
       "    <tr style=\"text-align: right;\">\n",
       "      <th></th>\n",
       "      <th>step</th>\n",
       "      <th>type</th>\n",
       "      <th>amount</th>\n",
       "      <th>name_orig</th>\n",
       "      <th>old_balance_org</th>\n",
       "      <th>new_balance_org</th>\n",
       "      <th>name_dest</th>\n",
       "      <th>old_balance_dest</th>\n",
       "      <th>new_balance_dest</th>\n",
       "      <th>is_fraud</th>\n",
       "      <th>is_flagged_fraud</th>\n",
       "      <th>hour</th>\n",
       "      <th>delta_balance_org</th>\n",
       "      <th>delta_balance_dest</th>\n",
       "    </tr>\n",
       "  </thead>\n",
       "  <tbody>\n",
       "    <tr>\n",
       "      <th>0</th>\n",
       "      <td>1</td>\n",
       "      <td>PAYMENT</td>\n",
       "      <td>9839.64</td>\n",
       "      <td>C1231006815</td>\n",
       "      <td>170136.0</td>\n",
       "      <td>160296.36</td>\n",
       "      <td>M1979787155</td>\n",
       "      <td>0.0</td>\n",
       "      <td>0.0</td>\n",
       "      <td>0</td>\n",
       "      <td>0</td>\n",
       "      <td>1.0</td>\n",
       "      <td>-0.057834</td>\n",
       "      <td>0.0</td>\n",
       "    </tr>\n",
       "    <tr>\n",
       "      <th>1</th>\n",
       "      <td>1</td>\n",
       "      <td>PAYMENT</td>\n",
       "      <td>1864.28</td>\n",
       "      <td>C1666544295</td>\n",
       "      <td>21249.0</td>\n",
       "      <td>19384.72</td>\n",
       "      <td>M2044282225</td>\n",
       "      <td>0.0</td>\n",
       "      <td>0.0</td>\n",
       "      <td>0</td>\n",
       "      <td>0</td>\n",
       "      <td>1.0</td>\n",
       "      <td>-0.087735</td>\n",
       "      <td>0.0</td>\n",
       "    </tr>\n",
       "    <tr>\n",
       "      <th>2</th>\n",
       "      <td>1</td>\n",
       "      <td>TRANSFER</td>\n",
       "      <td>181.00</td>\n",
       "      <td>C1305486145</td>\n",
       "      <td>181.0</td>\n",
       "      <td>0.00</td>\n",
       "      <td>C553264065</td>\n",
       "      <td>0.0</td>\n",
       "      <td>0.0</td>\n",
       "      <td>1</td>\n",
       "      <td>0</td>\n",
       "      <td>1.0</td>\n",
       "      <td>-1.000000</td>\n",
       "      <td>0.0</td>\n",
       "    </tr>\n",
       "    <tr>\n",
       "      <th>3</th>\n",
       "      <td>1</td>\n",
       "      <td>CASH_OUT</td>\n",
       "      <td>181.00</td>\n",
       "      <td>C840083671</td>\n",
       "      <td>181.0</td>\n",
       "      <td>0.00</td>\n",
       "      <td>C38997010</td>\n",
       "      <td>21182.0</td>\n",
       "      <td>0.0</td>\n",
       "      <td>1</td>\n",
       "      <td>0</td>\n",
       "      <td>1.0</td>\n",
       "      <td>-1.000000</td>\n",
       "      <td>-1.0</td>\n",
       "    </tr>\n",
       "    <tr>\n",
       "      <th>4</th>\n",
       "      <td>1</td>\n",
       "      <td>PAYMENT</td>\n",
       "      <td>11668.14</td>\n",
       "      <td>C2048537720</td>\n",
       "      <td>41554.0</td>\n",
       "      <td>29885.86</td>\n",
       "      <td>M1230701703</td>\n",
       "      <td>0.0</td>\n",
       "      <td>0.0</td>\n",
       "      <td>0</td>\n",
       "      <td>0</td>\n",
       "      <td>1.0</td>\n",
       "      <td>-0.280795</td>\n",
       "      <td>0.0</td>\n",
       "    </tr>\n",
       "  </tbody>\n",
       "</table>\n",
       "</div>"
      ],
      "text/plain": [
       "   step      type    amount    name_orig  old_balance_org  new_balance_org  \\\n",
       "0     1   PAYMENT   9839.64  C1231006815         170136.0        160296.36   \n",
       "1     1   PAYMENT   1864.28  C1666544295          21249.0         19384.72   \n",
       "2     1  TRANSFER    181.00  C1305486145            181.0             0.00   \n",
       "3     1  CASH_OUT    181.00   C840083671            181.0             0.00   \n",
       "4     1   PAYMENT  11668.14  C2048537720          41554.0         29885.86   \n",
       "\n",
       "     name_dest  old_balance_dest  new_balance_dest  is_fraud  \\\n",
       "0  M1979787155               0.0               0.0         0   \n",
       "1  M2044282225               0.0               0.0         0   \n",
       "2   C553264065               0.0               0.0         1   \n",
       "3    C38997010           21182.0               0.0         1   \n",
       "4  M1230701703               0.0               0.0         0   \n",
       "\n",
       "   is_flagged_fraud  hour  delta_balance_org  delta_balance_dest  \n",
       "0                 0   1.0          -0.057834                 0.0  \n",
       "1                 0   1.0          -0.087735                 0.0  \n",
       "2                 0   1.0          -1.000000                 0.0  \n",
       "3                 0   1.0          -1.000000                -1.0  \n",
       "4                 0   1.0          -0.280795                 0.0  "
      ]
     },
     "execution_count": 15,
     "metadata": {},
     "output_type": "execute_result"
    }
   ],
   "source": [
    "data = data.fillna(0)\n",
    "data.limit(5).toPandas()"
   ]
  },
  {
   "cell_type": "code",
   "execution_count": 16,
   "metadata": {},
   "outputs": [
    {
     "name": "stderr",
     "output_type": "stream",
     "text": [
      "                                                                                \r"
     ]
    }
   ],
   "source": [
    "# preprocessing\n",
    "selected_cols = num_cols + ['type_ohe']\n",
    "\n",
    "# type category to idx\n",
    "string_indx = StringIndexer(inputCols=['type'], outputCols=['type_idx'])\n",
    "\n",
    "# ohe of type category idx\n",
    "ohe = OneHotEncoder(inputCols=['type_idx'], outputCols=['type_ohe'])\n",
    "\n",
    "# join everything with untransformed numeric values\n",
    "vec_asm = VectorAssembler(inputCols= selected_cols, outputCol='features')\n",
    "\n",
    "prep_pipe = Pipeline(stages=[string_indx, ohe, vec_asm ])\n",
    "\n",
    "# defining preprocessor \n",
    "processed_data = prep_pipe.fit(data).transform(data)"
   ]
  },
  {
   "cell_type": "markdown",
   "metadata": {},
   "source": [
    "## 5.2 Train Test Split"
   ]
  },
  {
   "cell_type": "code",
   "execution_count": 20,
   "metadata": {},
   "outputs": [
    {
     "data": {
      "text/plain": [
       "DataFrame[step: int, type: string, amount: double, name_orig: string, old_balance_org: double, new_balance_org: double, name_dest: string, old_balance_dest: double, new_balance_dest: double, is_fraud: int, is_flagged_fraud: int, hour: double, delta_balance_org: double, delta_balance_dest: double, type_idx: double, type_ohe: vector, features: vector]"
      ]
     },
     "execution_count": 20,
     "metadata": {},
     "output_type": "execute_result"
    }
   ],
   "source": [
    "# train test split yielding 80% 20% split, stratified on response variable\n",
    "data.unpersist()\n",
    "\n",
    "train = processed_data.sampleBy( col='is_fraud', fractions = {0:0.8, 1:0.8}, seed = 42 ).cache()\n",
    "test = processed_data.exceptAll(train).cache()\n",
    "\n",
    "processed_data.unpersist()"
   ]
  },
  {
   "cell_type": "markdown",
   "metadata": {},
   "source": [
    "## 5.3 One hot encoding"
   ]
  },
  {
   "cell_type": "code",
   "execution_count": 13,
   "metadata": {},
   "outputs": [],
   "source": [
    "selected_cols = num_cols + ['type_ohe']\n",
    "\n",
    "# type category to idx\n",
    "string_indx = StringIndexer(inputCols=['type'], outputCols=['type_idx'])\n",
    "\n",
    "# ohe of type category idx\n",
    "ohe = OneHotEncoder(inputCols=['type_idx'], outputCols=['type_ohe'])\n",
    "\n",
    "# join everything with untransformed numeric values\n",
    "vec_asm = VectorAssembler(inputCols= selected_cols, outputCol='features')"
   ]
  },
  {
   "cell_type": "markdown",
   "metadata": {},
   "source": [
    "## 5.4 All steps"
   ]
  },
  {
   "cell_type": "code",
   "execution_count": 4,
   "metadata": {},
   "outputs": [
    {
     "name": "stderr",
     "output_type": "stream",
     "text": [
      "                                                                                \r"
     ]
    },
    {
     "name": "stdout",
     "output_type": "stream",
     "text": [
      "CPU times: user 84.9 ms, sys: 19.5 ms, total: 104 ms\n",
      "Wall time: 47.8 s\n"
     ]
    }
   ],
   "source": [
    "%%time\n",
    "data = spark.read.csv('../data/raw/fraud.csv', header = True, inferSchema=True) #.cache()\n",
    "\n",
    "# new column names\n",
    "cols = ['step',\n",
    " 'type',\n",
    " 'amount',\n",
    " 'name_orig',\n",
    " 'old_balance_org',\n",
    " 'new_balance_org',\n",
    " 'name_dest',\n",
    " 'old_balance_dest',\n",
    " 'new_balance_dest',\n",
    " 'is_fraud',\n",
    " 'is_flagged_fraud']\n",
    "data = data.toDF(*cols)\n",
    "\n",
    "# creating features\n",
    "data = data.withColumn(\"hour\", data['step']%24.0)\n",
    "data = data.withColumn('delta_balance_org', (data['new_balance_org'] - data['old_balance_org'])/data['old_balance_org'] )\n",
    "data = data.withColumn('delta_balance_dest', (data['new_balance_dest'] - data['old_balance_dest'])/data['old_balance_dest'] )\n",
    "\n",
    "# Selecting cols and transformers to apply RF\n",
    "num_cols = ['amount','old_balance_org','new_balance_org','old_balance_dest','new_balance_dest', 'is_flagged_fraud', 'hour','delta_balance_org','delta_balance_dest']\n",
    "cat_cols = ['type']\n",
    "data = data.fillna(0)\n",
    "\n",
    "# preprocessing\n",
    "selected_cols = num_cols + ['type_ohe']\n",
    "\n",
    "# type category to idx\n",
    "string_indx = StringIndexer(inputCols=['type'], outputCols=['type_idx'])\n",
    "\n",
    "# ohe of type category idx\n",
    "ohe = OneHotEncoder(inputCols=['type_idx'], outputCols=['type_ohe'])\n",
    "\n",
    "# join everything with untransformed numeric values\n",
    "vec_asm = VectorAssembler(inputCols= selected_cols, outputCol='features')\n",
    "\n",
    "prep_pipe = Pipeline(stages=[string_indx, ohe, vec_asm ])\n",
    "\n",
    "data = prep_pipe.fit(data).transform(data)"
   ]
  },
  {
   "cell_type": "code",
   "execution_count": 5,
   "metadata": {},
   "outputs": [
    {
     "data": {
      "text/plain": [
       "True"
      ]
     },
     "execution_count": 5,
     "metadata": {},
     "output_type": "execute_result"
    }
   ],
   "source": [
    "data.cache()\n",
    "data.is_cached"
   ]
  },
  {
   "cell_type": "code",
   "execution_count": 6,
   "metadata": {},
   "outputs": [
    {
     "data": {
      "text/plain": [
       "DataFrame[step: int, type: string, amount: double, name_orig: string, old_balance_org: double, new_balance_org: double, name_dest: string, old_balance_dest: double, new_balance_dest: double, is_fraud: int, is_flagged_fraud: int, hour: double, delta_balance_org: double, delta_balance_dest: double, type_idx: double, type_ohe: vector, features: vector]"
      ]
     },
     "execution_count": 6,
     "metadata": {},
     "output_type": "execute_result"
    }
   ],
   "source": [
    "# splitting 60% 20% 20% train-validation-test\n",
    "\n",
    "train = data.sampleBy(col='is_fraud', fractions={0:0.6, 1:0.6}, seed = 42)\n",
    "validation = data.exceptAll(train)\n",
    "test = validation.sampleBy(col='is_fraud', fractions={0:0.5, 1:0.5}, seed = 42)\n",
    "validation = validation.exceptAll(test)\n",
    "\n",
    "data.unpersist()"
   ]
  },
  {
   "cell_type": "code",
   "execution_count": 10,
   "metadata": {},
   "outputs": [
    {
     "name": "stderr",
     "output_type": "stream",
     "text": [
      "[Stage 10:>                                                         (0 + 1) / 1]\r"
     ]
    },
    {
     "name": "stdout",
     "output_type": "stream",
     "text": [
      "+----+-------+--------+-----------+---------------+---------------+-----------+----------------+----------------+--------+----------------+----+--------------------+------------------+--------+-------------+--------------------+\n",
      "|step|   type|  amount|  name_orig|old_balance_org|new_balance_org|  name_dest|old_balance_dest|new_balance_dest|is_fraud|is_flagged_fraud|hour|   delta_balance_org|delta_balance_dest|type_idx|     type_ohe|            features|\n",
      "+----+-------+--------+-----------+---------------+---------------+-----------+----------------+----------------+--------+----------------+----+--------------------+------------------+--------+-------------+--------------------+\n",
      "|   1|PAYMENT| 2270.41|C1690050988|       60640.12|       58369.71|M1228798862|             0.0|             0.0|       0|               0| 1.0|-0.03744072406189176|               0.0|     1.0|(4,[1],[1.0])|(13,[0,1,2,6,7,10...|\n",
      "|   1|PAYMENT| 5055.39| C807986446|        50818.0|       45762.61|M1432403167|             0.0|             0.0|       0|               0| 1.0|-0.09948030225510644|               0.0|     1.0|(4,[1],[1.0])|(13,[0,1,2,6,7,10...|\n",
      "|   1|PAYMENT|15640.06| C185164978|            0.0|            0.0|M1223144402|             0.0|             0.0|       0|               0| 1.0|                 0.0|               0.0|     1.0|(4,[1],[1.0])|(13,[0,6,10],[156...|\n",
      "|   2|PAYMENT|18864.22| C383392444|            0.0|            0.0|M1730062079|             0.0|             0.0|       0|               0| 2.0|                 0.0|               0.0|     1.0|(4,[1],[1.0])|(13,[0,6,10],[188...|\n",
      "|   2|PAYMENT|28118.46| C393549265|            0.0|            0.0|M1392482765|             0.0|             0.0|       0|               0| 2.0|                 0.0|               0.0|     1.0|(4,[1],[1.0])|(13,[0,6,10],[281...|\n",
      "+----+-------+--------+-----------+---------------+---------------+-----------+----------------+----------------+--------+----------------+----+--------------------+------------------+--------+-------------+--------------------+\n",
      "only showing top 5 rows\n",
      "\n"
     ]
    },
    {
     "name": "stderr",
     "output_type": "stream",
     "text": [
      "                                                                                \r"
     ]
    }
   ],
   "source": [
    "validation.show(5)"
   ]
  },
  {
   "cell_type": "code",
   "execution_count": 11,
   "metadata": {},
   "outputs": [
    {
     "name": "stderr",
     "output_type": "stream",
     "text": [
      "[Stage 13:>                                                         (0 + 1) / 1]\r"
     ]
    },
    {
     "name": "stdout",
     "output_type": "stream",
     "text": [
      "+----+--------+--------+-----------+---------------+---------------+----------+----------------+----------------+--------+----------------+----+-----------------+------------------+--------+-------------+--------------------+\n",
      "|step|    type|  amount|  name_orig|old_balance_org|new_balance_org| name_dest|old_balance_dest|new_balance_dest|is_fraud|is_flagged_fraud|hour|delta_balance_org|delta_balance_dest|type_idx|     type_ohe|            features|\n",
      "+----+--------+--------+-----------+---------------+---------------+----------+----------------+----------------+--------+----------------+----+-----------------+------------------+--------+-------------+--------------------+\n",
      "|   1|TRANSFER|605790.2|C1466558382|            0.0|            0.0|C401424608|       804174.27|      1178808.14|       0|               0| 1.0|              0.0|0.4658615476468799|     3.0|(4,[3],[1.0])|(13,[0,3,4,6,8,12...|\n",
      "+----+--------+--------+-----------+---------------+---------------+----------+----------------+----------------+--------+----------------+----+-----------------+------------------+--------+-------------+--------------------+\n",
      "only showing top 1 row\n",
      "\n"
     ]
    },
    {
     "name": "stderr",
     "output_type": "stream",
     "text": [
      "                                                                                \r"
     ]
    }
   ],
   "source": [
    "test.show(1)"
   ]
  },
  {
   "cell_type": "code",
   "execution_count": 13,
   "metadata": {},
   "outputs": [
    {
     "name": "stderr",
     "output_type": "stream",
     "text": [
      "22/05/12 10:41:44 WARN CacheManager: Asked to cache already cached data.\n"
     ]
    },
    {
     "data": {
      "text/plain": [
       "DataFrame[step: int, type: string, amount: double, name_orig: string, old_balance_org: double, new_balance_org: double, name_dest: string, old_balance_dest: double, new_balance_dest: double, is_fraud: int, is_flagged_fraud: int, hour: double, delta_balance_org: double, delta_balance_dest: double, type_idx: double, type_ohe: vector, features: vector]"
      ]
     },
     "execution_count": 13,
     "metadata": {},
     "output_type": "execute_result"
    }
   ],
   "source": [
    "train.cache()\n",
    "validation.cache()\n",
    "test.cache()"
   ]
  },
  {
   "cell_type": "code",
   "execution_count": 4,
   "metadata": {},
   "outputs": [
    {
     "data": {
      "text/plain": [
       "DataFrame[step: int, type: string, amount: double, name_orig: string, old_balance_org: double, new_balance_org: double, name_dest: string, old_balance_dest: double, new_balance_dest: double, is_fraud: int, is_flagged_fraud: int, hour: double, delta_balance_org: double, delta_balance_dest: double, type_idx: double, type_ohe: vector, features: vector]"
      ]
     },
     "execution_count": 4,
     "metadata": {},
     "output_type": "execute_result"
    }
   ],
   "source": [
    "# spliting\n",
    "\n",
    "train = data.sampleBy( col='is_fraud', fractions = {0:0.8, 1:0.8}, seed = 42 )\n",
    "test = data.exceptAll(train)\n",
    "\n",
    "data.unpersist()"
   ]
  },
  {
   "cell_type": "markdown",
   "metadata": {
    "heading_collapsed": true
   },
   "source": [
    "# 6.0 Cross Validation\n"
   ]
  },
  {
   "cell_type": "markdown",
   "metadata": {
    "hidden": true
   },
   "source": [
    "## 6.1 Transforming train and test and Saving data locally"
   ]
  },
  {
   "cell_type": "code",
   "execution_count": 14,
   "metadata": {},
   "outputs": [
    {
     "name": "stderr",
     "output_type": "stream",
     "text": [
      "                                                                                \r"
     ]
    },
    {
     "data": {
      "text/html": [
       "<div>\n",
       "<style scoped>\n",
       "    .dataframe tbody tr th:only-of-type {\n",
       "        vertical-align: middle;\n",
       "    }\n",
       "\n",
       "    .dataframe tbody tr th {\n",
       "        vertical-align: top;\n",
       "    }\n",
       "\n",
       "    .dataframe thead th {\n",
       "        text-align: right;\n",
       "    }\n",
       "</style>\n",
       "<table border=\"1\" class=\"dataframe\">\n",
       "  <thead>\n",
       "    <tr style=\"text-align: right;\">\n",
       "      <th></th>\n",
       "      <th>step</th>\n",
       "      <th>type</th>\n",
       "      <th>amount</th>\n",
       "      <th>name_orig</th>\n",
       "      <th>old_balance_org</th>\n",
       "      <th>new_balance_org</th>\n",
       "      <th>name_dest</th>\n",
       "      <th>old_balance_dest</th>\n",
       "      <th>new_balance_dest</th>\n",
       "      <th>is_fraud</th>\n",
       "      <th>is_flagged_fraud</th>\n",
       "      <th>hour</th>\n",
       "      <th>delta_balance_org</th>\n",
       "      <th>delta_balance_dest</th>\n",
       "    </tr>\n",
       "  </thead>\n",
       "  <tbody>\n",
       "    <tr>\n",
       "      <th>0</th>\n",
       "      <td>1</td>\n",
       "      <td>PAYMENT</td>\n",
       "      <td>9839.64</td>\n",
       "      <td>C1231006815</td>\n",
       "      <td>170136.0</td>\n",
       "      <td>160296.36</td>\n",
       "      <td>M1979787155</td>\n",
       "      <td>0.0</td>\n",
       "      <td>0.0</td>\n",
       "      <td>0</td>\n",
       "      <td>0</td>\n",
       "      <td>1.0</td>\n",
       "      <td>-0.057834</td>\n",
       "      <td>0.0</td>\n",
       "    </tr>\n",
       "    <tr>\n",
       "      <th>1</th>\n",
       "      <td>1</td>\n",
       "      <td>PAYMENT</td>\n",
       "      <td>1864.28</td>\n",
       "      <td>C1666544295</td>\n",
       "      <td>21249.0</td>\n",
       "      <td>19384.72</td>\n",
       "      <td>M2044282225</td>\n",
       "      <td>0.0</td>\n",
       "      <td>0.0</td>\n",
       "      <td>0</td>\n",
       "      <td>0</td>\n",
       "      <td>1.0</td>\n",
       "      <td>-0.087735</td>\n",
       "      <td>0.0</td>\n",
       "    </tr>\n",
       "    <tr>\n",
       "      <th>2</th>\n",
       "      <td>1</td>\n",
       "      <td>CASH_OUT</td>\n",
       "      <td>181.00</td>\n",
       "      <td>C840083671</td>\n",
       "      <td>181.0</td>\n",
       "      <td>0.00</td>\n",
       "      <td>C38997010</td>\n",
       "      <td>21182.0</td>\n",
       "      <td>0.0</td>\n",
       "      <td>1</td>\n",
       "      <td>0</td>\n",
       "      <td>1.0</td>\n",
       "      <td>-1.000000</td>\n",
       "      <td>-1.0</td>\n",
       "    </tr>\n",
       "    <tr>\n",
       "      <th>3</th>\n",
       "      <td>1</td>\n",
       "      <td>PAYMENT</td>\n",
       "      <td>11668.14</td>\n",
       "      <td>C2048537720</td>\n",
       "      <td>41554.0</td>\n",
       "      <td>29885.86</td>\n",
       "      <td>M1230701703</td>\n",
       "      <td>0.0</td>\n",
       "      <td>0.0</td>\n",
       "      <td>0</td>\n",
       "      <td>0</td>\n",
       "      <td>1.0</td>\n",
       "      <td>-0.280795</td>\n",
       "      <td>0.0</td>\n",
       "    </tr>\n",
       "    <tr>\n",
       "      <th>4</th>\n",
       "      <td>1</td>\n",
       "      <td>PAYMENT</td>\n",
       "      <td>7817.71</td>\n",
       "      <td>C90045638</td>\n",
       "      <td>53860.0</td>\n",
       "      <td>46042.29</td>\n",
       "      <td>M573487274</td>\n",
       "      <td>0.0</td>\n",
       "      <td>0.0</td>\n",
       "      <td>0</td>\n",
       "      <td>0</td>\n",
       "      <td>1.0</td>\n",
       "      <td>-0.145149</td>\n",
       "      <td>0.0</td>\n",
       "    </tr>\n",
       "  </tbody>\n",
       "</table>\n",
       "</div>"
      ],
      "text/plain": [
       "   step      type    amount    name_orig  old_balance_org  new_balance_org    name_dest  old_balance_dest  new_balance_dest  is_fraud  is_flagged_fraud  hour  delta_balance_org  delta_balance_dest\n",
       "0     1   PAYMENT   9839.64  C1231006815         170136.0        160296.36  M1979787155               0.0               0.0         0                 0   1.0          -0.057834                 0.0\n",
       "1     1   PAYMENT   1864.28  C1666544295          21249.0         19384.72  M2044282225               0.0               0.0         0                 0   1.0          -0.087735                 0.0\n",
       "2     1  CASH_OUT    181.00   C840083671            181.0             0.00    C38997010           21182.0               0.0         1                 0   1.0          -1.000000                -1.0\n",
       "3     1   PAYMENT  11668.14  C2048537720          41554.0         29885.86  M1230701703               0.0               0.0         0                 0   1.0          -0.280795                 0.0\n",
       "4     1   PAYMENT   7817.71    C90045638          53860.0         46042.29   M573487274               0.0               0.0         0                 0   1.0          -0.145149                 0.0"
      ]
     },
     "execution_count": 14,
     "metadata": {},
     "output_type": "execute_result"
    }
   ],
   "source": [
    "train.limit(5).toPandas()"
   ]
  },
  {
   "cell_type": "code",
   "execution_count": 15,
   "metadata": {},
   "outputs": [
    {
     "name": "stderr",
     "output_type": "stream",
     "text": [
      "22/04/29 11:30:02 WARN MemoryStore: Not enough space to cache rdd_34_3 in memory! (computed 102.6 MiB so far)\n",
      "22/04/29 11:30:02 WARN BlockManager: Persisting block rdd_34_3 to disk instead.\n",
      "22/04/29 11:30:02 WARN MemoryStore: Not enough space to cache rdd_34_1 in memory! (computed 102.6 MiB so far)\n",
      "22/04/29 11:30:02 WARN BlockManager: Persisting block rdd_34_1 to disk instead.\n",
      "22/04/29 11:30:03 WARN MemoryStore: Not enough space to cache rdd_34_2 in memory! (computed 102.6 MiB so far)\n",
      "22/04/29 11:30:03 WARN BlockManager: Persisting block rdd_34_2 to disk instead.\n",
      "22/04/29 11:30:10 WARN MemoryStore: Not enough space to cache rdd_34_2 in memory! (computed 102.6 MiB so far)\n",
      "                                                                                \r"
     ]
    }
   ],
   "source": [
    "# defining preprocessing pipeline\n",
    "prep_pipe = Pipeline(stages=[string_indx, ohe, vec_asm ])\n",
    "\n",
    "# defining preprocessor \n",
    "preprocessor = prep_pipe.fit(train)\n",
    "\n",
    "# processing train\n",
    "train_processed = preprocessor.transform(train)\n",
    "\n",
    "# processing test\n",
    "test_processed = preprocessor.transform(test)"
   ]
  },
  {
   "cell_type": "code",
   "execution_count": 16,
   "metadata": {},
   "outputs": [],
   "source": [
    "train_processed = train_processed.select('features')\n",
    "test_processed = test_processed.select('features')\n"
   ]
  },
  {
   "cell_type": "code",
   "execution_count": 17,
   "metadata": {},
   "outputs": [
    {
     "data": {
      "text/plain": [
       "DataFrame[step: int, type: string, amount: double, name_orig: string, old_balance_org: double, new_balance_org: double, name_dest: string, old_balance_dest: double, new_balance_dest: double, is_fraud: int, is_flagged_fraud: int, hour: double, delta_balance_org: double, delta_balance_dest: double]"
      ]
     },
     "execution_count": 17,
     "metadata": {},
     "output_type": "execute_result"
    }
   ],
   "source": [
    "train.unpersist()\n",
    "test.unpersist()"
   ]
  },
  {
   "cell_type": "code",
   "execution_count": 18,
   "metadata": {},
   "outputs": [],
   "source": [
    "del train, test, data"
   ]
  },
  {
   "cell_type": "code",
   "execution_count": 22,
   "metadata": {},
   "outputs": [
    {
     "name": "stderr",
     "output_type": "stream",
     "text": [
      "22/04/29 10:38:04 WARN MemoryStore: Not enough space to cache rdd_13_1 in memory! (computed 76.7 MiB so far)\n",
      "                                                                                \r"
     ]
    }
   ],
   "source": [
    "# saving processed data to parquet\n",
    "path_processed = '../data/processed/'\n",
    "\n",
    "train_processed.select('features').write.save(path=path_processed+'train_processed.parquet', mode = 'overwrite')"
   ]
  },
  {
   "cell_type": "code",
   "execution_count": 19,
   "metadata": {},
   "outputs": [
    {
     "name": "stderr",
     "output_type": "stream",
     "text": [
      "22/04/29 11:30:26 WARN RowBasedKeyValueBatch: Calling spill() on RowBasedKeyValueBatch. Will not spill but return 0.\n",
      "22/04/29 11:30:26 WARN RowBasedKeyValueBatch: Calling spill() on RowBasedKeyValueBatch. Will not spill but return 0.\n",
      "22/04/29 11:30:27 WARN RowBasedKeyValueBatch: Calling spill() on RowBasedKeyValueBatch. Will not spill but return 0.\n",
      "22/04/29 11:30:27 WARN RowBasedKeyValueBatch: Calling spill() on RowBasedKeyValueBatch. Will not spill but return 0.\n",
      "22/04/29 11:30:28 WARN RowBasedKeyValueBatch: Calling spill() on RowBasedKeyValueBatch. Will not spill but return 0.\n",
      "22/04/29 11:30:28 WARN RowBasedKeyValueBatch: Calling spill() on RowBasedKeyValueBatch. Will not spill but return 0.\n",
      "22/04/29 11:30:28 WARN RowBasedKeyValueBatch: Calling spill() on RowBasedKeyValueBatch. Will not spill but return 0.\n",
      "22/04/29 11:30:28 WARN RowBasedKeyValueBatch: Calling spill() on RowBasedKeyValueBatch. Will not spill but return 0.\n",
      "22/04/29 11:30:39 WARN RowBasedKeyValueBatch: Calling spill() on RowBasedKeyValueBatch. Will not spill but return 0.\n",
      "22/04/29 11:30:40 WARN RowBasedKeyValueBatch: Calling spill() on RowBasedKeyValueBatch. Will not spill but return 0.\n",
      "22/04/29 11:30:40 WARN RowBasedKeyValueBatch: Calling spill() on RowBasedKeyValueBatch. Will not spill but return 0.\n",
      "22/04/29 11:30:40 WARN RowBasedKeyValueBatch: Calling spill() on RowBasedKeyValueBatch. Will not spill but return 0.\n",
      "22/04/29 11:30:40 WARN RowBasedKeyValueBatch: Calling spill() on RowBasedKeyValueBatch. Will not spill but return 0.\n",
      "22/04/29 11:30:40 WARN RowBasedKeyValueBatch: Calling spill() on RowBasedKeyValueBatch. Will not spill but return 0.\n",
      "22/04/29 11:30:42 WARN RowBasedKeyValueBatch: Calling spill() on RowBasedKeyValueBatch. Will not spill but return 0.\n",
      "22/04/29 11:30:42 WARN RowBasedKeyValueBatch: Calling spill() on RowBasedKeyValueBatch. Will not spill but return 0.\n",
      "22/04/29 11:30:51 WARN RowBasedKeyValueBatch: Calling spill() on RowBasedKeyValueBatch. Will not spill but return 0.\n",
      "22/04/29 11:30:51 WARN RowBasedKeyValueBatch: Calling spill() on RowBasedKeyValueBatch. Will not spill but return 0.\n",
      "22/04/29 11:30:52 WARN RowBasedKeyValueBatch: Calling spill() on RowBasedKeyValueBatch. Will not spill but return 0.\n",
      "22/04/29 11:30:52 WARN RowBasedKeyValueBatch: Calling spill() on RowBasedKeyValueBatch. Will not spill but return 0.\n",
      "22/04/29 11:30:53 WARN RowBasedKeyValueBatch: Calling spill() on RowBasedKeyValueBatch. Will not spill but return 0.\n",
      "22/04/29 11:30:53 WARN RowBasedKeyValueBatch: Calling spill() on RowBasedKeyValueBatch. Will not spill but return 0.\n",
      "22/04/29 11:30:53 WARN RowBasedKeyValueBatch: Calling spill() on RowBasedKeyValueBatch. Will not spill but return 0.\n",
      "22/04/29 11:30:53 WARN RowBasedKeyValueBatch: Calling spill() on RowBasedKeyValueBatch. Will not spill but return 0.\n",
      "22/04/29 11:31:29 WARN RowBasedKeyValueBatch: Calling spill() on RowBasedKeyValueBatch. Will not spill but return 0.\n",
      "22/04/29 11:31:30 WARN RowBasedKeyValueBatch: Calling spill() on RowBasedKeyValueBatch. Will not spill but return 0.\n",
      "22/04/29 11:31:30 WARN RowBasedKeyValueBatch: Calling spill() on RowBasedKeyValueBatch. Will not spill but return 0.\n",
      "22/04/29 11:31:30 WARN RowBasedKeyValueBatch: Calling spill() on RowBasedKeyValueBatch. Will not spill but return 0.\n",
      "22/04/29 11:31:30 WARN RowBasedKeyValueBatch: Calling spill() on RowBasedKeyValueBatch. Will not spill but return 0.\n",
      "22/04/29 11:31:30 WARN RowBasedKeyValueBatch: Calling spill() on RowBasedKeyValueBatch. Will not spill but return 0.\n",
      "22/04/29 11:31:30 WARN RowBasedKeyValueBatch: Calling spill() on RowBasedKeyValueBatch. Will not spill but return 0.\n",
      "22/04/29 11:31:30 WARN RowBasedKeyValueBatch: Calling spill() on RowBasedKeyValueBatch. Will not spill but return 0.\n",
      "22/04/29 11:31:43 WARN RowBasedKeyValueBatch: Calling spill() on RowBasedKeyValueBatch. Will not spill but return 0.\n",
      "22/04/29 11:31:43 WARN RowBasedKeyValueBatch: Calling spill() on RowBasedKeyValueBatch. Will not spill but return 0.\n",
      "22/04/29 11:31:43 WARN RowBasedKeyValueBatch: Calling spill() on RowBasedKeyValueBatch. Will not spill but return 0.\n",
      "22/04/29 11:31:43 WARN RowBasedKeyValueBatch: Calling spill() on RowBasedKeyValueBatch. Will not spill but return 0.\n",
      "22/04/29 11:31:43 WARN RowBasedKeyValueBatch: Calling spill() on RowBasedKeyValueBatch. Will not spill but return 0.\n",
      "22/04/29 11:31:44 WARN RowBasedKeyValueBatch: Calling spill() on RowBasedKeyValueBatch. Will not spill but return 0.\n",
      "22/04/29 11:31:44 WARN RowBasedKeyValueBatch: Calling spill() on RowBasedKeyValueBatch. Will not spill but return 0.\n",
      "22/04/29 11:31:44 WARN RowBasedKeyValueBatch: Calling spill() on RowBasedKeyValueBatch. Will not spill but return 0.\n",
      "[Stage 13:>                                                         (0 + 1) / 1]\r"
     ]
    },
    {
     "name": "stdout",
     "output_type": "stream",
     "text": [
      "+--------------------+\n",
      "|            features|\n",
      "+--------------------+\n",
      "|[106634.77,974295...|\n",
      "|(13,[0,1,3,4,6,7,...|\n",
      "|(13,[0,1,2,6,7,10...|\n",
      "|[198303.64,562860...|\n",
      "|(13,[0,1,6,7,10],...|\n",
      "|(13,[0,3,4,6,8,9]...|\n",
      "|(13,[0,1,2,6,7,10...|\n",
      "|(13,[0,1,6,7,10],...|\n",
      "|(13,[0,3,4,6,8,12...|\n",
      "|(13,[0,3,4,6,8,9]...|\n",
      "|[105342.59,480172...|\n",
      "|(13,[0,1,2,6,7,10...|\n",
      "|[372942.88,19900....|\n",
      "|(13,[0,3,6,8,9],[...|\n",
      "|(13,[0,6,10],[879...|\n",
      "|(13,[0,6,10],[229...|\n",
      "|(13,[0,1,2,6,7,10...|\n",
      "|(13,[0,3,4,6,8,9]...|\n",
      "|(13,[0,1,2,6,7,10...|\n",
      "|[154882.93,1.3508...|\n",
      "+--------------------+\n",
      "only showing top 20 rows\n",
      "\n"
     ]
    },
    {
     "name": "stderr",
     "output_type": "stream",
     "text": [
      "                                                                                \r"
     ]
    }
   ],
   "source": [
    "test_processed.show()"
   ]
  },
  {
   "cell_type": "code",
   "execution_count": 21,
   "metadata": {},
   "outputs": [
    {
     "name": "stderr",
     "output_type": "stream",
     "text": [
      "22/04/29 11:33:07 WARN RowBasedKeyValueBatch: Calling spill() on RowBasedKeyValueBatch. Will not spill but return 0.\n",
      "22/04/29 11:33:07 WARN RowBasedKeyValueBatch: Calling spill() on RowBasedKeyValueBatch. Will not spill but return 0.\n",
      "22/04/29 11:33:08 WARN RowBasedKeyValueBatch: Calling spill() on RowBasedKeyValueBatch. Will not spill but return 0.\n",
      "22/04/29 11:33:08 WARN RowBasedKeyValueBatch: Calling spill() on RowBasedKeyValueBatch. Will not spill but return 0.\n",
      "22/04/29 11:33:08 WARN RowBasedKeyValueBatch: Calling spill() on RowBasedKeyValueBatch. Will not spill but return 0.\n",
      "22/04/29 11:33:08 WARN RowBasedKeyValueBatch: Calling spill() on RowBasedKeyValueBatch. Will not spill but return 0.\n",
      "22/04/29 11:33:10 WARN RowBasedKeyValueBatch: Calling spill() on RowBasedKeyValueBatch. Will not spill but return 0.\n",
      "22/04/29 11:33:10 WARN RowBasedKeyValueBatch: Calling spill() on RowBasedKeyValueBatch. Will not spill but return 0.\n",
      "22/04/29 11:33:21 WARN RowBasedKeyValueBatch: Calling spill() on RowBasedKeyValueBatch. Will not spill but return 0.\n",
      "22/04/29 11:33:21 WARN RowBasedKeyValueBatch: Calling spill() on RowBasedKeyValueBatch. Will not spill but return 0.\n",
      "22/04/29 11:33:22 WARN RowBasedKeyValueBatch: Calling spill() on RowBasedKeyValueBatch. Will not spill but return 0.\n",
      "22/04/29 11:33:22 WARN RowBasedKeyValueBatch: Calling spill() on RowBasedKeyValueBatch. Will not spill but return 0.\n",
      "22/04/29 11:33:23 WARN RowBasedKeyValueBatch: Calling spill() on RowBasedKeyValueBatch. Will not spill but return 0.\n",
      "22/04/29 11:33:23 WARN RowBasedKeyValueBatch: Calling spill() on RowBasedKeyValueBatch. Will not spill but return 0.\n",
      "22/04/29 11:33:24 WARN RowBasedKeyValueBatch: Calling spill() on RowBasedKeyValueBatch. Will not spill but return 0.\n",
      "22/04/29 11:33:24 WARN RowBasedKeyValueBatch: Calling spill() on RowBasedKeyValueBatch. Will not spill but return 0.\n",
      "22/04/29 11:33:49 WARN RowBasedKeyValueBatch: Calling spill() on RowBasedKeyValueBatch. Will not spill but return 0.\n",
      "22/04/29 11:33:49 WARN RowBasedKeyValueBatch: Calling spill() on RowBasedKeyValueBatch. Will not spill but return 0.\n",
      "22/04/29 11:33:50 WARN RowBasedKeyValueBatch: Calling spill() on RowBasedKeyValueBatch. Will not spill but return 0.\n",
      "22/04/29 11:33:51 WARN RowBasedKeyValueBatch: Calling spill() on RowBasedKeyValueBatch. Will not spill but return 0.\n",
      "22/04/29 11:33:54 WARN RowBasedKeyValueBatch: Calling spill() on RowBasedKeyValueBatch. Will not spill but return 0.\n",
      "22/04/29 11:33:54 WARN RowBasedKeyValueBatch: Calling spill() on RowBasedKeyValueBatch. Will not spill but return 0.\n",
      "22/04/29 11:33:55 WARN RowBasedKeyValueBatch: Calling spill() on RowBasedKeyValueBatch. Will not spill but return 0.\n",
      "22/04/29 11:33:55 WARN RowBasedKeyValueBatch: Calling spill() on RowBasedKeyValueBatch. Will not spill but return 0.\n",
      "22/04/29 11:34:02 WARN RowBasedKeyValueBatch: Calling spill() on RowBasedKeyValueBatch. Will not spill but return 0.\n",
      "22/04/29 11:34:02 WARN RowBasedKeyValueBatch: Calling spill() on RowBasedKeyValueBatch. Will not spill but return 0.\n",
      "22/04/29 11:34:03 WARN RowBasedKeyValueBatch: Calling spill() on RowBasedKeyValueBatch. Will not spill but return 0.\n",
      "22/04/29 11:34:03 WARN RowBasedKeyValueBatch: Calling spill() on RowBasedKeyValueBatch. Will not spill but return 0.\n",
      "22/04/29 11:34:09 WARN RowBasedKeyValueBatch: Calling spill() on RowBasedKeyValueBatch. Will not spill but return 0.\n",
      "22/04/29 11:34:09 WARN RowBasedKeyValueBatch: Calling spill() on RowBasedKeyValueBatch. Will not spill but return 0.\n",
      "22/04/29 11:34:10 WARN RowBasedKeyValueBatch: Calling spill() on RowBasedKeyValueBatch. Will not spill but return 0.\n",
      "22/04/29 11:34:10 WARN RowBasedKeyValueBatch: Calling spill() on RowBasedKeyValueBatch. Will not spill but return 0.\n",
      "22/04/29 11:34:31 WARN RowBasedKeyValueBatch: Calling spill() on RowBasedKeyValueBatch. Will not spill but return 0.\n",
      "22/04/29 11:34:31 WARN RowBasedKeyValueBatch: Calling spill() on RowBasedKeyValueBatch. Will not spill but return 0.\n",
      "22/04/29 11:34:33 WARN RowBasedKeyValueBatch: Calling spill() on RowBasedKeyValueBatch. Will not spill but return 0.\n",
      "22/04/29 11:34:33 WARN RowBasedKeyValueBatch: Calling spill() on RowBasedKeyValueBatch. Will not spill but return 0.\n",
      "22/04/29 11:34:38 WARN RowBasedKeyValueBatch: Calling spill() on RowBasedKeyValueBatch. Will not spill but return 0.\n",
      "22/04/29 11:34:38 WARN RowBasedKeyValueBatch: Calling spill() on RowBasedKeyValueBatch. Will not spill but return 0.\n",
      "22/04/29 11:34:40 WARN RowBasedKeyValueBatch: Calling spill() on RowBasedKeyValueBatch. Will not spill but return 0.\n",
      "22/04/29 11:34:40 WARN RowBasedKeyValueBatch: Calling spill() on RowBasedKeyValueBatch. Will not spill but return 0.\n",
      "22/04/29 11:34:42 WARN RowBasedKeyValueBatch: Calling spill() on RowBasedKeyValueBatch. Will not spill but return 0.\n",
      "22/04/29 11:34:42 WARN RowBasedKeyValueBatch: Calling spill() on RowBasedKeyValueBatch. Will not spill but return 0.\n",
      "22/04/29 11:34:46 WARN RowBasedKeyValueBatch: Calling spill() on RowBasedKeyValueBatch. Will not spill but return 0.\n",
      "22/04/29 11:34:46 WARN RowBasedKeyValueBatch: Calling spill() on RowBasedKeyValueBatch. Will not spill but return 0.\n",
      "22/04/29 11:34:49 WARN RowBasedKeyValueBatch: Calling spill() on RowBasedKeyValueBatch. Will not spill but return 0.\n",
      "22/04/29 11:34:50 WARN RowBasedKeyValueBatch: Calling spill() on RowBasedKeyValueBatch. Will not spill but return 0.\n",
      "22/04/29 11:34:54 WARN RowBasedKeyValueBatch: Calling spill() on RowBasedKeyValueBatch. Will not spill but return 0.\n",
      "22/04/29 11:34:54 WARN RowBasedKeyValueBatch: Calling spill() on RowBasedKeyValueBatch. Will not spill but return 0.\n",
      "22/04/29 11:34:54 WARN RowBasedKeyValueBatch: Calling spill() on RowBasedKeyValueBatch. Will not spill but return 0.\n",
      "22/04/29 11:34:54 WARN RowBasedKeyValueBatch: Calling spill() on RowBasedKeyValueBatch. Will not spill but return 0.\n",
      "22/04/29 11:34:58 WARN RowBasedKeyValueBatch: Calling spill() on RowBasedKeyValueBatch. Will not spill but return 0.\n",
      "22/04/29 11:34:58 WARN RowBasedKeyValueBatch: Calling spill() on RowBasedKeyValueBatch. Will not spill but return 0.\n",
      "22/04/29 11:35:02 WARN RowBasedKeyValueBatch: Calling spill() on RowBasedKeyValueBatch. Will not spill but return 0.\n",
      "22/04/29 11:35:22 WARN RowBasedKeyValueBatch: Calling spill() on RowBasedKeyValueBatch. Will not spill but return 0.\n",
      "22/04/29 11:35:22 WARN RowBasedKeyValueBatch: Calling spill() on RowBasedKeyValueBatch. Will not spill but return 0.\n",
      "22/04/29 11:35:27 WARN RowBasedKeyValueBatch: Calling spill() on RowBasedKeyValueBatch. Will not spill but return 0.\n",
      "22/04/29 11:35:27 WARN RowBasedKeyValueBatch: Calling spill() on RowBasedKeyValueBatch. Will not spill but return 0.\n",
      "22/04/29 11:35:30 WARN RowBasedKeyValueBatch: Calling spill() on RowBasedKeyValueBatch. Will not spill but return 0.\n",
      "22/04/29 11:35:30 WARN RowBasedKeyValueBatch: Calling spill() on RowBasedKeyValueBatch. Will not spill but return 0.\n",
      "22/04/29 11:35:33 WARN RowBasedKeyValueBatch: Calling spill() on RowBasedKeyValueBatch. Will not spill but return 0.\n",
      "22/04/29 11:35:33 WARN RowBasedKeyValueBatch: Calling spill() on RowBasedKeyValueBatch. Will not spill but return 0.\n",
      "22/04/29 11:35:37 WARN RowBasedKeyValueBatch: Calling spill() on RowBasedKeyValueBatch. Will not spill but return 0.\n",
      "22/04/29 11:35:37 WARN RowBasedKeyValueBatch: Calling spill() on RowBasedKeyValueBatch. Will not spill but return 0.\n",
      "22/04/29 11:35:39 WARN RowBasedKeyValueBatch: Calling spill() on RowBasedKeyValueBatch. Will not spill but return 0.\n",
      "22/04/29 11:35:39 WARN RowBasedKeyValueBatch: Calling spill() on RowBasedKeyValueBatch. Will not spill but return 0.\n",
      "22/04/29 11:35:43 WARN RowBasedKeyValueBatch: Calling spill() on RowBasedKeyValueBatch. Will not spill but return 0.\n",
      "22/04/29 11:35:43 WARN RowBasedKeyValueBatch: Calling spill() on RowBasedKeyValueBatch. Will not spill but return 0.\n",
      "22/04/29 11:35:46 WARN RowBasedKeyValueBatch: Calling spill() on RowBasedKeyValueBatch. Will not spill but return 0.\n",
      "22/04/29 11:35:46 WARN RowBasedKeyValueBatch: Calling spill() on RowBasedKeyValueBatch. Will not spill but return 0.\n",
      "                                                                                \r"
     ]
    }
   ],
   "source": [
    "path_processed = '../data/processed/'\n",
    "\n",
    "test_processed.write.save(path = path_processed + 'test_processed.parquet', mode = 'overwrite')"
   ]
  },
  {
   "cell_type": "code",
   "execution_count": 3,
   "metadata": {},
   "outputs": [
    {
     "name": "stderr",
     "output_type": "stream",
     "text": [
      "                                                                                \r"
     ]
    }
   ],
   "source": [
    "# reading df\n",
    "\n",
    "path_processed = '../data/processed/'\n",
    "\n",
    "train_processed = spark.read.parquet('../data/processed/train_processed.parquet')\n",
    "test_processed = spark.read.parquet('../data/processed/test_processed.parquet')"
   ]
  },
  {
   "cell_type": "code",
   "execution_count": 4,
   "metadata": {},
   "outputs": [
    {
     "name": "stderr",
     "output_type": "stream",
     "text": [
      "[Stage 2:>                                                          (0 + 1) / 1]\r"
     ]
    },
    {
     "name": "stdout",
     "output_type": "stream",
     "text": [
      "+--------------------+\n",
      "|            features|\n",
      "+--------------------+\n",
      "|(13,[0,1,6,7,10],...|\n",
      "|(13,[0,1,2,6,7,10...|\n",
      "|[106174.75,10563....|\n",
      "|(13,[0,6,10],[134...|\n",
      "|(13,[0,1,6,7,10],...|\n",
      "+--------------------+\n",
      "only showing top 5 rows\n",
      "\n"
     ]
    },
    {
     "name": "stderr",
     "output_type": "stream",
     "text": [
      "                                                                                \r"
     ]
    }
   ],
   "source": [
    "test_processed.show(5)"
   ]
  },
  {
   "cell_type": "code",
   "execution_count": 22,
   "metadata": {},
   "outputs": [],
   "source": [
    "# executing and verifying split results\n",
    "\n",
    "# train.groupBy('isFraud').count().show()"
   ]
  },
  {
   "cell_type": "code",
   "execution_count": 23,
   "metadata": {},
   "outputs": [],
   "source": [
    "# test.groupBy('isFraud').count().show()"
   ]
  },
  {
   "cell_type": "code",
   "execution_count": 25,
   "metadata": {},
   "outputs": [],
   "source": [
    "spark.catalog.clearCache()"
   ]
  },
  {
   "cell_type": "markdown",
   "metadata": {
    "hidden": true
   },
   "source": [
    "## 6.2 Creating a Stratified K-fold cross validator"
   ]
  },
  {
   "cell_type": "code",
   "execution_count": null,
   "metadata": {},
   "outputs": [],
   "source": [
    "# Plan create a stratified cross val with 3 folds using pyspark and test if results are varying compared to train test split\n",
    "\n",
    "# # k fold\n",
    "# n_folds = 3\n",
    "# train\n",
    "# validation\n",
    "\n",
    "# create 3 stratified folds, use 1 as validation and the remaining as training\n",
    "# measure area under pr curve for each of them and calculate the mean"
   ]
  },
  {
   "cell_type": "code",
   "execution_count": 8,
   "metadata": {},
   "outputs": [],
   "source": [
    "sample_col = 'is_fraud'\n",
    "frac = 1.0/3.0\n",
    "d0 = train.sampleBy(col = sample_col, fractions={0: frac, 1: frac}, seed = 42)\n",
    "d_res = train.exceptAll(d0)\n",
    "\n",
    "frac = 1.0/2.0\n",
    "d1 = d_res.sampleBy(col = sample_col, fractions={0: frac, 1:frac}, seed = 42)\n",
    "d2 = d_res.exceptAll(d1)"
   ]
  },
  {
   "cell_type": "code",
   "execution_count": 9,
   "metadata": {},
   "outputs": [],
   "source": [
    "val_df = d0\n",
    "train_df = d1.unionAll(d2)"
   ]
  },
  {
   "cell_type": "code",
   "execution_count": 10,
   "metadata": {},
   "outputs": [],
   "source": [
    "rf = RandomForestClassifier(featuresCol='features', labelCol='is_fraud', seed=42, numTrees=10)"
   ]
  },
  {
   "cell_type": "code",
   "execution_count": 11,
   "metadata": {},
   "outputs": [
    {
     "name": "stderr",
     "output_type": "stream",
     "text": [
      "[Stage 56:=====================================================>  (48 + 2) / 50]\r"
     ]
    }
   ],
   "source": [
    "rf_model_0 = rf.fit(train_df)\n",
    "res_0 = rf_model_0.transform(val_df)"
   ]
  },
  {
   "cell_type": "code",
   "execution_count": 13,
   "metadata": {},
   "outputs": [
    {
     "name": "stdout",
     "output_type": "stream",
     "text": [
      "+----+--------+---------+-----------+---------------+---------------+-----------+----------------+----------------+--------+----------------+----+--------------------+-------------------+--------+-------------+--------------------+--------------------+--------------------+----------+\n",
      "|step|    type|   amount|  name_orig|old_balance_org|new_balance_org|  name_dest|old_balance_dest|new_balance_dest|is_fraud|is_flagged_fraud|hour|   delta_balance_org| delta_balance_dest|type_idx|     type_ohe|            features|       rawPrediction|         probability|prediction|\n",
      "+----+--------+---------+-----------+---------------+---------------+-----------+----------------+----------------+--------+----------------+----+--------------------+-------------------+--------+-------------+--------------------+--------------------+--------------------+----------+\n",
      "|   1| PAYMENT| 11668.14|C2048537720|        41554.0|       29885.86|M1230701703|             0.0|             0.0|       0|               0| 1.0|-0.28079462867593974|                0.0|     1.0|(4,[1],[1.0])|(13,[0,1,2,6,7,10...|[9.97157515231770...|[0.99715751523177...|       0.0|\n",
      "|   1|   DEBIT|  9644.94|C1900366749|         4465.0|            0.0| C997608398|         10845.0|       157982.12|       0|               0| 1.0|                -1.0| 13.567277086214846|     4.0|    (4,[],[])|(13,[0,1,3,4,6,7,...|[9.83516677373406...|[0.98351667737340...|       0.0|\n",
      "|   1|   DEBIT|  9302.79|C1566511282|        11299.0|        1996.21|C1973538135|         29832.0|         16896.7|       0|               0| 1.0| -0.8233286131516064|-0.4336048538482167|     4.0|    (4,[],[])|[9302.79,11299.0,...|[9.97158423631995...|[0.99715842363199...|       0.0|\n",
      "|   1|TRANSFER|311685.89|C1984094095|        10835.0|            0.0| C932583850|          6267.0|      2719172.89|       0|               0| 1.0|                -1.0|  432.8874884314664|     3.0|(4,[3],[1.0])|[311685.89,10835....|[9.89477542143611...|[0.98947754214361...|       0.0|\n",
      "|   1| PAYMENT|  5885.56| C840514538|            0.0|            0.0|M1804441305|             0.0|             0.0|       0|               0| 1.0|                 0.0|                0.0|     1.0|(4,[1],[1.0])|(13,[0,6,10],[588...|[9.97157515231770...|[0.99715751523177...|       0.0|\n",
      "+----+--------+---------+-----------+---------------+---------------+-----------+----------------+----------------+--------+----------------+----+--------------------+-------------------+--------+-------------+--------------------+--------------------+--------------------+----------+\n",
      "only showing top 5 rows\n",
      "\n"
     ]
    }
   ],
   "source": [
    "res_0.show(5)"
   ]
  },
  {
   "cell_type": "code",
   "execution_count": 14,
   "metadata": {},
   "outputs": [
    {
     "name": "stderr",
     "output_type": "stream",
     "text": [
      "                                                                                \r"
     ]
    }
   ],
   "source": [
    "results_pd = proba_to_pandas(dataframe = res_0, prob_col='probability', label_col='is_fraud')"
   ]
  },
  {
   "cell_type": "code",
   "execution_count": 15,
   "metadata": {},
   "outputs": [
    {
     "data": {
      "image/png": "[encoded data removed]",
      "text/plain": [
       "<Figure size 1800x864 with 4 Axes>"
      ]
     },
     "metadata": {},
     "output_type": "display_data"
    }
   ],
   "source": [
    "fig, ax = plt.subplots(1,2)\n",
    "\n",
    "# 50 % threshold\n",
    "cm = confusion_matrix(y_true=results_pd.y_true, y_pred=results_pd.y_pred > 0.5)\n",
    "disp = ConfusionMatrixDisplay(cm)\n",
    "disp.plot(ax = ax[0])\n",
    "ax[0].set_title('CM for a threshold of 50%')\n",
    "\n",
    "# 30 % threshold\n",
    "cm = confusion_matrix(y_true=results_pd.y_true, y_pred=results_pd.y_pred > 0.3)\n",
    "disp = ConfusionMatrixDisplay(cm)\n",
    "disp.plot(ax = ax[1])\n",
    "ax[1].set_title('CM for a threshold of 30%');"
   ]
  },
  {
   "cell_type": "code",
   "execution_count": 16,
   "metadata": {},
   "outputs": [
    {
     "data": {
      "image/png": "[encoded data removed]",
      "text/plain": [
       "<Figure size 1800x864 with 1 Axes>"
      ]
     },
     "metadata": {},
     "output_type": "display_data"
    }
   ],
   "source": [
    "PrecisionRecallDisplay.from_predictions(y_true=results_pd.y_true, y_pred = results_pd.y_pred);"
   ]
  },
  {
   "cell_type": "code",
   "execution_count": 17,
   "metadata": {},
   "outputs": [
    {
     "name": "stdout",
     "output_type": "stream",
     "text": [
      "precision: 0.7182\n",
      "recall:    0.7530\n"
     ]
    }
   ],
   "source": [
    "from sklearn.metrics import recall_score, precision_score\n",
    "# testing a few thresholds\n",
    "\n",
    "threshold = 0.05\n",
    "print('precision: {:.4f}'.format(precision_score(y_true=results_pd.y_true, y_pred = results_pd.y_pred > threshold)))\n",
    "print('recall:    {:.4f}'.format(recall_score(y_true=results_pd.y_true, y_pred = results_pd.y_pred > threshold)))"
   ]
  },
  {
   "cell_type": "code",
   "execution_count": 31,
   "metadata": {},
   "outputs": [
    {
     "name": "stderr",
     "output_type": "stream",
     "text": [
      "22/04/29 09:57:27 WARN BlockManager: Block rdd_54_0 already exists on this machine; not re-adding it\n",
      "22/04/29 09:57:34 WARN RowBasedKeyValueBatch: Calling spill() on RowBasedKeyValueBatch. Will not spill but return 0.\n",
      "22/04/29 09:57:34 WARN RowBasedKeyValueBatch: Calling spill() on RowBasedKeyValueBatch. Will not spill but return 0.\n",
      "22/04/29 09:57:34 WARN RowBasedKeyValueBatch: Calling spill() on RowBasedKeyValueBatch. Will not spill but return 0.\n",
      "22/04/29 09:57:39 WARN MemoryStore: Not enough space to cache rdd_13_2 in memory! (computed 76.7 MiB so far)\n",
      "22/04/29 09:57:39 WARN BlockManager: Persisting block rdd_13_2 to disk instead.\n",
      "22/04/29 09:57:59 WARN MemoryStore: Not enough space to cache rdd_54_1 in memory! (computed 30.0 MiB so far)\n",
      "22/04/29 09:57:59 WARN BlockManager: Persisting block rdd_54_1 to disk instead.\n",
      "22/04/29 09:58:03 WARN MemoryStore: Not enough space to cache rdd_54_2 in memory! (computed 59.0 MiB so far)\n",
      "22/04/29 09:58:03 WARN BlockManager: Persisting block rdd_54_2 to disk instead.\n",
      "22/04/29 09:58:13 WARN MemoryStore: Not enough space to cache rdd_54_2 in memory! (computed 102.6 MiB so far)\n",
      "22/04/29 09:58:15 WARN RowBasedKeyValueBatch: Calling spill() on RowBasedKeyValueBatch. Will not spill but return 0.\n",
      "22/04/29 09:58:15 WARN RowBasedKeyValueBatch: Calling spill() on RowBasedKeyValueBatch. Will not spill but return 0.\n",
      "22/04/29 09:58:15 WARN RowBasedKeyValueBatch: Calling spill() on RowBasedKeyValueBatch. Will not spill but return 0.\n",
      "22/04/29 09:58:16 WARN RowBasedKeyValueBatch: Calling spill() on RowBasedKeyValueBatch. Will not spill but return 0.\n",
      "22/04/29 09:58:18 WARN RowBasedKeyValueBatch: Calling spill() on RowBasedKeyValueBatch. Will not spill but return 0.\n",
      "22/04/29 09:58:18 WARN RowBasedKeyValueBatch: Calling spill() on RowBasedKeyValueBatch. Will not spill but return 0.\n",
      "22/04/29 09:58:18 WARN RowBasedKeyValueBatch: Calling spill() on RowBasedKeyValueBatch. Will not spill but return 0.\n",
      "22/04/29 09:58:22 WARN RowBasedKeyValueBatch: Calling spill() on RowBasedKeyValueBatch. Will not spill but return 0.\n",
      "22/04/29 09:58:22 WARN RowBasedKeyValueBatch: Calling spill() on RowBasedKeyValueBatch. Will not spill but return 0.\n",
      "22/04/29 09:58:22 WARN RowBasedKeyValueBatch: Calling spill() on RowBasedKeyValueBatch. Will not spill but return 0.\n",
      "22/04/29 09:58:23 WARN MemoryStore: Failed to reserve initial memory threshold of 1024.0 KiB for computing block rdd_54_2 in memory.\n",
      "22/04/29 09:58:23 WARN MemoryStore: Not enough space to cache rdd_54_2 in memory! (computed 384.0 B so far)\n",
      "22/04/29 09:58:24 WARN MemoryStore: Not enough space to cache rdd_13_3 in memory! (computed 76.7 MiB so far)\n",
      "22/04/29 09:58:24 WARN BlockManager: Persisting block rdd_13_3 to disk instead.\n",
      "22/04/29 09:58:25 WARN RowBasedKeyValueBatch: Calling spill() on RowBasedKeyValueBatch. Will not spill but return 0.\n",
      "22/04/29 09:58:25 WARN RowBasedKeyValueBatch: Calling spill() on RowBasedKeyValueBatch. Will not spill but return 0.\n",
      "22/04/29 09:58:25 WARN RowBasedKeyValueBatch: Calling spill() on RowBasedKeyValueBatch. Will not spill but return 0.\n",
      "22/04/29 09:58:25 WARN RowBasedKeyValueBatch: Calling spill() on RowBasedKeyValueBatch. Will not spill but return 0.\n",
      "22/04/29 09:58:37 WARN RowBasedKeyValueBatch: Calling spill() on RowBasedKeyValueBatch. Will not spill but return 0.\n",
      "22/04/29 09:58:37 WARN RowBasedKeyValueBatch: Calling spill() on RowBasedKeyValueBatch. Will not spill but return 0.\n",
      "22/04/29 09:58:42 WARN MemoryStore: Not enough space to cache rdd_54_1 in memory! (computed 59.0 MiB so far)\n",
      "22/04/29 09:58:42 WARN RowBasedKeyValueBatch: Calling spill() on RowBasedKeyValueBatch. Will not spill but return 0.\n",
      "22/04/29 09:58:43 WARN MemoryStore: Not enough space to cache rdd_54_3 in memory! (computed 15.4 MiB so far)\n",
      "22/04/29 09:58:43 WARN BlockManager: Persisting block rdd_54_3 to disk instead.\n",
      "22/04/29 09:58:46 WARN RowBasedKeyValueBatch: Calling spill() on RowBasedKeyValueBatch. Will not spill but return 0.\n",
      "22/04/29 09:58:46 WARN RowBasedKeyValueBatch: Calling spill() on RowBasedKeyValueBatch. Will not spill but return 0.\n",
      "22/04/29 09:58:53 WARN MemoryStore: Not enough space to cache rdd_54_2 in memory! (computed 102.6 MiB so far)\n",
      "22/04/29 09:58:55 WARN RowBasedKeyValueBatch: Calling spill() on RowBasedKeyValueBatch. Will not spill but return 0.\n",
      "22/04/29 09:58:56 WARN RowBasedKeyValueBatch: Calling spill() on RowBasedKeyValueBatch. Will not spill but return 0.\n",
      "22/04/29 09:58:56 WARN MemoryStore: Not enough space to cache rdd_54_3 in memory! (computed 102.6 MiB so far)\n",
      "22/04/29 09:58:56 WARN MemoryStore: Not enough space to cache rdd_54_3 in memory! (computed 15.4 MiB so far)\n",
      "22/04/29 09:58:58 WARN RowBasedKeyValueBatch: Calling spill() on RowBasedKeyValueBatch. Will not spill but return 0.\n",
      "22/04/29 09:58:58 WARN RowBasedKeyValueBatch: Calling spill() on RowBasedKeyValueBatch. Will not spill but return 0.\n",
      "22/04/29 09:58:59 WARN RowBasedKeyValueBatch: Calling spill() on RowBasedKeyValueBatch. Will not spill but return 0.\n",
      "22/04/29 09:59:00 WARN RowBasedKeyValueBatch: Calling spill() on RowBasedKeyValueBatch. Will not spill but return 0.\n",
      "22/04/29 09:59:02 WARN RowBasedKeyValueBatch: Calling spill() on RowBasedKeyValueBatch. Will not spill but return 0.\n",
      "22/04/29 09:59:06 WARN RowBasedKeyValueBatch: Calling spill() on RowBasedKeyValueBatch. Will not spill but return 0.\n",
      "22/04/29 09:59:07 WARN RowBasedKeyValueBatch: Calling spill() on RowBasedKeyValueBatch. Will not spill but return 0.\n",
      "22/04/29 09:59:07 WARN RowBasedKeyValueBatch: Calling spill() on RowBasedKeyValueBatch. Will not spill but return 0.\n",
      "22/04/29 09:59:10 WARN RowBasedKeyValueBatch: Calling spill() on RowBasedKeyValueBatch. Will not spill but return 0.\n",
      "22/04/29 09:59:10 WARN MemoryStore: Not enough space to cache rdd_54_1 in memory! (computed 59.0 MiB so far)\n",
      "22/04/29 09:59:10 WARN RowBasedKeyValueBatch: Calling spill() on RowBasedKeyValueBatch. Will not spill but return 0.\n",
      "22/04/29 09:59:15 WARN RowBasedKeyValueBatch: Calling spill() on RowBasedKeyValueBatch. Will not spill but return 0.\n",
      "22/04/29 09:59:16 WARN RowBasedKeyValueBatch: Calling spill() on RowBasedKeyValueBatch. Will not spill but return 0.\n",
      "22/04/29 09:59:16 WARN RowBasedKeyValueBatch: Calling spill() on RowBasedKeyValueBatch. Will not spill but return 0.\n",
      "22/04/29 09:59:16 WARN RowBasedKeyValueBatch: Calling spill() on RowBasedKeyValueBatch. Will not spill but return 0.\n",
      "22/04/29 09:59:29 WARN RowBasedKeyValueBatch: Calling spill() on RowBasedKeyValueBatch. Will not spill but return 0.\n",
      "22/04/29 09:59:30 WARN RowBasedKeyValueBatch: Calling spill() on RowBasedKeyValueBatch. Will not spill but return 0.\n",
      "22/04/29 09:59:30 WARN RowBasedKeyValueBatch: Calling spill() on RowBasedKeyValueBatch. Will not spill but return 0.\n",
      "22/04/29 09:59:30 WARN RowBasedKeyValueBatch: Calling spill() on RowBasedKeyValueBatch. Will not spill but return 0.\n",
      "22/04/29 09:59:30 WARN RowBasedKeyValueBatch: Calling spill() on RowBasedKeyValueBatch. Will not spill but return 0.\n",
      "22/04/29 09:59:30 WARN RowBasedKeyValueBatch: Calling spill() on RowBasedKeyValueBatch. Will not spill but return 0.\n",
      "22/04/29 09:59:30 WARN RowBasedKeyValueBatch: Calling spill() on RowBasedKeyValueBatch. Will not spill but return 0.\n",
      "22/04/29 09:59:30 WARN RowBasedKeyValueBatch: Calling spill() on RowBasedKeyValueBatch. Will not spill but return 0.\n",
      "22/04/29 09:59:30 WARN RowBasedKeyValueBatch: Calling spill() on RowBasedKeyValueBatch. Will not spill but return 0.\n",
      "22/04/29 09:59:43 WARN RowBasedKeyValueBatch: Calling spill() on RowBasedKeyValueBatch. Will not spill but return 0.\n",
      "22/04/29 09:59:43 WARN RowBasedKeyValueBatch: Calling spill() on RowBasedKeyValueBatch. Will not spill but return 0.\n",
      "22/04/29 09:59:43 WARN RowBasedKeyValueBatch: Calling spill() on RowBasedKeyValueBatch. Will not spill but return 0.\n",
      "22/04/29 09:59:43 WARN RowBasedKeyValueBatch: Calling spill() on RowBasedKeyValueBatch. Will not spill but return 0.\n",
      "22/04/29 09:59:44 WARN RowBasedKeyValueBatch: Calling spill() on RowBasedKeyValueBatch. Will not spill but return 0.\n",
      "22/04/29 09:59:44 WARN RowBasedKeyValueBatch: Calling spill() on RowBasedKeyValueBatch. Will not spill but return 0.\n",
      "22/04/29 09:59:50 WARN RowBasedKeyValueBatch: Calling spill() on RowBasedKeyValueBatch. Will not spill but return 0.\n",
      "22/04/29 09:59:50 WARN RowBasedKeyValueBatch: Calling spill() on RowBasedKeyValueBatch. Will not spill but return 0.\n",
      "22/04/29 09:59:54 WARN RowBasedKeyValueBatch: Calling spill() on RowBasedKeyValueBatch. Will not spill but return 0.\n",
      "22/04/29 09:59:54 WARN RowBasedKeyValueBatch: Calling spill() on RowBasedKeyValueBatch. Will not spill but return 0.\n",
      "22/04/29 09:59:55 WARN RowBasedKeyValueBatch: Calling spill() on RowBasedKeyValueBatch. Will not spill but return 0.\n",
      "22/04/29 09:59:55 WARN RowBasedKeyValueBatch: Calling spill() on RowBasedKeyValueBatch. Will not spill but return 0.\n",
      "22/04/29 09:59:55 WARN RowBasedKeyValueBatch: Calling spill() on RowBasedKeyValueBatch. Will not spill but return 0.\n",
      "22/04/29 09:59:55 WARN RowBasedKeyValueBatch: Calling spill() on RowBasedKeyValueBatch. Will not spill but return 0.\n",
      "22/04/29 10:00:00 WARN RowBasedKeyValueBatch: Calling spill() on RowBasedKeyValueBatch. Will not spill but return 0.\n",
      "22/04/29 10:00:00 WARN RowBasedKeyValueBatch: Calling spill() on RowBasedKeyValueBatch. Will not spill but return 0.\n",
      "22/04/29 10:00:02 WARN RowBasedKeyValueBatch: Calling spill() on RowBasedKeyValueBatch. Will not spill but return 0.\n",
      "22/04/29 10:00:02 WARN RowBasedKeyValueBatch: Calling spill() on RowBasedKeyValueBatch. Will not spill but return 0.\n",
      "22/04/29 10:00:06 WARN RowBasedKeyValueBatch: Calling spill() on RowBasedKeyValueBatch. Will not spill but return 0.\n",
      "22/04/29 10:00:06 WARN RowBasedKeyValueBatch: Calling spill() on RowBasedKeyValueBatch. Will not spill but return 0.\n",
      "22/04/29 10:00:09 WARN RowBasedKeyValueBatch: Calling spill() on RowBasedKeyValueBatch. Will not spill but return 0.\n",
      "22/04/29 10:00:09 WARN RowBasedKeyValueBatch: Calling spill() on RowBasedKeyValueBatch. Will not spill but return 0.\n",
      "22/04/29 10:00:09 WARN RowBasedKeyValueBatch: Calling spill() on RowBasedKeyValueBatch. Will not spill but return 0.\n",
      "22/04/29 10:00:09 WARN RowBasedKeyValueBatch: Calling spill() on RowBasedKeyValueBatch. Will not spill but return 0.\n",
      "22/04/29 10:00:13 WARN RowBasedKeyValueBatch: Calling spill() on RowBasedKeyValueBatch. Will not spill but return 0.\n",
      "22/04/29 10:00:13 WARN RowBasedKeyValueBatch: Calling spill() on RowBasedKeyValueBatch. Will not spill but return 0.\n",
      "22/04/29 10:00:14 WARN RowBasedKeyValueBatch: Calling spill() on RowBasedKeyValueBatch. Will not spill but return 0.\n",
      "22/04/29 10:00:14 WARN RowBasedKeyValueBatch: Calling spill() on RowBasedKeyValueBatch. Will not spill but return 0.\n",
      "22/04/29 10:00:19 WARN RowBasedKeyValueBatch: Calling spill() on RowBasedKeyValueBatch. Will not spill but return 0.\n",
      "22/04/29 10:00:19 WARN RowBasedKeyValueBatch: Calling spill() on RowBasedKeyValueBatch. Will not spill but return 0.\n",
      "22/04/29 10:00:19 WARN RowBasedKeyValueBatch: Calling spill() on RowBasedKeyValueBatch. Will not spill but return 0.\n",
      "22/04/29 10:00:19 WARN RowBasedKeyValueBatch: Calling spill() on RowBasedKeyValueBatch. Will not spill but return 0.\n",
      "22/04/29 10:00:22 WARN RowBasedKeyValueBatch: Calling spill() on RowBasedKeyValueBatch. Will not spill but return 0.\n",
      "22/04/29 10:00:23 WARN RowBasedKeyValueBatch: Calling spill() on RowBasedKeyValueBatch. Will not spill but return 0.\n",
      "22/04/29 10:00:23 WARN RowBasedKeyValueBatch: Calling spill() on RowBasedKeyValueBatch. Will not spill but return 0.\n",
      "22/04/29 10:00:23 WARN RowBasedKeyValueBatch: Calling spill() on RowBasedKeyValueBatch. Will not spill but return 0.\n",
      "22/04/29 10:00:30 WARN RowBasedKeyValueBatch: Calling spill() on RowBasedKeyValueBatch. Will not spill but return 0.\n",
      "22/04/29 10:00:30 WARN RowBasedKeyValueBatch: Calling spill() on RowBasedKeyValueBatch. Will not spill but return 0.\n",
      "22/04/29 10:00:32 WARN RowBasedKeyValueBatch: Calling spill() on RowBasedKeyValueBatch. Will not spill but return 0.\n",
      "22/04/29 10:00:32 WARN RowBasedKeyValueBatch: Calling spill() on RowBasedKeyValueBatch. Will not spill but return 0.\n",
      "22/04/29 10:00:33 WARN RowBasedKeyValueBatch: Calling spill() on RowBasedKeyValueBatch. Will not spill but return 0.\n",
      "22/04/29 10:00:33 WARN RowBasedKeyValueBatch: Calling spill() on RowBasedKeyValueBatch. Will not spill but return 0.\n",
      "22/04/29 10:00:33 WARN RowBasedKeyValueBatch: Calling spill() on RowBasedKeyValueBatch. Will not spill but return 0.\n",
      "22/04/29 10:00:33 WARN RowBasedKeyValueBatch: Calling spill() on RowBasedKeyValueBatch. Will not spill but return 0.\n",
      "22/04/29 10:00:38 WARN RowBasedKeyValueBatch: Calling spill() on RowBasedKeyValueBatch. Will not spill but return 0.\n",
      "22/04/29 10:00:38 WARN RowBasedKeyValueBatch: Calling spill() on RowBasedKeyValueBatch. Will not spill but return 0.\n",
      "22/04/29 10:00:43 WARN RowBasedKeyValueBatch: Calling spill() on RowBasedKeyValueBatch. Will not spill but return 0.\n",
      "22/04/29 10:00:43 WARN RowBasedKeyValueBatch: Calling spill() on RowBasedKeyValueBatch. Will not spill but return 0.\n",
      "22/04/29 10:00:43 WARN RowBasedKeyValueBatch: Calling spill() on RowBasedKeyValueBatch. Will not spill but return 0.\n",
      "22/04/29 10:00:43 WARN RowBasedKeyValueBatch: Calling spill() on RowBasedKeyValueBatch. Will not spill but return 0.\n",
      "22/04/29 10:01:29 WARN MemoryStore: Not enough space to cache rdd_54_0 in memory! (computed 59.0 MiB so far)\n",
      "22/04/29 10:01:29 WARN MemoryStore: Not enough space to cache rdd_54_1 in memory! (computed 102.6 MiB so far)\n",
      "22/04/29 10:01:29 WARN RowBasedKeyValueBatch: Calling spill() on RowBasedKeyValueBatch. Will not spill but return 0.\n",
      "22/04/29 10:01:29 WARN RowBasedKeyValueBatch: Calling spill() on RowBasedKeyValueBatch. Will not spill but return 0.\n",
      "22/04/29 10:01:29 WARN RowBasedKeyValueBatch: Calling spill() on RowBasedKeyValueBatch. Will not spill but return 0.\n",
      "22/04/29 10:01:29 WARN RowBasedKeyValueBatch: Calling spill() on RowBasedKeyValueBatch. Will not spill but return 0.\n",
      "22/04/29 10:01:29 WARN RowBasedKeyValueBatch: Calling spill() on RowBasedKeyValueBatch. Will not spill but return 0.\n",
      "22/04/29 10:01:29 WARN RowBasedKeyValueBatch: Calling spill() on RowBasedKeyValueBatch. Will not spill but return 0.\n",
      "22/04/29 10:01:29 WARN RowBasedKeyValueBatch: Calling spill() on RowBasedKeyValueBatch. Will not spill but return 0.\n",
      "22/04/29 10:01:29 WARN RowBasedKeyValueBatch: Calling spill() on RowBasedKeyValueBatch. Will not spill but return 0.\n",
      "22/04/29 10:01:29 WARN RowBasedKeyValueBatch: Calling spill() on RowBasedKeyValueBatch. Will not spill but return 0.\n",
      "22/04/29 10:01:30 WARN RowBasedKeyValueBatch: Calling spill() on RowBasedKeyValueBatch. Will not spill but return 0.\n",
      "22/04/29 10:01:30 WARN RowBasedKeyValueBatch: Calling spill() on RowBasedKeyValueBatch. Will not spill but return 0.\n",
      "22/04/29 10:01:30 WARN RowBasedKeyValueBatch: Calling spill() on RowBasedKeyValueBatch. Will not spill but return 0.\n",
      "22/04/29 10:01:30 WARN RowBasedKeyValueBatch: Calling spill() on RowBasedKeyValueBatch. Will not spill but return 0.\n",
      "22/04/29 10:01:30 WARN RowBasedKeyValueBatch: Calling spill() on RowBasedKeyValueBatch. Will not spill but return 0.\n",
      "22/04/29 10:01:30 WARN RowBasedKeyValueBatch: Calling spill() on RowBasedKeyValueBatch. Will not spill but return 0.\n",
      "22/04/29 10:01:31 WARN RowBasedKeyValueBatch: Calling spill() on RowBasedKeyValueBatch. Will not spill but return 0.\n",
      "22/04/29 10:01:31 WARN RowBasedKeyValueBatch: Calling spill() on RowBasedKeyValueBatch. Will not spill but return 0.\n",
      "22/04/29 10:01:31 WARN RowBasedKeyValueBatch: Calling spill() on RowBasedKeyValueBatch. Will not spill but return 0.\n",
      "22/04/29 10:01:31 WARN RowBasedKeyValueBatch: Calling spill() on RowBasedKeyValueBatch. Will not spill but return 0.\n",
      "22/04/29 10:01:31 WARN RowBasedKeyValueBatch: Calling spill() on RowBasedKeyValueBatch. Will not spill but return 0.\n",
      "22/04/29 10:01:31 WARN RowBasedKeyValueBatch: Calling spill() on RowBasedKeyValueBatch. Will not spill but return 0.\n",
      "22/04/29 10:01:31 WARN RowBasedKeyValueBatch: Calling spill() on RowBasedKeyValueBatch. Will not spill but return 0.\n",
      "22/04/29 10:01:32 WARN RowBasedKeyValueBatch: Calling spill() on RowBasedKeyValueBatch. Will not spill but return 0.\n",
      "22/04/29 10:01:32 WARN RowBasedKeyValueBatch: Calling spill() on RowBasedKeyValueBatch. Will not spill but return 0.\n",
      "22/04/29 10:01:32 WARN RowBasedKeyValueBatch: Calling spill() on RowBasedKeyValueBatch. Will not spill but return 0.\n",
      "22/04/29 10:01:32 WARN RowBasedKeyValueBatch: Calling spill() on RowBasedKeyValueBatch. Will not spill but return 0.\n",
      "22/04/29 10:01:32 WARN RowBasedKeyValueBatch: Calling spill() on RowBasedKeyValueBatch. Will not spill but return 0.\n",
      "22/04/29 10:01:32 WARN RowBasedKeyValueBatch: Calling spill() on RowBasedKeyValueBatch. Will not spill but return 0.\n",
      "22/04/29 10:01:32 WARN RowBasedKeyValueBatch: Calling spill() on RowBasedKeyValueBatch. Will not spill but return 0.\n",
      "22/04/29 10:01:32 WARN RowBasedKeyValueBatch: Calling spill() on RowBasedKeyValueBatch. Will not spill but return 0.\n",
      "22/04/29 10:01:32 WARN RowBasedKeyValueBatch: Calling spill() on RowBasedKeyValueBatch. Will not spill but return 0.\n",
      "22/04/29 10:01:32 WARN RowBasedKeyValueBatch: Calling spill() on RowBasedKeyValueBatch. Will not spill but return 0.\n",
      "22/04/29 10:01:33 WARN RowBasedKeyValueBatch: Calling spill() on RowBasedKeyValueBatch. Will not spill but return 0.\n",
      "22/04/29 10:01:33 WARN RowBasedKeyValueBatch: Calling spill() on RowBasedKeyValueBatch. Will not spill but return 0.\n",
      "22/04/29 10:01:33 WARN RowBasedKeyValueBatch: Calling spill() on RowBasedKeyValueBatch. Will not spill but return 0.\n",
      "22/04/29 10:01:33 WARN RowBasedKeyValueBatch: Calling spill() on RowBasedKeyValueBatch. Will not spill but return 0.\n",
      "22/04/29 10:01:33 WARN RowBasedKeyValueBatch: Calling spill() on RowBasedKeyValueBatch. Will not spill but return 0.\n",
      "22/04/29 10:01:34 WARN RowBasedKeyValueBatch: Calling spill() on RowBasedKeyValueBatch. Will not spill but return 0.\n",
      "22/04/29 10:01:34 WARN RowBasedKeyValueBatch: Calling spill() on RowBasedKeyValueBatch. Will not spill but return 0.\n",
      "22/04/29 10:01:34 WARN RowBasedKeyValueBatch: Calling spill() on RowBasedKeyValueBatch. Will not spill but return 0.\n",
      "22/04/29 10:01:34 WARN RowBasedKeyValueBatch: Calling spill() on RowBasedKeyValueBatch. Will not spill but return 0.\n",
      "22/04/29 10:01:34 WARN RowBasedKeyValueBatch: Calling spill() on RowBasedKeyValueBatch. Will not spill but return 0.\n",
      "22/04/29 10:01:34 WARN RowBasedKeyValueBatch: Calling spill() on RowBasedKeyValueBatch. Will not spill but return 0.\n",
      "22/04/29 10:01:34 WARN RowBasedKeyValueBatch: Calling spill() on RowBasedKeyValueBatch. Will not spill but return 0.\n",
      "22/04/29 10:01:35 WARN RowBasedKeyValueBatch: Calling spill() on RowBasedKeyValueBatch. Will not spill but return 0.\n",
      "22/04/29 10:01:35 WARN RowBasedKeyValueBatch: Calling spill() on RowBasedKeyValueBatch. Will not spill but return 0.\n",
      "22/04/29 10:01:35 WARN RowBasedKeyValueBatch: Calling spill() on RowBasedKeyValueBatch. Will not spill but return 0.\n",
      "22/04/29 10:01:35 WARN RowBasedKeyValueBatch: Calling spill() on RowBasedKeyValueBatch. Will not spill but return 0.\n",
      "22/04/29 10:01:35 WARN RowBasedKeyValueBatch: Calling spill() on RowBasedKeyValueBatch. Will not spill but return 0.\n",
      "22/04/29 10:01:36 WARN RowBasedKeyValueBatch: Calling spill() on RowBasedKeyValueBatch. Will not spill but return 0.\n",
      "22/04/29 10:01:36 WARN RowBasedKeyValueBatch: Calling spill() on RowBasedKeyValueBatch. Will not spill but return 0.\n",
      "22/04/29 10:01:36 WARN RowBasedKeyValueBatch: Calling spill() on RowBasedKeyValueBatch. Will not spill but return 0.\n",
      "22/04/29 10:01:36 WARN RowBasedKeyValueBatch: Calling spill() on RowBasedKeyValueBatch. Will not spill but return 0.\n",
      "22/04/29 10:01:37 WARN RowBasedKeyValueBatch: Calling spill() on RowBasedKeyValueBatch. Will not spill but return 0.\n",
      "22/04/29 10:01:37 WARN RowBasedKeyValueBatch: Calling spill() on RowBasedKeyValueBatch. Will not spill but return 0.\n",
      "22/04/29 10:01:37 WARN RowBasedKeyValueBatch: Calling spill() on RowBasedKeyValueBatch. Will not spill but return 0.\n",
      "22/04/29 10:01:37 WARN RowBasedKeyValueBatch: Calling spill() on RowBasedKeyValueBatch. Will not spill but return 0.\n",
      "22/04/29 10:01:37 WARN RowBasedKeyValueBatch: Calling spill() on RowBasedKeyValueBatch. Will not spill but return 0.\n",
      "22/04/29 10:01:38 WARN RowBasedKeyValueBatch: Calling spill() on RowBasedKeyValueBatch. Will not spill but return 0.\n",
      "22/04/29 10:01:38 WARN RowBasedKeyValueBatch: Calling spill() on RowBasedKeyValueBatch. Will not spill but return 0.\n",
      "22/04/29 10:01:39 WARN RowBasedKeyValueBatch: Calling spill() on RowBasedKeyValueBatch. Will not spill but return 0.\n",
      "22/04/29 10:01:39 WARN RowBasedKeyValueBatch: Calling spill() on RowBasedKeyValueBatch. Will not spill but return 0.\n",
      "22/04/29 10:01:39 WARN RowBasedKeyValueBatch: Calling spill() on RowBasedKeyValueBatch. Will not spill but return 0.\n",
      "22/04/29 10:01:39 WARN RowBasedKeyValueBatch: Calling spill() on RowBasedKeyValueBatch. Will not spill but return 0.\n",
      "22/04/29 10:01:39 WARN RowBasedKeyValueBatch: Calling spill() on RowBasedKeyValueBatch. Will not spill but return 0.\n",
      "22/04/29 10:01:39 WARN RowBasedKeyValueBatch: Calling spill() on RowBasedKeyValueBatch. Will not spill but return 0.\n",
      "22/04/29 10:01:40 WARN RowBasedKeyValueBatch: Calling spill() on RowBasedKeyValueBatch. Will not spill but return 0.\n",
      "22/04/29 10:01:40 WARN RowBasedKeyValueBatch: Calling spill() on RowBasedKeyValueBatch. Will not spill but return 0.\n",
      "22/04/29 10:01:40 WARN RowBasedKeyValueBatch: Calling spill() on RowBasedKeyValueBatch. Will not spill but return 0.\n",
      "22/04/29 10:01:41 WARN RowBasedKeyValueBatch: Calling spill() on RowBasedKeyValueBatch. Will not spill but return 0.\n",
      "22/04/29 10:01:41 WARN RowBasedKeyValueBatch: Calling spill() on RowBasedKeyValueBatch. Will not spill but return 0.\n",
      "22/04/29 10:01:41 WARN RowBasedKeyValueBatch: Calling spill() on RowBasedKeyValueBatch. Will not spill but return 0.\n",
      "22/04/29 10:01:41 WARN RowBasedKeyValueBatch: Calling spill() on RowBasedKeyValueBatch. Will not spill but return 0.\n",
      "22/04/29 10:01:51 WARN MemoryStore: Not enough space to cache rdd_54_1 in memory! (computed 15.4 MiB so far)\n",
      "22/04/29 10:01:53 WARN MemoryStore: Not enough space to cache rdd_54_2 in memory! (computed 102.6 MiB so far)\n",
      "22/04/29 10:01:53 WARN RowBasedKeyValueBatch: Calling spill() on RowBasedKeyValueBatch. Will not spill but return 0.\n",
      "22/04/29 10:01:53 WARN RowBasedKeyValueBatch: Calling spill() on RowBasedKeyValueBatch. Will not spill but return 0.\n",
      "22/04/29 10:01:55 WARN RowBasedKeyValueBatch: Calling spill() on RowBasedKeyValueBatch. Will not spill but return 0.\n",
      "22/04/29 10:01:55 WARN RowBasedKeyValueBatch: Calling spill() on RowBasedKeyValueBatch. Will not spill but return 0.\n",
      "22/04/29 10:01:56 WARN RowBasedKeyValueBatch: Calling spill() on RowBasedKeyValueBatch. Will not spill but return 0.\n",
      "22/04/29 10:01:56 WARN MemoryStore: Not enough space to cache rdd_54_0 in memory! (computed 59.0 MiB so far)\n",
      "22/04/29 10:01:57 WARN RowBasedKeyValueBatch: Calling spill() on RowBasedKeyValueBatch. Will not spill but return 0.\n",
      "22/04/29 10:02:02 WARN RowBasedKeyValueBatch: Calling spill() on RowBasedKeyValueBatch. Will not spill but return 0.\n",
      "22/04/29 10:02:02 WARN MemoryStore: Not enough space to cache rdd_54_2 in memory! (computed 15.4 MiB so far)\n",
      "22/04/29 10:02:02 WARN RowBasedKeyValueBatch: Calling spill() on RowBasedKeyValueBatch. Will not spill but return 0.\n",
      "22/04/29 10:02:02 WARN RowBasedKeyValueBatch: Calling spill() on RowBasedKeyValueBatch. Will not spill but return 0.\n",
      "22/04/29 10:02:02 WARN MemoryStore: Not enough space to cache rdd_54_3 in memory! (computed 15.4 MiB so far)\n",
      "22/04/29 10:02:06 WARN RowBasedKeyValueBatch: Calling spill() on RowBasedKeyValueBatch. Will not spill but return 0.\n",
      "22/04/29 10:02:06 WARN RowBasedKeyValueBatch: Calling spill() on RowBasedKeyValueBatch. Will not spill but return 0.\n",
      "22/04/29 10:02:06 WARN RowBasedKeyValueBatch: Calling spill() on RowBasedKeyValueBatch. Will not spill but return 0.\n",
      "22/04/29 10:02:06 WARN RowBasedKeyValueBatch: Calling spill() on RowBasedKeyValueBatch. Will not spill but return 0.\n",
      "22/04/29 10:02:06 WARN RowBasedKeyValueBatch: Calling spill() on RowBasedKeyValueBatch. Will not spill but return 0.\n",
      "22/04/29 10:02:06 WARN RowBasedKeyValueBatch: Calling spill() on RowBasedKeyValueBatch. Will not spill but return 0.\n",
      "22/04/29 10:02:06 WARN RowBasedKeyValueBatch: Calling spill() on RowBasedKeyValueBatch. Will not spill but return 0.\n",
      "22/04/29 10:02:06 WARN RowBasedKeyValueBatch: Calling spill() on RowBasedKeyValueBatch. Will not spill but return 0.\n",
      "22/04/29 10:02:10 WARN RowBasedKeyValueBatch: Calling spill() on RowBasedKeyValueBatch. Will not spill but return 0.\n",
      "22/04/29 10:02:10 WARN RowBasedKeyValueBatch: Calling spill() on RowBasedKeyValueBatch. Will not spill but return 0.\n",
      "22/04/29 10:02:10 WARN RowBasedKeyValueBatch: Calling spill() on RowBasedKeyValueBatch. Will not spill but return 0.\n",
      "22/04/29 10:02:10 WARN RowBasedKeyValueBatch: Calling spill() on RowBasedKeyValueBatch. Will not spill but return 0.\n",
      "22/04/29 10:02:23 WARN MemoryStore: Not enough space to cache rdd_54_3 in memory! (computed 59.0 MiB so far)\n",
      "22/04/29 10:02:28 WARN RowBasedKeyValueBatch: Calling spill() on RowBasedKeyValueBatch. Will not spill but return 0.\n",
      "22/04/29 10:02:28 WARN RowBasedKeyValueBatch: Calling spill() on RowBasedKeyValueBatch. Will not spill but return 0.\n",
      "22/04/29 10:02:28 WARN RowBasedKeyValueBatch: Calling spill() on RowBasedKeyValueBatch. Will not spill but return 0.\n",
      "22/04/29 10:02:28 WARN RowBasedKeyValueBatch: Calling spill() on RowBasedKeyValueBatch. Will not spill but return 0.\n",
      "22/04/29 10:02:28 WARN RowBasedKeyValueBatch: Calling spill() on RowBasedKeyValueBatch. Will not spill but return 0.\n",
      "22/04/29 10:02:28 WARN RowBasedKeyValueBatch: Calling spill() on RowBasedKeyValueBatch. Will not spill but return 0.\n",
      "22/04/29 10:02:28 WARN RowBasedKeyValueBatch: Calling spill() on RowBasedKeyValueBatch. Will not spill but return 0.\n",
      "22/04/29 10:02:28 WARN RowBasedKeyValueBatch: Calling spill() on RowBasedKeyValueBatch. Will not spill but return 0.\n",
      "22/04/29 10:02:35 WARN RowBasedKeyValueBatch: Calling spill() on RowBasedKeyValueBatch. Will not spill but return 0.\n",
      "22/04/29 10:02:35 WARN RowBasedKeyValueBatch: Calling spill() on RowBasedKeyValueBatch. Will not spill but return 0.\n",
      "22/04/29 10:02:36 WARN RowBasedKeyValueBatch: Calling spill() on RowBasedKeyValueBatch. Will not spill but return 0.\n",
      "22/04/29 10:02:36 WARN RowBasedKeyValueBatch: Calling spill() on RowBasedKeyValueBatch. Will not spill but return 0.\n",
      "22/04/29 10:02:36 WARN RowBasedKeyValueBatch: Calling spill() on RowBasedKeyValueBatch. Will not spill but return 0.\n",
      "22/04/29 10:02:36 WARN RowBasedKeyValueBatch: Calling spill() on RowBasedKeyValueBatch. Will not spill but return 0.\n",
      "22/04/29 10:02:37 WARN RowBasedKeyValueBatch: Calling spill() on RowBasedKeyValueBatch. Will not spill but return 0.\n",
      "22/04/29 10:02:37 WARN RowBasedKeyValueBatch: Calling spill() on RowBasedKeyValueBatch. Will not spill but return 0.\n",
      "22/04/29 10:02:46 WARN RowBasedKeyValueBatch: Calling spill() on RowBasedKeyValueBatch. Will not spill but return 0.\n",
      "22/04/29 10:02:46 WARN RowBasedKeyValueBatch: Calling spill() on RowBasedKeyValueBatch. Will not spill but return 0.\n",
      "22/04/29 10:02:48 WARN RowBasedKeyValueBatch: Calling spill() on RowBasedKeyValueBatch. Will not spill but return 0.\n",
      "22/04/29 10:02:48 WARN RowBasedKeyValueBatch: Calling spill() on RowBasedKeyValueBatch. Will not spill but return 0.\n",
      "22/04/29 10:02:49 WARN RowBasedKeyValueBatch: Calling spill() on RowBasedKeyValueBatch. Will not spill but return 0.\n",
      "22/04/29 10:02:49 WARN RowBasedKeyValueBatch: Calling spill() on RowBasedKeyValueBatch. Will not spill but return 0.\n",
      "22/04/29 10:02:54 WARN RowBasedKeyValueBatch: Calling spill() on RowBasedKeyValueBatch. Will not spill but return 0.\n",
      "22/04/29 10:02:54 WARN RowBasedKeyValueBatch: Calling spill() on RowBasedKeyValueBatch. Will not spill but return 0.\n",
      "22/04/29 10:02:59 WARN RowBasedKeyValueBatch: Calling spill() on RowBasedKeyValueBatch. Will not spill but return 0.\n",
      "22/04/29 10:02:59 WARN RowBasedKeyValueBatch: Calling spill() on RowBasedKeyValueBatch. Will not spill but return 0.\n",
      "22/04/29 10:03:00 WARN RowBasedKeyValueBatch: Calling spill() on RowBasedKeyValueBatch. Will not spill but return 0.\n",
      "22/04/29 10:03:00 WARN RowBasedKeyValueBatch: Calling spill() on RowBasedKeyValueBatch. Will not spill but return 0.\n",
      "22/04/29 10:03:03 WARN RowBasedKeyValueBatch: Calling spill() on RowBasedKeyValueBatch. Will not spill but return 0.\n",
      "22/04/29 10:03:03 WARN RowBasedKeyValueBatch: Calling spill() on RowBasedKeyValueBatch. Will not spill but return 0.\n",
      "22/04/29 10:03:07 WARN RowBasedKeyValueBatch: Calling spill() on RowBasedKeyValueBatch. Will not spill but return 0.\n",
      "22/04/29 10:03:07 WARN RowBasedKeyValueBatch: Calling spill() on RowBasedKeyValueBatch. Will not spill but return 0.\n",
      "22/04/29 10:03:10 WARN RowBasedKeyValueBatch: Calling spill() on RowBasedKeyValueBatch. Will not spill but return 0.\n",
      "22/04/29 10:03:10 WARN RowBasedKeyValueBatch: Calling spill() on RowBasedKeyValueBatch. Will not spill but return 0.\n",
      "22/04/29 10:03:10 WARN RowBasedKeyValueBatch: Calling spill() on RowBasedKeyValueBatch. Will not spill but return 0.\n",
      "22/04/29 10:03:11 WARN RowBasedKeyValueBatch: Calling spill() on RowBasedKeyValueBatch. Will not spill but return 0.\n",
      "22/04/29 10:03:11 WARN RowBasedKeyValueBatch: Calling spill() on RowBasedKeyValueBatch. Will not spill but return 0.\n",
      "22/04/29 10:03:15 WARN RowBasedKeyValueBatch: Calling spill() on RowBasedKeyValueBatch. Will not spill but return 0.\n",
      "22/04/29 10:03:15 WARN RowBasedKeyValueBatch: Calling spill() on RowBasedKeyValueBatch. Will not spill but return 0.\n",
      "22/04/29 10:03:17 WARN RowBasedKeyValueBatch: Calling spill() on RowBasedKeyValueBatch. Will not spill but return 0.\n",
      "22/04/29 10:03:17 WARN RowBasedKeyValueBatch: Calling spill() on RowBasedKeyValueBatch. Will not spill but return 0.\n",
      "22/04/29 10:03:19 WARN RowBasedKeyValueBatch: Calling spill() on RowBasedKeyValueBatch. Will not spill but return 0.\n",
      "22/04/29 10:03:19 WARN RowBasedKeyValueBatch: Calling spill() on RowBasedKeyValueBatch. Will not spill but return 0.\n",
      "22/04/29 10:03:21 WARN RowBasedKeyValueBatch: Calling spill() on RowBasedKeyValueBatch. Will not spill but return 0.\n",
      "22/04/29 10:03:21 WARN RowBasedKeyValueBatch: Calling spill() on RowBasedKeyValueBatch. Will not spill but return 0.\n",
      "22/04/29 10:03:23 WARN RowBasedKeyValueBatch: Calling spill() on RowBasedKeyValueBatch. Will not spill but return 0.\n",
      "22/04/29 10:03:23 WARN RowBasedKeyValueBatch: Calling spill() on RowBasedKeyValueBatch. Will not spill but return 0.\n",
      "22/04/29 10:03:26 WARN RowBasedKeyValueBatch: Calling spill() on RowBasedKeyValueBatch. Will not spill but return 0.\n",
      "22/04/29 10:03:26 WARN RowBasedKeyValueBatch: Calling spill() on RowBasedKeyValueBatch. Will not spill but return 0.\n",
      "22/04/29 10:03:27 WARN RowBasedKeyValueBatch: Calling spill() on RowBasedKeyValueBatch. Will not spill but return 0.\n",
      "22/04/29 10:03:27 WARN RowBasedKeyValueBatch: Calling spill() on RowBasedKeyValueBatch. Will not spill but return 0.\n",
      "22/04/29 10:03:28 WARN RowBasedKeyValueBatch: Calling spill() on RowBasedKeyValueBatch. Will not spill but return 0.\n",
      "22/04/29 10:03:28 WARN RowBasedKeyValueBatch: Calling spill() on RowBasedKeyValueBatch. Will not spill but return 0.\n",
      "22/04/29 10:03:31 WARN RowBasedKeyValueBatch: Calling spill() on RowBasedKeyValueBatch. Will not spill but return 0.\n",
      "22/04/29 10:03:31 WARN RowBasedKeyValueBatch: Calling spill() on RowBasedKeyValueBatch. Will not spill but return 0.\n",
      "22/04/29 10:03:33 WARN RowBasedKeyValueBatch: Calling spill() on RowBasedKeyValueBatch. Will not spill but return 0.\n",
      "22/04/29 10:03:33 WARN RowBasedKeyValueBatch: Calling spill() on RowBasedKeyValueBatch. Will not spill but return 0.\n",
      "22/04/29 10:03:39 WARN MemoryStore: Not enough space to cache rdd_54_3 in memory! (computed 59.0 MiB so far)\n",
      "22/04/29 10:03:39 WARN MemoryStore: Not enough space to cache rdd_54_0 in memory! (computed 102.6 MiB so far)\n",
      "22/04/29 10:03:40 WARN RowBasedKeyValueBatch: Calling spill() on RowBasedKeyValueBatch. Will not spill but return 0.\n",
      "22/04/29 10:03:40 WARN RowBasedKeyValueBatch: Calling spill() on RowBasedKeyValueBatch. Will not spill but return 0.\n",
      "22/04/29 10:03:40 WARN RowBasedKeyValueBatch: Calling spill() on RowBasedKeyValueBatch. Will not spill but return 0.\n",
      "22/04/29 10:03:40 WARN RowBasedKeyValueBatch: Calling spill() on RowBasedKeyValueBatch. Will not spill but return 0.\n",
      "22/04/29 10:03:40 WARN RowBasedKeyValueBatch: Calling spill() on RowBasedKeyValueBatch. Will not spill but return 0.\n",
      "22/04/29 10:03:41 WARN RowBasedKeyValueBatch: Calling spill() on RowBasedKeyValueBatch. Will not spill but return 0.\n",
      "22/04/29 10:03:41 WARN RowBasedKeyValueBatch: Calling spill() on RowBasedKeyValueBatch. Will not spill but return 0.\n",
      "22/04/29 10:03:41 WARN RowBasedKeyValueBatch: Calling spill() on RowBasedKeyValueBatch. Will not spill but return 0.\n",
      "22/04/29 10:03:41 WARN RowBasedKeyValueBatch: Calling spill() on RowBasedKeyValueBatch. Will not spill but return 0.\n",
      "22/04/29 10:03:41 WARN RowBasedKeyValueBatch: Calling spill() on RowBasedKeyValueBatch. Will not spill but return 0.\n",
      "22/04/29 10:03:41 WARN RowBasedKeyValueBatch: Calling spill() on RowBasedKeyValueBatch. Will not spill but return 0.\n",
      "22/04/29 10:03:42 WARN RowBasedKeyValueBatch: Calling spill() on RowBasedKeyValueBatch. Will not spill but return 0.\n",
      "22/04/29 10:03:42 WARN RowBasedKeyValueBatch: Calling spill() on RowBasedKeyValueBatch. Will not spill but return 0.\n",
      "22/04/29 10:03:42 WARN RowBasedKeyValueBatch: Calling spill() on RowBasedKeyValueBatch. Will not spill but return 0.\n",
      "22/04/29 10:03:42 WARN RowBasedKeyValueBatch: Calling spill() on RowBasedKeyValueBatch. Will not spill but return 0.\n",
      "22/04/29 10:03:42 WARN RowBasedKeyValueBatch: Calling spill() on RowBasedKeyValueBatch. Will not spill but return 0.\n",
      "22/04/29 10:03:42 WARN RowBasedKeyValueBatch: Calling spill() on RowBasedKeyValueBatch. Will not spill but return 0.\n",
      "22/04/29 10:03:42 WARN RowBasedKeyValueBatch: Calling spill() on RowBasedKeyValueBatch. Will not spill but return 0.\n",
      "22/04/29 10:03:42 WARN RowBasedKeyValueBatch: Calling spill() on RowBasedKeyValueBatch. Will not spill but return 0.\n",
      "22/04/29 10:03:42 WARN RowBasedKeyValueBatch: Calling spill() on RowBasedKeyValueBatch. Will not spill but return 0.\n",
      "22/04/29 10:03:43 WARN RowBasedKeyValueBatch: Calling spill() on RowBasedKeyValueBatch. Will not spill but return 0.\n",
      "22/04/29 10:03:43 WARN RowBasedKeyValueBatch: Calling spill() on RowBasedKeyValueBatch. Will not spill but return 0.\n",
      "22/04/29 10:03:43 WARN RowBasedKeyValueBatch: Calling spill() on RowBasedKeyValueBatch. Will not spill but return 0.\n",
      "22/04/29 10:03:43 WARN RowBasedKeyValueBatch: Calling spill() on RowBasedKeyValueBatch. Will not spill but return 0.\n",
      "22/04/29 10:03:43 WARN RowBasedKeyValueBatch: Calling spill() on RowBasedKeyValueBatch. Will not spill but return 0.\n",
      "22/04/29 10:03:43 WARN RowBasedKeyValueBatch: Calling spill() on RowBasedKeyValueBatch. Will not spill but return 0.\n",
      "22/04/29 10:03:43 WARN RowBasedKeyValueBatch: Calling spill() on RowBasedKeyValueBatch. Will not spill but return 0.\n",
      "22/04/29 10:03:43 WARN RowBasedKeyValueBatch: Calling spill() on RowBasedKeyValueBatch. Will not spill but return 0.\n",
      "22/04/29 10:03:43 WARN RowBasedKeyValueBatch: Calling spill() on RowBasedKeyValueBatch. Will not spill but return 0.\n",
      "22/04/29 10:03:43 WARN RowBasedKeyValueBatch: Calling spill() on RowBasedKeyValueBatch. Will not spill but return 0.\n",
      "22/04/29 10:03:43 WARN RowBasedKeyValueBatch: Calling spill() on RowBasedKeyValueBatch. Will not spill but return 0.\n",
      "22/04/29 10:03:43 WARN RowBasedKeyValueBatch: Calling spill() on RowBasedKeyValueBatch. Will not spill but return 0.\n",
      "22/04/29 10:03:43 WARN RowBasedKeyValueBatch: Calling spill() on RowBasedKeyValueBatch. Will not spill but return 0.\n",
      "22/04/29 10:03:44 WARN RowBasedKeyValueBatch: Calling spill() on RowBasedKeyValueBatch. Will not spill but return 0.\n",
      "22/04/29 10:03:44 WARN RowBasedKeyValueBatch: Calling spill() on RowBasedKeyValueBatch. Will not spill but return 0.\n",
      "22/04/29 10:03:44 WARN RowBasedKeyValueBatch: Calling spill() on RowBasedKeyValueBatch. Will not spill but return 0.\n",
      "22/04/29 10:03:44 WARN RowBasedKeyValueBatch: Calling spill() on RowBasedKeyValueBatch. Will not spill but return 0.\n",
      "22/04/29 10:03:44 WARN RowBasedKeyValueBatch: Calling spill() on RowBasedKeyValueBatch. Will not spill but return 0.\n",
      "22/04/29 10:03:44 WARN RowBasedKeyValueBatch: Calling spill() on RowBasedKeyValueBatch. Will not spill but return 0.\n",
      "22/04/29 10:03:44 WARN RowBasedKeyValueBatch: Calling spill() on RowBasedKeyValueBatch. Will not spill but return 0.\n",
      "22/04/29 10:03:44 WARN RowBasedKeyValueBatch: Calling spill() on RowBasedKeyValueBatch. Will not spill but return 0.\n",
      "22/04/29 10:03:44 WARN RowBasedKeyValueBatch: Calling spill() on RowBasedKeyValueBatch. Will not spill but return 0.\n",
      "22/04/29 10:03:44 WARN RowBasedKeyValueBatch: Calling spill() on RowBasedKeyValueBatch. Will not spill but return 0.\n",
      "22/04/29 10:03:44 WARN RowBasedKeyValueBatch: Calling spill() on RowBasedKeyValueBatch. Will not spill but return 0.\n",
      "22/04/29 10:03:44 WARN RowBasedKeyValueBatch: Calling spill() on RowBasedKeyValueBatch. Will not spill but return 0.\n",
      "22/04/29 10:03:45 WARN RowBasedKeyValueBatch: Calling spill() on RowBasedKeyValueBatch. Will not spill but return 0.\n",
      "22/04/29 10:03:45 WARN RowBasedKeyValueBatch: Calling spill() on RowBasedKeyValueBatch. Will not spill but return 0.\n",
      "22/04/29 10:03:45 WARN RowBasedKeyValueBatch: Calling spill() on RowBasedKeyValueBatch. Will not spill but return 0.\n",
      "22/04/29 10:03:45 WARN RowBasedKeyValueBatch: Calling spill() on RowBasedKeyValueBatch. Will not spill but return 0.\n",
      "22/04/29 10:03:45 WARN RowBasedKeyValueBatch: Calling spill() on RowBasedKeyValueBatch. Will not spill but return 0.\n",
      "22/04/29 10:03:45 WARN RowBasedKeyValueBatch: Calling spill() on RowBasedKeyValueBatch. Will not spill but return 0.\n",
      "22/04/29 10:03:45 WARN RowBasedKeyValueBatch: Calling spill() on RowBasedKeyValueBatch. Will not spill but return 0.\n",
      "22/04/29 10:03:45 WARN RowBasedKeyValueBatch: Calling spill() on RowBasedKeyValueBatch. Will not spill but return 0.\n",
      "22/04/29 10:03:45 WARN RowBasedKeyValueBatch: Calling spill() on RowBasedKeyValueBatch. Will not spill but return 0.\n",
      "22/04/29 10:03:46 WARN RowBasedKeyValueBatch: Calling spill() on RowBasedKeyValueBatch. Will not spill but return 0.\n",
      "22/04/29 10:03:46 WARN RowBasedKeyValueBatch: Calling spill() on RowBasedKeyValueBatch. Will not spill but return 0.\n",
      "22/04/29 10:03:46 WARN RowBasedKeyValueBatch: Calling spill() on RowBasedKeyValueBatch. Will not spill but return 0.\n",
      "22/04/29 10:03:46 WARN RowBasedKeyValueBatch: Calling spill() on RowBasedKeyValueBatch. Will not spill but return 0.\n",
      "22/04/29 10:03:46 WARN RowBasedKeyValueBatch: Calling spill() on RowBasedKeyValueBatch. Will not spill but return 0.\n",
      "22/04/29 10:03:46 WARN RowBasedKeyValueBatch: Calling spill() on RowBasedKeyValueBatch. Will not spill but return 0.\n",
      "22/04/29 10:03:46 WARN RowBasedKeyValueBatch: Calling spill() on RowBasedKeyValueBatch. Will not spill but return 0.\n",
      "22/04/29 10:03:47 WARN RowBasedKeyValueBatch: Calling spill() on RowBasedKeyValueBatch. Will not spill but return 0.\n",
      "22/04/29 10:03:47 WARN RowBasedKeyValueBatch: Calling spill() on RowBasedKeyValueBatch. Will not spill but return 0.\n",
      "22/04/29 10:03:47 WARN RowBasedKeyValueBatch: Calling spill() on RowBasedKeyValueBatch. Will not spill but return 0.\n",
      "22/04/29 10:03:48 WARN RowBasedKeyValueBatch: Calling spill() on RowBasedKeyValueBatch. Will not spill but return 0.\n",
      "22/04/29 10:03:48 WARN RowBasedKeyValueBatch: Calling spill() on RowBasedKeyValueBatch. Will not spill but return 0.\n",
      "22/04/29 10:03:48 WARN RowBasedKeyValueBatch: Calling spill() on RowBasedKeyValueBatch. Will not spill but return 0.\n",
      "22/04/29 10:03:48 WARN RowBasedKeyValueBatch: Calling spill() on RowBasedKeyValueBatch. Will not spill but return 0.\n",
      "22/04/29 10:03:48 WARN RowBasedKeyValueBatch: Calling spill() on RowBasedKeyValueBatch. Will not spill but return 0.\n",
      "22/04/29 10:03:49 WARN RowBasedKeyValueBatch: Calling spill() on RowBasedKeyValueBatch. Will not spill but return 0.\n",
      "22/04/29 10:03:49 WARN RowBasedKeyValueBatch: Calling spill() on RowBasedKeyValueBatch. Will not spill but return 0.\n",
      "22/04/29 10:03:49 WARN RowBasedKeyValueBatch: Calling spill() on RowBasedKeyValueBatch. Will not spill but return 0.\n",
      "22/04/29 10:03:49 WARN RowBasedKeyValueBatch: Calling spill() on RowBasedKeyValueBatch. Will not spill but return 0.\n",
      "22/04/29 10:03:50 WARN RowBasedKeyValueBatch: Calling spill() on RowBasedKeyValueBatch. Will not spill but return 0.\n",
      "22/04/29 10:03:50 WARN RowBasedKeyValueBatch: Calling spill() on RowBasedKeyValueBatch. Will not spill but return 0.\n",
      "22/04/29 10:03:50 WARN RowBasedKeyValueBatch: Calling spill() on RowBasedKeyValueBatch. Will not spill but return 0.\n",
      "22/04/29 10:03:50 WARN RowBasedKeyValueBatch: Calling spill() on RowBasedKeyValueBatch. Will not spill but return 0.\n",
      "22/04/29 10:03:50 WARN RowBasedKeyValueBatch: Calling spill() on RowBasedKeyValueBatch. Will not spill but return 0.\n",
      "22/04/29 10:03:51 WARN RowBasedKeyValueBatch: Calling spill() on RowBasedKeyValueBatch. Will not spill but return 0.\n",
      "22/04/29 10:03:51 WARN RowBasedKeyValueBatch: Calling spill() on RowBasedKeyValueBatch. Will not spill but return 0.\n",
      "22/04/29 10:03:51 WARN RowBasedKeyValueBatch: Calling spill() on RowBasedKeyValueBatch. Will not spill but return 0.\n",
      "22/04/29 10:03:51 WARN RowBasedKeyValueBatch: Calling spill() on RowBasedKeyValueBatch. Will not spill but return 0.\n",
      "22/04/29 10:03:52 WARN RowBasedKeyValueBatch: Calling spill() on RowBasedKeyValueBatch. Will not spill but return 0.\n",
      "22/04/29 10:03:52 WARN RowBasedKeyValueBatch: Calling spill() on RowBasedKeyValueBatch. Will not spill but return 0.\n",
      "22/04/29 10:04:04 WARN MemoryStore: Not enough space to cache rdd_54_2 in memory! (computed 30.0 MiB so far)\n",
      "22/04/29 10:04:04 WARN RowBasedKeyValueBatch: Calling spill() on RowBasedKeyValueBatch. Will not spill but return 0.\n",
      "22/04/29 10:04:05 WARN MemoryStore: Not enough space to cache rdd_54_3 in memory! (computed 59.0 MiB so far)\n",
      "22/04/29 10:04:06 WARN RowBasedKeyValueBatch: Calling spill() on RowBasedKeyValueBatch. Will not spill but return 0.\n",
      "22/04/29 10:04:09 WARN RowBasedKeyValueBatch: Calling spill() on RowBasedKeyValueBatch. Will not spill but return 0.\n",
      "22/04/29 10:04:09 WARN RowBasedKeyValueBatch: Calling spill() on RowBasedKeyValueBatch. Will not spill but return 0.\n",
      "22/04/29 10:04:11 WARN MemoryStore: Not enough space to cache rdd_54_2 in memory! (computed 30.0 MiB so far)\n",
      "22/04/29 10:04:11 WARN RowBasedKeyValueBatch: Calling spill() on RowBasedKeyValueBatch. Will not spill but return 0.\n",
      "22/04/29 10:04:12 WARN MemoryStore: Not enough space to cache rdd_54_3 in memory! (computed 59.0 MiB so far)\n",
      "22/04/29 10:04:12 WARN RowBasedKeyValueBatch: Calling spill() on RowBasedKeyValueBatch. Will not spill but return 0.\n",
      "22/04/29 10:04:12 WARN RowBasedKeyValueBatch: Calling spill() on RowBasedKeyValueBatch. Will not spill but return 0.\n",
      "22/04/29 10:04:12 WARN RowBasedKeyValueBatch: Calling spill() on RowBasedKeyValueBatch. Will not spill but return 0.\n",
      "22/04/29 10:04:12 WARN RowBasedKeyValueBatch: Calling spill() on RowBasedKeyValueBatch. Will not spill but return 0.\n",
      "22/04/29 10:04:13 WARN RowBasedKeyValueBatch: Calling spill() on RowBasedKeyValueBatch. Will not spill but return 0.\n",
      "22/04/29 10:04:13 WARN RowBasedKeyValueBatch: Calling spill() on RowBasedKeyValueBatch. Will not spill but return 0.\n",
      "22/04/29 10:04:13 WARN RowBasedKeyValueBatch: Calling spill() on RowBasedKeyValueBatch. Will not spill but return 0.\n",
      "22/04/29 10:04:13 WARN RowBasedKeyValueBatch: Calling spill() on RowBasedKeyValueBatch. Will not spill but return 0.\n",
      "22/04/29 10:04:13 WARN RowBasedKeyValueBatch: Calling spill() on RowBasedKeyValueBatch. Will not spill but return 0.\n",
      "22/04/29 10:04:14 WARN RowBasedKeyValueBatch: Calling spill() on RowBasedKeyValueBatch. Will not spill but return 0.\n",
      "22/04/29 10:04:14 WARN RowBasedKeyValueBatch: Calling spill() on RowBasedKeyValueBatch. Will not spill but return 0.\n",
      "22/04/29 10:04:14 WARN RowBasedKeyValueBatch: Calling spill() on RowBasedKeyValueBatch. Will not spill but return 0.\n",
      "22/04/29 10:04:15 WARN RowBasedKeyValueBatch: Calling spill() on RowBasedKeyValueBatch. Will not spill but return 0.\n",
      "22/04/29 10:04:15 WARN RowBasedKeyValueBatch: Calling spill() on RowBasedKeyValueBatch. Will not spill but return 0.\n",
      "22/04/29 10:04:15 WARN RowBasedKeyValueBatch: Calling spill() on RowBasedKeyValueBatch. Will not spill but return 0.\n",
      "22/04/29 10:04:15 WARN RowBasedKeyValueBatch: Calling spill() on RowBasedKeyValueBatch. Will not spill but return 0.\n",
      "22/04/29 10:04:15 WARN RowBasedKeyValueBatch: Calling spill() on RowBasedKeyValueBatch. Will not spill but return 0.\n",
      "22/04/29 10:04:15 WARN RowBasedKeyValueBatch: Calling spill() on RowBasedKeyValueBatch. Will not spill but return 0.\n",
      "22/04/29 10:04:16 WARN RowBasedKeyValueBatch: Calling spill() on RowBasedKeyValueBatch. Will not spill but return 0.\n",
      "22/04/29 10:04:16 WARN RowBasedKeyValueBatch: Calling spill() on RowBasedKeyValueBatch. Will not spill but return 0.\n",
      "22/04/29 10:04:16 WARN RowBasedKeyValueBatch: Calling spill() on RowBasedKeyValueBatch. Will not spill but return 0.\n",
      "22/04/29 10:04:17 WARN RowBasedKeyValueBatch: Calling spill() on RowBasedKeyValueBatch. Will not spill but return 0.\n",
      "22/04/29 10:04:17 WARN RowBasedKeyValueBatch: Calling spill() on RowBasedKeyValueBatch. Will not spill but return 0.\n",
      "22/04/29 10:04:17 WARN RowBasedKeyValueBatch: Calling spill() on RowBasedKeyValueBatch. Will not spill but return 0.\n",
      "22/04/29 10:04:18 WARN RowBasedKeyValueBatch: Calling spill() on RowBasedKeyValueBatch. Will not spill but return 0.\n",
      "22/04/29 10:04:18 WARN RowBasedKeyValueBatch: Calling spill() on RowBasedKeyValueBatch. Will not spill but return 0.\n",
      "22/04/29 10:04:18 WARN RowBasedKeyValueBatch: Calling spill() on RowBasedKeyValueBatch. Will not spill but return 0.\n",
      "22/04/29 10:04:18 WARN RowBasedKeyValueBatch: Calling spill() on RowBasedKeyValueBatch. Will not spill but return 0.\n",
      "22/04/29 10:04:19 WARN RowBasedKeyValueBatch: Calling spill() on RowBasedKeyValueBatch. Will not spill but return 0.\n",
      "22/04/29 10:04:19 WARN RowBasedKeyValueBatch: Calling spill() on RowBasedKeyValueBatch. Will not spill but return 0.\n",
      "22/04/29 10:04:19 WARN RowBasedKeyValueBatch: Calling spill() on RowBasedKeyValueBatch. Will not spill but return 0.\n",
      "22/04/29 10:04:19 WARN RowBasedKeyValueBatch: Calling spill() on RowBasedKeyValueBatch. Will not spill but return 0.\n",
      "22/04/29 10:04:19 WARN RowBasedKeyValueBatch: Calling spill() on RowBasedKeyValueBatch. Will not spill but return 0.\n",
      "22/04/29 10:04:22 WARN RowBasedKeyValueBatch: Calling spill() on RowBasedKeyValueBatch. Will not spill but return 0.\n",
      "22/04/29 10:04:22 WARN RowBasedKeyValueBatch: Calling spill() on RowBasedKeyValueBatch. Will not spill but return 0.\n",
      "22/04/29 10:04:32 WARN MemoryStore: Not enough space to cache rdd_54_2 in memory! (computed 59.0 MiB so far)\n",
      "22/04/29 10:04:32 WARN RowBasedKeyValueBatch: Calling spill() on RowBasedKeyValueBatch. Will not spill but return 0.\n",
      "22/04/29 10:04:33 WARN RowBasedKeyValueBatch: Calling spill() on RowBasedKeyValueBatch. Will not spill but return 0.\n",
      "22/04/29 10:04:38 WARN RowBasedKeyValueBatch: Calling spill() on RowBasedKeyValueBatch. Will not spill but return 0.\n",
      "22/04/29 10:04:38 WARN RowBasedKeyValueBatch: Calling spill() on RowBasedKeyValueBatch. Will not spill but return 0.\n",
      "22/04/29 10:04:38 WARN RowBasedKeyValueBatch: Calling spill() on RowBasedKeyValueBatch. Will not spill but return 0.\n",
      "22/04/29 10:04:38 WARN RowBasedKeyValueBatch: Calling spill() on RowBasedKeyValueBatch. Will not spill but return 0.\n",
      "22/04/29 10:04:38 WARN RowBasedKeyValueBatch: Calling spill() on RowBasedKeyValueBatch. Will not spill but return 0.\n",
      "22/04/29 10:04:39 WARN RowBasedKeyValueBatch: Calling spill() on RowBasedKeyValueBatch. Will not spill but return 0.\n",
      "22/04/29 10:04:39 WARN RowBasedKeyValueBatch: Calling spill() on RowBasedKeyValueBatch. Will not spill but return 0.\n",
      "22/04/29 10:04:39 WARN RowBasedKeyValueBatch: Calling spill() on RowBasedKeyValueBatch. Will not spill but return 0.\n",
      "22/04/29 10:04:39 WARN RowBasedKeyValueBatch: Calling spill() on RowBasedKeyValueBatch. Will not spill but return 0.\n",
      "22/04/29 10:04:49 WARN RowBasedKeyValueBatch: Calling spill() on RowBasedKeyValueBatch. Will not spill but return 0.\n",
      "22/04/29 10:04:49 WARN RowBasedKeyValueBatch: Calling spill() on RowBasedKeyValueBatch. Will not spill but return 0.\n",
      "22/04/29 10:04:50 WARN RowBasedKeyValueBatch: Calling spill() on RowBasedKeyValueBatch. Will not spill but return 0.\n",
      "22/04/29 10:04:50 WARN RowBasedKeyValueBatch: Calling spill() on RowBasedKeyValueBatch. Will not spill but return 0.\n",
      "22/04/29 10:04:50 WARN RowBasedKeyValueBatch: Calling spill() on RowBasedKeyValueBatch. Will not spill but return 0.\n",
      "22/04/29 10:04:50 WARN RowBasedKeyValueBatch: Calling spill() on RowBasedKeyValueBatch. Will not spill but return 0.\n",
      "22/04/29 10:04:54 WARN RowBasedKeyValueBatch: Calling spill() on RowBasedKeyValueBatch. Will not spill but return 0.\n",
      "22/04/29 10:04:54 WARN RowBasedKeyValueBatch: Calling spill() on RowBasedKeyValueBatch. Will not spill but return 0.\n",
      "22/04/29 10:04:58 WARN RowBasedKeyValueBatch: Calling spill() on RowBasedKeyValueBatch. Will not spill but return 0.\n",
      "22/04/29 10:04:58 WARN RowBasedKeyValueBatch: Calling spill() on RowBasedKeyValueBatch. Will not spill but return 0.\n",
      "22/04/29 10:04:59 WARN RowBasedKeyValueBatch: Calling spill() on RowBasedKeyValueBatch. Will not spill but return 0.\n",
      "22/04/29 10:05:00 WARN RowBasedKeyValueBatch: Calling spill() on RowBasedKeyValueBatch. Will not spill but return 0.\n",
      "22/04/29 10:05:03 WARN RowBasedKeyValueBatch: Calling spill() on RowBasedKeyValueBatch. Will not spill but return 0.\n",
      "22/04/29 10:05:03 WARN RowBasedKeyValueBatch: Calling spill() on RowBasedKeyValueBatch. Will not spill but return 0.\n",
      "22/04/29 10:05:03 WARN RowBasedKeyValueBatch: Calling spill() on RowBasedKeyValueBatch. Will not spill but return 0.\n",
      "22/04/29 10:05:03 WARN RowBasedKeyValueBatch: Calling spill() on RowBasedKeyValueBatch. Will not spill but return 0.\n",
      "22/04/29 10:05:07 WARN RowBasedKeyValueBatch: Calling spill() on RowBasedKeyValueBatch. Will not spill but return 0.\n",
      "22/04/29 10:05:07 WARN RowBasedKeyValueBatch: Calling spill() on RowBasedKeyValueBatch. Will not spill but return 0.\n",
      "22/04/29 10:05:11 WARN RowBasedKeyValueBatch: Calling spill() on RowBasedKeyValueBatch. Will not spill but return 0.\n",
      "22/04/29 10:05:11 WARN RowBasedKeyValueBatch: Calling spill() on RowBasedKeyValueBatch. Will not spill but return 0.\n",
      "22/04/29 10:05:15 WARN RowBasedKeyValueBatch: Calling spill() on RowBasedKeyValueBatch. Will not spill but return 0.\n",
      "22/04/29 10:05:15 WARN RowBasedKeyValueBatch: Calling spill() on RowBasedKeyValueBatch. Will not spill but return 0.\n",
      "22/04/29 10:05:18 WARN RowBasedKeyValueBatch: Calling spill() on RowBasedKeyValueBatch. Will not spill but return 0.\n",
      "22/04/29 10:05:18 WARN RowBasedKeyValueBatch: Calling spill() on RowBasedKeyValueBatch. Will not spill but return 0.\n",
      "22/04/29 10:05:22 WARN RowBasedKeyValueBatch: Calling spill() on RowBasedKeyValueBatch. Will not spill but return 0.\n",
      "22/04/29 10:05:22 WARN RowBasedKeyValueBatch: Calling spill() on RowBasedKeyValueBatch. Will not spill but return 0.\n",
      "22/04/29 10:05:22 WARN RowBasedKeyValueBatch: Calling spill() on RowBasedKeyValueBatch. Will not spill but return 0.\n",
      "22/04/29 10:05:22 WARN RowBasedKeyValueBatch: Calling spill() on RowBasedKeyValueBatch. Will not spill but return 0.\n",
      "22/04/29 10:05:24 WARN RowBasedKeyValueBatch: Calling spill() on RowBasedKeyValueBatch. Will not spill but return 0.\n",
      "22/04/29 10:05:24 WARN RowBasedKeyValueBatch: Calling spill() on RowBasedKeyValueBatch. Will not spill but return 0.\n",
      "22/04/29 10:05:27 WARN RowBasedKeyValueBatch: Calling spill() on RowBasedKeyValueBatch. Will not spill but return 0.\n",
      "22/04/29 10:05:27 WARN RowBasedKeyValueBatch: Calling spill() on RowBasedKeyValueBatch. Will not spill but return 0.\n",
      "22/04/29 10:05:29 WARN RowBasedKeyValueBatch: Calling spill() on RowBasedKeyValueBatch. Will not spill but return 0.\n",
      "22/04/29 10:05:29 WARN RowBasedKeyValueBatch: Calling spill() on RowBasedKeyValueBatch. Will not spill but return 0.\n",
      "22/04/29 10:05:30 WARN RowBasedKeyValueBatch: Calling spill() on RowBasedKeyValueBatch. Will not spill but return 0.\n",
      "22/04/29 10:05:30 WARN RowBasedKeyValueBatch: Calling spill() on RowBasedKeyValueBatch. Will not spill but return 0.\n",
      "22/04/29 10:05:33 WARN RowBasedKeyValueBatch: Calling spill() on RowBasedKeyValueBatch. Will not spill but return 0.\n",
      "22/04/29 10:05:33 WARN RowBasedKeyValueBatch: Calling spill() on RowBasedKeyValueBatch. Will not spill but return 0.\n",
      "22/04/29 10:05:35 WARN RowBasedKeyValueBatch: Calling spill() on RowBasedKeyValueBatch. Will not spill but return 0.\n",
      "22/04/29 10:05:35 WARN RowBasedKeyValueBatch: Calling spill() on RowBasedKeyValueBatch. Will not spill but return 0.\n",
      "22/04/29 10:05:38 WARN RowBasedKeyValueBatch: Calling spill() on RowBasedKeyValueBatch. Will not spill but return 0.\n",
      "22/04/29 10:05:38 WARN RowBasedKeyValueBatch: Calling spill() on RowBasedKeyValueBatch. Will not spill but return 0.\n",
      "22/04/29 10:05:38 WARN RowBasedKeyValueBatch: Calling spill() on RowBasedKeyValueBatch. Will not spill but return 0.\n",
      "22/04/29 10:05:38 WARN RowBasedKeyValueBatch: Calling spill() on RowBasedKeyValueBatch. Will not spill but return 0.\n",
      "22/04/29 10:05:40 WARN RowBasedKeyValueBatch: Calling spill() on RowBasedKeyValueBatch. Will not spill but return 0.\n",
      "22/04/29 10:05:40 WARN RowBasedKeyValueBatch: Calling spill() on RowBasedKeyValueBatch. Will not spill but return 0.\n",
      "22/04/29 10:09:01 WARN BlockManager: Asked to remove block broadcast_303_piece0, which does not exist\n",
      "22/04/29 10:09:01 WARN BlockManager: Asked to remove block broadcast_303, which does not exist\n",
      "22/04/29 10:09:28 WARN MemoryStore: Not enough space to cache rdd_54_2 in memory! (computed 102.6 MiB so far)\n",
      "22/04/29 10:09:28 WARN MemoryStore: Not enough space to cache rdd_54_0 in memory! (computed 102.6 MiB so far)\n",
      "22/04/29 10:09:29 WARN MemoryStore: Not enough space to cache rdd_54_1 in memory! (computed 102.6 MiB so far)\n",
      "22/04/29 10:09:29 WARN RowBasedKeyValueBatch: Calling spill() on RowBasedKeyValueBatch. Will not spill but return 0.\n",
      "22/04/29 10:09:29 WARN RowBasedKeyValueBatch: Calling spill() on RowBasedKeyValueBatch. Will not spill but return 0.\n",
      "22/04/29 10:09:29 WARN RowBasedKeyValueBatch: Calling spill() on RowBasedKeyValueBatch. Will not spill but return 0.\n",
      "22/04/29 10:09:29 WARN RowBasedKeyValueBatch: Calling spill() on RowBasedKeyValueBatch. Will not spill but return 0.\n",
      "22/04/29 10:09:29 WARN RowBasedKeyValueBatch: Calling spill() on RowBasedKeyValueBatch. Will not spill but return 0.\n",
      "22/04/29 10:09:29 WARN RowBasedKeyValueBatch: Calling spill() on RowBasedKeyValueBatch. Will not spill but return 0.\n",
      "22/04/29 10:09:29 WARN RowBasedKeyValueBatch: Calling spill() on RowBasedKeyValueBatch. Will not spill but return 0.\n",
      "22/04/29 10:09:29 WARN RowBasedKeyValueBatch: Calling spill() on RowBasedKeyValueBatch. Will not spill but return 0.\n",
      "22/04/29 10:09:29 WARN RowBasedKeyValueBatch: Calling spill() on RowBasedKeyValueBatch. Will not spill but return 0.\n",
      "22/04/29 10:09:29 WARN RowBasedKeyValueBatch: Calling spill() on RowBasedKeyValueBatch. Will not spill but return 0.\n",
      "22/04/29 10:09:29 WARN RowBasedKeyValueBatch: Calling spill() on RowBasedKeyValueBatch. Will not spill but return 0.\n",
      "22/04/29 10:09:29 WARN RowBasedKeyValueBatch: Calling spill() on RowBasedKeyValueBatch. Will not spill but return 0.\n",
      "22/04/29 10:09:29 WARN RowBasedKeyValueBatch: Calling spill() on RowBasedKeyValueBatch. Will not spill but return 0.\n",
      "22/04/29 10:09:30 WARN RowBasedKeyValueBatch: Calling spill() on RowBasedKeyValueBatch. Will not spill but return 0.\n",
      "22/04/29 10:09:30 WARN RowBasedKeyValueBatch: Calling spill() on RowBasedKeyValueBatch. Will not spill but return 0.\n",
      "22/04/29 10:09:30 WARN RowBasedKeyValueBatch: Calling spill() on RowBasedKeyValueBatch. Will not spill but return 0.\n",
      "22/04/29 10:09:30 WARN RowBasedKeyValueBatch: Calling spill() on RowBasedKeyValueBatch. Will not spill but return 0.\n",
      "22/04/29 10:09:30 WARN RowBasedKeyValueBatch: Calling spill() on RowBasedKeyValueBatch. Will not spill but return 0.\n",
      "22/04/29 10:09:30 WARN RowBasedKeyValueBatch: Calling spill() on RowBasedKeyValueBatch. Will not spill but return 0.\n",
      "22/04/29 10:09:30 WARN RowBasedKeyValueBatch: Calling spill() on RowBasedKeyValueBatch. Will not spill but return 0.\n",
      "22/04/29 10:09:30 WARN RowBasedKeyValueBatch: Calling spill() on RowBasedKeyValueBatch. Will not spill but return 0.\n",
      "22/04/29 10:09:30 WARN RowBasedKeyValueBatch: Calling spill() on RowBasedKeyValueBatch. Will not spill but return 0.\n",
      "22/04/29 10:09:30 WARN RowBasedKeyValueBatch: Calling spill() on RowBasedKeyValueBatch. Will not spill but return 0.\n",
      "22/04/29 10:09:30 WARN RowBasedKeyValueBatch: Calling spill() on RowBasedKeyValueBatch. Will not spill but return 0.\n",
      "22/04/29 10:09:31 WARN RowBasedKeyValueBatch: Calling spill() on RowBasedKeyValueBatch. Will not spill but return 0.\n",
      "22/04/29 10:09:31 WARN RowBasedKeyValueBatch: Calling spill() on RowBasedKeyValueBatch. Will not spill but return 0.\n",
      "22/04/29 10:09:31 WARN RowBasedKeyValueBatch: Calling spill() on RowBasedKeyValueBatch. Will not spill but return 0.\n",
      "22/04/29 10:09:31 WARN RowBasedKeyValueBatch: Calling spill() on RowBasedKeyValueBatch. Will not spill but return 0.\n",
      "22/04/29 10:09:31 WARN RowBasedKeyValueBatch: Calling spill() on RowBasedKeyValueBatch. Will not spill but return 0.\n",
      "22/04/29 10:09:31 WARN RowBasedKeyValueBatch: Calling spill() on RowBasedKeyValueBatch. Will not spill but return 0.\n",
      "22/04/29 10:09:31 WARN RowBasedKeyValueBatch: Calling spill() on RowBasedKeyValueBatch. Will not spill but return 0.\n",
      "22/04/29 10:09:31 WARN RowBasedKeyValueBatch: Calling spill() on RowBasedKeyValueBatch. Will not spill but return 0.\n",
      "22/04/29 10:09:31 WARN RowBasedKeyValueBatch: Calling spill() on RowBasedKeyValueBatch. Will not spill but return 0.\n",
      "22/04/29 10:09:31 WARN RowBasedKeyValueBatch: Calling spill() on RowBasedKeyValueBatch. Will not spill but return 0.\n",
      "22/04/29 10:09:31 WARN RowBasedKeyValueBatch: Calling spill() on RowBasedKeyValueBatch. Will not spill but return 0.\n",
      "22/04/29 10:09:31 WARN RowBasedKeyValueBatch: Calling spill() on RowBasedKeyValueBatch. Will not spill but return 0.\n",
      "22/04/29 10:09:31 WARN RowBasedKeyValueBatch: Calling spill() on RowBasedKeyValueBatch. Will not spill but return 0.\n",
      "22/04/29 10:09:31 WARN RowBasedKeyValueBatch: Calling spill() on RowBasedKeyValueBatch. Will not spill but return 0.\n",
      "22/04/29 10:09:31 WARN RowBasedKeyValueBatch: Calling spill() on RowBasedKeyValueBatch. Will not spill but return 0.\n",
      "22/04/29 10:09:31 WARN RowBasedKeyValueBatch: Calling spill() on RowBasedKeyValueBatch. Will not spill but return 0.\n",
      "22/04/29 10:09:31 WARN RowBasedKeyValueBatch: Calling spill() on RowBasedKeyValueBatch. Will not spill but return 0.\n",
      "22/04/29 10:09:32 WARN RowBasedKeyValueBatch: Calling spill() on RowBasedKeyValueBatch. Will not spill but return 0.\n",
      "22/04/29 10:09:32 WARN RowBasedKeyValueBatch: Calling spill() on RowBasedKeyValueBatch. Will not spill but return 0.\n",
      "22/04/29 10:09:32 WARN RowBasedKeyValueBatch: Calling spill() on RowBasedKeyValueBatch. Will not spill but return 0.\n",
      "22/04/29 10:09:32 WARN RowBasedKeyValueBatch: Calling spill() on RowBasedKeyValueBatch. Will not spill but return 0.\n",
      "22/04/29 10:09:32 WARN RowBasedKeyValueBatch: Calling spill() on RowBasedKeyValueBatch. Will not spill but return 0.\n",
      "22/04/29 10:09:32 WARN RowBasedKeyValueBatch: Calling spill() on RowBasedKeyValueBatch. Will not spill but return 0.\n",
      "22/04/29 10:09:32 WARN RowBasedKeyValueBatch: Calling spill() on RowBasedKeyValueBatch. Will not spill but return 0.\n",
      "22/04/29 10:09:32 WARN RowBasedKeyValueBatch: Calling spill() on RowBasedKeyValueBatch. Will not spill but return 0.\n",
      "22/04/29 10:09:32 WARN RowBasedKeyValueBatch: Calling spill() on RowBasedKeyValueBatch. Will not spill but return 0.\n",
      "22/04/29 10:09:32 WARN RowBasedKeyValueBatch: Calling spill() on RowBasedKeyValueBatch. Will not spill but return 0.\n",
      "22/04/29 10:09:32 WARN RowBasedKeyValueBatch: Calling spill() on RowBasedKeyValueBatch. Will not spill but return 0.\n",
      "22/04/29 10:09:32 WARN RowBasedKeyValueBatch: Calling spill() on RowBasedKeyValueBatch. Will not spill but return 0.\n",
      "22/04/29 10:09:32 WARN RowBasedKeyValueBatch: Calling spill() on RowBasedKeyValueBatch. Will not spill but return 0.\n",
      "22/04/29 10:09:32 WARN RowBasedKeyValueBatch: Calling spill() on RowBasedKeyValueBatch. Will not spill but return 0.\n",
      "22/04/29 10:09:32 WARN RowBasedKeyValueBatch: Calling spill() on RowBasedKeyValueBatch. Will not spill but return 0.\n",
      "22/04/29 10:09:32 WARN RowBasedKeyValueBatch: Calling spill() on RowBasedKeyValueBatch. Will not spill but return 0.\n",
      "22/04/29 10:09:32 WARN RowBasedKeyValueBatch: Calling spill() on RowBasedKeyValueBatch. Will not spill but return 0.\n",
      "22/04/29 10:09:32 WARN RowBasedKeyValueBatch: Calling spill() on RowBasedKeyValueBatch. Will not spill but return 0.\n",
      "22/04/29 10:09:32 WARN RowBasedKeyValueBatch: Calling spill() on RowBasedKeyValueBatch. Will not spill but return 0.\n",
      "22/04/29 10:09:33 WARN RowBasedKeyValueBatch: Calling spill() on RowBasedKeyValueBatch. Will not spill but return 0.\n",
      "22/04/29 10:09:33 WARN RowBasedKeyValueBatch: Calling spill() on RowBasedKeyValueBatch. Will not spill but return 0.\n",
      "22/04/29 10:09:33 WARN RowBasedKeyValueBatch: Calling spill() on RowBasedKeyValueBatch. Will not spill but return 0.\n",
      "22/04/29 10:09:33 WARN RowBasedKeyValueBatch: Calling spill() on RowBasedKeyValueBatch. Will not spill but return 0.\n",
      "22/04/29 10:09:33 WARN RowBasedKeyValueBatch: Calling spill() on RowBasedKeyValueBatch. Will not spill but return 0.\n",
      "22/04/29 10:09:33 WARN RowBasedKeyValueBatch: Calling spill() on RowBasedKeyValueBatch. Will not spill but return 0.\n",
      "22/04/29 10:09:33 WARN RowBasedKeyValueBatch: Calling spill() on RowBasedKeyValueBatch. Will not spill but return 0.\n",
      "22/04/29 10:09:33 WARN RowBasedKeyValueBatch: Calling spill() on RowBasedKeyValueBatch. Will not spill but return 0.\n",
      "22/04/29 10:09:33 WARN RowBasedKeyValueBatch: Calling spill() on RowBasedKeyValueBatch. Will not spill but return 0.\n",
      "22/04/29 10:09:33 WARN RowBasedKeyValueBatch: Calling spill() on RowBasedKeyValueBatch. Will not spill but return 0.\n",
      "22/04/29 10:09:33 WARN RowBasedKeyValueBatch: Calling spill() on RowBasedKeyValueBatch. Will not spill but return 0.\n",
      "22/04/29 10:09:33 WARN RowBasedKeyValueBatch: Calling spill() on RowBasedKeyValueBatch. Will not spill but return 0.\n",
      "22/04/29 10:09:33 WARN RowBasedKeyValueBatch: Calling spill() on RowBasedKeyValueBatch. Will not spill but return 0.\n",
      "22/04/29 10:09:33 WARN RowBasedKeyValueBatch: Calling spill() on RowBasedKeyValueBatch. Will not spill but return 0.\n",
      "22/04/29 10:09:33 WARN RowBasedKeyValueBatch: Calling spill() on RowBasedKeyValueBatch. Will not spill but return 0.\n",
      "22/04/29 10:09:33 WARN RowBasedKeyValueBatch: Calling spill() on RowBasedKeyValueBatch. Will not spill but return 0.\n",
      "22/04/29 10:09:33 WARN RowBasedKeyValueBatch: Calling spill() on RowBasedKeyValueBatch. Will not spill but return 0.\n",
      "22/04/29 10:09:34 WARN RowBasedKeyValueBatch: Calling spill() on RowBasedKeyValueBatch. Will not spill but return 0.\n",
      "22/04/29 10:09:34 WARN RowBasedKeyValueBatch: Calling spill() on RowBasedKeyValueBatch. Will not spill but return 0.\n",
      "22/04/29 10:09:34 WARN RowBasedKeyValueBatch: Calling spill() on RowBasedKeyValueBatch. Will not spill but return 0.\n",
      "22/04/29 10:09:34 WARN RowBasedKeyValueBatch: Calling spill() on RowBasedKeyValueBatch. Will not spill but return 0.\n",
      "22/04/29 10:09:34 WARN RowBasedKeyValueBatch: Calling spill() on RowBasedKeyValueBatch. Will not spill but return 0.\n",
      "22/04/29 10:09:34 WARN RowBasedKeyValueBatch: Calling spill() on RowBasedKeyValueBatch. Will not spill but return 0.\n",
      "22/04/29 10:09:34 WARN RowBasedKeyValueBatch: Calling spill() on RowBasedKeyValueBatch. Will not spill but return 0.\n",
      "22/04/29 10:09:34 WARN RowBasedKeyValueBatch: Calling spill() on RowBasedKeyValueBatch. Will not spill but return 0.\n",
      "22/04/29 10:09:34 WARN RowBasedKeyValueBatch: Calling spill() on RowBasedKeyValueBatch. Will not spill but return 0.\n",
      "22/04/29 10:09:34 WARN RowBasedKeyValueBatch: Calling spill() on RowBasedKeyValueBatch. Will not spill but return 0.\n",
      "22/04/29 10:09:34 WARN RowBasedKeyValueBatch: Calling spill() on RowBasedKeyValueBatch. Will not spill but return 0.\n",
      "22/04/29 10:09:34 WARN RowBasedKeyValueBatch: Calling spill() on RowBasedKeyValueBatch. Will not spill but return 0.\n",
      "22/04/29 10:09:34 WARN RowBasedKeyValueBatch: Calling spill() on RowBasedKeyValueBatch. Will not spill but return 0.\n",
      "22/04/29 10:09:34 WARN RowBasedKeyValueBatch: Calling spill() on RowBasedKeyValueBatch. Will not spill but return 0.\n",
      "22/04/29 10:09:34 WARN RowBasedKeyValueBatch: Calling spill() on RowBasedKeyValueBatch. Will not spill but return 0.\n",
      "22/04/29 10:09:34 WARN RowBasedKeyValueBatch: Calling spill() on RowBasedKeyValueBatch. Will not spill but return 0.\n",
      "22/04/29 10:09:34 WARN RowBasedKeyValueBatch: Calling spill() on RowBasedKeyValueBatch. Will not spill but return 0.\n",
      "22/04/29 10:09:34 WARN RowBasedKeyValueBatch: Calling spill() on RowBasedKeyValueBatch. Will not spill but return 0.\n",
      "22/04/29 10:09:34 WARN RowBasedKeyValueBatch: Calling spill() on RowBasedKeyValueBatch. Will not spill but return 0.\n",
      "22/04/29 10:09:34 WARN RowBasedKeyValueBatch: Calling spill() on RowBasedKeyValueBatch. Will not spill but return 0.\n",
      "22/04/29 10:09:34 WARN RowBasedKeyValueBatch: Calling spill() on RowBasedKeyValueBatch. Will not spill but return 0.\n",
      "22/04/29 10:09:34 WARN RowBasedKeyValueBatch: Calling spill() on RowBasedKeyValueBatch. Will not spill but return 0.\n",
      "22/04/29 10:09:34 WARN RowBasedKeyValueBatch: Calling spill() on RowBasedKeyValueBatch. Will not spill but return 0.\n",
      "22/04/29 10:09:34 WARN RowBasedKeyValueBatch: Calling spill() on RowBasedKeyValueBatch. Will not spill but return 0.\n",
      "22/04/29 10:09:34 WARN RowBasedKeyValueBatch: Calling spill() on RowBasedKeyValueBatch. Will not spill but return 0.\n",
      "22/04/29 10:09:34 WARN RowBasedKeyValueBatch: Calling spill() on RowBasedKeyValueBatch. Will not spill but return 0.\n",
      "22/04/29 10:09:35 WARN RowBasedKeyValueBatch: Calling spill() on RowBasedKeyValueBatch. Will not spill but return 0.\n",
      "22/04/29 10:09:35 WARN RowBasedKeyValueBatch: Calling spill() on RowBasedKeyValueBatch. Will not spill but return 0.\n",
      "22/04/29 10:09:35 WARN RowBasedKeyValueBatch: Calling spill() on RowBasedKeyValueBatch. Will not spill but return 0.\n",
      "22/04/29 10:09:35 WARN RowBasedKeyValueBatch: Calling spill() on RowBasedKeyValueBatch. Will not spill but return 0.\n",
      "22/04/29 10:09:35 WARN RowBasedKeyValueBatch: Calling spill() on RowBasedKeyValueBatch. Will not spill but return 0.\n",
      "22/04/29 10:09:35 WARN RowBasedKeyValueBatch: Calling spill() on RowBasedKeyValueBatch. Will not spill but return 0.\n",
      "22/04/29 10:09:35 WARN RowBasedKeyValueBatch: Calling spill() on RowBasedKeyValueBatch. Will not spill but return 0.\n",
      "22/04/29 10:09:35 WARN RowBasedKeyValueBatch: Calling spill() on RowBasedKeyValueBatch. Will not spill but return 0.\n",
      "22/04/29 10:09:35 WARN RowBasedKeyValueBatch: Calling spill() on RowBasedKeyValueBatch. Will not spill but return 0.\n",
      "22/04/29 10:09:35 WARN RowBasedKeyValueBatch: Calling spill() on RowBasedKeyValueBatch. Will not spill but return 0.\n",
      "22/04/29 10:09:35 WARN RowBasedKeyValueBatch: Calling spill() on RowBasedKeyValueBatch. Will not spill but return 0.\n",
      "22/04/29 10:09:35 WARN RowBasedKeyValueBatch: Calling spill() on RowBasedKeyValueBatch. Will not spill but return 0.\n",
      "22/04/29 10:09:35 WARN RowBasedKeyValueBatch: Calling spill() on RowBasedKeyValueBatch. Will not spill but return 0.\n",
      "22/04/29 10:09:35 WARN RowBasedKeyValueBatch: Calling spill() on RowBasedKeyValueBatch. Will not spill but return 0.\n",
      "22/04/29 10:09:35 WARN RowBasedKeyValueBatch: Calling spill() on RowBasedKeyValueBatch. Will not spill but return 0.\n",
      "22/04/29 10:09:35 WARN RowBasedKeyValueBatch: Calling spill() on RowBasedKeyValueBatch. Will not spill but return 0.\n",
      "22/04/29 10:09:36 WARN RowBasedKeyValueBatch: Calling spill() on RowBasedKeyValueBatch. Will not spill but return 0.\n",
      "22/04/29 10:09:36 WARN RowBasedKeyValueBatch: Calling spill() on RowBasedKeyValueBatch. Will not spill but return 0.\n",
      "22/04/29 10:09:36 WARN RowBasedKeyValueBatch: Calling spill() on RowBasedKeyValueBatch. Will not spill but return 0.\n",
      "22/04/29 10:09:36 WARN RowBasedKeyValueBatch: Calling spill() on RowBasedKeyValueBatch. Will not spill but return 0.\n",
      "22/04/29 10:09:36 WARN RowBasedKeyValueBatch: Calling spill() on RowBasedKeyValueBatch. Will not spill but return 0.\n",
      "22/04/29 10:09:36 WARN RowBasedKeyValueBatch: Calling spill() on RowBasedKeyValueBatch. Will not spill but return 0.\n",
      "22/04/29 10:09:36 WARN RowBasedKeyValueBatch: Calling spill() on RowBasedKeyValueBatch. Will not spill but return 0.\n",
      "22/04/29 10:09:36 WARN RowBasedKeyValueBatch: Calling spill() on RowBasedKeyValueBatch. Will not spill but return 0.\n",
      "22/04/29 10:09:36 WARN RowBasedKeyValueBatch: Calling spill() on RowBasedKeyValueBatch. Will not spill but return 0.\n",
      "22/04/29 10:09:36 WARN RowBasedKeyValueBatch: Calling spill() on RowBasedKeyValueBatch. Will not spill but return 0.\n",
      "22/04/29 10:09:36 WARN RowBasedKeyValueBatch: Calling spill() on RowBasedKeyValueBatch. Will not spill but return 0.\n",
      "22/04/29 10:09:36 WARN RowBasedKeyValueBatch: Calling spill() on RowBasedKeyValueBatch. Will not spill but return 0.\n",
      "22/04/29 10:09:37 WARN RowBasedKeyValueBatch: Calling spill() on RowBasedKeyValueBatch. Will not spill but return 0.\n",
      "22/04/29 10:09:37 WARN RowBasedKeyValueBatch: Calling spill() on RowBasedKeyValueBatch. Will not spill but return 0.\n",
      "22/04/29 10:09:37 WARN RowBasedKeyValueBatch: Calling spill() on RowBasedKeyValueBatch. Will not spill but return 0.\n",
      "22/04/29 10:09:37 WARN RowBasedKeyValueBatch: Calling spill() on RowBasedKeyValueBatch. Will not spill but return 0.\n",
      "22/04/29 10:09:37 WARN RowBasedKeyValueBatch: Calling spill() on RowBasedKeyValueBatch. Will not spill but return 0.\n",
      "22/04/29 10:09:37 WARN RowBasedKeyValueBatch: Calling spill() on RowBasedKeyValueBatch. Will not spill but return 0.\n",
      "22/04/29 10:09:37 WARN RowBasedKeyValueBatch: Calling spill() on RowBasedKeyValueBatch. Will not spill but return 0.\n",
      "22/04/29 10:09:37 WARN RowBasedKeyValueBatch: Calling spill() on RowBasedKeyValueBatch. Will not spill but return 0.\n",
      "22/04/29 10:09:37 WARN RowBasedKeyValueBatch: Calling spill() on RowBasedKeyValueBatch. Will not spill but return 0.\n",
      "22/04/29 10:09:37 WARN RowBasedKeyValueBatch: Calling spill() on RowBasedKeyValueBatch. Will not spill but return 0.\n",
      "22/04/29 10:09:37 WARN RowBasedKeyValueBatch: Calling spill() on RowBasedKeyValueBatch. Will not spill but return 0.\n",
      "22/04/29 10:09:37 WARN RowBasedKeyValueBatch: Calling spill() on RowBasedKeyValueBatch. Will not spill but return 0.\n",
      "22/04/29 10:09:38 WARN RowBasedKeyValueBatch: Calling spill() on RowBasedKeyValueBatch. Will not spill but return 0.\n",
      "22/04/29 10:09:38 WARN RowBasedKeyValueBatch: Calling spill() on RowBasedKeyValueBatch. Will not spill but return 0.\n",
      "22/04/29 10:09:38 WARN RowBasedKeyValueBatch: Calling spill() on RowBasedKeyValueBatch. Will not spill but return 0.\n",
      "22/04/29 10:09:38 WARN RowBasedKeyValueBatch: Calling spill() on RowBasedKeyValueBatch. Will not spill but return 0.\n",
      "22/04/29 10:09:38 WARN RowBasedKeyValueBatch: Calling spill() on RowBasedKeyValueBatch. Will not spill but return 0.\n",
      "22/04/29 10:09:38 WARN RowBasedKeyValueBatch: Calling spill() on RowBasedKeyValueBatch. Will not spill but return 0.\n",
      "22/04/29 10:09:38 WARN RowBasedKeyValueBatch: Calling spill() on RowBasedKeyValueBatch. Will not spill but return 0.\n",
      "22/04/29 10:09:38 WARN RowBasedKeyValueBatch: Calling spill() on RowBasedKeyValueBatch. Will not spill but return 0.\n",
      "22/04/29 10:09:38 WARN RowBasedKeyValueBatch: Calling spill() on RowBasedKeyValueBatch. Will not spill but return 0.\n",
      "22/04/29 10:09:38 WARN RowBasedKeyValueBatch: Calling spill() on RowBasedKeyValueBatch. Will not spill but return 0.\n",
      "22/04/29 10:09:38 WARN RowBasedKeyValueBatch: Calling spill() on RowBasedKeyValueBatch. Will not spill but return 0.\n",
      "22/04/29 10:09:38 WARN RowBasedKeyValueBatch: Calling spill() on RowBasedKeyValueBatch. Will not spill but return 0.\n",
      "22/04/29 10:09:39 WARN RowBasedKeyValueBatch: Calling spill() on RowBasedKeyValueBatch. Will not spill but return 0.\n",
      "22/04/29 10:09:39 WARN RowBasedKeyValueBatch: Calling spill() on RowBasedKeyValueBatch. Will not spill but return 0.\n",
      "22/04/29 10:09:39 WARN RowBasedKeyValueBatch: Calling spill() on RowBasedKeyValueBatch. Will not spill but return 0.\n",
      "22/04/29 10:09:39 WARN RowBasedKeyValueBatch: Calling spill() on RowBasedKeyValueBatch. Will not spill but return 0.\n",
      "22/04/29 10:09:39 WARN RowBasedKeyValueBatch: Calling spill() on RowBasedKeyValueBatch. Will not spill but return 0.\n",
      "22/04/29 10:09:39 WARN RowBasedKeyValueBatch: Calling spill() on RowBasedKeyValueBatch. Will not spill but return 0.\n",
      "22/04/29 10:09:39 WARN RowBasedKeyValueBatch: Calling spill() on RowBasedKeyValueBatch. Will not spill but return 0.\n",
      "22/04/29 10:09:39 WARN RowBasedKeyValueBatch: Calling spill() on RowBasedKeyValueBatch. Will not spill but return 0.\n",
      "22/04/29 10:09:39 WARN RowBasedKeyValueBatch: Calling spill() on RowBasedKeyValueBatch. Will not spill but return 0.\n",
      "22/04/29 10:09:39 WARN RowBasedKeyValueBatch: Calling spill() on RowBasedKeyValueBatch. Will not spill but return 0.\n",
      "22/04/29 10:09:39 WARN RowBasedKeyValueBatch: Calling spill() on RowBasedKeyValueBatch. Will not spill but return 0.\n",
      "22/04/29 10:09:40 WARN RowBasedKeyValueBatch: Calling spill() on RowBasedKeyValueBatch. Will not spill but return 0.\n",
      "22/04/29 10:09:40 WARN RowBasedKeyValueBatch: Calling spill() on RowBasedKeyValueBatch. Will not spill but return 0.\n",
      "22/04/29 10:09:40 WARN RowBasedKeyValueBatch: Calling spill() on RowBasedKeyValueBatch. Will not spill but return 0.\n",
      "22/04/29 10:09:40 WARN RowBasedKeyValueBatch: Calling spill() on RowBasedKeyValueBatch. Will not spill but return 0.\n",
      "22/04/29 10:09:40 WARN RowBasedKeyValueBatch: Calling spill() on RowBasedKeyValueBatch. Will not spill but return 0.\n",
      "22/04/29 10:09:40 WARN RowBasedKeyValueBatch: Calling spill() on RowBasedKeyValueBatch. Will not spill but return 0.\n",
      "22/04/29 10:09:40 WARN RowBasedKeyValueBatch: Calling spill() on RowBasedKeyValueBatch. Will not spill but return 0.\n",
      "22/04/29 10:09:40 WARN RowBasedKeyValueBatch: Calling spill() on RowBasedKeyValueBatch. Will not spill but return 0.\n",
      "22/04/29 10:09:40 WARN RowBasedKeyValueBatch: Calling spill() on RowBasedKeyValueBatch. Will not spill but return 0.\n",
      "22/04/29 10:09:40 WARN RowBasedKeyValueBatch: Calling spill() on RowBasedKeyValueBatch. Will not spill but return 0.\n",
      "22/04/29 10:09:41 WARN RowBasedKeyValueBatch: Calling spill() on RowBasedKeyValueBatch. Will not spill but return 0.\n",
      "22/04/29 10:09:41 WARN RowBasedKeyValueBatch: Calling spill() on RowBasedKeyValueBatch. Will not spill but return 0.\n",
      "22/04/29 10:09:41 WARN RowBasedKeyValueBatch: Calling spill() on RowBasedKeyValueBatch. Will not spill but return 0.\n",
      "22/04/29 10:09:41 WARN RowBasedKeyValueBatch: Calling spill() on RowBasedKeyValueBatch. Will not spill but return 0.\n",
      "22/04/29 10:09:41 WARN RowBasedKeyValueBatch: Calling spill() on RowBasedKeyValueBatch. Will not spill but return 0.\n",
      "22/04/29 10:09:41 WARN RowBasedKeyValueBatch: Calling spill() on RowBasedKeyValueBatch. Will not spill but return 0.\n",
      "22/04/29 10:09:41 WARN RowBasedKeyValueBatch: Calling spill() on RowBasedKeyValueBatch. Will not spill but return 0.\n",
      "22/04/29 10:09:41 WARN RowBasedKeyValueBatch: Calling spill() on RowBasedKeyValueBatch. Will not spill but return 0.\n",
      "22/04/29 10:09:41 WARN RowBasedKeyValueBatch: Calling spill() on RowBasedKeyValueBatch. Will not spill but return 0.\n",
      "22/04/29 10:09:42 WARN RowBasedKeyValueBatch: Calling spill() on RowBasedKeyValueBatch. Will not spill but return 0.\n",
      "22/04/29 10:09:42 WARN RowBasedKeyValueBatch: Calling spill() on RowBasedKeyValueBatch. Will not spill but return 0.\n",
      "22/04/29 10:09:42 WARN RowBasedKeyValueBatch: Calling spill() on RowBasedKeyValueBatch. Will not spill but return 0.\n",
      "22/04/29 10:09:42 WARN RowBasedKeyValueBatch: Calling spill() on RowBasedKeyValueBatch. Will not spill but return 0.\n",
      "22/04/29 10:09:42 WARN RowBasedKeyValueBatch: Calling spill() on RowBasedKeyValueBatch. Will not spill but return 0.\n",
      "22/04/29 10:09:42 WARN RowBasedKeyValueBatch: Calling spill() on RowBasedKeyValueBatch. Will not spill but return 0.\n",
      "22/04/29 10:09:46 ERROR Executor: Exception in task 2.0 in stage 738.0 (TID 4699)\n",
      "java.lang.OutOfMemoryError: Java heap space\n",
      "\tat org.apache.spark.util.collection.unsafe.sort.UnsafeSorterSpillReader.<init>(UnsafeSorterSpillReader.java:50)\n",
      "\tat org.apache.spark.util.collection.unsafe.sort.UnsafeSorterSpillWriter.getReader(UnsafeSorterSpillWriter.java:159)\n",
      "\tat org.apache.spark.util.collection.unsafe.sort.UnsafeExternalSorter.getSortedIterator(UnsafeExternalSorter.java:523)\n",
      "\tat org.apache.spark.sql.execution.UnsafeKVExternalSorter.sortedIterator(UnsafeKVExternalSorter.java:206)\n",
      "\tat org.apache.spark.sql.execution.aggregate.HashAggregateExec.finishAggregate(HashAggregateExec.scala:493)\n",
      "\tat org.apache.spark.sql.catalyst.expressions.GeneratedClass$GeneratedIteratorForCodegenStage3.agg_doAggregateWithKeys_0$(Unknown Source)\n",
      "\tat org.apache.spark.sql.catalyst.expressions.GeneratedClass$GeneratedIteratorForCodegenStage3.processNext(Unknown Source)\n",
      "\tat org.apache.spark.sql.execution.BufferedRowIterator.hasNext(BufferedRowIterator.java:43)\n",
      "\tat org.apache.spark.sql.execution.WholeStageCodegenExec$$anon$1.hasNext(WholeStageCodegenExec.scala:759)\n",
      "\tat scala.collection.Iterator$$anon$10.hasNext(Iterator.scala:460)\n",
      "\tat org.apache.spark.shuffle.sort.BypassMergeSortShuffleWriter.write(BypassMergeSortShuffleWriter.java:140)\n",
      "\tat org.apache.spark.shuffle.ShuffleWriteProcessor.write(ShuffleWriteProcessor.scala:59)\n",
      "\tat org.apache.spark.scheduler.ShuffleMapTask.runTask(ShuffleMapTask.scala:99)\n",
      "\tat org.apache.spark.scheduler.ShuffleMapTask.runTask(ShuffleMapTask.scala:52)\n",
      "\tat org.apache.spark.scheduler.Task.run(Task.scala:131)\n",
      "\tat org.apache.spark.executor.Executor$TaskRunner.$anonfun$run$3(Executor.scala:506)\n",
      "\tat org.apache.spark.executor.Executor$TaskRunner$$Lambda$2507/0x00000001010cb840.apply(Unknown Source)\n",
      "\tat org.apache.spark.util.Utils$.tryWithSafeFinally(Utils.scala:1462)\n",
      "\tat org.apache.spark.executor.Executor$TaskRunner.run(Executor.scala:509)\n",
      "\tat java.base/java.util.concurrent.ThreadPoolExecutor.runWorker(ThreadPoolExecutor.java:1128)\n",
      "\tat java.base/java.util.concurrent.ThreadPoolExecutor$Worker.run(ThreadPoolExecutor.java:628)\n",
      "\tat java.base/java.lang.Thread.run(Thread.java:830)\n",
      "22/04/29 10:09:46 ERROR SparkUncaughtExceptionHandler: Uncaught exception in thread Thread[Executor task launch worker for task 2.0 in stage 738.0 (TID 4699),5,main]\n",
      "java.lang.OutOfMemoryError: Java heap space\n",
      "\tat org.apache.spark.util.collection.unsafe.sort.UnsafeSorterSpillReader.<init>(UnsafeSorterSpillReader.java:50)\n",
      "\tat org.apache.spark.util.collection.unsafe.sort.UnsafeSorterSpillWriter.getReader(UnsafeSorterSpillWriter.java:159)\n",
      "\tat org.apache.spark.util.collection.unsafe.sort.UnsafeExternalSorter.getSortedIterator(UnsafeExternalSorter.java:523)\n",
      "\tat org.apache.spark.sql.execution.UnsafeKVExternalSorter.sortedIterator(UnsafeKVExternalSorter.java:206)\n",
      "\tat org.apache.spark.sql.execution.aggregate.HashAggregateExec.finishAggregate(HashAggregateExec.scala:493)\n",
      "\tat org.apache.spark.sql.catalyst.expressions.GeneratedClass$GeneratedIteratorForCodegenStage3.agg_doAggregateWithKeys_0$(Unknown Source)\n",
      "\tat org.apache.spark.sql.catalyst.expressions.GeneratedClass$GeneratedIteratorForCodegenStage3.processNext(Unknown Source)\n",
      "\tat org.apache.spark.sql.execution.BufferedRowIterator.hasNext(BufferedRowIterator.java:43)\n",
      "\tat org.apache.spark.sql.execution.WholeStageCodegenExec$$anon$1.hasNext(WholeStageCodegenExec.scala:759)\n",
      "\tat scala.collection.Iterator$$anon$10.hasNext(Iterator.scala:460)\n",
      "\tat org.apache.spark.shuffle.sort.BypassMergeSortShuffleWriter.write(BypassMergeSortShuffleWriter.java:140)\n",
      "\tat org.apache.spark.shuffle.ShuffleWriteProcessor.write(ShuffleWriteProcessor.scala:59)\n",
      "\tat org.apache.spark.scheduler.ShuffleMapTask.runTask(ShuffleMapTask.scala:99)\n",
      "\tat org.apache.spark.scheduler.ShuffleMapTask.runTask(ShuffleMapTask.scala:52)\n",
      "\tat org.apache.spark.scheduler.Task.run(Task.scala:131)\n",
      "\tat org.apache.spark.executor.Executor$TaskRunner.$anonfun$run$3(Executor.scala:506)\n",
      "\tat org.apache.spark.executor.Executor$TaskRunner$$Lambda$2507/0x00000001010cb840.apply(Unknown Source)\n",
      "\tat org.apache.spark.util.Utils$.tryWithSafeFinally(Utils.scala:1462)\n",
      "\tat org.apache.spark.executor.Executor$TaskRunner.run(Executor.scala:509)\n",
      "\tat java.base/java.util.concurrent.ThreadPoolExecutor.runWorker(ThreadPoolExecutor.java:1128)\n",
      "\tat java.base/java.util.concurrent.ThreadPoolExecutor$Worker.run(ThreadPoolExecutor.java:628)\n",
      "\tat java.base/java.lang.Thread.run(Thread.java:830)\n",
      "22/04/29 10:09:46 WARN TaskSetManager: Lost task 2.0 in stage 738.0 (TID 4699) (1berto executor driver): java.lang.OutOfMemoryError: Java heap space\n",
      "\tat org.apache.spark.util.collection.unsafe.sort.UnsafeSorterSpillReader.<init>(UnsafeSorterSpillReader.java:50)\n",
      "\tat org.apache.spark.util.collection.unsafe.sort.UnsafeSorterSpillWriter.getReader(UnsafeSorterSpillWriter.java:159)\n",
      "\tat org.apache.spark.util.collection.unsafe.sort.UnsafeExternalSorter.getSortedIterator(UnsafeExternalSorter.java:523)\n",
      "\tat org.apache.spark.sql.execution.UnsafeKVExternalSorter.sortedIterator(UnsafeKVExternalSorter.java:206)\n",
      "\tat org.apache.spark.sql.execution.aggregate.HashAggregateExec.finishAggregate(HashAggregateExec.scala:493)\n",
      "\tat org.apache.spark.sql.catalyst.expressions.GeneratedClass$GeneratedIteratorForCodegenStage3.agg_doAggregateWithKeys_0$(Unknown Source)\n",
      "\tat org.apache.spark.sql.catalyst.expressions.GeneratedClass$GeneratedIteratorForCodegenStage3.processNext(Unknown Source)\n",
      "\tat org.apache.spark.sql.execution.BufferedRowIterator.hasNext(BufferedRowIterator.java:43)\n",
      "\tat org.apache.spark.sql.execution.WholeStageCodegenExec$$anon$1.hasNext(WholeStageCodegenExec.scala:759)\n",
      "\tat scala.collection.Iterator$$anon$10.hasNext(Iterator.scala:460)\n",
      "\tat org.apache.spark.shuffle.sort.BypassMergeSortShuffleWriter.write(BypassMergeSortShuffleWriter.java:140)\n",
      "\tat org.apache.spark.shuffle.ShuffleWriteProcessor.write(ShuffleWriteProcessor.scala:59)\n",
      "\tat org.apache.spark.scheduler.ShuffleMapTask.runTask(ShuffleMapTask.scala:99)\n",
      "\tat org.apache.spark.scheduler.ShuffleMapTask.runTask(ShuffleMapTask.scala:52)\n",
      "\tat org.apache.spark.scheduler.Task.run(Task.scala:131)\n",
      "\tat org.apache.spark.executor.Executor$TaskRunner.$anonfun$run$3(Executor.scala:506)\n",
      "\tat org.apache.spark.executor.Executor$TaskRunner$$Lambda$2507/0x00000001010cb840.apply(Unknown Source)\n",
      "\tat org.apache.spark.util.Utils$.tryWithSafeFinally(Utils.scala:1462)\n",
      "\tat org.apache.spark.executor.Executor$TaskRunner.run(Executor.scala:509)\n",
      "\tat java.base/java.util.concurrent.ThreadPoolExecutor.runWorker(ThreadPoolExecutor.java:1128)\n",
      "\tat java.base/java.util.concurrent.ThreadPoolExecutor$Worker.run(ThreadPoolExecutor.java:628)\n",
      "\tat java.base/java.lang.Thread.run(Thread.java:830)\n",
      "\n",
      "22/04/29 10:09:46 ERROR TaskSetManager: Task 2 in stage 738.0 failed 1 times; aborting job\n",
      "22/04/29 10:09:46 WARN TaskSetManager: Lost task 1.0 in stage 738.0 (TID 4698) (1berto executor driver): TaskKilled (Stage cancelled)\n",
      "22/04/29 10:09:47 ERROR Instrumentation: org.apache.spark.SparkException: Job aborted due to stage failure: Task 2 in stage 738.0 failed 1 times, most recent failure: Lost task 2.0 in stage 738.0 (TID 4699) (1berto executor driver): java.lang.OutOfMemoryError: Java heap space\n",
      "\tat org.apache.spark.util.collection.unsafe.sort.UnsafeSorterSpillReader.<init>(UnsafeSorterSpillReader.java:50)\n",
      "\tat org.apache.spark.util.collection.unsafe.sort.UnsafeSorterSpillWriter.getReader(UnsafeSorterSpillWriter.java:159)\n",
      "\tat org.apache.spark.util.collection.unsafe.sort.UnsafeExternalSorter.getSortedIterator(UnsafeExternalSorter.java:523)\n",
      "\tat org.apache.spark.sql.execution.UnsafeKVExternalSorter.sortedIterator(UnsafeKVExternalSorter.java:206)\n",
      "\tat org.apache.spark.sql.execution.aggregate.HashAggregateExec.finishAggregate(HashAggregateExec.scala:493)\n",
      "\tat org.apache.spark.sql.catalyst.expressions.GeneratedClass$GeneratedIteratorForCodegenStage3.agg_doAggregateWithKeys_0$(Unknown Source)\n",
      "\tat org.apache.spark.sql.catalyst.expressions.GeneratedClass$GeneratedIteratorForCodegenStage3.processNext(Unknown Source)\n",
      "\tat org.apache.spark.sql.execution.BufferedRowIterator.hasNext(BufferedRowIterator.java:43)\n",
      "\tat org.apache.spark.sql.execution.WholeStageCodegenExec$$anon$1.hasNext(WholeStageCodegenExec.scala:759)\n",
      "\tat scala.collection.Iterator$$anon$10.hasNext(Iterator.scala:460)\n",
      "\tat org.apache.spark.shuffle.sort.BypassMergeSortShuffleWriter.write(BypassMergeSortShuffleWriter.java:140)\n",
      "\tat org.apache.spark.shuffle.ShuffleWriteProcessor.write(ShuffleWriteProcessor.scala:59)\n",
      "\tat org.apache.spark.scheduler.ShuffleMapTask.runTask(ShuffleMapTask.scala:99)\n",
      "\tat org.apache.spark.scheduler.ShuffleMapTask.runTask(ShuffleMapTask.scala:52)\n",
      "\tat org.apache.spark.scheduler.Task.run(Task.scala:131)\n",
      "\tat org.apache.spark.executor.Executor$TaskRunner.$anonfun$run$3(Executor.scala:506)\n",
      "\tat org.apache.spark.executor.Executor$TaskRunner$$Lambda$2507/0x00000001010cb840.apply(Unknown Source)\n",
      "\tat org.apache.spark.util.Utils$.tryWithSafeFinally(Utils.scala:1462)\n",
      "\tat org.apache.spark.executor.Executor$TaskRunner.run(Executor.scala:509)\n",
      "\tat java.base/java.util.concurrent.ThreadPoolExecutor.runWorker(ThreadPoolExecutor.java:1128)\n",
      "\tat java.base/java.util.concurrent.ThreadPoolExecutor$Worker.run(ThreadPoolExecutor.java:628)\n",
      "\tat java.base/java.lang.Thread.run(Thread.java:830)\n",
      "\n",
      "Driver stacktrace:\n",
      "\tat org.apache.spark.scheduler.DAGScheduler.failJobAndIndependentStages(DAGScheduler.scala:2454)\n",
      "\tat org.apache.spark.scheduler.DAGScheduler.$anonfun$abortStage$2(DAGScheduler.scala:2403)\n",
      "\tat org.apache.spark.scheduler.DAGScheduler.$anonfun$abortStage$2$adapted(DAGScheduler.scala:2402)\n",
      "\tat scala.collection.mutable.ResizableArray.foreach(ResizableArray.scala:62)\n",
      "\tat scala.collection.mutable.ResizableArray.foreach$(ResizableArray.scala:55)\n",
      "\tat scala.collection.mutable.ArrayBuffer.foreach(ArrayBuffer.scala:49)\n",
      "\tat org.apache.spark.scheduler.DAGScheduler.abortStage(DAGScheduler.scala:2402)\n",
      "\tat org.apache.spark.scheduler.DAGScheduler.$anonfun$handleTaskSetFailed$1(DAGScheduler.scala:1160)\n",
      "\tat org.apache.spark.scheduler.DAGScheduler.$anonfun$handleTaskSetFailed$1$adapted(DAGScheduler.scala:1160)\n",
      "\tat scala.Option.foreach(Option.scala:407)\n",
      "\tat org.apache.spark.scheduler.DAGScheduler.handleTaskSetFailed(DAGScheduler.scala:1160)\n",
      "\tat org.apache.spark.scheduler.DAGSchedulerEventProcessLoop.doOnReceive(DAGScheduler.scala:2642)\n",
      "\tat org.apache.spark.scheduler.DAGSchedulerEventProcessLoop.onReceive(DAGScheduler.scala:2584)\n",
      "\tat org.apache.spark.scheduler.DAGSchedulerEventProcessLoop.onReceive(DAGScheduler.scala:2573)\n",
      "\tat org.apache.spark.util.EventLoop$$anon$1.run(EventLoop.scala:49)\n",
      "Caused by: java.lang.OutOfMemoryError: Java heap space\n",
      "\tat org.apache.spark.util.collection.unsafe.sort.UnsafeSorterSpillReader.<init>(UnsafeSorterSpillReader.java:50)\n",
      "\tat org.apache.spark.util.collection.unsafe.sort.UnsafeSorterSpillWriter.getReader(UnsafeSorterSpillWriter.java:159)\n",
      "\tat org.apache.spark.util.collection.unsafe.sort.UnsafeExternalSorter.getSortedIterator(UnsafeExternalSorter.java:523)\n",
      "\tat org.apache.spark.sql.execution.UnsafeKVExternalSorter.sortedIterator(UnsafeKVExternalSorter.java:206)\n",
      "\tat org.apache.spark.sql.execution.aggregate.HashAggregateExec.finishAggregate(HashAggregateExec.scala:493)\n",
      "\tat org.apache.spark.sql.catalyst.expressions.GeneratedClass$GeneratedIteratorForCodegenStage3.agg_doAggregateWithKeys_0$(Unknown Source)\n",
      "\tat org.apache.spark.sql.catalyst.expressions.GeneratedClass$GeneratedIteratorForCodegenStage3.processNext(Unknown Source)\n",
      "\tat org.apache.spark.sql.execution.BufferedRowIterator.hasNext(BufferedRowIterator.java:43)\n",
      "\tat org.apache.spark.sql.execution.WholeStageCodegenExec$$anon$1.hasNext(WholeStageCodegenExec.scala:759)\n",
      "\tat scala.collection.Iterator$$anon$10.hasNext(Iterator.scala:460)\n",
      "\tat org.apache.spark.shuffle.sort.BypassMergeSortShuffleWriter.write(BypassMergeSortShuffleWriter.java:140)\n",
      "\tat org.apache.spark.shuffle.ShuffleWriteProcessor.write(ShuffleWriteProcessor.scala:59)\n",
      "\tat org.apache.spark.scheduler.ShuffleMapTask.runTask(ShuffleMapTask.scala:99)\n",
      "\tat org.apache.spark.scheduler.ShuffleMapTask.runTask(ShuffleMapTask.scala:52)\n",
      "\tat org.apache.spark.scheduler.Task.run(Task.scala:131)\n",
      "\tat org.apache.spark.executor.Executor$TaskRunner.$anonfun$run$3(Executor.scala:506)\n",
      "\tat org.apache.spark.executor.Executor$TaskRunner$$Lambda$2507/0x00000001010cb840.apply(Unknown Source)\n",
      "\tat org.apache.spark.util.Utils$.tryWithSafeFinally(Utils.scala:1462)\n",
      "\tat org.apache.spark.executor.Executor$TaskRunner.run(Executor.scala:509)\n",
      "\tat java.base/java.util.concurrent.ThreadPoolExecutor.runWorker(ThreadPoolExecutor.java:1128)\n",
      "\tat java.base/java.util.concurrent.ThreadPoolExecutor$Worker.run(ThreadPoolExecutor.java:628)\n",
      "\tat java.base/java.lang.Thread.run(Thread.java:830)\n",
      "\n",
      "22/04/29 10:09:47 WARN TaskSetManager: Lost task 0.0 in stage 738.0 (TID 4697) (1berto executor driver): TaskKilled (Stage cancelled)\n",
      "22/04/29 10:09:47 WARN TaskSetManager: Lost task 3.0 in stage 738.0 (TID 4700) (1berto executor driver): TaskKilled (Stage cancelled)\n",
      "ERROR:root:Exception while sending command.\n",
      "Traceback (most recent call last):\n",
      "  File \"/home/humberto/.pyenv/versions/3.8.0/envs/pyspark/lib/python3.8/site-packages/py4j/clientserver.py\", line 480, in send_command\n",
      "    raise Py4JNetworkError(\"Answer from Java side is empty\")\n",
      "py4j.protocol.Py4JNetworkError: Answer from Java side is empty\n",
      "\n",
      "During handling of the above exception, another exception occurred:\n",
      "\n",
      "Traceback (most recent call last):\n",
      "  File \"/home/humberto/.pyenv/versions/3.8.0/envs/pyspark/lib/python3.8/site-packages/py4j/java_gateway.py\", line 1038, in send_command\n",
      "    response = connection.send_command(command)\n",
      "  File \"/home/humberto/.pyenv/versions/3.8.0/envs/pyspark/lib/python3.8/site-packages/py4j/clientserver.py\", line 503, in send_command\n",
      "    raise Py4JNetworkError(\n",
      "py4j.protocol.Py4JNetworkError: Error while sending or receiving\n",
      "ERROR:root:Exception while sending command.\n",
      "Traceback (most recent call last):\n",
      "  File \"/home/humberto/.pyenv/versions/3.8.0/envs/pyspark/lib/python3.8/site-packages/IPython/core/interactiveshell.py\", line 3251, in run_code\n",
      "    exec(code_obj, self.user_global_ns, self.user_ns)\n",
      "  File \"/tmp/ipykernel_10435/3866761602.py\", line 5, in <module>\n",
      "    model_0 = logistic_pipe.fit(train_df)\n",
      "  File \"/home/humberto/.pyenv/versions/3.8.0/envs/pyspark/lib/python3.8/site-packages/pyspark/ml/base.py\", line 161, in fit\n",
      "    return self._fit(dataset)\n",
      "  File \"/home/humberto/.pyenv/versions/3.8.0/envs/pyspark/lib/python3.8/site-packages/pyspark/ml/pipeline.py\", line 114, in _fit\n",
      "    model = stage.fit(dataset)\n",
      "  File \"/home/humberto/.pyenv/versions/3.8.0/envs/pyspark/lib/python3.8/site-packages/pyspark/ml/base.py\", line 161, in fit\n",
      "    return self._fit(dataset)\n",
      "  File \"/home/humberto/.pyenv/versions/3.8.0/envs/pyspark/lib/python3.8/site-packages/pyspark/ml/wrapper.py\", line 335, in _fit\n",
      "    java_model = self._fit_java(dataset)\n",
      "  File \"/home/humberto/.pyenv/versions/3.8.0/envs/pyspark/lib/python3.8/site-packages/pyspark/ml/wrapper.py\", line 332, in _fit_java\n",
      "    return self._java_obj.fit(dataset._jdf)\n",
      "  File \"/home/humberto/.pyenv/versions/3.8.0/envs/pyspark/lib/python3.8/site-packages/py4j/java_gateway.py\", line 1321, in __call__\n",
      "    return_value = get_return_value(\n",
      "  File \"/home/humberto/.pyenv/versions/3.8.0/envs/pyspark/lib/python3.8/site-packages/pyspark/sql/utils.py\", line 111, in deco\n",
      "    return f(*a, **kw)\n",
      "  File \"/home/humberto/.pyenv/versions/3.8.0/envs/pyspark/lib/python3.8/site-packages/py4j/protocol.py\", line 326, in get_return_value\n",
      "    raise Py4JJavaError(\n",
      "py4j.protocol.Py4JJavaError: <unprintable Py4JJavaError object>\n",
      "\n",
      "During handling of the above exception, another exception occurred:\n",
      "\n",
      "Traceback (most recent call last):\n",
      "  File \"/home/humberto/.pyenv/versions/3.8.0/envs/pyspark/lib/python3.8/site-packages/IPython/core/interactiveshell.py\", line 1934, in showtraceback\n",
      "    stb = value._render_traceback_()\n",
      "AttributeError: 'Py4JJavaError' object has no attribute '_render_traceback_'\n",
      "\n",
      "During handling of the above exception, another exception occurred:\n",
      "\n",
      "Traceback (most recent call last):\n",
      "  File \"/home/humberto/.pyenv/versions/3.8.0/envs/pyspark/lib/python3.8/site-packages/py4j/clientserver.py\", line 480, in send_command\n",
      "    raise Py4JNetworkError(\"Answer from Java side is empty\")\n",
      "py4j.protocol.Py4JNetworkError: Answer from Java side is empty\n",
      "\n",
      "During handling of the above exception, another exception occurred:\n",
      "\n",
      "Traceback (most recent call last):\n",
      "  File \"/home/humberto/.pyenv/versions/3.8.0/envs/pyspark/lib/python3.8/site-packages/py4j/java_gateway.py\", line 1038, in send_command\n",
      "    response = connection.send_command(command)\n",
      "  File \"/home/humberto/.pyenv/versions/3.8.0/envs/pyspark/lib/python3.8/site-packages/py4j/clientserver.py\", line 503, in send_command\n",
      "    raise Py4JNetworkError(\n",
      "py4j.protocol.Py4JNetworkError: Error while sending or receiving\n"
     ]
    },
    {
     "ename": "ConnectionRefusedError",
     "evalue": "[Errno 111] Connection refused",
     "output_type": "error",
     "traceback": [
      "\u001b[0;31m---------------------------------------------------------------------------\u001b[0m",
      "\u001b[0;31mPy4JJavaError\u001b[0m                             Traceback (most recent call last)",
      "    \u001b[0;31m[... skipping hidden 1 frame]\u001b[0m\n",
      "\u001b[1;32m/home/humberto/DS/fraud_detection/notebooks/c03-ml-flow.ipynb Cell 93'\u001b[0m in \u001b[0;36m<module>\u001b[0;34m\u001b[0m\n\u001b[1;32m      <a href='vscode-notebook-cell:/home/humberto/DS/fraud_detection/notebooks/c03-ml-flow.ipynb#ch0000126?line=2'>3</a>\u001b[0m train_df \u001b[39m=\u001b[39m d1\u001b[39m.\u001b[39munionAll(d2)\n\u001b[0;32m----> <a href='vscode-notebook-cell:/home/humberto/DS/fraud_detection/notebooks/c03-ml-flow.ipynb#ch0000126?line=4'>5</a>\u001b[0m model_0 \u001b[39m=\u001b[39m logistic_pipe\u001b[39m.\u001b[39;49mfit(train_df)\n\u001b[1;32m      <a href='vscode-notebook-cell:/home/humberto/DS/fraud_detection/notebooks/c03-ml-flow.ipynb#ch0000126?line=5'>6</a>\u001b[0m results_0 \u001b[39m=\u001b[39m model_0\u001b[39m.\u001b[39mtransform(val_df)\n",
      "File \u001b[0;32m~/.pyenv/versions/3.8.0/envs/pyspark/lib/python3.8/site-packages/pyspark/ml/base.py:161\u001b[0m, in \u001b[0;36mEstimator.fit\u001b[0;34m(self, dataset, params)\u001b[0m\n\u001b[1;32m    <a href='file:///home/humberto/.pyenv/versions/3.8.0/envs/pyspark/lib/python3.8/site-packages/pyspark/ml/base.py?line=159'>160</a>\u001b[0m     \u001b[39melse\u001b[39;00m:\n\u001b[0;32m--> <a href='file:///home/humberto/.pyenv/versions/3.8.0/envs/pyspark/lib/python3.8/site-packages/pyspark/ml/base.py?line=160'>161</a>\u001b[0m         \u001b[39mreturn\u001b[39;00m \u001b[39mself\u001b[39;49m\u001b[39m.\u001b[39;49m_fit(dataset)\n\u001b[1;32m    <a href='file:///home/humberto/.pyenv/versions/3.8.0/envs/pyspark/lib/python3.8/site-packages/pyspark/ml/base.py?line=161'>162</a>\u001b[0m \u001b[39melse\u001b[39;00m:\n",
      "File \u001b[0;32m~/.pyenv/versions/3.8.0/envs/pyspark/lib/python3.8/site-packages/pyspark/ml/pipeline.py:114\u001b[0m, in \u001b[0;36mPipeline._fit\u001b[0;34m(self, dataset)\u001b[0m\n\u001b[1;32m    <a href='file:///home/humberto/.pyenv/versions/3.8.0/envs/pyspark/lib/python3.8/site-packages/pyspark/ml/pipeline.py?line=112'>113</a>\u001b[0m \u001b[39melse\u001b[39;00m:  \u001b[39m# must be an Estimator\u001b[39;00m\n\u001b[0;32m--> <a href='file:///home/humberto/.pyenv/versions/3.8.0/envs/pyspark/lib/python3.8/site-packages/pyspark/ml/pipeline.py?line=113'>114</a>\u001b[0m     model \u001b[39m=\u001b[39m stage\u001b[39m.\u001b[39;49mfit(dataset)\n\u001b[1;32m    <a href='file:///home/humberto/.pyenv/versions/3.8.0/envs/pyspark/lib/python3.8/site-packages/pyspark/ml/pipeline.py?line=114'>115</a>\u001b[0m     transformers\u001b[39m.\u001b[39mappend(model)\n",
      "File \u001b[0;32m~/.pyenv/versions/3.8.0/envs/pyspark/lib/python3.8/site-packages/pyspark/ml/base.py:161\u001b[0m, in \u001b[0;36mEstimator.fit\u001b[0;34m(self, dataset, params)\u001b[0m\n\u001b[1;32m    <a href='file:///home/humberto/.pyenv/versions/3.8.0/envs/pyspark/lib/python3.8/site-packages/pyspark/ml/base.py?line=159'>160</a>\u001b[0m     \u001b[39melse\u001b[39;00m:\n\u001b[0;32m--> <a href='file:///home/humberto/.pyenv/versions/3.8.0/envs/pyspark/lib/python3.8/site-packages/pyspark/ml/base.py?line=160'>161</a>\u001b[0m         \u001b[39mreturn\u001b[39;00m \u001b[39mself\u001b[39;49m\u001b[39m.\u001b[39;49m_fit(dataset)\n\u001b[1;32m    <a href='file:///home/humberto/.pyenv/versions/3.8.0/envs/pyspark/lib/python3.8/site-packages/pyspark/ml/base.py?line=161'>162</a>\u001b[0m \u001b[39melse\u001b[39;00m:\n",
      "File \u001b[0;32m~/.pyenv/versions/3.8.0/envs/pyspark/lib/python3.8/site-packages/pyspark/ml/wrapper.py:335\u001b[0m, in \u001b[0;36mJavaEstimator._fit\u001b[0;34m(self, dataset)\u001b[0m\n\u001b[1;32m    <a href='file:///home/humberto/.pyenv/versions/3.8.0/envs/pyspark/lib/python3.8/site-packages/pyspark/ml/wrapper.py?line=333'>334</a>\u001b[0m \u001b[39mdef\u001b[39;00m \u001b[39m_fit\u001b[39m(\u001b[39mself\u001b[39m, dataset):\n\u001b[0;32m--> <a href='file:///home/humberto/.pyenv/versions/3.8.0/envs/pyspark/lib/python3.8/site-packages/pyspark/ml/wrapper.py?line=334'>335</a>\u001b[0m     java_model \u001b[39m=\u001b[39m \u001b[39mself\u001b[39;49m\u001b[39m.\u001b[39;49m_fit_java(dataset)\n\u001b[1;32m    <a href='file:///home/humberto/.pyenv/versions/3.8.0/envs/pyspark/lib/python3.8/site-packages/pyspark/ml/wrapper.py?line=335'>336</a>\u001b[0m     model \u001b[39m=\u001b[39m \u001b[39mself\u001b[39m\u001b[39m.\u001b[39m_create_model(java_model)\n",
      "File \u001b[0;32m~/.pyenv/versions/3.8.0/envs/pyspark/lib/python3.8/site-packages/pyspark/ml/wrapper.py:332\u001b[0m, in \u001b[0;36mJavaEstimator._fit_java\u001b[0;34m(self, dataset)\u001b[0m\n\u001b[1;32m    <a href='file:///home/humberto/.pyenv/versions/3.8.0/envs/pyspark/lib/python3.8/site-packages/pyspark/ml/wrapper.py?line=330'>331</a>\u001b[0m \u001b[39mself\u001b[39m\u001b[39m.\u001b[39m_transfer_params_to_java()\n\u001b[0;32m--> <a href='file:///home/humberto/.pyenv/versions/3.8.0/envs/pyspark/lib/python3.8/site-packages/pyspark/ml/wrapper.py?line=331'>332</a>\u001b[0m \u001b[39mreturn\u001b[39;00m \u001b[39mself\u001b[39;49m\u001b[39m.\u001b[39;49m_java_obj\u001b[39m.\u001b[39;49mfit(dataset\u001b[39m.\u001b[39;49m_jdf)\n",
      "File \u001b[0;32m~/.pyenv/versions/3.8.0/envs/pyspark/lib/python3.8/site-packages/py4j/java_gateway.py:1321\u001b[0m, in \u001b[0;36mJavaMember.__call__\u001b[0;34m(self, *args)\u001b[0m\n\u001b[1;32m   <a href='file:///home/humberto/.pyenv/versions/3.8.0/envs/pyspark/lib/python3.8/site-packages/py4j/java_gateway.py?line=1319'>1320</a>\u001b[0m answer \u001b[39m=\u001b[39m \u001b[39mself\u001b[39m\u001b[39m.\u001b[39mgateway_client\u001b[39m.\u001b[39msend_command(command)\n\u001b[0;32m-> <a href='file:///home/humberto/.pyenv/versions/3.8.0/envs/pyspark/lib/python3.8/site-packages/py4j/java_gateway.py?line=1320'>1321</a>\u001b[0m return_value \u001b[39m=\u001b[39m get_return_value(\n\u001b[1;32m   <a href='file:///home/humberto/.pyenv/versions/3.8.0/envs/pyspark/lib/python3.8/site-packages/py4j/java_gateway.py?line=1321'>1322</a>\u001b[0m     answer, \u001b[39mself\u001b[39;49m\u001b[39m.\u001b[39;49mgateway_client, \u001b[39mself\u001b[39;49m\u001b[39m.\u001b[39;49mtarget_id, \u001b[39mself\u001b[39;49m\u001b[39m.\u001b[39;49mname)\n\u001b[1;32m   <a href='file:///home/humberto/.pyenv/versions/3.8.0/envs/pyspark/lib/python3.8/site-packages/py4j/java_gateway.py?line=1323'>1324</a>\u001b[0m \u001b[39mfor\u001b[39;00m temp_arg \u001b[39min\u001b[39;00m temp_args:\n",
      "File \u001b[0;32m~/.pyenv/versions/3.8.0/envs/pyspark/lib/python3.8/site-packages/pyspark/sql/utils.py:111\u001b[0m, in \u001b[0;36mcapture_sql_exception.<locals>.deco\u001b[0;34m(*a, **kw)\u001b[0m\n\u001b[1;32m    <a href='file:///home/humberto/.pyenv/versions/3.8.0/envs/pyspark/lib/python3.8/site-packages/pyspark/sql/utils.py?line=109'>110</a>\u001b[0m \u001b[39mtry\u001b[39;00m:\n\u001b[0;32m--> <a href='file:///home/humberto/.pyenv/versions/3.8.0/envs/pyspark/lib/python3.8/site-packages/pyspark/sql/utils.py?line=110'>111</a>\u001b[0m     \u001b[39mreturn\u001b[39;00m f(\u001b[39m*\u001b[39;49ma, \u001b[39m*\u001b[39;49m\u001b[39m*\u001b[39;49mkw)\n\u001b[1;32m    <a href='file:///home/humberto/.pyenv/versions/3.8.0/envs/pyspark/lib/python3.8/site-packages/pyspark/sql/utils.py?line=111'>112</a>\u001b[0m \u001b[39mexcept\u001b[39;00m py4j\u001b[39m.\u001b[39mprotocol\u001b[39m.\u001b[39mPy4JJavaError \u001b[39mas\u001b[39;00m e:\n",
      "File \u001b[0;32m~/.pyenv/versions/3.8.0/envs/pyspark/lib/python3.8/site-packages/py4j/protocol.py:326\u001b[0m, in \u001b[0;36mget_return_value\u001b[0;34m(answer, gateway_client, target_id, name)\u001b[0m\n\u001b[1;32m    <a href='file:///home/humberto/.pyenv/versions/3.8.0/envs/pyspark/lib/python3.8/site-packages/py4j/protocol.py?line=324'>325</a>\u001b[0m \u001b[39mif\u001b[39;00m answer[\u001b[39m1\u001b[39m] \u001b[39m==\u001b[39m REFERENCE_TYPE:\n\u001b[0;32m--> <a href='file:///home/humberto/.pyenv/versions/3.8.0/envs/pyspark/lib/python3.8/site-packages/py4j/protocol.py?line=325'>326</a>\u001b[0m     \u001b[39mraise\u001b[39;00m Py4JJavaError(\n\u001b[1;32m    <a href='file:///home/humberto/.pyenv/versions/3.8.0/envs/pyspark/lib/python3.8/site-packages/py4j/protocol.py?line=326'>327</a>\u001b[0m         \u001b[39m\"\u001b[39m\u001b[39mAn error occurred while calling \u001b[39m\u001b[39m{0}\u001b[39;00m\u001b[39m{1}\u001b[39;00m\u001b[39m{2}\u001b[39;00m\u001b[39m.\u001b[39m\u001b[39m\\n\u001b[39;00m\u001b[39m\"\u001b[39m\u001b[39m.\u001b[39m\n\u001b[1;32m    <a href='file:///home/humberto/.pyenv/versions/3.8.0/envs/pyspark/lib/python3.8/site-packages/py4j/protocol.py?line=327'>328</a>\u001b[0m         \u001b[39mformat\u001b[39m(target_id, \u001b[39m\"\u001b[39m\u001b[39m.\u001b[39m\u001b[39m\"\u001b[39m, name), value)\n\u001b[1;32m    <a href='file:///home/humberto/.pyenv/versions/3.8.0/envs/pyspark/lib/python3.8/site-packages/py4j/protocol.py?line=328'>329</a>\u001b[0m \u001b[39melse\u001b[39;00m:\n",
      "\u001b[0;31m<class 'str'>\u001b[0m: (<class 'ConnectionRefusedError'>, ConnectionRefusedError(111, 'Connection refused'))",
      "\nDuring handling of the above exception, another exception occurred:\n",
      "\u001b[0;31mConnectionRefusedError\u001b[0m                    Traceback (most recent call last)",
      "    \u001b[0;31m[... skipping hidden 1 frame]\u001b[0m\n",
      "File \u001b[0;32m~/.pyenv/versions/3.8.0/envs/pyspark/lib/python3.8/site-packages/IPython/core/interactiveshell.py:1939\u001b[0m, in \u001b[0;36mInteractiveShell.showtraceback\u001b[0;34m(self, exc_tuple, filename, tb_offset, exception_only, running_compiled_code)\u001b[0m\n\u001b[1;32m   <a href='file:///home/humberto/.pyenv/versions/3.8.0/envs/pyspark/lib/python3.8/site-packages/IPython/core/interactiveshell.py?line=1934'>1935</a>\u001b[0m \u001b[39mexcept\u001b[39;00m \u001b[39mException\u001b[39;00m:\n\u001b[1;32m   <a href='file:///home/humberto/.pyenv/versions/3.8.0/envs/pyspark/lib/python3.8/site-packages/IPython/core/interactiveshell.py?line=1935'>1936</a>\u001b[0m     stb \u001b[39m=\u001b[39m \u001b[39mself\u001b[39m\u001b[39m.\u001b[39mInteractiveTB\u001b[39m.\u001b[39mstructured_traceback(etype,\n\u001b[1;32m   <a href='file:///home/humberto/.pyenv/versions/3.8.0/envs/pyspark/lib/python3.8/site-packages/IPython/core/interactiveshell.py?line=1936'>1937</a>\u001b[0m                         value, tb, tb_offset\u001b[39m=\u001b[39mtb_offset)\n\u001b[0;32m-> <a href='file:///home/humberto/.pyenv/versions/3.8.0/envs/pyspark/lib/python3.8/site-packages/IPython/core/interactiveshell.py?line=1938'>1939</a>\u001b[0m \u001b[39mself\u001b[39;49m\u001b[39m.\u001b[39;49m_showtraceback(etype, value, stb)\n\u001b[1;32m   <a href='file:///home/humberto/.pyenv/versions/3.8.0/envs/pyspark/lib/python3.8/site-packages/IPython/core/interactiveshell.py?line=1939'>1940</a>\u001b[0m \u001b[39mif\u001b[39;00m \u001b[39mself\u001b[39m\u001b[39m.\u001b[39mcall_pdb:\n\u001b[1;32m   <a href='file:///home/humberto/.pyenv/versions/3.8.0/envs/pyspark/lib/python3.8/site-packages/IPython/core/interactiveshell.py?line=1940'>1941</a>\u001b[0m     \u001b[39m# drop into debugger\u001b[39;00m\n\u001b[1;32m   <a href='file:///home/humberto/.pyenv/versions/3.8.0/envs/pyspark/lib/python3.8/site-packages/IPython/core/interactiveshell.py?line=1941'>1942</a>\u001b[0m     \u001b[39mself\u001b[39m\u001b[39m.\u001b[39mdebugger(force\u001b[39m=\u001b[39m\u001b[39mTrue\u001b[39;00m)\n",
      "File \u001b[0;32m~/.pyenv/versions/3.8.0/envs/pyspark/lib/python3.8/site-packages/ipykernel/zmqshell.py:538\u001b[0m, in \u001b[0;36mZMQInteractiveShell._showtraceback\u001b[0;34m(self, etype, evalue, stb)\u001b[0m\n\u001b[1;32m    <a href='file:///home/humberto/.pyenv/versions/3.8.0/envs/pyspark/lib/python3.8/site-packages/ipykernel/zmqshell.py?line=531'>532</a>\u001b[0m sys\u001b[39m.\u001b[39mstdout\u001b[39m.\u001b[39mflush()\n\u001b[1;32m    <a href='file:///home/humberto/.pyenv/versions/3.8.0/envs/pyspark/lib/python3.8/site-packages/ipykernel/zmqshell.py?line=532'>533</a>\u001b[0m sys\u001b[39m.\u001b[39mstderr\u001b[39m.\u001b[39mflush()\n\u001b[1;32m    <a href='file:///home/humberto/.pyenv/versions/3.8.0/envs/pyspark/lib/python3.8/site-packages/ipykernel/zmqshell.py?line=534'>535</a>\u001b[0m exc_content \u001b[39m=\u001b[39m {\n\u001b[1;32m    <a href='file:///home/humberto/.pyenv/versions/3.8.0/envs/pyspark/lib/python3.8/site-packages/ipykernel/zmqshell.py?line=535'>536</a>\u001b[0m     \u001b[39m\"\u001b[39m\u001b[39mtraceback\u001b[39m\u001b[39m\"\u001b[39m: stb,\n\u001b[1;32m    <a href='file:///home/humberto/.pyenv/versions/3.8.0/envs/pyspark/lib/python3.8/site-packages/ipykernel/zmqshell.py?line=536'>537</a>\u001b[0m     \u001b[39m\"\u001b[39m\u001b[39mename\u001b[39m\u001b[39m\"\u001b[39m: \u001b[39mstr\u001b[39m(etype\u001b[39m.\u001b[39m\u001b[39m__name__\u001b[39m),\n\u001b[0;32m--> <a href='file:///home/humberto/.pyenv/versions/3.8.0/envs/pyspark/lib/python3.8/site-packages/ipykernel/zmqshell.py?line=537'>538</a>\u001b[0m     \u001b[39m\"\u001b[39m\u001b[39mevalue\u001b[39m\u001b[39m\"\u001b[39m: \u001b[39mstr\u001b[39;49m(evalue),\n\u001b[1;32m    <a href='file:///home/humberto/.pyenv/versions/3.8.0/envs/pyspark/lib/python3.8/site-packages/ipykernel/zmqshell.py?line=538'>539</a>\u001b[0m }\n\u001b[1;32m    <a href='file:///home/humberto/.pyenv/versions/3.8.0/envs/pyspark/lib/python3.8/site-packages/ipykernel/zmqshell.py?line=540'>541</a>\u001b[0m dh \u001b[39m=\u001b[39m \u001b[39mself\u001b[39m\u001b[39m.\u001b[39mdisplayhook\n\u001b[1;32m    <a href='file:///home/humberto/.pyenv/versions/3.8.0/envs/pyspark/lib/python3.8/site-packages/ipykernel/zmqshell.py?line=541'>542</a>\u001b[0m \u001b[39m# Send exception info over pub socket for other clients than the caller\u001b[39;00m\n\u001b[1;32m    <a href='file:///home/humberto/.pyenv/versions/3.8.0/envs/pyspark/lib/python3.8/site-packages/ipykernel/zmqshell.py?line=542'>543</a>\u001b[0m \u001b[39m# to pick up\u001b[39;00m\n",
      "File \u001b[0;32m~/.pyenv/versions/3.8.0/envs/pyspark/lib/python3.8/site-packages/py4j/protocol.py:471\u001b[0m, in \u001b[0;36mPy4JJavaError.__str__\u001b[0;34m(self)\u001b[0m\n\u001b[1;32m    <a href='file:///home/humberto/.pyenv/versions/3.8.0/envs/pyspark/lib/python3.8/site-packages/py4j/protocol.py?line=468'>469</a>\u001b[0m \u001b[39mdef\u001b[39;00m \u001b[39m__str__\u001b[39m(\u001b[39mself\u001b[39m):\n\u001b[1;32m    <a href='file:///home/humberto/.pyenv/versions/3.8.0/envs/pyspark/lib/python3.8/site-packages/py4j/protocol.py?line=469'>470</a>\u001b[0m     gateway_client \u001b[39m=\u001b[39m \u001b[39mself\u001b[39m\u001b[39m.\u001b[39mjava_exception\u001b[39m.\u001b[39m_gateway_client\n\u001b[0;32m--> <a href='file:///home/humberto/.pyenv/versions/3.8.0/envs/pyspark/lib/python3.8/site-packages/py4j/protocol.py?line=470'>471</a>\u001b[0m     answer \u001b[39m=\u001b[39m gateway_client\u001b[39m.\u001b[39;49msend_command(\u001b[39mself\u001b[39;49m\u001b[39m.\u001b[39;49mexception_cmd)\n\u001b[1;32m    <a href='file:///home/humberto/.pyenv/versions/3.8.0/envs/pyspark/lib/python3.8/site-packages/py4j/protocol.py?line=471'>472</a>\u001b[0m     return_value \u001b[39m=\u001b[39m get_return_value(answer, gateway_client, \u001b[39mNone\u001b[39;00m, \u001b[39mNone\u001b[39;00m)\n\u001b[1;32m    <a href='file:///home/humberto/.pyenv/versions/3.8.0/envs/pyspark/lib/python3.8/site-packages/py4j/protocol.py?line=472'>473</a>\u001b[0m     \u001b[39m# Note: technically this should return a bytestring 'str' rather than\u001b[39;00m\n\u001b[1;32m    <a href='file:///home/humberto/.pyenv/versions/3.8.0/envs/pyspark/lib/python3.8/site-packages/py4j/protocol.py?line=473'>474</a>\u001b[0m     \u001b[39m# unicodes in Python 2; however, it can return unicodes for now.\u001b[39;00m\n\u001b[1;32m    <a href='file:///home/humberto/.pyenv/versions/3.8.0/envs/pyspark/lib/python3.8/site-packages/py4j/protocol.py?line=474'>475</a>\u001b[0m     \u001b[39m# See https://github.com/bartdag/py4j/issues/306 for more details.\u001b[39;00m\n",
      "File \u001b[0;32m~/.pyenv/versions/3.8.0/envs/pyspark/lib/python3.8/site-packages/py4j/java_gateway.py:1036\u001b[0m, in \u001b[0;36mGatewayClient.send_command\u001b[0;34m(self, command, retry, binary)\u001b[0m\n\u001b[1;32m   <a href='file:///home/humberto/.pyenv/versions/3.8.0/envs/pyspark/lib/python3.8/site-packages/py4j/java_gateway.py?line=1014'>1015</a>\u001b[0m \u001b[39mdef\u001b[39;00m \u001b[39msend_command\u001b[39m(\u001b[39mself\u001b[39m, command, retry\u001b[39m=\u001b[39m\u001b[39mTrue\u001b[39;00m, binary\u001b[39m=\u001b[39m\u001b[39mFalse\u001b[39;00m):\n\u001b[1;32m   <a href='file:///home/humberto/.pyenv/versions/3.8.0/envs/pyspark/lib/python3.8/site-packages/py4j/java_gateway.py?line=1015'>1016</a>\u001b[0m     \u001b[39m\"\"\"Sends a command to the JVM. This method is not intended to be\u001b[39;00m\n\u001b[1;32m   <a href='file:///home/humberto/.pyenv/versions/3.8.0/envs/pyspark/lib/python3.8/site-packages/py4j/java_gateway.py?line=1016'>1017</a>\u001b[0m \u001b[39m       called directly by Py4J users. It is usually called by\u001b[39;00m\n\u001b[1;32m   <a href='file:///home/humberto/.pyenv/versions/3.8.0/envs/pyspark/lib/python3.8/site-packages/py4j/java_gateway.py?line=1017'>1018</a>\u001b[0m \u001b[39m       :class:`JavaMember` instances.\u001b[39;00m\n\u001b[0;32m   (...)\u001b[0m\n\u001b[1;32m   <a href='file:///home/humberto/.pyenv/versions/3.8.0/envs/pyspark/lib/python3.8/site-packages/py4j/java_gateway.py?line=1033'>1034</a>\u001b[0m \u001b[39m     if `binary` is `True`.\u001b[39;00m\n\u001b[1;32m   <a href='file:///home/humberto/.pyenv/versions/3.8.0/envs/pyspark/lib/python3.8/site-packages/py4j/java_gateway.py?line=1034'>1035</a>\u001b[0m \u001b[39m    \"\"\"\u001b[39;00m\n\u001b[0;32m-> <a href='file:///home/humberto/.pyenv/versions/3.8.0/envs/pyspark/lib/python3.8/site-packages/py4j/java_gateway.py?line=1035'>1036</a>\u001b[0m     connection \u001b[39m=\u001b[39m \u001b[39mself\u001b[39;49m\u001b[39m.\u001b[39;49m_get_connection()\n\u001b[1;32m   <a href='file:///home/humberto/.pyenv/versions/3.8.0/envs/pyspark/lib/python3.8/site-packages/py4j/java_gateway.py?line=1036'>1037</a>\u001b[0m     \u001b[39mtry\u001b[39;00m:\n\u001b[1;32m   <a href='file:///home/humberto/.pyenv/versions/3.8.0/envs/pyspark/lib/python3.8/site-packages/py4j/java_gateway.py?line=1037'>1038</a>\u001b[0m         response \u001b[39m=\u001b[39m connection\u001b[39m.\u001b[39msend_command(command)\n",
      "File \u001b[0;32m~/.pyenv/versions/3.8.0/envs/pyspark/lib/python3.8/site-packages/py4j/clientserver.py:281\u001b[0m, in \u001b[0;36mJavaClient._get_connection\u001b[0;34m(self)\u001b[0m\n\u001b[1;32m    <a href='file:///home/humberto/.pyenv/versions/3.8.0/envs/pyspark/lib/python3.8/site-packages/py4j/clientserver.py?line=277'>278</a>\u001b[0m     \u001b[39mpass\u001b[39;00m\n\u001b[1;32m    <a href='file:///home/humberto/.pyenv/versions/3.8.0/envs/pyspark/lib/python3.8/site-packages/py4j/clientserver.py?line=279'>280</a>\u001b[0m \u001b[39mif\u001b[39;00m connection \u001b[39mis\u001b[39;00m \u001b[39mNone\u001b[39;00m \u001b[39mor\u001b[39;00m connection\u001b[39m.\u001b[39msocket \u001b[39mis\u001b[39;00m \u001b[39mNone\u001b[39;00m:\n\u001b[0;32m--> <a href='file:///home/humberto/.pyenv/versions/3.8.0/envs/pyspark/lib/python3.8/site-packages/py4j/clientserver.py?line=280'>281</a>\u001b[0m     connection \u001b[39m=\u001b[39m \u001b[39mself\u001b[39;49m\u001b[39m.\u001b[39;49m_create_new_connection()\n\u001b[1;32m    <a href='file:///home/humberto/.pyenv/versions/3.8.0/envs/pyspark/lib/python3.8/site-packages/py4j/clientserver.py?line=281'>282</a>\u001b[0m \u001b[39mreturn\u001b[39;00m connection\n",
      "File \u001b[0;32m~/.pyenv/versions/3.8.0/envs/pyspark/lib/python3.8/site-packages/py4j/clientserver.py:288\u001b[0m, in \u001b[0;36mJavaClient._create_new_connection\u001b[0;34m(self)\u001b[0m\n\u001b[1;32m    <a href='file:///home/humberto/.pyenv/versions/3.8.0/envs/pyspark/lib/python3.8/site-packages/py4j/clientserver.py?line=283'>284</a>\u001b[0m \u001b[39mdef\u001b[39;00m \u001b[39m_create_new_connection\u001b[39m(\u001b[39mself\u001b[39m):\n\u001b[1;32m    <a href='file:///home/humberto/.pyenv/versions/3.8.0/envs/pyspark/lib/python3.8/site-packages/py4j/clientserver.py?line=284'>285</a>\u001b[0m     connection \u001b[39m=\u001b[39m ClientServerConnection(\n\u001b[1;32m    <a href='file:///home/humberto/.pyenv/versions/3.8.0/envs/pyspark/lib/python3.8/site-packages/py4j/clientserver.py?line=285'>286</a>\u001b[0m         \u001b[39mself\u001b[39m\u001b[39m.\u001b[39mjava_parameters, \u001b[39mself\u001b[39m\u001b[39m.\u001b[39mpython_parameters,\n\u001b[1;32m    <a href='file:///home/humberto/.pyenv/versions/3.8.0/envs/pyspark/lib/python3.8/site-packages/py4j/clientserver.py?line=286'>287</a>\u001b[0m         \u001b[39mself\u001b[39m\u001b[39m.\u001b[39mgateway_property, \u001b[39mself\u001b[39m)\n\u001b[0;32m--> <a href='file:///home/humberto/.pyenv/versions/3.8.0/envs/pyspark/lib/python3.8/site-packages/py4j/clientserver.py?line=287'>288</a>\u001b[0m     connection\u001b[39m.\u001b[39;49mconnect_to_java_server()\n\u001b[1;32m    <a href='file:///home/humberto/.pyenv/versions/3.8.0/envs/pyspark/lib/python3.8/site-packages/py4j/clientserver.py?line=288'>289</a>\u001b[0m     \u001b[39mself\u001b[39m\u001b[39m.\u001b[39mset_thread_connection(connection)\n\u001b[1;32m    <a href='file:///home/humberto/.pyenv/versions/3.8.0/envs/pyspark/lib/python3.8/site-packages/py4j/clientserver.py?line=289'>290</a>\u001b[0m     \u001b[39mreturn\u001b[39;00m connection\n",
      "File \u001b[0;32m~/.pyenv/versions/3.8.0/envs/pyspark/lib/python3.8/site-packages/py4j/clientserver.py:402\u001b[0m, in \u001b[0;36mClientServerConnection.connect_to_java_server\u001b[0;34m(self)\u001b[0m\n\u001b[1;32m    <a href='file:///home/humberto/.pyenv/versions/3.8.0/envs/pyspark/lib/python3.8/site-packages/py4j/clientserver.py?line=398'>399</a>\u001b[0m \u001b[39mif\u001b[39;00m \u001b[39mself\u001b[39m\u001b[39m.\u001b[39mssl_context:\n\u001b[1;32m    <a href='file:///home/humberto/.pyenv/versions/3.8.0/envs/pyspark/lib/python3.8/site-packages/py4j/clientserver.py?line=399'>400</a>\u001b[0m     \u001b[39mself\u001b[39m\u001b[39m.\u001b[39msocket \u001b[39m=\u001b[39m \u001b[39mself\u001b[39m\u001b[39m.\u001b[39mssl_context\u001b[39m.\u001b[39mwrap_socket(\n\u001b[1;32m    <a href='file:///home/humberto/.pyenv/versions/3.8.0/envs/pyspark/lib/python3.8/site-packages/py4j/clientserver.py?line=400'>401</a>\u001b[0m         \u001b[39mself\u001b[39m\u001b[39m.\u001b[39msocket, server_hostname\u001b[39m=\u001b[39m\u001b[39mself\u001b[39m\u001b[39m.\u001b[39mjava_address)\n\u001b[0;32m--> <a href='file:///home/humberto/.pyenv/versions/3.8.0/envs/pyspark/lib/python3.8/site-packages/py4j/clientserver.py?line=401'>402</a>\u001b[0m \u001b[39mself\u001b[39;49m\u001b[39m.\u001b[39;49msocket\u001b[39m.\u001b[39;49mconnect((\u001b[39mself\u001b[39;49m\u001b[39m.\u001b[39;49mjava_address, \u001b[39mself\u001b[39;49m\u001b[39m.\u001b[39;49mjava_port))\n\u001b[1;32m    <a href='file:///home/humberto/.pyenv/versions/3.8.0/envs/pyspark/lib/python3.8/site-packages/py4j/clientserver.py?line=402'>403</a>\u001b[0m \u001b[39mself\u001b[39m\u001b[39m.\u001b[39mstream \u001b[39m=\u001b[39m \u001b[39mself\u001b[39m\u001b[39m.\u001b[39msocket\u001b[39m.\u001b[39mmakefile(\u001b[39m\"\u001b[39m\u001b[39mrb\u001b[39m\u001b[39m\"\u001b[39m)\n\u001b[1;32m    <a href='file:///home/humberto/.pyenv/versions/3.8.0/envs/pyspark/lib/python3.8/site-packages/py4j/clientserver.py?line=403'>404</a>\u001b[0m \u001b[39mself\u001b[39m\u001b[39m.\u001b[39mis_connected \u001b[39m=\u001b[39m \u001b[39mTrue\u001b[39;00m\n",
      "\u001b[0;31mConnectionRefusedError\u001b[0m: [Errno 111] Connection refused"
     ]
    }
   ],
   "source": [
    "#  i = 0\n",
    "val_df = d0\n",
    "train_df = d1.unionAll(d2)\n",
    "\n",
    "model_0 = logistic_pipe.fit(train_df)\n",
    "results_0 = model_0.transform(val_df)\n",
    "\n",
    "# 13 minutes runing and returned ConnectionRefusedError: [Errno 111] Connection refused"
   ]
  },
  {
   "cell_type": "markdown",
   "metadata": {},
   "source": [
    "# 7.0 Model Testing"
   ]
  },
  {
   "cell_type": "markdown",
   "metadata": {},
   "source": [
    "## 7.1 Logistic Regression"
   ]
  },
  {
   "cell_type": "code",
   "execution_count": 18,
   "metadata": {},
   "outputs": [],
   "source": [
    "experiment_id = '1'"
   ]
  },
  {
   "cell_type": "code",
   "execution_count": 47,
   "metadata": {},
   "outputs": [
    {
     "name": "stderr",
     "output_type": "stream",
     "text": [
      "                                                                                \r"
     ]
    }
   ],
   "source": [
    "mlflow.start_run(experiment_id=experiment_id, run_name='logistic regression L1')\n",
    "\n",
    "# defining model\n",
    "lr1 = LogisticRegression(featuresCol='features', labelCol='is_fraud', regParam=1.0)\n",
    "\n",
    "# reading params\n",
    "param_el = lr1.getElasticNetParam()\n",
    "param_ad = lr1.getAggregationDepth()\n",
    "param_fi = lr1.getFitIntercept()\n",
    "\n",
    "# logging params\n",
    "params = { 'Elastic Net' : param_el, \"Aggregation Depth\" : param_ad, \"Fit Intercept\" : param_fi }\n",
    "mlflow.log_params(params=params)\n",
    "\n",
    "model_1 = lr1.fit(train)\n",
    "results = model_1.transform(test)"
   ]
  },
  {
   "cell_type": "code",
   "execution_count": 48,
   "metadata": {},
   "outputs": [
    {
     "name": "stderr",
     "output_type": "stream",
     "text": [
      "                                                                                \r"
     ]
    }
   ],
   "source": [
    "# converting results to pandas\n",
    "results_pd = proba_to_pandas(dataframe = results, prob_col='probability', label_col='is_fraud')"
   ]
  },
  {
   "cell_type": "code",
   "execution_count": 49,
   "metadata": {},
   "outputs": [
    {
     "name": "stderr",
     "output_type": "stream",
     "text": [
      "/home/humberto/.pyenv/versions/3.8.0/envs/pyspark/lib/python3.8/site-packages/sklearn/metrics/_classification.py:1318: UndefinedMetricWarning: Precision is ill-defined and being set to 0.0 due to no predicted samples. Use `zero_division` parameter to control this behavior.\n",
      "  _warn_prf(average, modifier, msg_start, len(result))\n"
     ]
    }
   ],
   "source": [
    "# evaluating result metrics\n",
    "threshold = 0.5\n",
    "metric_f1 = roc_auc_score(y_true = results_pd.y_true, y_score = results_pd.y_pred)\n",
    "metric_ap = average_precision_score(y_true = results_pd.y_true, y_score = results_pd.y_pred)\n",
    "metric_precision = precision_score(y_true=results_pd.y_true, y_pred = results_pd.y_pred > threshold)\n",
    "metric_recall = recall_score(y_true=results_pd.y_true, y_pred = results_pd.y_pred > threshold)"
   ]
  },
  {
   "cell_type": "code",
   "execution_count": 50,
   "metadata": {},
   "outputs": [],
   "source": [
    "# logging metrics\n",
    "metrics = {\"F1-Score\": metric_f1 ,\n",
    "           \"Area_PR\": metric_ap ,\n",
    "           \"Precision\": metric_precision ,\n",
    "           \"Recall\": metric_recall}\n",
    "mlflow.log_param(\"threshold\", threshold)\n",
    "mlflow.log_metrics(metrics)"
   ]
  },
  {
   "cell_type": "code",
   "execution_count": 51,
   "metadata": {},
   "outputs": [],
   "source": [
    "mlflow.end_run()"
   ]
  },
  {
   "cell_type": "code",
   "execution_count": 44,
   "metadata": {},
   "outputs": [
    {
     "data": {
      "text/plain": [
       "1547"
      ]
     },
     "execution_count": 44,
     "metadata": {},
     "output_type": "execute_result"
    }
   ],
   "source": [
    "del results_pd\n",
    "gc.collect()"
   ]
  },
  {
   "cell_type": "code",
   "execution_count": 26,
   "metadata": {},
   "outputs": [
    {
     "name": "stderr",
     "output_type": "stream",
     "text": [
      "                                                                                \r"
     ]
    },
    {
     "data": {
      "text/plain": [
       "0.9945717506379729"
      ]
     },
     "execution_count": 26,
     "metadata": {},
     "output_type": "execute_result"
    }
   ],
   "source": [
    "# from pyspark.ml.evaluation import BinaryClassificationEvaluator\n",
    "# evaluator = BinaryClassificationEvaluator(labelCol= 'is_fraud')\n",
    "\n",
    "# evaluator.evaluate(results)\n",
    "\n",
    "# spark evaluator inflates results"
   ]
  },
  {
   "cell_type": "markdown",
   "metadata": {},
   "source": [
    "## 7.2 Naive Bayes"
   ]
  },
  {
   "cell_type": "code",
   "execution_count": 5,
   "metadata": {},
   "outputs": [],
   "source": [
    "experiment_id = '1'"
   ]
  },
  {
   "cell_type": "code",
   "execution_count": 6,
   "metadata": {},
   "outputs": [
    {
     "name": "stderr",
     "output_type": "stream",
     "text": [
      "                                                                                \r"
     ]
    }
   ],
   "source": [
    "mlflow.start_run(experiment_id=experiment_id, run_name = 'NB gaussian')\n",
    "\n",
    "# instantiating classifier\n",
    "nb_model = NaiveBayes(featuresCol='features', labelCol='is_fraud', modelType='gaussian')\n",
    "\n",
    "# getting params\n",
    "param_type = nb_model.getModelType()\n",
    "param_smoothing = nb_model.getSmoothing()\n",
    "\n",
    "# logging params\n",
    "mlflow.log_param( \"Model Type\", param_type )\n",
    "mlflow.log_param( \"Smoothing\", param_smoothing )\n",
    "\n",
    "#model\n",
    "nb_model_1 = nb_model.fit(train)\n",
    "results = nb_model_1.transform(test)"
   ]
  },
  {
   "cell_type": "code",
   "execution_count": 10,
   "metadata": {},
   "outputs": [
    {
     "name": "stderr",
     "output_type": "stream",
     "text": [
      "22/04/29 19:10:41 WARN TransportClientFactory: DNS resolution succeed for 1berto/192.168.15.52:43739 took 2697 ms\n",
      "22/04/29 19:10:41 WARN TransportClientFactory: DNS resolution succeed for 1berto/192.168.15.52:43739 took 2697 ms\n",
      "                                                                                \r"
     ]
    }
   ],
   "source": [
    "# converting results to pandas\n",
    "results_pd = proba_to_pandas(dataframe = results, prob_col='probability', label_col='is_fraud')"
   ]
  },
  {
   "cell_type": "code",
   "execution_count": 11,
   "metadata": {},
   "outputs": [
    {
     "data": {
      "text/plain": [
       "{'F1-Score': 0.8073082472276609,\n",
       " 'Area_PR': 0.01655147635320018,\n",
       " 'Precision': 0.030368128112489016,\n",
       " 'Recall': 0.18633912522468543}"
      ]
     },
     "execution_count": 11,
     "metadata": {},
     "output_type": "execute_result"
    }
   ],
   "source": [
    "# evaluating result metrics\n",
    "threshold = 0.5\n",
    "metric_f1 = roc_auc_score(y_true = results_pd.y_true, y_score = results_pd.y_pred)\n",
    "metric_ap = average_precision_score(y_true = results_pd.y_true, y_score = results_pd.y_pred)\n",
    "metric_precision = precision_score(y_true=results_pd.y_true, y_pred = results_pd.y_pred > threshold)\n",
    "metric_recall = recall_score(y_true=results_pd.y_true, y_pred = results_pd.y_pred > threshold)\n",
    "# logging metrics\n",
    "metrics = {\"F1-Score\": metric_f1 ,\n",
    "           \"Area_PR\": metric_ap ,\n",
    "           \"Precision\": metric_precision ,\n",
    "           \"Recall\": metric_recall}\n",
    "\n",
    "# mlflow.log_param(\"threshold\", threshold)\n",
    "# mlflow.log_metrics(metrics)\n",
    "metrics"
   ]
  },
  {
   "cell_type": "code",
   "execution_count": 12,
   "metadata": {},
   "outputs": [],
   "source": [
    "mlflow.log_param(\"threshold\", threshold)\n",
    "mlflow.log_metrics(metrics)"
   ]
  },
  {
   "cell_type": "code",
   "execution_count": 13,
   "metadata": {},
   "outputs": [],
   "source": [
    "mlflow.end_run()"
   ]
  },
  {
   "cell_type": "markdown",
   "metadata": {},
   "source": [
    "## 7.3 Random Forest"
   ]
  },
  {
   "cell_type": "markdown",
   "metadata": {},
   "source": [
    "### 7.3.1. Random Forest Using All Features"
   ]
  },
  {
   "cell_type": "code",
   "execution_count": 6,
   "metadata": {},
   "outputs": [],
   "source": [
    "experiment_id = '1'"
   ]
  },
  {
   "cell_type": "code",
   "execution_count": 7,
   "metadata": {},
   "outputs": [
    {
     "name": "stderr",
     "output_type": "stream",
     "text": [
      "                                                                                \r"
     ]
    }
   ],
   "source": [
    "# start logging\n",
    "mlflow.start_run(experiment_id=experiment_id, run_name='RF with all features')\n",
    "\n",
    "# RF using all features\n",
    "rf0 = RandomForestClassifier(featuresCol='features', labelCol='is_fraud', seed=42, numTrees=10)\n",
    "\n",
    "# model params\n",
    "params = {\"Impurity\" : rf0.getImpurity(),\n",
    "\"MaxBins\" : rf0.getMaxBins(),\n",
    "\"MaxDepth\" : rf0.getMaxDepth(),\n",
    "\"NumTrees\" : rf0.getNumTrees(),\n",
    "\"Seed\" : rf0.getSeed(),\n",
    "\"MinInfoGain\" : rf0.getMinInfoGain()}\n",
    "\n",
    "mlflow.log_params(params)\n",
    "\n",
    "# model fit predict\n",
    "model_0 = rf0.fit(train)\n",
    "results = model_0.transform(test)"
   ]
  },
  {
   "cell_type": "code",
   "execution_count": 8,
   "metadata": {},
   "outputs": [
    {
     "name": "stderr",
     "output_type": "stream",
     "text": [
      "                                                                                \r"
     ]
    }
   ],
   "source": [
    "# converting results to pandas\n",
    "results_pd = proba_to_pandas(dataframe = results, prob_col='probability', label_col='is_fraud')"
   ]
  },
  {
   "cell_type": "code",
   "execution_count": 30,
   "metadata": {},
   "outputs": [
    {
     "data": {
      "text/plain": [
       "{'old_balance_org': 0.34931530171717706,\n",
       " 'new_balance_dest': 0.29477246648955635,\n",
       " 'old_balance_dest': 0.07421359572005681,\n",
       " 'amount': 0.07136215406397364,\n",
       " 'new_balance_org': 0.0510389465837258,\n",
       " 'delta_balance_dest': 0.04054691205732011,\n",
       " 'hour': 0.037731519820129365,\n",
       " 'delta_balance_org': 0.011778084302479869,\n",
       " 'type_ohe': 0.0012000638911116258,\n",
       " 'is_flagged_fraud': 0.0}"
      ]
     },
     "execution_count": 30,
     "metadata": {},
     "output_type": "execute_result"
    }
   ],
   "source": [
    "# model_0.getFeat\n",
    "\n",
    "# vector asslembler's cols\n",
    "# va_cols = model_0.getInputCols()\n",
    "va_cols = prep_pipe.getStages()[-1].getInputCols()\n",
    "\n",
    "\n",
    "# model features' importance\n",
    "feat_imp = model_0.featureImportances\n",
    "\n",
    "# saving in a dict\n",
    "aux = dict(zip(va_cols, feat_imp))\n",
    "\n",
    "#sorting \n",
    "features = {k: v for k, v in sorted(aux.items(), key = lambda x: x[1], reverse=True) }\n",
    "features"
   ]
  },
  {
   "cell_type": "code",
   "execution_count": 31,
   "metadata": {},
   "outputs": [],
   "source": [
    "# logging feature importances\n",
    "mlflow.log_dict(features, 'all_features_importance.json')"
   ]
  },
  {
   "cell_type": "code",
   "execution_count": 32,
   "metadata": {},
   "outputs": [
    {
     "data": {
      "text/plain": [
       "{'F1-Score': 0.9845900956815228,\n",
       " 'Area_PR': 0.7674108267830395,\n",
       " 'Precision': 0.9973753280839895,\n",
       " 'Recall': 0.45536249251048533}"
      ]
     },
     "execution_count": 32,
     "metadata": {},
     "output_type": "execute_result"
    }
   ],
   "source": [
    "# evaluating result metrics\n",
    "threshold = 0.5\n",
    "metric_f1 = roc_auc_score(y_true = results_pd.y_true, y_score = results_pd.y_pred)\n",
    "metric_ap = average_precision_score(y_true = results_pd.y_true, y_score = results_pd.y_pred)\n",
    "metric_precision = precision_score(y_true=results_pd.y_true, y_pred = results_pd.y_pred > threshold)\n",
    "metric_recall = recall_score(y_true=results_pd.y_true, y_pred = results_pd.y_pred > threshold)\n",
    "# logging metrics\n",
    "metrics = {\"F1-Score\": metric_f1 ,\n",
    "           \"Area_PR\": metric_ap ,\n",
    "           \"Precision\": metric_precision ,\n",
    "           \"Recall\": metric_recall}\n",
    "\n",
    "mlflow.log_param(\"threshold\", threshold)\n",
    "mlflow.log_metrics(metrics)\n",
    "metrics"
   ]
  },
  {
   "cell_type": "code",
   "execution_count": 34,
   "metadata": {},
   "outputs": [],
   "source": [
    "mlflow.end_run()"
   ]
  },
  {
   "cell_type": "code",
   "execution_count": 6,
   "metadata": {},
   "outputs": [],
   "source": [
    "experiment_id = '1'"
   ]
  },
  {
   "cell_type": "code",
   "execution_count": 9,
   "metadata": {},
   "outputs": [
    {
     "name": "stderr",
     "output_type": "stream",
     "text": [
      "                                                                                \r"
     ]
    },
    {
     "name": "stdout",
     "output_type": "stream",
     "text": [
      "CPU times: user 250 ms, sys: 59.7 ms, total: 310 ms\n",
      "Wall time: 3min 54s\n"
     ]
    }
   ],
   "source": [
    "%%time\n",
    "# start logging\n",
    "mlflow.start_run(experiment_id=experiment_id, run_name='RF with all features + 20 trees')\n",
    "\n",
    "# RF using all features\n",
    "rf0 = RandomForestClassifier(featuresCol='features', labelCol='is_fraud', seed=42, numTrees=20)\n",
    "\n",
    "# model params\n",
    "params = {\"Impurity\" : rf0.getImpurity(),\n",
    "\"MaxBins\" : rf0.getMaxBins(),\n",
    "\"MaxDepth\" : rf0.getMaxDepth(),\n",
    "\"NumTrees\" : rf0.getNumTrees(),\n",
    "\"Seed\" : rf0.getSeed(),\n",
    "\"MinInfoGain\" : rf0.getMinInfoGain()}\n",
    "\n",
    "mlflow.log_params(params)\n",
    "\n",
    "# model fit predict\n",
    "model_0 = rf0.fit(train)\n",
    "results = model_0.transform(test)"
   ]
  },
  {
   "cell_type": "code",
   "execution_count": 7,
   "metadata": {},
   "outputs": [],
   "source": [
    "from pyspark.ml.evaluation import BinaryClassificationEvaluator"
   ]
  },
  {
   "cell_type": "code",
   "execution_count": 11,
   "metadata": {},
   "outputs": [
    {
     "name": "stderr",
     "output_type": "stream",
     "text": [
      "                                                                                \r"
     ]
    },
    {
     "name": "stdout",
     "output_type": "stream",
     "text": [
      "CPU times: user 193 ms, sys: 87.3 ms, total: 281 ms\n",
      "Wall time: 6min 37s\n"
     ]
    },
    {
     "data": {
      "text/plain": [
       "0.7678912602304129"
      ]
     },
     "execution_count": 11,
     "metadata": {},
     "output_type": "execute_result"
    }
   ],
   "source": [
    "%%time\n",
    "evaluator = BinaryClassificationEvaluator(rawPredictionCol='rawPrediction', labelCol='is_fraud', metricName='areaUnderPR')\n",
    "\n",
    "evaluator.evaluate(results)"
   ]
  },
  {
   "cell_type": "code",
   "execution_count": 12,
   "metadata": {},
   "outputs": [
    {
     "name": "stderr",
     "output_type": "stream",
     "text": [
      "                                                                                \r"
     ]
    },
    {
     "name": "stdout",
     "output_type": "stream",
     "text": [
      "CPU times: user 72.8 ms, sys: 37.2 ms, total: 110 ms\n",
      "Wall time: 3min 41s\n"
     ]
    },
    {
     "data": {
      "text/plain": [
       "0.9877320642644818"
      ]
     },
     "execution_count": 12,
     "metadata": {},
     "output_type": "execute_result"
    }
   ],
   "source": [
    "%%time\n",
    "evaluator = BinaryClassificationEvaluator(rawPredictionCol='rawPrediction', labelCol='is_fraud', metricName='areaUnderROC')\n",
    "\n",
    "evaluator.evaluate(results)"
   ]
  },
  {
   "cell_type": "code",
   "execution_count": 8,
   "metadata": {},
   "outputs": [],
   "source": [
    "from pyspark.mllib.evaluation import BinaryClassificationMetrics, MulticlassMetrics"
   ]
  },
  {
   "cell_type": "code",
   "execution_count": 13,
   "metadata": {},
   "outputs": [
    {
     "name": "stderr",
     "output_type": "stream",
     "text": [
      "                                                                                \r"
     ]
    },
    {
     "name": "stdout",
     "output_type": "stream",
     "text": [
      "CPU times: user 44.2 s, sys: 1.89 s, total: 46.1 s\n",
      "Wall time: 5min 26s\n"
     ]
    }
   ],
   "source": [
    "%%time\n",
    "# converting results to pandas\n",
    "results_pd = proba_to_pandas(dataframe = results, prob_col='probability', label_col='is_fraud')"
   ]
  },
  {
   "cell_type": "code",
   "execution_count": 14,
   "metadata": {},
   "outputs": [
    {
     "data": {
      "text/plain": [
       "{'old_balance_org': 0.4006346363816082,\n",
       " 'new_balance_dest': 0.24570971565693012,\n",
       " 'delta_balance_dest': 0.06592218989249,\n",
       " 'amount': 0.06429322394220902,\n",
       " 'old_balance_dest': 0.04566063759452667,\n",
       " 'hour': 0.044680620857401064,\n",
       " 'delta_balance_org': 0.03797982417497699,\n",
       " 'new_balance_org': 0.008575521987454069,\n",
       " 'type_ohe': 0.003913653393192304,\n",
       " 'is_flagged_fraud': 0.0}"
      ]
     },
     "execution_count": 14,
     "metadata": {},
     "output_type": "execute_result"
    }
   ],
   "source": [
    "# model_0.getFeat\n",
    "\n",
    "# vector asslembler's cols\n",
    "# va_cols = model_0.getInputCols()\n",
    "va_cols = prep_pipe.getStages()[-1].getInputCols()\n",
    "\n",
    "\n",
    "# model features' importance\n",
    "feat_imp = model_0.featureImportances\n",
    "\n",
    "# saving in a dict\n",
    "aux = dict(zip(va_cols, feat_imp))\n",
    "\n",
    "#sorting \n",
    "features = {k: v for k, v in sorted(aux.items(), key = lambda x: x[1], reverse=True) }\n",
    "features"
   ]
  },
  {
   "cell_type": "code",
   "execution_count": 15,
   "metadata": {},
   "outputs": [],
   "source": [
    "# logging feature importances\n",
    "mlflow.log_dict(features, 'all_features_importance.json')"
   ]
  },
  {
   "cell_type": "code",
   "execution_count": 16,
   "metadata": {},
   "outputs": [
    {
     "data": {
      "text/plain": [
       "{'F1-Score': 0.9877320642644818,\n",
       " 'Area_PR': 0.7653759540809282,\n",
       " 'Precision': 0.9974554707379135,\n",
       " 'Recall': 0.46974236069502695}"
      ]
     },
     "execution_count": 16,
     "metadata": {},
     "output_type": "execute_result"
    }
   ],
   "source": [
    "# evaluating result metrics\n",
    "threshold = 0.5\n",
    "metric_f1 = roc_auc_score(y_true = results_pd.y_true, y_score = results_pd.y_pred)\n",
    "metric_ap = average_precision_score(y_true = results_pd.y_true, y_score = results_pd.y_pred)\n",
    "metric_precision = precision_score(y_true=results_pd.y_true, y_pred = results_pd.y_pred > threshold)\n",
    "metric_recall = recall_score(y_true=results_pd.y_true, y_pred = results_pd.y_pred > threshold)\n",
    "# logging metrics\n",
    "metrics = {\"F1-Score\": metric_f1 ,\n",
    "           \"Area_PR\": metric_ap ,\n",
    "           \"Precision\": metric_precision ,\n",
    "           \"Recall\": metric_recall}\n",
    "\n",
    "mlflow.log_param(\"threshold\", threshold)\n",
    "mlflow.log_metrics(metrics)\n",
    "metrics"
   ]
  },
  {
   "cell_type": "code",
   "execution_count": 25,
   "metadata": {},
   "outputs": [
    {
     "name": "stderr",
     "output_type": "stream",
     "text": [
      "[Stage 61:>                                                         (0 + 4) / 8]\r"
     ]
    }
   ],
   "source": [
    "results.show()"
   ]
  },
  {
   "cell_type": "code",
   "execution_count": 17,
   "metadata": {},
   "outputs": [
    {
     "ename": "AnalysisException",
     "evalue": "cannot resolve 'target' given input columns: [amount, delta_balance_dest, delta_balance_org, features, hour, is_flagged_fraud, is_fraud, name_dest, name_orig, new_balance_dest, new_balance_org, old_balance_dest, old_balance_org, step, type, type_idx, type_ohe];\n'Project ['target, 'prediction]\n+- ExceptAll true\n   :- Project [step#116, type#39, amount#117, name_orig#41, old_balance_org#118, new_balance_org#119, name_dest#44, old_balance_dest#120, new_balance_dest#121, is_fraud#122, is_flagged_fraud#123, hour#124, delta_balance_org#125, delta_balance_dest#126, type_idx#205, type_ohe#228, features#253]\n   :  +- Project [step#116, type#39, amount#117, name_orig#41, old_balance_org#118, new_balance_org#119, name_dest#44, old_balance_dest#120, new_balance_dest#121, is_fraud#122, is_flagged_fraud#123, hour#124, delta_balance_org#125, delta_balance_dest#126, type_idx#205, type_ohe#228, features#253]\n   :     +- Project [step#116, type#39, amount#117, name_orig#41, old_balance_org#118, new_balance_org#119, name_dest#44, old_balance_dest#120, new_balance_dest#121, is_fraud#122, is_flagged_fraud#123, hour#124, delta_balance_org#125, delta_balance_dest#126, type_idx#205, type_ohe#228, features#253]\n   :        +- Project [step#116, type#39, amount#117, name_orig#41, old_balance_org#118, new_balance_org#119, name_dest#44, old_balance_dest#120, new_balance_dest#121, is_fraud#122, is_flagged_fraud#123, hour#124, delta_balance_org#125, delta_balance_dest#126, type_idx#205, type_ohe#228, features#253]\n   :           +- Project [step#116, type#39, amount#117, name_orig#41, old_balance_org#118, new_balance_org#119, name_dest#44, old_balance_dest#120, new_balance_dest#121, is_fraud#122, is_flagged_fraud#123, hour#124, delta_balance_org#125, delta_balance_dest#126, type_idx#205, type_ohe#228, UDF(struct(amount, amount#117, old_balance_org, old_balance_org#118, new_balance_org, new_balance_org#119, old_balance_dest, old_balance_dest#120, new_balance_dest, new_balance_dest#121, is_flagged_fraud_double_VectorAssembler_e797b9921940, cast(is_flagged_fraud#123 as double), hour, hour#124, delta_balance_org, delta_balance_org#125, delta_balance_dest, delta_balance_dest#126, type_ohe, type_ohe#228)) AS features#253]\n   :              +- Project [step#116, type#39, amount#117, name_orig#41, old_balance_org#118, new_balance_org#119, name_dest#44, old_balance_dest#120, new_balance_dest#121, is_fraud#122, is_flagged_fraud#123, hour#124, delta_balance_org#125, delta_balance_dest#126, type_idx#205, UDF(cast(type_idx#205 as double), 0) AS type_ohe#228]\n   :                 +- Project [step#116, type#39, amount#117, name_orig#41, old_balance_org#118, new_balance_org#119, name_dest#44, old_balance_dest#120, new_balance_dest#121, is_fraud#122, is_flagged_fraud#123, hour#124, delta_balance_org#125, delta_balance_dest#126, UDF(cast(type#39 as string)) AS type_idx#205]\n   :                    +- Project [coalesce(step#38, cast(0.0 as int)) AS step#116, type#39, coalesce(nanvl(amount#40, cast(null as double)), cast(0.0 as double)) AS amount#117, name_orig#41, coalesce(nanvl(old_balance_org#42, cast(null as double)), cast(0.0 as double)) AS old_balance_org#118, coalesce(nanvl(new_balance_org#43, cast(null as double)), cast(0.0 as double)) AS new_balance_org#119, name_dest#44, coalesce(nanvl(old_balance_dest#45, cast(null as double)), cast(0.0 as double)) AS old_balance_dest#120, coalesce(nanvl(new_balance_dest#46, cast(null as double)), cast(0.0 as double)) AS new_balance_dest#121, coalesce(is_fraud#47, cast(0.0 as int)) AS is_fraud#122, coalesce(is_flagged_fraud#48, cast(0.0 as int)) AS is_flagged_fraud#123, coalesce(nanvl(hour#60, cast(null as double)), cast(0.0 as double)) AS hour#124, coalesce(nanvl(delta_balance_org#73, cast(null as double)), cast(0.0 as double)) AS delta_balance_org#125, coalesce(nanvl(delta_balance_dest#87, cast(null as double)), cast(0.0 as double)) AS delta_balance_dest#126]\n   :                       +- Project [step#38, type#39, amount#40, name_orig#41, old_balance_org#42, new_balance_org#43, name_dest#44, old_balance_dest#45, new_balance_dest#46, is_fraud#47, is_flagged_fraud#48, hour#60, delta_balance_org#73, ((new_balance_dest#46 - old_balance_dest#45) / old_balance_dest#45) AS delta_balance_dest#87]\n   :                          +- Project [step#38, type#39, amount#40, name_orig#41, old_balance_org#42, new_balance_org#43, name_dest#44, old_balance_dest#45, new_balance_dest#46, is_fraud#47, is_flagged_fraud#48, hour#60, ((new_balance_org#43 - old_balance_org#42) / old_balance_org#42) AS delta_balance_org#73]\n   :                             +- Project [step#38, type#39, amount#40, name_orig#41, old_balance_org#42, new_balance_org#43, name_dest#44, old_balance_dest#45, new_balance_dest#46, is_fraud#47, is_flagged_fraud#48, (cast(step#38 as double) % 24.0) AS hour#60]\n   :                                +- Project [step#16 AS step#38, type#17 AS type#39, amount#18 AS amount#40, nameOrig#19 AS name_orig#41, oldbalanceOrg#20 AS old_balance_org#42, newbalanceOrig#21 AS new_balance_org#43, nameDest#22 AS name_dest#44, oldbalanceDest#23 AS old_balance_dest#45, newbalanceDest#24 AS new_balance_dest#46, isFraud#25 AS is_fraud#47, isFlaggedFraud#26 AS is_flagged_fraud#48]\n   :                                   +- Relation [step#16,type#17,amount#18,nameOrig#19,oldbalanceOrg#20,newbalanceOrig#21,nameDest#22,oldbalanceDest#23,newbalanceDest#24,isFraud#25,isFlaggedFraud#26] csv\n   +- Project [step#307, type#319, amount#308, name_orig#321, old_balance_org#309, new_balance_org#310, name_dest#324, old_balance_dest#311, new_balance_dest#312, is_fraud#313, is_flagged_fraud#314, hour#315, delta_balance_org#316, delta_balance_dest#317, type_idx#306, type_ohe#305, features#304]\n      +- Project [step#307, type#319, amount#308, name_orig#321, old_balance_org#309, new_balance_org#310, name_dest#324, old_balance_dest#311, new_balance_dest#312, is_fraud#313, is_flagged_fraud#314, hour#315, delta_balance_org#316, delta_balance_dest#317, type_idx#306, type_ohe#305, features#304]\n         +- Project [step#307, type#319, amount#308, name_orig#321, old_balance_org#309, new_balance_org#310, name_dest#324, old_balance_dest#311, new_balance_dest#312, is_fraud#313, is_flagged_fraud#314, hour#315, delta_balance_org#316, delta_balance_dest#317, type_idx#306, type_ohe#305, features#304]\n            +- Project [step#307, type#319, amount#308, name_orig#321, old_balance_org#309, new_balance_org#310, name_dest#324, old_balance_dest#311, new_balance_dest#312, is_fraud#313, is_flagged_fraud#314, hour#315, delta_balance_org#316, delta_balance_dest#317, type_idx#306, type_ohe#305, features#304]\n               +- Filter UDF(is_fraud#313, rand(42))\n                  +- Project [step#307, type#319, amount#308, name_orig#321, old_balance_org#309, new_balance_org#310, name_dest#324, old_balance_dest#311, new_balance_dest#312, is_fraud#313, is_flagged_fraud#314, hour#315, delta_balance_org#316, delta_balance_dest#317, type_idx#306, type_ohe#305, UDF(struct(amount, amount#308, old_balance_org, old_balance_org#309, new_balance_org, new_balance_org#310, old_balance_dest, old_balance_dest#311, new_balance_dest, new_balance_dest#312, is_flagged_fraud_double_VectorAssembler_e797b9921940, cast(is_flagged_fraud#314 as double), hour, hour#315, delta_balance_org, delta_balance_org#316, delta_balance_dest, delta_balance_dest#317, type_ohe, type_ohe#305)) AS features#304]\n                     +- Project [step#307, type#319, amount#308, name_orig#321, old_balance_org#309, new_balance_org#310, name_dest#324, old_balance_dest#311, new_balance_dest#312, is_fraud#313, is_flagged_fraud#314, hour#315, delta_balance_org#316, delta_balance_dest#317, type_idx#306, UDF(cast(type_idx#306 as double), 0) AS type_ohe#305]\n                        +- Project [step#307, type#319, amount#308, name_orig#321, old_balance_org#309, new_balance_org#310, name_dest#324, old_balance_dest#311, new_balance_dest#312, is_fraud#313, is_flagged_fraud#314, hour#315, delta_balance_org#316, delta_balance_dest#317, UDF(cast(type#319 as string)) AS type_idx#306]\n                           +- Project [coalesce(step#318, cast(0.0 as int)) AS step#307, type#319, coalesce(nanvl(amount#320, cast(null as double)), cast(0.0 as double)) AS amount#308, name_orig#321, coalesce(nanvl(old_balance_org#322, cast(null as double)), cast(0.0 as double)) AS old_balance_org#309, coalesce(nanvl(new_balance_org#323, cast(null as double)), cast(0.0 as double)) AS new_balance_org#310, name_dest#324, coalesce(nanvl(old_balance_dest#325, cast(null as double)), cast(0.0 as double)) AS old_balance_dest#311, coalesce(nanvl(new_balance_dest#326, cast(null as double)), cast(0.0 as double)) AS new_balance_dest#312, coalesce(is_fraud#327, cast(0.0 as int)) AS is_fraud#313, coalesce(is_flagged_fraud#328, cast(0.0 as int)) AS is_flagged_fraud#314, coalesce(nanvl(hour#60, cast(null as double)), cast(0.0 as double)) AS hour#315, coalesce(nanvl(delta_balance_org#73, cast(null as double)), cast(0.0 as double)) AS delta_balance_org#316, coalesce(nanvl(delta_balance_dest#87, cast(null as double)), cast(0.0 as double)) AS delta_balance_dest#317]\n                              +- Project [step#318, type#319, amount#320, name_orig#321, old_balance_org#322, new_balance_org#323, name_dest#324, old_balance_dest#325, new_balance_dest#326, is_fraud#327, is_flagged_fraud#328, hour#60, delta_balance_org#73, ((new_balance_dest#326 - old_balance_dest#325) / old_balance_dest#325) AS delta_balance_dest#87]\n                                 +- Project [step#318, type#319, amount#320, name_orig#321, old_balance_org#322, new_balance_org#323, name_dest#324, old_balance_dest#325, new_balance_dest#326, is_fraud#327, is_flagged_fraud#328, hour#60, ((new_balance_org#323 - old_balance_org#322) / old_balance_org#322) AS delta_balance_org#73]\n                                    +- Project [step#318, type#319, amount#320, name_orig#321, old_balance_org#322, new_balance_org#323, name_dest#324, old_balance_dest#325, new_balance_dest#326, is_fraud#327, is_flagged_fraud#328, (cast(step#318 as double) % 24.0) AS hour#60]\n                                       +- Project [step#293 AS step#318, type#294 AS type#319, amount#295 AS amount#320, nameOrig#296 AS name_orig#321, oldbalanceOrg#297 AS old_balance_org#322, newbalanceOrig#298 AS new_balance_org#323, nameDest#299 AS name_dest#324, oldbalanceDest#300 AS old_balance_dest#325, newbalanceDest#301 AS new_balance_dest#326, isFraud#302 AS is_fraud#327, isFlaggedFraud#303 AS is_flagged_fraud#328]\n                                          +- Relation [step#293,type#294,amount#295,nameOrig#296,oldbalanceOrg#297,newbalanceOrig#298,nameDest#299,oldbalanceDest#300,newbalanceDest#301,isFraud#302,isFlaggedFraud#303] csv\n",
     "output_type": "error",
     "traceback": [
      "\u001b[0;31m---------------------------------------------------------------------------\u001b[0m",
      "\u001b[0;31mAnalysisException\u001b[0m                         Traceback (most recent call last)",
      "File \u001b[0;32m<timed exec>:2\u001b[0m, in \u001b[0;36m<module>\u001b[0;34m\u001b[0m\n",
      "File \u001b[0;32m~/.pyenv/versions/3.8.0/envs/pyspark/lib/python3.8/site-packages/pyspark/sql/dataframe.py:1685\u001b[0m, in \u001b[0;36mDataFrame.select\u001b[0;34m(self, *cols)\u001b[0m\n\u001b[1;32m   <a href='file:///home/humberto/.pyenv/versions/3.8.0/envs/pyspark/lib/python3.8/site-packages/pyspark/sql/dataframe.py?line=1663'>1664</a>\u001b[0m \u001b[39mdef\u001b[39;00m \u001b[39mselect\u001b[39m(\u001b[39mself\u001b[39m, \u001b[39m*\u001b[39mcols):\n\u001b[1;32m   <a href='file:///home/humberto/.pyenv/versions/3.8.0/envs/pyspark/lib/python3.8/site-packages/pyspark/sql/dataframe.py?line=1664'>1665</a>\u001b[0m     \u001b[39m\"\"\"Projects a set of expressions and returns a new :class:`DataFrame`.\u001b[39;00m\n\u001b[1;32m   <a href='file:///home/humberto/.pyenv/versions/3.8.0/envs/pyspark/lib/python3.8/site-packages/pyspark/sql/dataframe.py?line=1665'>1666</a>\u001b[0m \n\u001b[1;32m   <a href='file:///home/humberto/.pyenv/versions/3.8.0/envs/pyspark/lib/python3.8/site-packages/pyspark/sql/dataframe.py?line=1666'>1667</a>\u001b[0m \u001b[39m    .. versionadded:: 1.3.0\u001b[39;00m\n\u001b[0;32m   (...)\u001b[0m\n\u001b[1;32m   <a href='file:///home/humberto/.pyenv/versions/3.8.0/envs/pyspark/lib/python3.8/site-packages/pyspark/sql/dataframe.py?line=1682'>1683</a>\u001b[0m \u001b[39m    [Row(name='Alice', age=12), Row(name='Bob', age=15)]\u001b[39;00m\n\u001b[1;32m   <a href='file:///home/humberto/.pyenv/versions/3.8.0/envs/pyspark/lib/python3.8/site-packages/pyspark/sql/dataframe.py?line=1683'>1684</a>\u001b[0m \u001b[39m    \"\"\"\u001b[39;00m\n\u001b[0;32m-> <a href='file:///home/humberto/.pyenv/versions/3.8.0/envs/pyspark/lib/python3.8/site-packages/pyspark/sql/dataframe.py?line=1684'>1685</a>\u001b[0m     jdf \u001b[39m=\u001b[39m \u001b[39mself\u001b[39;49m\u001b[39m.\u001b[39;49m_jdf\u001b[39m.\u001b[39;49mselect(\u001b[39mself\u001b[39;49m\u001b[39m.\u001b[39;49m_jcols(\u001b[39m*\u001b[39;49mcols))\n\u001b[1;32m   <a href='file:///home/humberto/.pyenv/versions/3.8.0/envs/pyspark/lib/python3.8/site-packages/pyspark/sql/dataframe.py?line=1685'>1686</a>\u001b[0m     \u001b[39mreturn\u001b[39;00m DataFrame(jdf, \u001b[39mself\u001b[39m\u001b[39m.\u001b[39msql_ctx)\n",
      "File \u001b[0;32m~/.pyenv/versions/3.8.0/envs/pyspark/lib/python3.8/site-packages/py4j/java_gateway.py:1321\u001b[0m, in \u001b[0;36mJavaMember.__call__\u001b[0;34m(self, *args)\u001b[0m\n\u001b[1;32m   <a href='file:///home/humberto/.pyenv/versions/3.8.0/envs/pyspark/lib/python3.8/site-packages/py4j/java_gateway.py?line=1314'>1315</a>\u001b[0m command \u001b[39m=\u001b[39m proto\u001b[39m.\u001b[39mCALL_COMMAND_NAME \u001b[39m+\u001b[39m\\\n\u001b[1;32m   <a href='file:///home/humberto/.pyenv/versions/3.8.0/envs/pyspark/lib/python3.8/site-packages/py4j/java_gateway.py?line=1315'>1316</a>\u001b[0m     \u001b[39mself\u001b[39m\u001b[39m.\u001b[39mcommand_header \u001b[39m+\u001b[39m\\\n\u001b[1;32m   <a href='file:///home/humberto/.pyenv/versions/3.8.0/envs/pyspark/lib/python3.8/site-packages/py4j/java_gateway.py?line=1316'>1317</a>\u001b[0m     args_command \u001b[39m+\u001b[39m\\\n\u001b[1;32m   <a href='file:///home/humberto/.pyenv/versions/3.8.0/envs/pyspark/lib/python3.8/site-packages/py4j/java_gateway.py?line=1317'>1318</a>\u001b[0m     proto\u001b[39m.\u001b[39mEND_COMMAND_PART\n\u001b[1;32m   <a href='file:///home/humberto/.pyenv/versions/3.8.0/envs/pyspark/lib/python3.8/site-packages/py4j/java_gateway.py?line=1319'>1320</a>\u001b[0m answer \u001b[39m=\u001b[39m \u001b[39mself\u001b[39m\u001b[39m.\u001b[39mgateway_client\u001b[39m.\u001b[39msend_command(command)\n\u001b[0;32m-> <a href='file:///home/humberto/.pyenv/versions/3.8.0/envs/pyspark/lib/python3.8/site-packages/py4j/java_gateway.py?line=1320'>1321</a>\u001b[0m return_value \u001b[39m=\u001b[39m get_return_value(\n\u001b[1;32m   <a href='file:///home/humberto/.pyenv/versions/3.8.0/envs/pyspark/lib/python3.8/site-packages/py4j/java_gateway.py?line=1321'>1322</a>\u001b[0m     answer, \u001b[39mself\u001b[39;49m\u001b[39m.\u001b[39;49mgateway_client, \u001b[39mself\u001b[39;49m\u001b[39m.\u001b[39;49mtarget_id, \u001b[39mself\u001b[39;49m\u001b[39m.\u001b[39;49mname)\n\u001b[1;32m   <a href='file:///home/humberto/.pyenv/versions/3.8.0/envs/pyspark/lib/python3.8/site-packages/py4j/java_gateway.py?line=1323'>1324</a>\u001b[0m \u001b[39mfor\u001b[39;00m temp_arg \u001b[39min\u001b[39;00m temp_args:\n\u001b[1;32m   <a href='file:///home/humberto/.pyenv/versions/3.8.0/envs/pyspark/lib/python3.8/site-packages/py4j/java_gateway.py?line=1324'>1325</a>\u001b[0m     temp_arg\u001b[39m.\u001b[39m_detach()\n",
      "File \u001b[0;32m~/.pyenv/versions/3.8.0/envs/pyspark/lib/python3.8/site-packages/pyspark/sql/utils.py:117\u001b[0m, in \u001b[0;36mcapture_sql_exception.<locals>.deco\u001b[0;34m(*a, **kw)\u001b[0m\n\u001b[1;32m    <a href='file:///home/humberto/.pyenv/versions/3.8.0/envs/pyspark/lib/python3.8/site-packages/pyspark/sql/utils.py?line=112'>113</a>\u001b[0m converted \u001b[39m=\u001b[39m convert_exception(e\u001b[39m.\u001b[39mjava_exception)\n\u001b[1;32m    <a href='file:///home/humberto/.pyenv/versions/3.8.0/envs/pyspark/lib/python3.8/site-packages/pyspark/sql/utils.py?line=113'>114</a>\u001b[0m \u001b[39mif\u001b[39;00m \u001b[39mnot\u001b[39;00m \u001b[39misinstance\u001b[39m(converted, UnknownException):\n\u001b[1;32m    <a href='file:///home/humberto/.pyenv/versions/3.8.0/envs/pyspark/lib/python3.8/site-packages/pyspark/sql/utils.py?line=114'>115</a>\u001b[0m     \u001b[39m# Hide where the exception came from that shows a non-Pythonic\u001b[39;00m\n\u001b[1;32m    <a href='file:///home/humberto/.pyenv/versions/3.8.0/envs/pyspark/lib/python3.8/site-packages/pyspark/sql/utils.py?line=115'>116</a>\u001b[0m     \u001b[39m# JVM exception message.\u001b[39;00m\n\u001b[0;32m--> <a href='file:///home/humberto/.pyenv/versions/3.8.0/envs/pyspark/lib/python3.8/site-packages/pyspark/sql/utils.py?line=116'>117</a>\u001b[0m     \u001b[39mraise\u001b[39;00m converted \u001b[39mfrom\u001b[39;00m \u001b[39mNone\u001b[39m\n\u001b[1;32m    <a href='file:///home/humberto/.pyenv/versions/3.8.0/envs/pyspark/lib/python3.8/site-packages/pyspark/sql/utils.py?line=117'>118</a>\u001b[0m \u001b[39melse\u001b[39;00m:\n\u001b[1;32m    <a href='file:///home/humberto/.pyenv/versions/3.8.0/envs/pyspark/lib/python3.8/site-packages/pyspark/sql/utils.py?line=118'>119</a>\u001b[0m     \u001b[39mraise\u001b[39;00m\n",
      "\u001b[0;31mAnalysisException\u001b[0m: cannot resolve 'target' given input columns: [amount, delta_balance_dest, delta_balance_org, features, hour, is_flagged_fraud, is_fraud, name_dest, name_orig, new_balance_dest, new_balance_org, old_balance_dest, old_balance_org, step, type, type_idx, type_ohe];\n'Project ['target, 'prediction]\n+- ExceptAll true\n   :- Project [step#116, type#39, amount#117, name_orig#41, old_balance_org#118, new_balance_org#119, name_dest#44, old_balance_dest#120, new_balance_dest#121, is_fraud#122, is_flagged_fraud#123, hour#124, delta_balance_org#125, delta_balance_dest#126, type_idx#205, type_ohe#228, features#253]\n   :  +- Project [step#116, type#39, amount#117, name_orig#41, old_balance_org#118, new_balance_org#119, name_dest#44, old_balance_dest#120, new_balance_dest#121, is_fraud#122, is_flagged_fraud#123, hour#124, delta_balance_org#125, delta_balance_dest#126, type_idx#205, type_ohe#228, features#253]\n   :     +- Project [step#116, type#39, amount#117, name_orig#41, old_balance_org#118, new_balance_org#119, name_dest#44, old_balance_dest#120, new_balance_dest#121, is_fraud#122, is_flagged_fraud#123, hour#124, delta_balance_org#125, delta_balance_dest#126, type_idx#205, type_ohe#228, features#253]\n   :        +- Project [step#116, type#39, amount#117, name_orig#41, old_balance_org#118, new_balance_org#119, name_dest#44, old_balance_dest#120, new_balance_dest#121, is_fraud#122, is_flagged_fraud#123, hour#124, delta_balance_org#125, delta_balance_dest#126, type_idx#205, type_ohe#228, features#253]\n   :           +- Project [step#116, type#39, amount#117, name_orig#41, old_balance_org#118, new_balance_org#119, name_dest#44, old_balance_dest#120, new_balance_dest#121, is_fraud#122, is_flagged_fraud#123, hour#124, delta_balance_org#125, delta_balance_dest#126, type_idx#205, type_ohe#228, UDF(struct(amount, amount#117, old_balance_org, old_balance_org#118, new_balance_org, new_balance_org#119, old_balance_dest, old_balance_dest#120, new_balance_dest, new_balance_dest#121, is_flagged_fraud_double_VectorAssembler_e797b9921940, cast(is_flagged_fraud#123 as double), hour, hour#124, delta_balance_org, delta_balance_org#125, delta_balance_dest, delta_balance_dest#126, type_ohe, type_ohe#228)) AS features#253]\n   :              +- Project [step#116, type#39, amount#117, name_orig#41, old_balance_org#118, new_balance_org#119, name_dest#44, old_balance_dest#120, new_balance_dest#121, is_fraud#122, is_flagged_fraud#123, hour#124, delta_balance_org#125, delta_balance_dest#126, type_idx#205, UDF(cast(type_idx#205 as double), 0) AS type_ohe#228]\n   :                 +- Project [step#116, type#39, amount#117, name_orig#41, old_balance_org#118, new_balance_org#119, name_dest#44, old_balance_dest#120, new_balance_dest#121, is_fraud#122, is_flagged_fraud#123, hour#124, delta_balance_org#125, delta_balance_dest#126, UDF(cast(type#39 as string)) AS type_idx#205]\n   :                    +- Project [coalesce(step#38, cast(0.0 as int)) AS step#116, type#39, coalesce(nanvl(amount#40, cast(null as double)), cast(0.0 as double)) AS amount#117, name_orig#41, coalesce(nanvl(old_balance_org#42, cast(null as double)), cast(0.0 as double)) AS old_balance_org#118, coalesce(nanvl(new_balance_org#43, cast(null as double)), cast(0.0 as double)) AS new_balance_org#119, name_dest#44, coalesce(nanvl(old_balance_dest#45, cast(null as double)), cast(0.0 as double)) AS old_balance_dest#120, coalesce(nanvl(new_balance_dest#46, cast(null as double)), cast(0.0 as double)) AS new_balance_dest#121, coalesce(is_fraud#47, cast(0.0 as int)) AS is_fraud#122, coalesce(is_flagged_fraud#48, cast(0.0 as int)) AS is_flagged_fraud#123, coalesce(nanvl(hour#60, cast(null as double)), cast(0.0 as double)) AS hour#124, coalesce(nanvl(delta_balance_org#73, cast(null as double)), cast(0.0 as double)) AS delta_balance_org#125, coalesce(nanvl(delta_balance_dest#87, cast(null as double)), cast(0.0 as double)) AS delta_balance_dest#126]\n   :                       +- Project [step#38, type#39, amount#40, name_orig#41, old_balance_org#42, new_balance_org#43, name_dest#44, old_balance_dest#45, new_balance_dest#46, is_fraud#47, is_flagged_fraud#48, hour#60, delta_balance_org#73, ((new_balance_dest#46 - old_balance_dest#45) / old_balance_dest#45) AS delta_balance_dest#87]\n   :                          +- Project [step#38, type#39, amount#40, name_orig#41, old_balance_org#42, new_balance_org#43, name_dest#44, old_balance_dest#45, new_balance_dest#46, is_fraud#47, is_flagged_fraud#48, hour#60, ((new_balance_org#43 - old_balance_org#42) / old_balance_org#42) AS delta_balance_org#73]\n   :                             +- Project [step#38, type#39, amount#40, name_orig#41, old_balance_org#42, new_balance_org#43, name_dest#44, old_balance_dest#45, new_balance_dest#46, is_fraud#47, is_flagged_fraud#48, (cast(step#38 as double) % 24.0) AS hour#60]\n   :                                +- Project [step#16 AS step#38, type#17 AS type#39, amount#18 AS amount#40, nameOrig#19 AS name_orig#41, oldbalanceOrg#20 AS old_balance_org#42, newbalanceOrig#21 AS new_balance_org#43, nameDest#22 AS name_dest#44, oldbalanceDest#23 AS old_balance_dest#45, newbalanceDest#24 AS new_balance_dest#46, isFraud#25 AS is_fraud#47, isFlaggedFraud#26 AS is_flagged_fraud#48]\n   :                                   +- Relation [step#16,type#17,amount#18,nameOrig#19,oldbalanceOrg#20,newbalanceOrig#21,nameDest#22,oldbalanceDest#23,newbalanceDest#24,isFraud#25,isFlaggedFraud#26] csv\n   +- Project [step#307, type#319, amount#308, name_orig#321, old_balance_org#309, new_balance_org#310, name_dest#324, old_balance_dest#311, new_balance_dest#312, is_fraud#313, is_flagged_fraud#314, hour#315, delta_balance_org#316, delta_balance_dest#317, type_idx#306, type_ohe#305, features#304]\n      +- Project [step#307, type#319, amount#308, name_orig#321, old_balance_org#309, new_balance_org#310, name_dest#324, old_balance_dest#311, new_balance_dest#312, is_fraud#313, is_flagged_fraud#314, hour#315, delta_balance_org#316, delta_balance_dest#317, type_idx#306, type_ohe#305, features#304]\n         +- Project [step#307, type#319, amount#308, name_orig#321, old_balance_org#309, new_balance_org#310, name_dest#324, old_balance_dest#311, new_balance_dest#312, is_fraud#313, is_flagged_fraud#314, hour#315, delta_balance_org#316, delta_balance_dest#317, type_idx#306, type_ohe#305, features#304]\n            +- Project [step#307, type#319, amount#308, name_orig#321, old_balance_org#309, new_balance_org#310, name_dest#324, old_balance_dest#311, new_balance_dest#312, is_fraud#313, is_flagged_fraud#314, hour#315, delta_balance_org#316, delta_balance_dest#317, type_idx#306, type_ohe#305, features#304]\n               +- Filter UDF(is_fraud#313, rand(42))\n                  +- Project [step#307, type#319, amount#308, name_orig#321, old_balance_org#309, new_balance_org#310, name_dest#324, old_balance_dest#311, new_balance_dest#312, is_fraud#313, is_flagged_fraud#314, hour#315, delta_balance_org#316, delta_balance_dest#317, type_idx#306, type_ohe#305, UDF(struct(amount, amount#308, old_balance_org, old_balance_org#309, new_balance_org, new_balance_org#310, old_balance_dest, old_balance_dest#311, new_balance_dest, new_balance_dest#312, is_flagged_fraud_double_VectorAssembler_e797b9921940, cast(is_flagged_fraud#314 as double), hour, hour#315, delta_balance_org, delta_balance_org#316, delta_balance_dest, delta_balance_dest#317, type_ohe, type_ohe#305)) AS features#304]\n                     +- Project [step#307, type#319, amount#308, name_orig#321, old_balance_org#309, new_balance_org#310, name_dest#324, old_balance_dest#311, new_balance_dest#312, is_fraud#313, is_flagged_fraud#314, hour#315, delta_balance_org#316, delta_balance_dest#317, type_idx#306, UDF(cast(type_idx#306 as double), 0) AS type_ohe#305]\n                        +- Project [step#307, type#319, amount#308, name_orig#321, old_balance_org#309, new_balance_org#310, name_dest#324, old_balance_dest#311, new_balance_dest#312, is_fraud#313, is_flagged_fraud#314, hour#315, delta_balance_org#316, delta_balance_dest#317, UDF(cast(type#319 as string)) AS type_idx#306]\n                           +- Project [coalesce(step#318, cast(0.0 as int)) AS step#307, type#319, coalesce(nanvl(amount#320, cast(null as double)), cast(0.0 as double)) AS amount#308, name_orig#321, coalesce(nanvl(old_balance_org#322, cast(null as double)), cast(0.0 as double)) AS old_balance_org#309, coalesce(nanvl(new_balance_org#323, cast(null as double)), cast(0.0 as double)) AS new_balance_org#310, name_dest#324, coalesce(nanvl(old_balance_dest#325, cast(null as double)), cast(0.0 as double)) AS old_balance_dest#311, coalesce(nanvl(new_balance_dest#326, cast(null as double)), cast(0.0 as double)) AS new_balance_dest#312, coalesce(is_fraud#327, cast(0.0 as int)) AS is_fraud#313, coalesce(is_flagged_fraud#328, cast(0.0 as int)) AS is_flagged_fraud#314, coalesce(nanvl(hour#60, cast(null as double)), cast(0.0 as double)) AS hour#315, coalesce(nanvl(delta_balance_org#73, cast(null as double)), cast(0.0 as double)) AS delta_balance_org#316, coalesce(nanvl(delta_balance_dest#87, cast(null as double)), cast(0.0 as double)) AS delta_balance_dest#317]\n                              +- Project [step#318, type#319, amount#320, name_orig#321, old_balance_org#322, new_balance_org#323, name_dest#324, old_balance_dest#325, new_balance_dest#326, is_fraud#327, is_flagged_fraud#328, hour#60, delta_balance_org#73, ((new_balance_dest#326 - old_balance_dest#325) / old_balance_dest#325) AS delta_balance_dest#87]\n                                 +- Project [step#318, type#319, amount#320, name_orig#321, old_balance_org#322, new_balance_org#323, name_dest#324, old_balance_dest#325, new_balance_dest#326, is_fraud#327, is_flagged_fraud#328, hour#60, ((new_balance_org#323 - old_balance_org#322) / old_balance_org#322) AS delta_balance_org#73]\n                                    +- Project [step#318, type#319, amount#320, name_orig#321, old_balance_org#322, new_balance_org#323, name_dest#324, old_balance_dest#325, new_balance_dest#326, is_fraud#327, is_flagged_fraud#328, (cast(step#318 as double) % 24.0) AS hour#60]\n                                       +- Project [step#293 AS step#318, type#294 AS type#319, amount#295 AS amount#320, nameOrig#296 AS name_orig#321, oldbalanceOrg#297 AS old_balance_org#322, newbalanceOrig#298 AS new_balance_org#323, nameDest#299 AS name_dest#324, oldbalanceDest#300 AS old_balance_dest#325, newbalanceDest#301 AS new_balance_dest#326, isFraud#302 AS is_fraud#327, isFlaggedFraud#303 AS is_flagged_fraud#328]\n                                          +- Relation [step#293,type#294,amount#295,nameOrig#296,oldbalanceOrg#297,newbalanceOrig#298,nameDest#299,oldbalanceDest#300,newbalanceDest#301,isFraud#302,isFlaggedFraud#303] csv\n"
     ]
    }
   ],
   "source": [
    "%%time\n",
    "# Make prediction\n",
    "test_results = results.select(\"is_fraud\", \"prediction\")\n",
    "predictionAndTarget = test.select(\"target\", \"prediction\")\n",
    "\n",
    "# Create both evaluators\n",
    "metrics_binary = BinaryClassificationMetrics(predictionAndTarget.rdd.map(tuple))\n",
    "metrics_multi = MulticlassMetrics(predictionAndTarget.rdd.map(tuple))\n",
    "\n",
    "acc = metrics_multi.accuracy\n",
    "f1 = metrics_multi.fMeasure(1.0)\n",
    "precision = metrics_multi.precision(1.0)\n",
    "recall = metrics_multi.recall(1.0)\n",
    "auc = metrics_binary.areaUnderROC"
   ]
  },
  {
   "cell_type": "code",
   "execution_count": null,
   "metadata": {},
   "outputs": [],
   "source": [
    "mlflow.end_run()"
   ]
  },
  {
   "cell_type": "markdown",
   "metadata": {},
   "source": [
    "### 7.3.2. Random Forest Using Less Features"
   ]
  },
  {
   "cell_type": "code",
   "execution_count": 48,
   "metadata": {},
   "outputs": [
    {
     "name": "stderr",
     "output_type": "stream",
     "text": [
      "                                                                                \r"
     ]
    },
    {
     "name": "stdout",
     "output_type": "stream",
     "text": [
      "CPU times: user 28.2 ms, sys: 4.16 ms, total: 32.3 ms\n",
      "Wall time: 25.6 s\n"
     ]
    }
   ],
   "source": [
    "%%time\n",
    "data = spark.read.csv('../data/raw/fraud.csv', header = True, inferSchema=True) #.cache()\n",
    "\n",
    "# new column names\n",
    "cols = ['step',\n",
    " 'type',\n",
    " 'amount',\n",
    " 'name_orig',\n",
    " 'old_balance_org',\n",
    " 'new_balance_org',\n",
    " 'name_dest',\n",
    " 'old_balance_dest',\n",
    " 'new_balance_dest',\n",
    " 'is_fraud',\n",
    " 'is_flagged_fraud']\n",
    "data = data.toDF(*cols)\n",
    "\n",
    "# creating features\n",
    "data = data.withColumn(\"hour\", data['step']%24.0)\n",
    "data = data.withColumn('delta_balance_org', (data['new_balance_org'] - data['old_balance_org'])/data['old_balance_org'] )\n",
    "data = data.withColumn('delta_balance_dest', (data['new_balance_dest'] - data['old_balance_dest'])/data['old_balance_dest'] )\n",
    "\n",
    "# Selecting cols and transformers to apply RF\n",
    "num_cols = ['amount','old_balance_org','new_balance_org','old_balance_dest','new_balance_dest', 'hour','delta_balance_org','delta_balance_dest']\n",
    "data = data.fillna(0)\n",
    "\n",
    "# preprocessing\n",
    "selected_cols = num_cols\n",
    "\n",
    "# join everything with untransformed numeric values\n",
    "vec_asm = VectorAssembler(inputCols= selected_cols, outputCol='features')\n",
    "\n",
    "prep_pipe = Pipeline(stages=[ vec_asm ])\n",
    "\n",
    "data = prep_pipe.fit(data).transform(data)"
   ]
  },
  {
   "cell_type": "code",
   "execution_count": 49,
   "metadata": {},
   "outputs": [
    {
     "data": {
      "text/plain": [
       "DataFrame[step: int, type: string, amount: double, name_orig: string, old_balance_org: double, new_balance_org: double, name_dest: string, old_balance_dest: double, new_balance_dest: double, is_fraud: int, is_flagged_fraud: int, hour: double, delta_balance_org: double, delta_balance_dest: double, features: vector]"
      ]
     },
     "execution_count": 49,
     "metadata": {},
     "output_type": "execute_result"
    }
   ],
   "source": [
    "# spliting\n",
    "\n",
    "train = data.sampleBy( col='is_fraud', fractions = {0:0.8, 1:0.8}, seed = 42 )\n",
    "test = data.exceptAll(train)\n",
    "\n",
    "data.unpersist()"
   ]
  },
  {
   "cell_type": "code",
   "execution_count": 37,
   "metadata": {},
   "outputs": [],
   "source": [
    "experiment_id = '1'"
   ]
  },
  {
   "cell_type": "code",
   "execution_count": 59,
   "metadata": {},
   "outputs": [
    {
     "name": "stderr",
     "output_type": "stream",
     "text": [
      "                                                                                \r"
     ]
    }
   ],
   "source": [
    "# start logging\n",
    "mlflow.start_run(experiment_id=experiment_id, run_name='RF using less features +5 trees')\n",
    "\n",
    "# RF using all features\n",
    "rf0 = RandomForestClassifier(featuresCol='features', labelCol='is_fraud', seed=42, numTrees=5)\n",
    "\n",
    "# model params\n",
    "params = {\"Impurity\" : rf0.getImpurity(),\n",
    "\"MaxBins\" : rf0.getMaxBins(),\n",
    "\"MaxDepth\" : rf0.getMaxDepth(),\n",
    "\"NumTrees\" : rf0.getNumTrees(),\n",
    "\"Seed\" : rf0.getSeed(),\n",
    "\"MinInfoGain\" : rf0.getMinInfoGain()}\n",
    "\n",
    "mlflow.log_params(params)\n",
    "\n",
    "# model fit predict\n",
    "model_0 = rf0.fit(train)\n",
    "results = model_0.transform(test)"
   ]
  },
  {
   "cell_type": "code",
   "execution_count": 60,
   "metadata": {},
   "outputs": [
    {
     "name": "stderr",
     "output_type": "stream",
     "text": [
      "                                                                                \r"
     ]
    }
   ],
   "source": [
    "# converting results to pandas\n",
    "results_pd = proba_to_pandas(dataframe = results, prob_col='probability', label_col='is_fraud')"
   ]
  },
  {
   "cell_type": "code",
   "execution_count": 61,
   "metadata": {},
   "outputs": [
    {
     "data": {
      "text/plain": [
       "['amount',\n",
       " 'old_balance_org',\n",
       " 'new_balance_org',\n",
       " 'old_balance_dest',\n",
       " 'new_balance_dest',\n",
       " 'hour',\n",
       " 'delta_balance_org',\n",
       " 'delta_balance_dest']"
      ]
     },
     "execution_count": 61,
     "metadata": {},
     "output_type": "execute_result"
    }
   ],
   "source": [
    "# prep_pipe.stages[-1].getInputCols()\n",
    "prep_pipe.getStages()[-1].getInputCols()"
   ]
  },
  {
   "cell_type": "code",
   "execution_count": 62,
   "metadata": {},
   "outputs": [
    {
     "data": {
      "text/plain": [
       "SparseVector(8, {0: 0.1073, 1: 0.5794, 2: 0.0272, 3: 0.0183, 4: 0.131, 5: 0.0361, 6: 0.0806, 7: 0.0201})"
      ]
     },
     "execution_count": 62,
     "metadata": {},
     "output_type": "execute_result"
    }
   ],
   "source": [
    "model_0.featureImportances\n"
   ]
  },
  {
   "cell_type": "code",
   "execution_count": 64,
   "metadata": {},
   "outputs": [
    {
     "data": {
      "text/plain": [
       "{'old_balance_org': 0.5793997774231513,\n",
       " 'new_balance_dest': 0.1310139499479454,\n",
       " 'amount': 0.10729017828415004,\n",
       " 'delta_balance_org': 0.08057870050211516,\n",
       " 'hour': 0.0361003564516096,\n",
       " 'new_balance_org': 0.027227185616972432,\n",
       " 'delta_balance_dest': 0.02010482086357043,\n",
       " 'old_balance_dest': 0.018285030910485712}"
      ]
     },
     "execution_count": 64,
     "metadata": {},
     "output_type": "execute_result"
    }
   ],
   "source": [
    "# model_0.getFeat\n",
    "\n",
    "# vector asslembler's cols\n",
    "# va_cols = model_0.getInputCols()\n",
    "va_cols = prep_pipe.getStages()[-1].getInputCols()\n",
    "\n",
    "\n",
    "# model features' importance\n",
    "feat_imp = model_0.featureImportances\n",
    "\n",
    "# saving in a dict\n",
    "aux = dict(zip(va_cols, feat_imp))\n",
    "\n",
    "#sorting \n",
    "features = {k: v for k, v in sorted(aux.items(), key = lambda x: x[1], reverse=True) }\n",
    "features"
   ]
  },
  {
   "cell_type": "code",
   "execution_count": 65,
   "metadata": {},
   "outputs": [],
   "source": [
    "# logging feature importances\n",
    "mlflow.log_dict(features, 'all_features_importance.json')"
   ]
  },
  {
   "cell_type": "code",
   "execution_count": 66,
   "metadata": {},
   "outputs": [
    {
     "data": {
      "text/plain": [
       "{'F1-Score': 0.9724020973298242,\n",
       " 'Area_PR': 0.6189874481871451,\n",
       " 'Precision': 0.9755725190839695,\n",
       " 'Recall': 0.38286399041342123}"
      ]
     },
     "execution_count": 66,
     "metadata": {},
     "output_type": "execute_result"
    }
   ],
   "source": [
    "# evaluating result metrics\n",
    "threshold = 0.5\n",
    "metric_f1 = roc_auc_score(y_true = results_pd.y_true, y_score = results_pd.y_pred)\n",
    "metric_ap = average_precision_score(y_true = results_pd.y_true, y_score = results_pd.y_pred)\n",
    "metric_precision = precision_score(y_true=results_pd.y_true, y_pred = results_pd.y_pred > threshold)\n",
    "metric_recall = recall_score(y_true=results_pd.y_true, y_pred = results_pd.y_pred > threshold)\n",
    "# logging metrics\n",
    "metrics = {\"F1-Score\": metric_f1 ,\n",
    "           \"Area_PR\": metric_ap ,\n",
    "           \"Precision\": metric_precision ,\n",
    "           \"Recall\": metric_recall}\n",
    "\n",
    "mlflow.log_param(\"threshold\", threshold)\n",
    "mlflow.log_metrics(metrics)\n",
    "metrics"
   ]
  },
  {
   "cell_type": "code",
   "execution_count": 58,
   "metadata": {},
   "outputs": [],
   "source": [
    "mlflow.end_run()"
   ]
  },
  {
   "cell_type": "markdown",
   "metadata": {},
   "source": [
    "## 7.4 GB Trees"
   ]
  },
  {
   "cell_type": "code",
   "execution_count": 6,
   "metadata": {},
   "outputs": [],
   "source": [
    "from pyspark.ml.classification import GBTClassifier"
   ]
  },
  {
   "cell_type": "code",
   "execution_count": 10,
   "metadata": {},
   "outputs": [],
   "source": [
    "gbt = GBTClassifier(labelCol='is_fraud', maxDepth=5, maxBins=32, minInstancesPerNode=1, minInfoGain=0.0,\n",
    "                    lossType='logistic', impurity='gini', featureSubsetStrategy='all', maxIter=5, seed = 42)"
   ]
  },
  {
   "cell_type": "code",
   "execution_count": 30,
   "metadata": {},
   "outputs": [
    {
     "name": "stderr",
     "output_type": "stream",
     "text": [
      "                                                                                \r"
     ]
    }
   ],
   "source": [
    "# start logging\n",
    "\n",
    "# experiment_id\n",
    "experiment_id = '1'\n",
    "# mlflow.start_run(experiment_id=experiment_id, run_name='GBTress +10 depth')\n",
    "\n",
    "# model\n",
    "gbt = GBTClassifier(labelCol='is_fraud', maxDepth=10, maxBins=32, minInstancesPerNode=1, minInfoGain=0.0,\n",
    "                    lossType='logistic', impurity='variance', featureSubsetStrategy='all', maxIter=5, seed = 42)\n",
    "\n",
    "# model params\n",
    "params = {\"MaxDepth\" : gbt.getMaxDepth(),\n",
    "\"MaxBins\" : gbt.getMaxBins(),\n",
    "\"MinInstancesPerNode\" : gbt.getMinInstancesPerNode(),\n",
    "\"MinInfoGain\" : gbt.getMinInfoGain(),\n",
    "\"FeatureSubsetStrategy\" : gbt.getFeatureSubsetStrategy(),\n",
    "\"MaxIter\" : gbt.getMaxIter(),\n",
    "\"impurity\" : gbt.getImpurity(),\n",
    "\"Seed \" : gbt.getSeed()}\n",
    "\n",
    "mlflow.log_params(params)\n",
    "\n",
    "# model fit predict\n",
    "model_0 = gbt.fit(train)\n",
    "results = model_0.transform(test)"
   ]
  },
  {
   "cell_type": "code",
   "execution_count": 31,
   "metadata": {},
   "outputs": [
    {
     "name": "stderr",
     "output_type": "stream",
     "text": [
      "                                                                                \r"
     ]
    }
   ],
   "source": [
    "# converting results to pandas\n",
    "results_pd = proba_to_pandas(dataframe = results, prob_col='probability', label_col='is_fraud')"
   ]
  },
  {
   "cell_type": "code",
   "execution_count": 32,
   "metadata": {},
   "outputs": [
    {
     "data": {
      "text/plain": [
       "{'F1-Score': 0.9963935648770119,\n",
       " 'Area_PR': 0.881286567049733,\n",
       " 'Precision': 0.9536423841059603,\n",
       " 'Recall': 0.7765128819652487}"
      ]
     },
     "execution_count": 32,
     "metadata": {},
     "output_type": "execute_result"
    }
   ],
   "source": [
    "# evaluating result metrics\n",
    "threshold = 0.5\n",
    "metric_f1 = roc_auc_score(y_true = results_pd.y_true, y_score = results_pd.y_pred)\n",
    "metric_ap = average_precision_score(y_true = results_pd.y_true, y_score = results_pd.y_pred)\n",
    "metric_precision = precision_score(y_true=results_pd.y_true, y_pred = results_pd.y_pred > threshold)\n",
    "metric_recall = recall_score(y_true=results_pd.y_true, y_pred = results_pd.y_pred > threshold)\n",
    "# logging metrics\n",
    "metrics = {\"F1-Score\": metric_f1 ,\n",
    "           \"Area_PR\": metric_ap ,\n",
    "           \"Precision\": metric_precision ,\n",
    "           \"Recall\": metric_recall}\n",
    "\n",
    "mlflow.log_param(\"threshold\", threshold)\n",
    "mlflow.log_metrics(metrics)\n",
    "metrics"
   ]
  },
  {
   "cell_type": "code",
   "execution_count": 33,
   "metadata": {},
   "outputs": [],
   "source": [
    "mlflow.end_run()"
   ]
  },
  {
   "cell_type": "code",
   "execution_count": 34,
   "metadata": {},
   "outputs": [],
   "source": [
    "# testing model on train data to check if no overfitting is happening\n",
    "results = model_0.transform(train)"
   ]
  },
  {
   "cell_type": "code",
   "execution_count": 35,
   "metadata": {},
   "outputs": [
    {
     "name": "stderr",
     "output_type": "stream",
     "text": [
      "                                                                                \r"
     ]
    },
    {
     "data": {
      "text/plain": [
       "{'F1-Score': 0.9987227255121237,\n",
       " 'Area_PR': 0.8952097014036616,\n",
       " 'Precision': 0.9719278676333891,\n",
       " 'Recall': 0.7988997555012225}"
      ]
     },
     "execution_count": 35,
     "metadata": {},
     "output_type": "execute_result"
    }
   ],
   "source": [
    "# converting results to pandas\n",
    "results_pd = proba_to_pandas(dataframe = results, prob_col='probability', label_col='is_fraud')\n",
    "# evaluating result metrics\n",
    "threshold = 0.5\n",
    "metric_f1 = roc_auc_score(y_true = results_pd.y_true, y_score = results_pd.y_pred)\n",
    "metric_ap = average_precision_score(y_true = results_pd.y_true, y_score = results_pd.y_pred)\n",
    "metric_precision = precision_score(y_true=results_pd.y_true, y_pred = results_pd.y_pred > threshold)\n",
    "metric_recall = recall_score(y_true=results_pd.y_true, y_pred = results_pd.y_pred > threshold)\n",
    "# logging metrics\n",
    "metrics = {\"F1-Score\": metric_f1 ,\n",
    "           \"Area_PR\": metric_ap ,\n",
    "           \"Precision\": metric_precision ,\n",
    "           \"Recall\": metric_recall}\n",
    "\n",
    "# mlflow.log_param(\"threshold\", threshold)\n",
    "# mlflow.log_metrics(metrics)\n",
    "metrics\n",
    "\n",
    "# scores on train and test sets are virtually the same. Probably, increasing depth beyond this point will result in overfitting"
   ]
  },
  {
   "cell_type": "markdown",
   "metadata": {},
   "source": [
    "## 7.5 LightGBM"
   ]
  },
  {
   "cell_type": "code",
   "execution_count": 7,
   "metadata": {},
   "outputs": [],
   "source": [
    "from synapse.ml.lightgbm import LightGBMClassifier"
   ]
  },
  {
   "cell_type": "code",
   "execution_count": 8,
   "metadata": {},
   "outputs": [
    {
     "name": "stderr",
     "output_type": "stream",
     "text": [
      "                                                                                \r"
     ]
    }
   ],
   "source": [
    "# start logging\n",
    "\n",
    "# experiment_id\n",
    "experiment_id = '2'\n",
    "# mlflow.start_run(experiment_id=experiment_id, run_name='LightGBM')\n",
    "\n",
    "# model\n",
    "lgbm = LightGBMClassifier(labelCol='is_fraud', objective='binary', featuresCol='features', baggingSeed=42, \n",
    "                          numIterations=50,\n",
    "                          maxDepth=5, \n",
    "                          learningRate=0.01,\n",
    "                          isUnbalance=False\n",
    "                          )\n",
    "# model params\n",
    "params = {\"NumIterations\" : lgbm.getNumIterations(),\n",
    "\"MaxBin\" : lgbm.getMaxBin(),\n",
    "\"MaxDepth\" : lgbm.getMaxDepth()\n",
    "}\n",
    "\n",
    "# mlflow.log_params(params)\n",
    "\n",
    "# model fit predict\n",
    "model_0 = lgbm.fit(train)\n",
    "results = model_0.transform(validation)"
   ]
  },
  {
   "cell_type": "code",
   "execution_count": 44,
   "metadata": {},
   "outputs": [],
   "source": [
    "from pyspark.ml.evaluation import BinaryClassificationEvaluator"
   ]
  },
  {
   "cell_type": "code",
   "execution_count": 48,
   "metadata": {},
   "outputs": [
    {
     "name": "stderr",
     "output_type": "stream",
     "text": [
      "                                                                                \r"
     ]
    },
    {
     "name": "stdout",
     "output_type": "stream",
     "text": [
      "CPU times: user 89.6 ms, sys: 28 ms, total: 118 ms\n",
      "Wall time: 5min 7s\n"
     ]
    },
    {
     "name": "stderr",
     "output_type": "stream",
     "text": [
      "                                                                                \r"
     ]
    },
    {
     "data": {
      "text/plain": [
       "0.8283804375011014"
      ]
     },
     "execution_count": 48,
     "metadata": {},
     "output_type": "execute_result"
    }
   ],
   "source": [
    "%%time\n",
    "evaluator = BinaryClassificationEvaluator(labelCol='is_fraud', metricName='areaUnderPR', numBins=1000)\n",
    "evaluator.evaluate(results)"
   ]
  },
  {
   "cell_type": "code",
   "execution_count": 9,
   "metadata": {},
   "outputs": [
    {
     "name": "stderr",
     "output_type": "stream",
     "text": [
      "                                                                                \r"
     ]
    },
    {
     "name": "stdout",
     "output_type": "stream",
     "text": [
      "CPU times: user 50.5 s, sys: 2.13 s, total: 52.7 s\n",
      "Wall time: 17min 46s\n"
     ]
    }
   ],
   "source": [
    "%%time\n",
    "# converting results to pandas\n",
    "results_pd = proba_to_pandas(dataframe = results, prob_col='probability', label_col='is_fraud')"
   ]
  },
  {
   "cell_type": "code",
   "execution_count": 10,
   "metadata": {},
   "outputs": [
    {
     "data": {
      "text/plain": [
       "{'F1-Score': 0.9972547793121794,\n",
       " 'Area_PR': 0.8397070293198766,\n",
       " 'Precision': 0.9683544303797469,\n",
       " 'Recall': 0.46307506053268765}"
      ]
     },
     "execution_count": 10,
     "metadata": {},
     "output_type": "execute_result"
    }
   ],
   "source": [
    "# evaluating result metrics of valitation set\n",
    "threshold = 0.5\n",
    "metric_f1 = roc_auc_score(y_true = results_pd.y_true, y_score = results_pd.y_pred)\n",
    "metric_ap = average_precision_score(y_true = results_pd.y_true, y_score = results_pd.y_pred)\n",
    "metric_precision = precision_score(y_true=results_pd.y_true, y_pred = results_pd.y_pred > threshold)\n",
    "metric_recall = recall_score(y_true=results_pd.y_true, y_pred = results_pd.y_pred > threshold)\n",
    "# logging metrics\n",
    "metrics = {\"F1-Score\": metric_f1 ,\n",
    "           \"Area_PR\": metric_ap ,\n",
    "           \"Precision\": metric_precision ,\n",
    "           \"Recall\": metric_recall}\n",
    "\n",
    "# mlflow.log_param(\"threshold\", threshold)\n",
    "# mlflow.log_metrics(metrics)\n",
    "metrics"
   ]
  },
  {
   "cell_type": "code",
   "execution_count": 43,
   "metadata": {},
   "outputs": [],
   "source": [
    "mlflow.end_run()"
   ]
  },
  {
   "cell_type": "markdown",
   "metadata": {},
   "source": [
    "# 8.0. Checking model performance"
   ]
  },
  {
   "cell_type": "markdown",
   "metadata": {},
   "source": [
    "## 8.1. Model Calibration"
   ]
  },
  {
   "cell_type": "markdown",
   "metadata": {},
   "source": [
    "### 8.1.1 Validation Set"
   ]
  },
  {
   "cell_type": "code",
   "execution_count": 11,
   "metadata": {},
   "outputs": [
    {
     "data": {
      "text/html": [
       "<div>\n",
       "<style scoped>\n",
       "    .dataframe tbody tr th:only-of-type {\n",
       "        vertical-align: middle;\n",
       "    }\n",
       "\n",
       "    .dataframe tbody tr th {\n",
       "        vertical-align: top;\n",
       "    }\n",
       "\n",
       "    .dataframe thead th {\n",
       "        text-align: right;\n",
       "    }\n",
       "</style>\n",
       "<table border=\"1\" class=\"dataframe\">\n",
       "  <thead>\n",
       "    <tr style=\"text-align: right;\">\n",
       "      <th></th>\n",
       "      <th>y_pred</th>\n",
       "      <th>y_true</th>\n",
       "    </tr>\n",
       "  </thead>\n",
       "  <tbody>\n",
       "    <tr>\n",
       "      <th>0</th>\n",
       "      <td>0.000773</td>\n",
       "      <td>0</td>\n",
       "    </tr>\n",
       "    <tr>\n",
       "      <th>1</th>\n",
       "      <td>0.000773</td>\n",
       "      <td>0</td>\n",
       "    </tr>\n",
       "    <tr>\n",
       "      <th>2</th>\n",
       "      <td>0.000773</td>\n",
       "      <td>0</td>\n",
       "    </tr>\n",
       "    <tr>\n",
       "      <th>3</th>\n",
       "      <td>0.000773</td>\n",
       "      <td>0</td>\n",
       "    </tr>\n",
       "    <tr>\n",
       "      <th>4</th>\n",
       "      <td>0.000773</td>\n",
       "      <td>0</td>\n",
       "    </tr>\n",
       "  </tbody>\n",
       "</table>\n",
       "</div>"
      ],
      "text/plain": [
       "     y_pred  y_true\n",
       "0  0.000773       0\n",
       "1  0.000773       0\n",
       "2  0.000773       0\n",
       "3  0.000773       0\n",
       "4  0.000773       0"
      ]
     },
     "execution_count": 11,
     "metadata": {},
     "output_type": "execute_result"
    }
   ],
   "source": [
    "results_pd.head()"
   ]
  },
  {
   "cell_type": "code",
   "execution_count": 12,
   "metadata": {},
   "outputs": [
    {
     "data": {
      "text/plain": [
       "array([[1271220,      53],\n",
       "       [    753,     899]])"
      ]
     },
     "execution_count": 12,
     "metadata": {},
     "output_type": "execute_result"
    }
   ],
   "source": [
    "cm = confusion_matrix(y_true=results_pd.y_true, y_pred=results_pd.y_pred > 0.3)\n",
    "cm"
   ]
  },
  {
   "cell_type": "code",
   "execution_count": 29,
   "metadata": {},
   "outputs": [
    {
     "data": {
      "image/png": "[encoded data removed]",
      "text/plain": [
       "<Figure size 1800x864 with 4 Axes>"
      ]
     },
     "metadata": {},
     "output_type": "display_data"
    }
   ],
   "source": [
    "fig, ax = plt.subplots(1,2)\n",
    "\n",
    "# 50 % threshold\n",
    "cm = confusion_matrix(y_true=results_pd.y_true, y_pred=results_pd.y_pred > 0.5)\n",
    "disp = ConfusionMatrixDisplay(cm)\n",
    "disp.plot(ax = ax[0])\n",
    "ax[0].set_title('CM for a threshold of 50%')\n",
    "\n",
    "# 30 % threshold\n",
    "cm = confusion_matrix(y_true=results_pd.y_true, y_pred=results_pd.y_pred > 0.3)\n",
    "disp = ConfusionMatrixDisplay(cm)\n",
    "disp.plot(ax = ax[1])\n",
    "ax[1].set_title('CM for a threshold of 30%');"
   ]
  },
  {
   "cell_type": "code",
   "execution_count": 30,
   "metadata": {},
   "outputs": [
    {
     "data": {
      "image/png": "[encoded data removed]",
      "text/plain": [
       "<Figure size 1800x864 with 1 Axes>"
      ]
     },
     "metadata": {},
     "output_type": "display_data"
    }
   ],
   "source": [
    "PrecisionRecallDisplay.from_predictions(y_true=results_pd.y_true, y_pred = results_pd.y_pred);"
   ]
  },
  {
   "cell_type": "code",
   "execution_count": 18,
   "metadata": {},
   "outputs": [],
   "source": [
    "from sklearn.calibration import calibration_curve"
   ]
  },
  {
   "cell_type": "code",
   "execution_count": 31,
   "metadata": {},
   "outputs": [
    {
     "data": {
      "image/png": "[encoded data removed]",
      "text/plain": [
       "<Figure size 1800x864 with 1 Axes>"
      ]
     },
     "metadata": {},
     "output_type": "display_data"
    }
   ],
   "source": [
    "# calibration curve of validation set\n",
    "\n",
    "# returning fraction of positives and mean predicted value\n",
    "fop, mpv = calibration_curve(y_true=results_pd.y_true, y_prob = results_pd.y_pred, normalize = True, n_bins = 10);\n",
    "plt.plot([0,1], [0,1], linestyle='--')\n",
    "plt.xlabel('Mean Predicted Value')\n",
    "plt.ylabel('Fraction of Positives')\n",
    "plt.plot(mpv, fop, marker='*');"
   ]
  },
  {
   "cell_type": "code",
   "execution_count": 32,
   "metadata": {},
   "outputs": [],
   "source": [
    "from sklearn.linear_model import LogisticRegression"
   ]
  },
  {
   "cell_type": "code",
   "execution_count": 112,
   "metadata": {},
   "outputs": [
    {
     "name": "stdout",
     "output_type": "stream",
     "text": [
      "coeficient: 25.52\n",
      "intercept: -7.58\n"
     ]
    }
   ],
   "source": [
    "lr = LogisticRegression(fit_intercept=True, C=0.001, solver='sag')\n",
    "lr = LogisticRegression()\n",
    "# model probabilities\n",
    "X = results_pd['y_pred'].values.reshape(-1,1)\n",
    "y = results_pd['y_true']\n",
    "\n",
    "lr.fit(X,y)\n",
    "intercept = lr.intercept_[0]\n",
    "coef = lr.coef_[0][0]\n",
    "print(\"coeficient: {:.2f}\".format(coef))\n",
    "print(\"intercept: {:.2f}\".format(intercept))"
   ]
  },
  {
   "cell_type": "code",
   "execution_count": 118,
   "metadata": {},
   "outputs": [
    {
     "data": {
      "text/plain": [
       "array([0.00052271, 0.00052271, 0.00052271, ..., 0.00052283, 0.00052283,\n",
       "       0.00053667])"
      ]
     },
     "execution_count": 118,
     "metadata": {},
     "output_type": "execute_result"
    }
   ],
   "source": [
    "y_applied = lr.predict_proba(X)[:,1]\n",
    "y_applied"
   ]
  },
  {
   "cell_type": "code",
   "execution_count": 119,
   "metadata": {},
   "outputs": [
    {
     "data": {
      "image/png": "[encoded data removed]",
      "text/plain": [
       "<Figure size 1800x864 with 1 Axes>"
      ]
     },
     "metadata": {},
     "output_type": "display_data"
    }
   ],
   "source": [
    "# taking a look at data\n",
    "\n",
    "plt.scatter(X, y_applied)\n",
    "plt.scatter(X,y);"
   ]
  },
  {
   "cell_type": "markdown",
   "metadata": {},
   "source": [
    "### 8.1.2 Test Set"
   ]
  },
  {
   "cell_type": "code",
   "execution_count": 44,
   "metadata": {},
   "outputs": [],
   "source": [
    "# predicting test set \n",
    "results_test = model_0.transform(test)"
   ]
  },
  {
   "cell_type": "code",
   "execution_count": 45,
   "metadata": {},
   "outputs": [
    {
     "name": "stderr",
     "output_type": "stream",
     "text": [
      "                                                                                \r"
     ]
    },
    {
     "name": "stdout",
     "output_type": "stream",
     "text": [
      "CPU times: user 54.8 s, sys: 2.53 s, total: 57.3 s\n",
      "Wall time: 14min 9s\n"
     ]
    }
   ],
   "source": [
    "%%time\n",
    "# converting test set results to pandas\n",
    "test_pd = proba_to_pandas(dataframe = results_test, prob_col='probability', label_col='is_fraud')"
   ]
  },
  {
   "cell_type": "code",
   "execution_count": 120,
   "metadata": {},
   "outputs": [],
   "source": [
    "# calibrating test probabilities\n",
    "\n",
    "test_prbs = test_pd['y_pred'].values.reshape(-1,1)\n",
    "\n",
    "# getting predictions of positive class\n",
    "cal_probs = lr.predict_proba(test_prbs)[:,1]"
   ]
  },
  {
   "cell_type": "code",
   "execution_count": 121,
   "metadata": {},
   "outputs": [
    {
     "data": {
      "text/plain": [
       "array([0.0005228 , 0.0005228 , 0.00052271, ..., 0.00052283, 0.00053667,\n",
       "       0.00052271])"
      ]
     },
     "execution_count": 121,
     "metadata": {},
     "output_type": "execute_result"
    }
   ],
   "source": [
    "# it seems like logistic regression actually reduced probabilities that were already low\n",
    "cal_probs"
   ]
  },
  {
   "cell_type": "code",
   "execution_count": 122,
   "metadata": {},
   "outputs": [
    {
     "data": {
      "image/png": "[encoded data removed]",
      "text/plain": [
       "<Figure size 1800x864 with 1 Axes>"
      ]
     },
     "metadata": {},
     "output_type": "display_data"
    }
   ],
   "source": [
    "# returning fraction of positives and mean predicted value\n",
    "fop, mpv = calibration_curve(y_true = test_pd.y_true, y_prob = cal_probs, normalize = True, n_bins = 10);\n",
    "plt.plot([0,1], [0,1], linestyle='--')\n",
    "plt.xlabel('Mean Predicted Value')\n",
    "plt.ylabel('Fraction of Positives')\n",
    "plt.plot(mpv, fop, marker='*');"
   ]
  },
  {
   "cell_type": "code",
   "execution_count": 68,
   "metadata": {},
   "outputs": [
    {
     "data": {
      "text/html": [
       "<div>\n",
       "<style scoped>\n",
       "    .dataframe tbody tr th:only-of-type {\n",
       "        vertical-align: middle;\n",
       "    }\n",
       "\n",
       "    .dataframe tbody tr th {\n",
       "        vertical-align: top;\n",
       "    }\n",
       "\n",
       "    .dataframe thead th {\n",
       "        text-align: right;\n",
       "    }\n",
       "</style>\n",
       "<table border=\"1\" class=\"dataframe\">\n",
       "  <thead>\n",
       "    <tr style=\"text-align: right;\">\n",
       "      <th></th>\n",
       "      <th>y_pred</th>\n",
       "      <th>y_true</th>\n",
       "    </tr>\n",
       "  </thead>\n",
       "  <tbody>\n",
       "    <tr>\n",
       "      <th>0</th>\n",
       "      <td>0.000780</td>\n",
       "      <td>0</td>\n",
       "    </tr>\n",
       "    <tr>\n",
       "      <th>1</th>\n",
       "      <td>0.000780</td>\n",
       "      <td>0</td>\n",
       "    </tr>\n",
       "    <tr>\n",
       "      <th>2</th>\n",
       "      <td>0.000773</td>\n",
       "      <td>0</td>\n",
       "    </tr>\n",
       "    <tr>\n",
       "      <th>3</th>\n",
       "      <td>0.000804</td>\n",
       "      <td>0</td>\n",
       "    </tr>\n",
       "    <tr>\n",
       "      <th>4</th>\n",
       "      <td>0.000773</td>\n",
       "      <td>0</td>\n",
       "    </tr>\n",
       "  </tbody>\n",
       "</table>\n",
       "</div>"
      ],
      "text/plain": [
       "     y_pred  y_true\n",
       "0  0.000780       0\n",
       "1  0.000780       0\n",
       "2  0.000773       0\n",
       "3  0.000804       0\n",
       "4  0.000773       0"
      ]
     },
     "execution_count": 68,
     "metadata": {},
     "output_type": "execute_result"
    }
   ],
   "source": [
    "test_pd.head()"
   ]
  },
  {
   "cell_type": "code",
   "execution_count": 73,
   "metadata": {},
   "outputs": [
    {
     "data": {
      "text/html": [
       "<div>\n",
       "<style scoped>\n",
       "    .dataframe tbody tr th:only-of-type {\n",
       "        vertical-align: middle;\n",
       "    }\n",
       "\n",
       "    .dataframe tbody tr th {\n",
       "        vertical-align: top;\n",
       "    }\n",
       "\n",
       "    .dataframe thead th {\n",
       "        text-align: right;\n",
       "    }\n",
       "</style>\n",
       "<table border=\"1\" class=\"dataframe\">\n",
       "  <thead>\n",
       "    <tr style=\"text-align: right;\">\n",
       "      <th></th>\n",
       "      <th>y_proba</th>\n",
       "      <th>y_true</th>\n",
       "    </tr>\n",
       "  </thead>\n",
       "  <tbody>\n",
       "    <tr>\n",
       "      <th>0</th>\n",
       "      <td>0.000523</td>\n",
       "      <td>0</td>\n",
       "    </tr>\n",
       "    <tr>\n",
       "      <th>1</th>\n",
       "      <td>0.000523</td>\n",
       "      <td>0</td>\n",
       "    </tr>\n",
       "    <tr>\n",
       "      <th>2</th>\n",
       "      <td>0.000523</td>\n",
       "      <td>0</td>\n",
       "    </tr>\n",
       "    <tr>\n",
       "      <th>3</th>\n",
       "      <td>0.000523</td>\n",
       "      <td>0</td>\n",
       "    </tr>\n",
       "    <tr>\n",
       "      <th>4</th>\n",
       "      <td>0.000523</td>\n",
       "      <td>0</td>\n",
       "    </tr>\n",
       "  </tbody>\n",
       "</table>\n",
       "</div>"
      ],
      "text/plain": [
       "    y_proba  y_true\n",
       "0  0.000523       0\n",
       "1  0.000523       0\n",
       "2  0.000523       0\n",
       "3  0.000523       0\n",
       "4  0.000523       0"
      ]
     },
     "execution_count": 73,
     "metadata": {},
     "output_type": "execute_result"
    }
   ],
   "source": [
    "test_calibrated_pd = pd.DataFrame( {'y_proba' : cal_probs, 'y_true' : test_pd.y_true } )\n",
    "test_calibrated_pd.head()"
   ]
  },
  {
   "cell_type": "code",
   "execution_count": 74,
   "metadata": {},
   "outputs": [
    {
     "name": "stdout",
     "output_type": "stream",
     "text": [
      "threshold: 0.5\n",
      "precision: 0.9465\n",
      "recall:    0.5427\n",
      "\n",
      "threshold: 0.3\n",
      "precision: 0.9476\n",
      "recall:    0.5974\n",
      "\n",
      "threshold: 0.05\n",
      "precision: 0.9408\n",
      "recall:    0.6208\n",
      "\n"
     ]
    }
   ],
   "source": [
    "# calibrated probas\n",
    "\n",
    "from sklearn.metrics import recall_score, precision_score\n",
    "\n",
    "# testing a few thresholds\n",
    "thresholds = [0.5, 0.3, 0.05]\n",
    "\n",
    "for threshold in thresholds:\n",
    "    print('threshold: {}'.format(threshold))\n",
    "    print('precision: {:.4f}'.format(precision_score(y_true=test_calibrated_pd.y_true, y_pred = test_calibrated_pd.y_proba > threshold)))\n",
    "    print('recall:    {:.4f}\\n'.format(recall_score(y_true=test_calibrated_pd.y_true, y_pred = test_calibrated_pd.y_proba > threshold)))"
   ]
  },
  {
   "cell_type": "code",
   "execution_count": 77,
   "metadata": {},
   "outputs": [
    {
     "data": {
      "image/png": "[encoded data removed]",
      "text/plain": [
       "<Figure size 1800x864 with 4 Axes>"
      ]
     },
     "metadata": {},
     "output_type": "display_data"
    }
   ],
   "source": [
    "# calibrated probabilities CM\n",
    "fig, ax = plt.subplots(1,2)\n",
    "\n",
    "# 50 % threshold\n",
    "cm = confusion_matrix(y_true=test_calibrated_pd.y_true, y_pred=test_calibrated_pd.y_proba > 0.3)\n",
    "disp = ConfusionMatrixDisplay(cm)\n",
    "disp.plot(ax = ax[0])\n",
    "ax[0].set_title('CM for a threshold of 30%')\n",
    "\n",
    "# 30 % threshold\n",
    "cm = confusion_matrix(y_true=test_calibrated_pd.y_true, y_pred=test_calibrated_pd.y_proba > 0.05)\n",
    "disp = ConfusionMatrixDisplay(cm)\n",
    "disp.plot(ax = ax[1])\n",
    "ax[1].set_title('CM for a threshold of 5%');"
   ]
  },
  {
   "cell_type": "code",
   "execution_count": 81,
   "metadata": {},
   "outputs": [
    {
     "name": "stdout",
     "output_type": "stream",
     "text": [
      "threshold: 0.5\n",
      "precision: 0.9622\n",
      "recall:    0.4435\n",
      "\n",
      "threshold: 0.3\n",
      "precision: 0.9465\n",
      "recall:    0.5421\n",
      "\n",
      "threshold: 0.05\n",
      "precision: 0.8631\n",
      "recall:    0.7542\n",
      "\n",
      "threshold: 0.03\n",
      "precision: 0.8050\n",
      "recall:    0.7692\n",
      "\n"
     ]
    }
   ],
   "source": [
    "# uncalibrated probas\n",
    "from sklearn.metrics import recall_score, precision_score\n",
    "# testing a few thresholds\n",
    "\n",
    "thresholds = [0.5, 0.3, 0.05, 0.03]\n",
    "\n",
    "for threshold in thresholds:\n",
    "    print('threshold: {}'.format(threshold))\n",
    "    print('precision: {:.4f}'.format(precision_score(y_true=test_pd.y_true, y_pred = test_pd.y_pred > threshold)))\n",
    "    print('recall:    {:.4f}\\n'.format(recall_score(y_true=test_pd.y_true, y_pred = test_pd.y_pred > threshold)))"
   ]
  },
  {
   "cell_type": "code",
   "execution_count": 80,
   "metadata": {},
   "outputs": [
    {
     "data": {
      "image/png": "[encoded data removed]",
      "text/plain": [
       "<Figure size 1800x864 with 4 Axes>"
      ]
     },
     "metadata": {},
     "output_type": "display_data"
    }
   ],
   "source": [
    "# uncalibrated probabilities CM\n",
    "fig, ax = plt.subplots(1,2)\n",
    "\n",
    "# 50 % threshold\n",
    "cm = confusion_matrix(y_true=test_pd.y_true, y_pred=test_pd.y_pred > 0.3)\n",
    "disp = ConfusionMatrixDisplay(cm)\n",
    "disp.plot(ax = ax[0])\n",
    "ax[0].set_title('CM for a threshold of 30%')\n",
    "\n",
    "# 30 % threshold\n",
    "cm = confusion_matrix(y_true=test_pd.y_true, y_pred=test_pd.y_pred > 0.05)\n",
    "disp = ConfusionMatrixDisplay(cm)\n",
    "disp.plot(ax = ax[1])\n",
    "ax[1].set_title('CM for a threshold of 5%');"
   ]
  },
  {
   "cell_type": "markdown",
   "metadata": {},
   "source": [
    "This calibration method was not effective. \n",
    "\n",
    "Uncalibrated probabilities are presenting higher precision and recall than \"calibrated\" ones.\n",
    "\n",
    "LGBM Classifier seems to not be overfitting, since it performed well on unseen data from test set."
   ]
  },
  {
   "cell_type": "markdown",
   "metadata": {},
   "source": [
    "### TO DO:\n",
    "\n",
    "Perform EDA"
   ]
  }
 ],
 "metadata": {
  "interpreter": {
   "hash": "da8010f0f20355106034bde63a2468ec8e64683c6adfc729f12ddf3965425c16"
  },
  "kernelspec": {
   "display_name": "Python 3.8.0 64-bit ('pyspark')",
   "language": "python",
   "name": "python3"
  },
  "language_info": {
   "codemirror_mode": {
    "name": "ipython",
    "version": 3
   },
   "file_extension": ".py",
   "mimetype": "text/x-python",
   "name": "python",
   "nbconvert_exporter": "python",
   "pygments_lexer": "ipython3",
   "version": "3.8.0"
  },
  "orig_nbformat": 4
 },
 "nbformat": 4,
 "nbformat_minor": 2
}
