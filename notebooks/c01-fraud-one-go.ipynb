{
 "cells": [
  {
   "cell_type": "markdown",
   "metadata": {},
   "source": [
    "# 0.0 Imports"
   ]
  },
  {
   "cell_type": "markdown",
   "metadata": {},
   "source": [
    "## 0.1 Imports"
   ]
  },
  {
   "cell_type": "code",
   "execution_count": 5,
   "metadata": {},
   "outputs": [],
   "source": [
    "import pandas as pd\n",
    "from  pyspark.sql import SparkSession\n",
    "\n",
    "from pyspark.ml.pipeline import Pipeline\n",
    "from pyspark.ml.classification import RandomForestClassifier\n",
    "from pyspark.ml.feature import OneHotEncoder, StringIndexer, VectorAssembler\n",
    "\n",
    "from sklearn.metrics import confusion_matrix, ConfusionMatrixDisplay, RocCurveDisplay, PrecisionRecallDisplay"
   ]
  },
  {
   "cell_type": "markdown",
   "metadata": {},
   "source": [
    "## 0.2 Starting Spark Session"
   ]
  },
  {
   "cell_type": "code",
   "execution_count": 6,
   "metadata": {},
   "outputs": [
    {
     "data": {
      "text/html": [
       "\n",
       "            <div>\n",
       "                <p><b>SparkSession - in-memory</b></p>\n",
       "                \n",
       "        <div>\n",
       "            <p><b>SparkContext</b></p>\n",
       "\n",
       "            <p><a href=\"http://1berto:4040\">Spark UI</a></p>\n",
       "\n",
       "            <dl>\n",
       "              <dt>Version</dt>\n",
       "                <dd><code>v3.2.1</code></dd>\n",
       "              <dt>Master</dt>\n",
       "                <dd><code>local[*]</code></dd>\n",
       "              <dt>AppName</dt>\n",
       "                <dd><code>Fraud</code></dd>\n",
       "            </dl>\n",
       "        </div>\n",
       "        \n",
       "            </div>\n",
       "        "
      ],
      "text/plain": [
       "<pyspark.sql.session.SparkSession at 0x7f2e813cedc0>"
      ]
     },
     "execution_count": 6,
     "metadata": {},
     "output_type": "execute_result"
    }
   ],
   "source": [
    "spark = (SparkSession\n",
    ".builder\n",
    ".appName('Fraud')\n",
    ".getOrCreate())\n",
    "\n",
    "spark"
   ]
  },
  {
   "cell_type": "markdown",
   "metadata": {},
   "source": [
    "## 0.3 Helper Functions\n",
    "\n"
   ]
  },
  {
   "cell_type": "code",
   "execution_count": 7,
   "metadata": {},
   "outputs": [],
   "source": [
    "import matplotlib.pyplot as plt\n",
    "\n",
    "def jupyter_settings():\n",
    "    %matplotlib inline\n",
    "    # %pylab inline\n",
    "    plt.style.use( 'bmh' )\n",
    "    plt.rcParams['figure.figsize'] = [25, 12]\n",
    "    plt.rcParams['font.size'] = 16\n",
    "    plt.rcParams['figure.facecolor'] = 'white'\n",
    "    \n",
    "    # display( HTML( '<style>.container { width:100% !important; }</style>') )\n",
    "    pd.options.display.max_columns = None\n",
    "    pd.options.display.max_rows = None\n",
    "    pd.set_option( 'display.expand_frame_repr', False )\n",
    "    # sns.set()\n",
    "\n",
    "jupyter_settings()\n",
    "\n",
    "def proba_to_pandas(dataframe, prob_col:str, label_col:str):\n",
    "    \"\"\"\n",
    "    Converts a PySpark SQL DataFrame's probability and label columns to a pandas dataframe.\n",
    "    \"\"\"\n",
    "    # convert to pandas df\n",
    "    result = dataframe.select([prob_col, label_col]).toPandas()\n",
    "    \n",
    "    # rename cols\n",
    "    result.columns = ['y_pred', 'y_true']\n",
    "\n",
    "    # select proba of positive class\n",
    "    result['y_pred'] = result['y_pred'].apply(lambda x : x[1])\n",
    "    \n",
    "    return result"
   ]
  },
  {
   "cell_type": "markdown",
   "metadata": {
    "heading_collapsed": true
   },
   "source": [
    "## 0.4 Data Loading"
   ]
  },
  {
   "cell_type": "code",
   "execution_count": 8,
   "metadata": {},
   "outputs": [
    {
     "name": "stderr",
     "output_type": "stream",
     "text": [
      "[Stage 3:=============================>                             (2 + 2) / 4]\r"
     ]
    },
    {
     "name": "stdout",
     "output_type": "stream",
     "text": [
      "CPU times: user 7.64 ms, sys: 8.8 ms, total: 16.4 ms\n",
      "Wall time: 16.9 s\n"
     ]
    },
    {
     "name": "stderr",
     "output_type": "stream",
     "text": [
      "                                                                                \r"
     ]
    }
   ],
   "source": [
    "%%time\n",
    "data = spark.read.csv('../data/raw/fraud.csv', header = True, inferSchema=True)"
   ]
  },
  {
   "cell_type": "code",
   "execution_count": 9,
   "metadata": {},
   "outputs": [
    {
     "name": "stdout",
     "output_type": "stream",
     "text": [
      "+----+--------+--------+-----------+-------------+--------------+-----------+--------------+--------------+-------+--------------+\n",
      "|step|    type|  amount|   nameOrig|oldbalanceOrg|newbalanceOrig|   nameDest|oldbalanceDest|newbalanceDest|isFraud|isFlaggedFraud|\n",
      "+----+--------+--------+-----------+-------------+--------------+-----------+--------------+--------------+-------+--------------+\n",
      "|   1| PAYMENT| 9839.64|C1231006815|     170136.0|     160296.36|M1979787155|           0.0|           0.0|      0|             0|\n",
      "|   1| PAYMENT| 1864.28|C1666544295|      21249.0|      19384.72|M2044282225|           0.0|           0.0|      0|             0|\n",
      "|   1|TRANSFER|   181.0|C1305486145|        181.0|           0.0| C553264065|           0.0|           0.0|      1|             0|\n",
      "|   1|CASH_OUT|   181.0| C840083671|        181.0|           0.0|  C38997010|       21182.0|           0.0|      1|             0|\n",
      "|   1| PAYMENT|11668.14|C2048537720|      41554.0|      29885.86|M1230701703|           0.0|           0.0|      0|             0|\n",
      "+----+--------+--------+-----------+-------------+--------------+-----------+--------------+--------------+-------+--------------+\n",
      "only showing top 5 rows\n",
      "\n"
     ]
    }
   ],
   "source": [
    "data.show(5)"
   ]
  },
  {
   "cell_type": "code",
   "execution_count": 10,
   "metadata": {},
   "outputs": [
    {
     "data": {
      "text/plain": [
       "pyspark.sql.dataframe.DataFrame"
      ]
     },
     "execution_count": 10,
     "metadata": {},
     "output_type": "execute_result"
    }
   ],
   "source": [
    "type(data)"
   ]
  },
  {
   "cell_type": "code",
   "execution_count": 11,
   "metadata": {},
   "outputs": [
    {
     "data": {
      "text/plain": [
       "[('step', 'int'),\n",
       " ('type', 'string'),\n",
       " ('amount', 'double'),\n",
       " ('nameOrig', 'string'),\n",
       " ('oldbalanceOrg', 'double'),\n",
       " ('newbalanceOrig', 'double'),\n",
       " ('nameDest', 'string'),\n",
       " ('oldbalanceDest', 'double'),\n",
       " ('newbalanceDest', 'double'),\n",
       " ('isFraud', 'int'),\n",
       " ('isFlaggedFraud', 'int')]"
      ]
     },
     "execution_count": 11,
     "metadata": {},
     "output_type": "execute_result"
    }
   ],
   "source": [
    "data.dtypes"
   ]
  },
  {
   "cell_type": "markdown",
   "metadata": {
    "heading_collapsed": true
   },
   "source": [
    "## 0.5 Columns Description\n",
    "\n"
   ]
  },
  {
   "cell_type": "markdown",
   "metadata": {},
   "source": [
    "**step** - maps a unit of time in the real world. In this case 1 step is 1 hour of time. Total steps 744 (30 days simulation).\n",
    "\n",
    "**type** - CASH-IN, CASH-OUT, DEBIT, PAYMENT and TRANSFER.\n",
    "\n",
    "**amount** -\n",
    "amount of the transaction in local currency.\n",
    "\n",
    "**nameOrig** - customer who started the transaction\n",
    "\n",
    "**oldbalanceOrg** - initial balance before the transaction\n",
    "\n",
    "**newbalanceOrig** - new balance after the transaction\n",
    "\n",
    "**nameDest** - customer who is the recipient of the transaction\n",
    "\n",
    "**oldbalanceDest** - initial balance recipient before the transaction. Note that there is not information for customers that start with M (Merchants).\n",
    "\n",
    "**newbalanceDest** - new balance recipient after the transaction. Note that there is not information for customers that start with M (Merchants).\n",
    "\n",
    "**isFraud** - This is the transactions made by the fraudulent agents inside the simulation. In this specific dataset the fraudulent behavior of the agents aims to profit by taking control or customers accounts and try to empty the funds by transferring to another account and then cashing out of the system.\n",
    "\n",
    "**isFlaggedFraud** - The business model aims to control massive transfers from one account to another and flags illegal attempts. An illegal attempt in this dataset is an attempt to transfer more than 200.000 in a single transaction."
   ]
  },
  {
   "cell_type": "markdown",
   "metadata": {},
   "source": [
    "# 1.0 Data Description\n"
   ]
  },
  {
   "cell_type": "markdown",
   "metadata": {
    "hidden": true
   },
   "source": [
    "## 1.1 Rename Columns"
   ]
  },
  {
   "cell_type": "markdown",
   "metadata": {},
   "source": [
    "## 1.2 Data Dimensions"
   ]
  },
  {
   "cell_type": "markdown",
   "metadata": {},
   "source": [
    "## 1.3 Data Types"
   ]
  },
  {
   "cell_type": "markdown",
   "metadata": {},
   "source": [
    "## 1.4 NA Check"
   ]
  },
  {
   "cell_type": "code",
   "execution_count": 12,
   "metadata": {},
   "outputs": [
    {
     "data": {
      "text/plain": [
       "['step',\n",
       " 'type',\n",
       " 'amount',\n",
       " 'nameOrig',\n",
       " 'oldbalanceOrg',\n",
       " 'newbalanceOrig',\n",
       " 'nameDest',\n",
       " 'oldbalanceDest',\n",
       " 'newbalanceDest',\n",
       " 'isFraud',\n",
       " 'isFlaggedFraud']"
      ]
     },
     "execution_count": 12,
     "metadata": {},
     "output_type": "execute_result"
    }
   ],
   "source": [
    "data.columns"
   ]
  },
  {
   "cell_type": "code",
   "execution_count": 13,
   "metadata": {},
   "outputs": [
    {
     "name": "stderr",
     "output_type": "stream",
     "text": [
      "                                                                                \r"
     ]
    },
    {
     "data": {
      "text/plain": [
       "{'step': 0,\n",
       " 'type': 0,\n",
       " 'amount': 0,\n",
       " 'nameOrig': 0,\n",
       " 'oldbalanceOrg': 0,\n",
       " 'newbalanceOrig': 0,\n",
       " 'nameDest': 0,\n",
       " 'oldbalanceDest': 0,\n",
       " 'newbalanceDest': 0,\n",
       " 'isFraud': 0,\n",
       " 'isFlaggedFraud': 0}"
      ]
     },
     "execution_count": 13,
     "metadata": {},
     "output_type": "execute_result"
    }
   ],
   "source": [
    "columns = data.columns\n",
    "\n",
    "\n",
    "NAs = {col: data[data[col].isNull()].count() for col in columns }\n",
    "\n",
    "NAs"
   ]
  },
  {
   "cell_type": "markdown",
   "metadata": {},
   "source": [
    "## 1.5 NA Fillout"
   ]
  },
  {
   "cell_type": "markdown",
   "metadata": {},
   "source": [
    "## 1.6 Changing Data Types\n"
   ]
  },
  {
   "cell_type": "code",
   "execution_count": 14,
   "metadata": {},
   "outputs": [
    {
     "name": "stdout",
     "output_type": "stream",
     "text": [
      "root\n",
      " |-- step: integer (nullable = true)\n",
      " |-- type: string (nullable = true)\n",
      " |-- amount: double (nullable = true)\n",
      " |-- nameOrig: string (nullable = true)\n",
      " |-- oldbalanceOrg: double (nullable = true)\n",
      " |-- newbalanceOrig: double (nullable = true)\n",
      " |-- nameDest: string (nullable = true)\n",
      " |-- oldbalanceDest: double (nullable = true)\n",
      " |-- newbalanceDest: double (nullable = true)\n",
      " |-- isFraud: integer (nullable = true)\n",
      " |-- isFlaggedFraud: integer (nullable = true)\n",
      "\n"
     ]
    }
   ],
   "source": [
    "data.printSchema()"
   ]
  },
  {
   "cell_type": "markdown",
   "metadata": {},
   "source": [
    "## 1.7 Descriptive Statistics"
   ]
  },
  {
   "cell_type": "markdown",
   "metadata": {},
   "source": [
    "### 1.7.1 Numerical Attributes"
   ]
  },
  {
   "cell_type": "code",
   "execution_count": 15,
   "metadata": {},
   "outputs": [
    {
     "name": "stderr",
     "output_type": "stream",
     "text": [
      "                                                                                \r"
     ]
    }
   ],
   "source": [
    "desc = data.describe().toPandas()"
   ]
  },
  {
   "cell_type": "code",
   "execution_count": 16,
   "metadata": {},
   "outputs": [],
   "source": [
    "desc = desc.T\n",
    "cols = list(desc.loc['summary', :])\n",
    "cols\n",
    "\n",
    "rename_cols = dict(zip(desc.columns, cols))\n",
    "rename_cols\n",
    "\n",
    "desc.rename(columns = rename_cols, inplace = True)\n",
    "desc = desc.drop('summary')"
   ]
  },
  {
   "cell_type": "code",
   "execution_count": 17,
   "metadata": {},
   "outputs": [
    {
     "data": {
      "text/html": [
       "<div>\n",
       "<style scoped>\n",
       "    .dataframe tbody tr th:only-of-type {\n",
       "        vertical-align: middle;\n",
       "    }\n",
       "\n",
       "    .dataframe tbody tr th {\n",
       "        vertical-align: top;\n",
       "    }\n",
       "\n",
       "    .dataframe thead th {\n",
       "        text-align: right;\n",
       "    }\n",
       "</style>\n",
       "<table border=\"1\" class=\"dataframe\">\n",
       "  <thead>\n",
       "    <tr style=\"text-align: right;\">\n",
       "      <th></th>\n",
       "      <th>count</th>\n",
       "      <th>mean</th>\n",
       "      <th>stddev</th>\n",
       "      <th>min</th>\n",
       "      <th>max</th>\n",
       "    </tr>\n",
       "  </thead>\n",
       "  <tbody>\n",
       "    <tr>\n",
       "      <th>step</th>\n",
       "      <td>6362620</td>\n",
       "      <td>243.39724563151657</td>\n",
       "      <td>142.33197104912588</td>\n",
       "      <td>1</td>\n",
       "      <td>743</td>\n",
       "    </tr>\n",
       "    <tr>\n",
       "      <th>type</th>\n",
       "      <td>6362620</td>\n",
       "      <td>None</td>\n",
       "      <td>None</td>\n",
       "      <td>CASH_IN</td>\n",
       "      <td>TRANSFER</td>\n",
       "    </tr>\n",
       "    <tr>\n",
       "      <th>amount</th>\n",
       "      <td>6362620</td>\n",
       "      <td>179861.90354913412</td>\n",
       "      <td>603858.2314629498</td>\n",
       "      <td>0.0</td>\n",
       "      <td>9.244551664E7</td>\n",
       "    </tr>\n",
       "    <tr>\n",
       "      <th>nameOrig</th>\n",
       "      <td>6362620</td>\n",
       "      <td>None</td>\n",
       "      <td>None</td>\n",
       "      <td>C1000000639</td>\n",
       "      <td>C999999784</td>\n",
       "    </tr>\n",
       "    <tr>\n",
       "      <th>oldbalanceOrg</th>\n",
       "      <td>6362620</td>\n",
       "      <td>833883.1040744719</td>\n",
       "      <td>2888242.673037545</td>\n",
       "      <td>0.0</td>\n",
       "      <td>5.958504037E7</td>\n",
       "    </tr>\n",
       "    <tr>\n",
       "      <th>newbalanceOrig</th>\n",
       "      <td>6362620</td>\n",
       "      <td>855113.6685785714</td>\n",
       "      <td>2924048.502954253</td>\n",
       "      <td>0.0</td>\n",
       "      <td>4.958504037E7</td>\n",
       "    </tr>\n",
       "    <tr>\n",
       "      <th>nameDest</th>\n",
       "      <td>6362620</td>\n",
       "      <td>None</td>\n",
       "      <td>None</td>\n",
       "      <td>C1000004082</td>\n",
       "      <td>M999999784</td>\n",
       "    </tr>\n",
       "    <tr>\n",
       "      <th>oldbalanceDest</th>\n",
       "      <td>6362620</td>\n",
       "      <td>1100701.6665196654</td>\n",
       "      <td>3399180.1129944855</td>\n",
       "      <td>0.0</td>\n",
       "      <td>3.5601588935E8</td>\n",
       "    </tr>\n",
       "    <tr>\n",
       "      <th>newbalanceDest</th>\n",
       "      <td>6362620</td>\n",
       "      <td>1224996.3982019408</td>\n",
       "      <td>3674128.9421195714</td>\n",
       "      <td>0.0</td>\n",
       "      <td>3.5617927892E8</td>\n",
       "    </tr>\n",
       "    <tr>\n",
       "      <th>isFraud</th>\n",
       "      <td>6362620</td>\n",
       "      <td>0.001290820448180152</td>\n",
       "      <td>0.035904796801604424</td>\n",
       "      <td>0</td>\n",
       "      <td>1</td>\n",
       "    </tr>\n",
       "    <tr>\n",
       "      <th>isFlaggedFraud</th>\n",
       "      <td>6362620</td>\n",
       "      <td>2.51468734577894E-6</td>\n",
       "      <td>0.0015857747057365502</td>\n",
       "      <td>0</td>\n",
       "      <td>1</td>\n",
       "    </tr>\n",
       "  </tbody>\n",
       "</table>\n",
       "</div>"
      ],
      "text/plain": [
       "                  count                  mean                 stddev          min             max\n",
       "step            6362620    243.39724563151657     142.33197104912588            1             743\n",
       "type            6362620                  None                   None      CASH_IN        TRANSFER\n",
       "amount          6362620    179861.90354913412      603858.2314629498          0.0   9.244551664E7\n",
       "nameOrig        6362620                  None                   None  C1000000639      C999999784\n",
       "oldbalanceOrg   6362620     833883.1040744719      2888242.673037545          0.0   5.958504037E7\n",
       "newbalanceOrig  6362620     855113.6685785714      2924048.502954253          0.0   4.958504037E7\n",
       "nameDest        6362620                  None                   None  C1000004082      M999999784\n",
       "oldbalanceDest  6362620    1100701.6665196654     3399180.1129944855          0.0  3.5601588935E8\n",
       "newbalanceDest  6362620    1224996.3982019408     3674128.9421195714          0.0  3.5617927892E8\n",
       "isFraud         6362620  0.001290820448180152   0.035904796801604424            0               1\n",
       "isFlaggedFraud  6362620   2.51468734577894E-6  0.0015857747057365502            0               1"
      ]
     },
     "execution_count": 17,
     "metadata": {},
     "output_type": "execute_result"
    }
   ],
   "source": [
    "desc"
   ]
  },
  {
   "cell_type": "code",
   "execution_count": 18,
   "metadata": {},
   "outputs": [
    {
     "name": "stderr",
     "output_type": "stream",
     "text": [
      "                                                                                \r"
     ]
    },
    {
     "data": {
      "text/html": [
       "<div>\n",
       "<style scoped>\n",
       "    .dataframe tbody tr th:only-of-type {\n",
       "        vertical-align: middle;\n",
       "    }\n",
       "\n",
       "    .dataframe tbody tr th {\n",
       "        vertical-align: top;\n",
       "    }\n",
       "\n",
       "    .dataframe thead th {\n",
       "        text-align: right;\n",
       "    }\n",
       "</style>\n",
       "<table border=\"1\" class=\"dataframe\">\n",
       "  <thead>\n",
       "    <tr style=\"text-align: right;\">\n",
       "      <th></th>\n",
       "      <th>isFraud</th>\n",
       "      <th>count</th>\n",
       "    </tr>\n",
       "  </thead>\n",
       "  <tbody>\n",
       "    <tr>\n",
       "      <th>0</th>\n",
       "      <td>1</td>\n",
       "      <td>8213</td>\n",
       "    </tr>\n",
       "    <tr>\n",
       "      <th>1</th>\n",
       "      <td>0</td>\n",
       "      <td>6354407</td>\n",
       "    </tr>\n",
       "  </tbody>\n",
       "</table>\n",
       "</div>"
      ],
      "text/plain": [
       "   isFraud    count\n",
       "0        1     8213\n",
       "1        0  6354407"
      ]
     },
     "execution_count": 18,
     "metadata": {},
     "output_type": "execute_result"
    }
   ],
   "source": [
    "# spark.sql('select * from data')\n",
    "prop = data.groupBy('isFraud').count().toPandas()\n",
    "prop"
   ]
  },
  {
   "cell_type": "code",
   "execution_count": 19,
   "metadata": {},
   "outputs": [
    {
     "name": "stdout",
     "output_type": "stream",
     "text": [
      "fraud percentage: 0.1291%\n"
     ]
    }
   ],
   "source": [
    "frauds = prop.iloc[0,1]\n",
    "non_frauds = prop.iloc[1,1]\n",
    "\n",
    "print('fraud percentage: {:.4f}%'.format( 100*frauds/(frauds+non_frauds)))\n"
   ]
  },
  {
   "cell_type": "markdown",
   "metadata": {},
   "source": [
    "### 1.7.2 Categorical Attributes"
   ]
  },
  {
   "cell_type": "markdown",
   "metadata": {
    "heading_collapsed": true
   },
   "source": [
    "# 2.0 Feature Engineering"
   ]
  },
  {
   "cell_type": "markdown",
   "metadata": {},
   "source": [
    "## 2.1 Response Variable Mind Map"
   ]
  },
  {
   "cell_type": "markdown",
   "metadata": {},
   "source": [
    "## 2.2 Hypothesis List"
   ]
  },
  {
   "cell_type": "markdown",
   "metadata": {},
   "source": [
    "## 2.3 Selected Hypothesis:"
   ]
  },
  {
   "cell_type": "markdown",
   "metadata": {},
   "source": [
    "**H1:** \n",
    "\n",
    "**H2:** \n",
    "\n",
    "**H3:** \n",
    "\n",
    "**H4:** \n",
    "\n",
    "**H5:** \n",
    "\n",
    "**H6:** \n",
    "\n",
    "**H7:** \n",
    "\n",
    "**H8:** \n",
    "\n",
    "**H9:** \n",
    "\n",
    "**H10:** \n",
    "\n",
    "**H11:** "
   ]
  },
  {
   "cell_type": "markdown",
   "metadata": {},
   "source": [
    "## 2.4 Feature Engineering"
   ]
  },
  {
   "cell_type": "markdown",
   "metadata": {
    "heading_collapsed": true
   },
   "source": [
    "# 3.0 Variable Selection"
   ]
  },
  {
   "cell_type": "code",
   "execution_count": 20,
   "metadata": {},
   "outputs": [
    {
     "data": {
      "text/plain": [
       "[('step', 'int'),\n",
       " ('type', 'string'),\n",
       " ('amount', 'double'),\n",
       " ('nameOrig', 'string'),\n",
       " ('oldbalanceOrg', 'double'),\n",
       " ('newbalanceOrig', 'double'),\n",
       " ('nameDest', 'string'),\n",
       " ('oldbalanceDest', 'double'),\n",
       " ('newbalanceDest', 'double'),\n",
       " ('isFraud', 'int'),\n",
       " ('isFlaggedFraud', 'int')]"
      ]
     },
     "execution_count": 20,
     "metadata": {},
     "output_type": "execute_result"
    }
   ],
   "source": [
    "# numerical variables\n",
    "\n",
    "data.dtypes"
   ]
  },
  {
   "cell_type": "code",
   "execution_count": 21,
   "metadata": {},
   "outputs": [],
   "source": [
    "# Selecting cols and transformers to apply RF\n",
    "\n",
    "# #('step', 'int'), use later\n",
    "# ('type', 'string'), # OHE\n",
    "# ('amount', 'double'), \n",
    "# # ('nameOrig', 'string'),\n",
    "# ('oldbalanceOrg', 'double'),\n",
    "# ('newbalanceOrig', 'double'),\n",
    "# # ('nameDest', 'string'),\n",
    "# ('oldbalanceDest', 'double'),\n",
    "# ('newbalanceDest', 'double'),\n",
    "# ('isFraud', 'int'),\n",
    "# # ('isFlaggedFraud', 'int')\n",
    "\n",
    "num_cols = ['amount','oldbalanceOrg','newbalanceOrig','oldbalanceDest','newbalanceDest']\n",
    "cat_cols = ['type']"
   ]
  },
  {
   "cell_type": "markdown",
   "metadata": {
    "heading_collapsed": true
   },
   "source": [
    "# 4.0 Exploratory Data Analysis"
   ]
  },
  {
   "cell_type": "markdown",
   "metadata": {
    "heading_collapsed": true,
    "hidden": true
   },
   "source": [
    "## 4.1 Univariate Analysis"
   ]
  },
  {
   "cell_type": "markdown",
   "metadata": {
    "hidden": true
   },
   "source": [
    "### 4.1.1 Response Variable"
   ]
  },
  {
   "cell_type": "markdown",
   "metadata": {
    "hidden": true
   },
   "source": [
    "### 4.1.2 Numerical Variables"
   ]
  },
  {
   "cell_type": "markdown",
   "metadata": {
    "hidden": true
   },
   "source": [
    "### 4.1.3 Categorical Variables"
   ]
  },
  {
   "cell_type": "markdown",
   "metadata": {
    "hidden": true
   },
   "source": [
    "## 4.2 Bivariate Analysis"
   ]
  },
  {
   "cell_type": "markdown",
   "metadata": {},
   "source": [
    "### **H1.**"
   ]
  },
  {
   "cell_type": "markdown",
   "metadata": {},
   "source": [
    "### **H2.**\n"
   ]
  },
  {
   "cell_type": "markdown",
   "metadata": {},
   "source": [
    "### **H3.**"
   ]
  },
  {
   "cell_type": "markdown",
   "metadata": {},
   "source": [
    "### **H4.**"
   ]
  },
  {
   "cell_type": "markdown",
   "metadata": {},
   "source": [
    "### **H5.**"
   ]
  },
  {
   "cell_type": "markdown",
   "metadata": {},
   "source": [
    "### **H6.**"
   ]
  },
  {
   "cell_type": "markdown",
   "metadata": {},
   "source": [
    "### **H7.**"
   ]
  },
  {
   "cell_type": "markdown",
   "metadata": {},
   "source": [
    "### **H8.**"
   ]
  },
  {
   "cell_type": "markdown",
   "metadata": {},
   "source": [
    "### **H9.**"
   ]
  },
  {
   "cell_type": "markdown",
   "metadata": {},
   "source": [
    "### **H10.**"
   ]
  },
  {
   "cell_type": "markdown",
   "metadata": {
    "hidden": true
   },
   "source": [
    "## 4.3 Multivariate Analysis"
   ]
  },
  {
   "cell_type": "markdown",
   "metadata": {
    "hidden": true
   },
   "source": [
    "### 4.3.1 Numerical Attributes"
   ]
  },
  {
   "cell_type": "markdown",
   "metadata": {
    "hidden": true
   },
   "source": [
    "### 4.3.2 Categorical Attributes"
   ]
  },
  {
   "cell_type": "markdown",
   "metadata": {
    "heading_collapsed": true
   },
   "source": [
    "# 5.0 Data Preparation"
   ]
  },
  {
   "cell_type": "code",
   "execution_count": 22,
   "metadata": {},
   "outputs": [
    {
     "name": "stdout",
     "output_type": "stream",
     "text": [
      "+----+--------+--------+-----------+-------------+--------------+-----------+--------------+--------------+-------+--------------+\n",
      "|step|    type|  amount|   nameOrig|oldbalanceOrg|newbalanceOrig|   nameDest|oldbalanceDest|newbalanceDest|isFraud|isFlaggedFraud|\n",
      "+----+--------+--------+-----------+-------------+--------------+-----------+--------------+--------------+-------+--------------+\n",
      "|   1| PAYMENT| 9839.64|C1231006815|     170136.0|     160296.36|M1979787155|           0.0|           0.0|      0|             0|\n",
      "|   1| PAYMENT| 1864.28|C1666544295|      21249.0|      19384.72|M2044282225|           0.0|           0.0|      0|             0|\n",
      "|   1|TRANSFER|   181.0|C1305486145|        181.0|           0.0| C553264065|           0.0|           0.0|      1|             0|\n",
      "|   1|CASH_OUT|   181.0| C840083671|        181.0|           0.0|  C38997010|       21182.0|           0.0|      1|             0|\n",
      "|   1| PAYMENT|11668.14|C2048537720|      41554.0|      29885.86|M1230701703|           0.0|           0.0|      0|             0|\n",
      "+----+--------+--------+-----------+-------------+--------------+-----------+--------------+--------------+-------+--------------+\n",
      "only showing top 5 rows\n",
      "\n"
     ]
    }
   ],
   "source": [
    "data.show(5)"
   ]
  },
  {
   "cell_type": "markdown",
   "metadata": {},
   "source": [
    "## 5.1 Testing"
   ]
  },
  {
   "cell_type": "code",
   "execution_count": 23,
   "metadata": {},
   "outputs": [],
   "source": [
    "df1 = data.sample(fraction=50/6350000, seed=42)"
   ]
  },
  {
   "cell_type": "code",
   "execution_count": 24,
   "metadata": {},
   "outputs": [
    {
     "name": "stderr",
     "output_type": "stream",
     "text": [
      "[Stage 58:>                                                         (0 + 1) / 1]\r"
     ]
    },
    {
     "name": "stdout",
     "output_type": "stream",
     "text": [
      "+----+--------+----------+-----------+-------------+--------------+-----------+--------------+--------------+-------+--------------+--------+-------------+--------------------+-------------+-----------+----------+\n",
      "|step|    type|    amount|   nameOrig|oldbalanceOrg|newbalanceOrig|   nameDest|oldbalanceDest|newbalanceDest|isFraud|isFlaggedFraud|type_idx|     type_ohe|            features|rawPrediction|probability|prediction|\n",
      "+----+--------+----------+-----------+-------------+--------------+-----------+--------------+--------------+-------+--------------+--------+-------------+--------------------+-------------+-----------+----------+\n",
      "|  10| PAYMENT|  20662.66|C1256812995|      20160.0|           0.0|M1899322391|           0.0|           0.0|      0|             0|     0.0|(3,[0],[1.0])|(8,[0,1,5],[20662...|       [10.0]|      [1.0]|       0.0|\n",
      "|  17| PAYMENT|   12607.2|C1031150070|      30159.0|       17551.8|M1462583307|           0.0|           0.0|      0|             0|     0.0|(3,[0],[1.0])|(8,[0,1,2,5],[126...|       [10.0]|      [1.0]|       0.0|\n",
      "|  20|CASH_OUT| 380710.91|C2062750588|          0.0|           0.0|C1170118717|     946637.63|    1327348.54|      0|             0|     1.0|(3,[1],[1.0])|(8,[0,3,4,6],[380...|       [10.0]|      [1.0]|       0.0|\n",
      "|  33|CASH_OUT|  39304.06|C1922563600|          0.0|           0.0| C347101016|     199179.11|     238483.17|      0|             0|     1.0|(3,[1],[1.0])|(8,[0,3,4,6],[393...|       [10.0]|      [1.0]|       0.0|\n",
      "|  37| PAYMENT|  14295.09| C142597803|          0.0|           0.0| M156596286|           0.0|           0.0|      0|             0|     0.0|(3,[0],[1.0])|(8,[0,5],[14295.0...|       [10.0]|      [1.0]|       0.0|\n",
      "|  39| PAYMENT|   5932.94| C394394544|          0.0|           0.0|M1332542307|           0.0|           0.0|      0|             0|     0.0|(3,[0],[1.0])|(8,[0,5],[5932.94...|       [10.0]|      [1.0]|       0.0|\n",
      "|  40| CASH_IN|   49940.2|C1340824806|   2726124.38|    2776064.58| C761169752|     174911.49|     124971.29|      0|             0|     2.0|(3,[2],[1.0])|[49940.2,2726124....|       [10.0]|      [1.0]|       0.0|\n",
      "|  44|CASH_OUT|  56338.06|C2130590532|          0.0|           0.0|C1832071209|      82564.67|     138902.73|      0|             0|     1.0|(3,[1],[1.0])|(8,[0,3,4,6],[563...|       [10.0]|      [1.0]|       0.0|\n",
      "|  45|CASH_OUT|  24591.37|C1220606902|     56779.32|      32187.95|C1067698658|     111387.75|     197389.65|      0|             0|     1.0|(3,[1],[1.0])|[24591.37,56779.3...|       [10.0]|      [1.0]|       0.0|\n",
      "|  93| PAYMENT|   4943.19| C387287887|          9.0|           0.0| M598425087|           0.0|           0.0|      0|             0|     0.0|(3,[0],[1.0])|(8,[0,1,5],[4943....|       [10.0]|      [1.0]|       0.0|\n",
      "| 130|CASH_OUT| 240128.47|   C7128353|         87.0|           0.0| C181151300|           0.0|     382879.22|      0|             0|     1.0|(3,[1],[1.0])|(8,[0,1,4,6],[240...|       [10.0]|      [1.0]|       0.0|\n",
      "| 130| CASH_IN| 204932.26| C292575699|    6468703.5|    6673635.76| C834808790| 2.993316792E7| 2.972823566E7|      0|             0|     2.0|(3,[2],[1.0])|[204932.26,646870...|       [10.0]|      [1.0]|       0.0|\n",
      "| 133|TRANSFER| 542983.16|C1406802258|     454638.0|           0.0| C659356394|     380197.18|     923180.35|      0|             0|     3.0|    (3,[],[])|(8,[0,1,3,4],[542...|       [10.0]|      [1.0]|       0.0|\n",
      "| 138|CASH_OUT| 289165.18| C608169532|      12085.0|           0.0|C1827899040|           0.0|     289165.18|      0|             0|     1.0|(3,[1],[1.0])|(8,[0,1,4,6],[289...|       [10.0]|      [1.0]|       0.0|\n",
      "| 140|CASH_OUT| 166750.31| C820910670|          0.0|           0.0|C1786144514|     186349.19|     377453.37|      0|             0|     1.0|(3,[1],[1.0])|(8,[0,3,4,6],[166...|       [10.0]|      [1.0]|       0.0|\n",
      "| 143|TRANSFER| 845264.19|C1374432747|          0.0|           0.0| C829224144|    1551712.33|    2396976.52|      0|             0|     3.0|    (3,[],[])|(8,[0,3,4],[84526...|       [10.0]|      [1.0]|       0.0|\n",
      "| 156|CASH_OUT| 298159.07| C730711358|          0.0|           0.0|C1192665889|    1164750.91|    1462909.98|      0|             0|     1.0|(3,[1],[1.0])|(8,[0,3,4,6],[298...|       [10.0]|      [1.0]|       0.0|\n",
      "| 178|TRANSFER|1991425.45|C2112478579|     509829.0|           0.0|C1286054728|       47758.8|    2039184.25|      0|             0|     3.0|    (3,[],[])|(8,[0,1,3,4],[199...|       [10.0]|      [1.0]|       0.0|\n",
      "| 181| PAYMENT|   1717.05| C187680802|     100759.0|      99041.95|M1937285263|           0.0|           0.0|      0|             0|     0.0|(3,[0],[1.0])|(8,[0,1,2,5],[171...|       [10.0]|      [1.0]|       0.0|\n",
      "| 226|TRANSFER| 352742.34|C1519450889|          0.0|           0.0| C854142894|     624365.03|     977107.38|      0|             0|     3.0|    (3,[],[])|(8,[0,3,4],[35274...|       [10.0]|      [1.0]|       0.0|\n",
      "+----+--------+----------+-----------+-------------+--------------+-----------+--------------+--------------+-------+--------------+--------+-------------+--------------------+-------------+-----------+----------+\n",
      "only showing top 20 rows\n",
      "\n"
     ]
    },
    {
     "name": "stderr",
     "output_type": "stream",
     "text": [
      "                                                                                \r"
     ]
    }
   ],
   "source": [
    "selected_cols = num_cols + ['type_ohe']\n",
    "\n",
    "# type category to idx\n",
    "string_indx = StringIndexer(inputCols=['type'], outputCols=['type_idx'])\n",
    "\n",
    "# ohe of type category idx\n",
    "ohe = OneHotEncoder(inputCols=['type_idx'], outputCols=['type_ohe'])\n",
    "\n",
    "# join everything with untransformed numeric values\n",
    "vec_asm = VectorAssembler(inputCols= selected_cols, outputCol='features')\n",
    "\n",
    "# instantiating model\n",
    "rf = RandomForestClassifier(featuresCol='features', labelCol='isFraud', seed=42, numTrees=10)\n",
    "\n",
    "pipeline = Pipeline(stages=[string_indx, ohe, vec_asm, rf])\n",
    "\n",
    "a = pipeline.fit(df1).transform(df1)\n",
    "a.show()"
   ]
  },
  {
   "cell_type": "markdown",
   "metadata": {
    "heading_collapsed": true
   },
   "source": [
    "# 6.0 Feature Selection"
   ]
  },
  {
   "cell_type": "markdown",
   "metadata": {
    "hidden": true
   },
   "source": [
    "## 6.1 Spliting Dataframe into Train Test "
   ]
  },
  {
   "cell_type": "code",
   "execution_count": 25,
   "metadata": {},
   "outputs": [],
   "source": [
    "# train test split yielding 80% 20% split, stratified on response variable\n",
    "\n",
    "train = data.sampleBy( col='isFraud' ,fractions = {0:0.8, 1:0.8}, seed = 42 )\n",
    "test = data.exceptAll(train)"
   ]
  },
  {
   "cell_type": "code",
   "execution_count": 26,
   "metadata": {},
   "outputs": [
    {
     "name": "stderr",
     "output_type": "stream",
     "text": [
      "[Stage 59:===========================================>              (3 + 1) / 4]\r"
     ]
    },
    {
     "name": "stdout",
     "output_type": "stream",
     "text": [
      "+-------+-------+\n",
      "|isFraud|  count|\n",
      "+-------+-------+\n",
      "|      1|   6544|\n",
      "|      0|5083314|\n",
      "+-------+-------+\n",
      "\n"
     ]
    },
    {
     "name": "stderr",
     "output_type": "stream",
     "text": [
      "                                                                                \r"
     ]
    }
   ],
   "source": [
    "# executing and verifying split results\n",
    "\n",
    "train.groupBy('isFraud').count().show()"
   ]
  },
  {
   "cell_type": "code",
   "execution_count": 27,
   "metadata": {},
   "outputs": [
    {
     "name": "stderr",
     "output_type": "stream",
     "text": [
      "22/04/23 19:19:08 WARN RowBasedKeyValueBatch: Calling spill() on RowBasedKeyValueBatch. Will not spill but return 0.\n",
      "22/04/23 19:19:09 WARN RowBasedKeyValueBatch: Calling spill() on RowBasedKeyValueBatch. Will not spill but return 0.\n",
      "22/04/23 19:19:09 WARN RowBasedKeyValueBatch: Calling spill() on RowBasedKeyValueBatch. Will not spill but return 0.\n",
      "22/04/23 19:19:10 WARN RowBasedKeyValueBatch: Calling spill() on RowBasedKeyValueBatch. Will not spill but return 0.\n",
      "22/04/23 19:19:21 WARN RowBasedKeyValueBatch: Calling spill() on RowBasedKeyValueBatch. Will not spill but return 0.\n",
      "22/04/23 19:19:21 WARN RowBasedKeyValueBatch: Calling spill() on RowBasedKeyValueBatch. Will not spill but return 0.\n",
      "22/04/23 19:19:22 WARN RowBasedKeyValueBatch: Calling spill() on RowBasedKeyValueBatch. Will not spill but return 0.\n",
      "22/04/23 19:19:22 WARN RowBasedKeyValueBatch: Calling spill() on RowBasedKeyValueBatch. Will not spill but return 0.\n",
      "22/04/23 19:19:38 WARN RowBasedKeyValueBatch: Calling spill() on RowBasedKeyValueBatch. Will not spill but return 0.\n",
      "22/04/23 19:19:40 WARN RowBasedKeyValueBatch: Calling spill() on RowBasedKeyValueBatch. Will not spill but return 0.\n",
      "22/04/23 19:20:15 WARN RowBasedKeyValueBatch: Calling spill() on RowBasedKeyValueBatch. Will not spill but return 0.\n",
      "22/04/23 19:20:15 WARN RowBasedKeyValueBatch: Calling spill() on RowBasedKeyValueBatch. Will not spill but return 0.\n",
      "22/04/23 19:20:15 WARN RowBasedKeyValueBatch: Calling spill() on RowBasedKeyValueBatch. Will not spill but return 0.\n",
      "22/04/23 19:20:15 WARN RowBasedKeyValueBatch: Calling spill() on RowBasedKeyValueBatch. Will not spill but return 0.\n",
      "22/04/23 19:20:27 WARN RowBasedKeyValueBatch: Calling spill() on RowBasedKeyValueBatch. Will not spill but return 0.\n",
      "22/04/23 19:20:27 WARN RowBasedKeyValueBatch: Calling spill() on RowBasedKeyValueBatch. Will not spill but return 0.\n",
      "22/04/23 19:20:28 WARN RowBasedKeyValueBatch: Calling spill() on RowBasedKeyValueBatch. Will not spill but return 0.\n",
      "22/04/23 19:20:28 WARN RowBasedKeyValueBatch: Calling spill() on RowBasedKeyValueBatch. Will not spill but return 0.\n",
      "22/04/23 19:20:48 WARN RowBasedKeyValueBatch: Calling spill() on RowBasedKeyValueBatch. Will not spill but return 0.\n",
      "22/04/23 19:20:48 WARN RowBasedKeyValueBatch: Calling spill() on RowBasedKeyValueBatch. Will not spill but return 0.\n",
      "22/04/23 19:20:48 WARN RowBasedKeyValueBatch: Calling spill() on RowBasedKeyValueBatch. Will not spill but return 0.\n",
      "22/04/23 19:20:48 WARN RowBasedKeyValueBatch: Calling spill() on RowBasedKeyValueBatch. Will not spill but return 0.\n",
      "22/04/23 19:21:01 WARN RowBasedKeyValueBatch: Calling spill() on RowBasedKeyValueBatch. Will not spill but return 0.\n",
      "22/04/23 19:21:01 WARN RowBasedKeyValueBatch: Calling spill() on RowBasedKeyValueBatch. Will not spill but return 0.\n",
      "22/04/23 19:21:01 WARN RowBasedKeyValueBatch: Calling spill() on RowBasedKeyValueBatch. Will not spill but return 0.\n",
      "22/04/23 19:21:01 WARN RowBasedKeyValueBatch: Calling spill() on RowBasedKeyValueBatch. Will not spill but return 0.\n",
      "[Stage 64:==============================================>          (9 + 2) / 11]\r"
     ]
    },
    {
     "name": "stdout",
     "output_type": "stream",
     "text": [
      "+-------+-------+\n",
      "|isFraud|  count|\n",
      "+-------+-------+\n",
      "|      1|   1669|\n",
      "|      0|1271093|\n",
      "+-------+-------+\n",
      "\n"
     ]
    },
    {
     "name": "stderr",
     "output_type": "stream",
     "text": [
      "                                                                                \r"
     ]
    }
   ],
   "source": [
    "test.groupBy('isFraud').count().show()"
   ]
  },
  {
   "cell_type": "code",
   "execution_count": 28,
   "metadata": {},
   "outputs": [
    {
     "data": {
      "text/plain": [
       "DataFrame[step: int, type: string, amount: double, nameOrig: string, oldbalanceOrg: double, newbalanceOrig: double, nameDest: string, oldbalanceDest: double, newbalanceDest: double, isFraud: int, isFlaggedFraud: int]"
      ]
     },
     "execution_count": 28,
     "metadata": {},
     "output_type": "execute_result"
    }
   ],
   "source": [
    "data.unpersist()"
   ]
  },
  {
   "cell_type": "code",
   "execution_count": 29,
   "metadata": {},
   "outputs": [],
   "source": [
    "spark.catalog.clearCache()"
   ]
  },
  {
   "cell_type": "markdown",
   "metadata": {},
   "source": [
    "# 7.0 Model Testing"
   ]
  },
  {
   "cell_type": "markdown",
   "metadata": {},
   "source": [
    "## 7.1 Random Forest"
   ]
  },
  {
   "cell_type": "code",
   "execution_count": 30,
   "metadata": {},
   "outputs": [
    {
     "name": "stderr",
     "output_type": "stream",
     "text": [
      "22/04/23 19:23:14 WARN MemoryStore: Not enough space to cache rdd_239_0 in memory! (computed 100.8 MiB so far)\n",
      "22/04/23 19:23:14 WARN BlockManager: Persisting block rdd_239_0 to disk instead.\n",
      "22/04/23 19:23:15 WARN MemoryStore: Not enough space to cache rdd_239_3 in memory! (computed 100.8 MiB so far)\n",
      "22/04/23 19:23:15 WARN BlockManager: Persisting block rdd_239_3 to disk instead.\n",
      "22/04/23 19:23:15 WARN MemoryStore: Not enough space to cache rdd_239_1 in memory! (computed 100.8 MiB so far)\n",
      "22/04/23 19:23:15 WARN BlockManager: Persisting block rdd_239_1 to disk instead.\n",
      "22/04/23 19:23:16 WARN MemoryStore: Not enough space to cache rdd_239_2 in memory! (computed 100.8 MiB so far)\n",
      "22/04/23 19:23:16 WARN BlockManager: Persisting block rdd_239_2 to disk instead.\n",
      "22/04/23 19:23:54 WARN MemoryStore: Not enough space to cache rdd_239_0 in memory! (computed 100.8 MiB so far)\n",
      "22/04/23 19:23:54 WARN MemoryStore: Not enough space to cache rdd_239_1 in memory! (computed 100.8 MiB so far)\n",
      "22/04/23 19:23:55 WARN MemoryStore: Not enough space to cache rdd_239_2 in memory! (computed 64.5 MiB so far)\n",
      "22/04/23 19:23:55 WARN MemoryStore: Not enough space to cache rdd_239_3 in memory! (computed 151.8 MiB so far)\n",
      "22/04/23 19:24:05 WARN MemoryStore: Not enough space to cache rdd_239_0 in memory! (computed 100.8 MiB so far)\n",
      "22/04/23 19:24:05 WARN MemoryStore: Not enough space to cache rdd_239_2 in memory! (computed 100.8 MiB so far)\n",
      "22/04/23 19:24:05 WARN MemoryStore: Not enough space to cache rdd_239_1 in memory! (computed 100.8 MiB so far)\n",
      "22/04/23 19:24:06 WARN MemoryStore: Not enough space to cache rdd_239_3 in memory! (computed 100.8 MiB so far)\n",
      "22/04/23 19:24:16 WARN MemoryStore: Not enough space to cache rdd_239_1 in memory! (computed 100.8 MiB so far)\n",
      "22/04/23 19:24:16 WARN MemoryStore: Not enough space to cache rdd_239_2 in memory! (computed 100.8 MiB so far)\n",
      "22/04/23 19:24:16 WARN MemoryStore: Not enough space to cache rdd_239_0 in memory! (computed 100.8 MiB so far)\n",
      "22/04/23 19:24:16 WARN MemoryStore: Not enough space to cache rdd_239_3 in memory! (computed 100.8 MiB so far)\n",
      "22/04/23 19:24:30 WARN MemoryStore: Not enough space to cache rdd_239_2 in memory! (computed 100.8 MiB so far)\n",
      "22/04/23 19:24:31 WARN MemoryStore: Not enough space to cache rdd_239_3 in memory! (computed 100.8 MiB so far)\n",
      "22/04/23 19:24:31 WARN MemoryStore: Not enough space to cache rdd_239_0 in memory! (computed 100.8 MiB so far)\n",
      "22/04/23 19:24:31 WARN MemoryStore: Not enough space to cache rdd_239_1 in memory! (computed 100.8 MiB so far)\n",
      "22/04/23 19:24:45 WARN MemoryStore: Not enough space to cache rdd_239_2 in memory! (computed 100.8 MiB so far)\n",
      "22/04/23 19:24:45 WARN MemoryStore: Not enough space to cache rdd_239_3 in memory! (computed 100.8 MiB so far)\n",
      "22/04/23 19:24:45 WARN MemoryStore: Not enough space to cache rdd_239_1 in memory! (computed 100.8 MiB so far)\n",
      "22/04/23 19:24:46 WARN MemoryStore: Not enough space to cache rdd_239_0 in memory! (computed 100.8 MiB so far)\n",
      "                                                                                \r"
     ]
    }
   ],
   "source": [
    "results = pipeline.fit(train).transform(test)"
   ]
  },
  {
   "cell_type": "code",
   "execution_count": 31,
   "metadata": {},
   "outputs": [
    {
     "name": "stderr",
     "output_type": "stream",
     "text": [
      "22/04/23 19:25:09 WARN RowBasedKeyValueBatch: Calling spill() on RowBasedKeyValueBatch. Will not spill but return 0.\n",
      "22/04/23 19:25:09 WARN RowBasedKeyValueBatch: Calling spill() on RowBasedKeyValueBatch. Will not spill but return 0.\n",
      "22/04/23 19:25:10 WARN RowBasedKeyValueBatch: Calling spill() on RowBasedKeyValueBatch. Will not spill but return 0.\n",
      "22/04/23 19:25:10 WARN RowBasedKeyValueBatch: Calling spill() on RowBasedKeyValueBatch. Will not spill but return 0.\n",
      "22/04/23 19:25:23 WARN RowBasedKeyValueBatch: Calling spill() on RowBasedKeyValueBatch. Will not spill but return 0.\n",
      "22/04/23 19:25:23 WARN RowBasedKeyValueBatch: Calling spill() on RowBasedKeyValueBatch. Will not spill but return 0.\n",
      "22/04/23 19:25:24 WARN RowBasedKeyValueBatch: Calling spill() on RowBasedKeyValueBatch. Will not spill but return 0.\n",
      "22/04/23 19:25:25 WARN RowBasedKeyValueBatch: Calling spill() on RowBasedKeyValueBatch. Will not spill but return 0.\n",
      "22/04/23 19:25:38 WARN RowBasedKeyValueBatch: Calling spill() on RowBasedKeyValueBatch. Will not spill but return 0.\n",
      "22/04/23 19:25:38 WARN RowBasedKeyValueBatch: Calling spill() on RowBasedKeyValueBatch. Will not spill but return 0.\n",
      "22/04/23 19:25:40 WARN RowBasedKeyValueBatch: Calling spill() on RowBasedKeyValueBatch. Will not spill but return 0.\n",
      "22/04/23 19:25:58 WARN RowBasedKeyValueBatch: Calling spill() on RowBasedKeyValueBatch. Will not spill but return 0.\n",
      "22/04/23 19:26:03 WARN RowBasedKeyValueBatch: Calling spill() on RowBasedKeyValueBatch. Will not spill but return 0.\n",
      "22/04/23 19:26:04 WARN RowBasedKeyValueBatch: Calling spill() on RowBasedKeyValueBatch. Will not spill but return 0.\n",
      "22/04/23 19:26:07 WARN RowBasedKeyValueBatch: Calling spill() on RowBasedKeyValueBatch. Will not spill but return 0.\n",
      "22/04/23 19:26:13 WARN RowBasedKeyValueBatch: Calling spill() on RowBasedKeyValueBatch. Will not spill but return 0.\n",
      "22/04/23 19:26:16 WARN RowBasedKeyValueBatch: Calling spill() on RowBasedKeyValueBatch. Will not spill but return 0.\n",
      "22/04/23 19:26:17 WARN RowBasedKeyValueBatch: Calling spill() on RowBasedKeyValueBatch. Will not spill but return 0.\n",
      "22/04/23 19:26:21 WARN RowBasedKeyValueBatch: Calling spill() on RowBasedKeyValueBatch. Will not spill but return 0.\n",
      "[Stage 90:>                                                         (0 + 1) / 1]\r"
     ]
    },
    {
     "name": "stdout",
     "output_type": "stream",
     "text": [
      "+----+--------+----------+-----------+-------------+--------------+-----------+--------------+--------------+-------+--------------+--------+-------------+--------------------+--------------------+--------------------+----------+\n",
      "|step|    type|    amount|   nameOrig|oldbalanceOrg|newbalanceOrig|   nameDest|oldbalanceDest|newbalanceDest|isFraud|isFlaggedFraud|type_idx|     type_ohe|            features|       rawPrediction|         probability|prediction|\n",
      "+----+--------+----------+-----------+-------------+--------------+-----------+--------------+--------------+-------+--------------+--------+-------------+--------------------+--------------------+--------------------+----------+\n",
      "|   1| PAYMENT|   2338.05| C835631769|      81955.0|      79616.95|  M43368234|           0.0|           0.0|      0|             0|     1.0|(4,[1],[1.0])|(9,[0,1,2,6],[233...|[9.99732743284800...|[0.99973274328480...|       0.0|\n",
      "|   1|CASH_OUT| 276138.13|C1071933072|     177971.0|           0.0| C543409470|       10599.0|           0.0|      0|             0|     0.0|(4,[0],[1.0])|(9,[0,1,3,5],[276...|[9.93686673237684...|[0.99368667323768...|       0.0|\n",
      "|   2| PAYMENT|    514.74|C1842463725|       7594.0|       7079.26| M581364120|           0.0|           0.0|      0|             0|     1.0|(4,[1],[1.0])|(9,[0,1,2,6],[514...|[9.99794745323501...|[0.99979474532350...|       0.0|\n",
      "|   6| PAYMENT|   1143.34| C434635189|      21890.0|      20746.66|  M38659643|           0.0|           0.0|      0|             0|     1.0|(4,[1],[1.0])|(9,[0,1,2,6],[114...|[9.99794745323501...|[0.99979474532350...|       0.0|\n",
      "|   6|TRANSFER|  65843.72| C618095995|          0.0|           0.0| C193864812|     252567.83|     302931.44|      0|             0|     3.0|(4,[3],[1.0])|(9,[0,3,4,8],[658...|[9.99495328680565...|[0.99949532868056...|       0.0|\n",
      "|   6| CASH_IN| 111460.82|C1346532545|   2468614.51|    2580075.33| C824197891|      202786.0|      91325.18|      0|             0|     2.0|(4,[2],[1.0])|[111460.82,246861...|[9.99557927381339...|[0.99955792738133...|       0.0|\n",
      "|   6| CASH_IN| 189896.16| C979049207|   7529643.29|    7719539.45| C625088521|     202016.19|      12120.03|      0|             0|     2.0|(4,[2],[1.0])|[189896.16,752964...|[9.99557927381339...|[0.99955792738133...|       0.0|\n",
      "|   7| PAYMENT|  14731.43| C246903361|          0.0|           0.0| M427665153|           0.0|           0.0|      0|             0|     1.0|(4,[1],[1.0])|(9,[0,6],[14731.4...|[9.99656382152924...|[0.99965638215292...|       0.0|\n",
      "|   7|TRANSFER|1575365.68| C416864887|          0.0|           0.0|C1360767589|    5137271.29|    6712636.97|      0|             0|     3.0|(4,[3],[1.0])|(9,[0,3,4,8],[157...|[9.99193333787647...|[0.99919333378764...|       0.0|\n",
      "|   7| PAYMENT|   5139.75|C1814645590|        130.0|           0.0| M310637290|           0.0|           0.0|      0|             0|     1.0|(4,[1],[1.0])|(9,[0,1,6],[5139....|[9.99656382152924...|[0.99965638215292...|       0.0|\n",
      "|   7| CASH_IN| 208146.39|C1244261699|    1024674.4|    1232820.79| C801412408|      467609.7|      67124.59|      0|             0|     2.0|(4,[2],[1.0])|[208146.39,102467...|[9.99557927381339...|[0.99955792738133...|       0.0|\n",
      "|   8| PAYMENT|   3145.31| C579058644|          0.0|           0.0| M635840278|           0.0|           0.0|      0|             0|     1.0|(4,[1],[1.0])|(9,[0,6],[3145.31...|[9.99656382152924...|[0.99965638215292...|       0.0|\n",
      "|   8|CASH_OUT| 256505.94| C812343857|      11287.0|           0.0| C103357744|       49513.0|     381487.88|      0|             0|     0.0|(4,[0],[1.0])|[256505.94,11287....|[9.99156776849615...|[0.99915677684961...|       0.0|\n",
      "|   8| PAYMENT|  20524.85|  C95706948|      10118.0|           0.0|M1066108742|           0.0|           0.0|      0|             0|     1.0|(4,[1],[1.0])|(9,[0,1,6],[20524...|[9.99656382152924...|[0.99965638215292...|       0.0|\n",
      "|   8|CASH_OUT| 376043.17|C1630845883|          0.0|           0.0| C635281078|    1007502.96|    2265663.04|      0|             0|     0.0|(4,[0],[1.0])|(9,[0,3,4,5],[376...|[9.99156776849615...|[0.99915677684961...|       0.0|\n",
      "|   8| CASH_IN|  296769.3| C774815979|     135327.6|      432096.9|C2100990049|      463778.7|           0.0|      0|             0|     2.0|(4,[2],[1.0])|[296769.3,135327....|[9.99557927381339...|[0.99955792738133...|       0.0|\n",
      "|   8|CASH_OUT| 346194.79|C1452039461|          0.0|           0.0| C746359178|     396491.18|     1793011.1|      0|             0|     0.0|(4,[0],[1.0])|(9,[0,3,4,5],[346...|[9.99156776849615...|[0.99915677684961...|       0.0|\n",
      "|   8| PAYMENT|  17638.72|C1154546108|      50131.0|      32492.28| M979622014|           0.0|           0.0|      0|             0|     1.0|(4,[1],[1.0])|(9,[0,1,2,6],[176...|[9.99732743284800...|[0.99973274328480...|       0.0|\n",
      "|   8| CASH_IN|  88706.29|C1354830045|   6270750.25|    6359456.54| C347725669|     138169.32|      22242.91|      0|             0|     2.0|(4,[2],[1.0])|[88706.29,6270750...|[9.99557927381339...|[0.99955792738133...|       0.0|\n",
      "|   8| PAYMENT|   8049.78|C1674491082|          0.0|           0.0| M629725621|           0.0|           0.0|      0|             0|     1.0|(4,[1],[1.0])|(9,[0,6],[8049.78...|[9.99656382152924...|[0.99965638215292...|       0.0|\n",
      "+----+--------+----------+-----------+-------------+--------------+-----------+--------------+--------------+-------+--------------+--------+-------------+--------------------+--------------------+--------------------+----------+\n",
      "only showing top 20 rows\n",
      "\n"
     ]
    },
    {
     "name": "stderr",
     "output_type": "stream",
     "text": [
      "                                                                                \r"
     ]
    }
   ],
   "source": [
    "results.show()"
   ]
  },
  {
   "cell_type": "markdown",
   "metadata": {},
   "source": [
    "# 8.0. Checking model performance"
   ]
  },
  {
   "cell_type": "code",
   "execution_count": 32,
   "metadata": {},
   "outputs": [
    {
     "name": "stderr",
     "output_type": "stream",
     "text": [
      "22/04/23 19:26:52 WARN RowBasedKeyValueBatch: Calling spill() on RowBasedKeyValueBatch. Will not spill but return 0.\n",
      "22/04/23 19:26:53 WARN RowBasedKeyValueBatch: Calling spill() on RowBasedKeyValueBatch. Will not spill but return 0.\n",
      "22/04/23 19:26:54 WARN RowBasedKeyValueBatch: Calling spill() on RowBasedKeyValueBatch. Will not spill but return 0.\n",
      "22/04/23 19:26:54 WARN RowBasedKeyValueBatch: Calling spill() on RowBasedKeyValueBatch. Will not spill but return 0.\n",
      "22/04/23 19:27:07 WARN RowBasedKeyValueBatch: Calling spill() on RowBasedKeyValueBatch. Will not spill but return 0.\n",
      "22/04/23 19:27:07 WARN RowBasedKeyValueBatch: Calling spill() on RowBasedKeyValueBatch. Will not spill but return 0.\n",
      "22/04/23 19:27:08 WARN RowBasedKeyValueBatch: Calling spill() on RowBasedKeyValueBatch. Will not spill but return 0.\n",
      "22/04/23 19:27:09 WARN RowBasedKeyValueBatch: Calling spill() on RowBasedKeyValueBatch. Will not spill but return 0.\n",
      "22/04/23 19:27:23 WARN RowBasedKeyValueBatch: Calling spill() on RowBasedKeyValueBatch. Will not spill but return 0.\n",
      "22/04/23 19:27:24 WARN RowBasedKeyValueBatch: Calling spill() on RowBasedKeyValueBatch. Will not spill but return 0.\n",
      "22/04/23 19:27:25 WARN RowBasedKeyValueBatch: Calling spill() on RowBasedKeyValueBatch. Will not spill but return 0.\n",
      "22/04/23 19:27:52 WARN RowBasedKeyValueBatch: Calling spill() on RowBasedKeyValueBatch. Will not spill but return 0.\n",
      "22/04/23 19:27:53 WARN RowBasedKeyValueBatch: Calling spill() on RowBasedKeyValueBatch. Will not spill but return 0.\n",
      "22/04/23 19:27:54 WARN RowBasedKeyValueBatch: Calling spill() on RowBasedKeyValueBatch. Will not spill but return 0.\n",
      "22/04/23 19:27:54 WARN RowBasedKeyValueBatch: Calling spill() on RowBasedKeyValueBatch. Will not spill but return 0.\n",
      "22/04/23 19:28:07 WARN RowBasedKeyValueBatch: Calling spill() on RowBasedKeyValueBatch. Will not spill but return 0.\n",
      "22/04/23 19:28:08 WARN RowBasedKeyValueBatch: Calling spill() on RowBasedKeyValueBatch. Will not spill but return 0.\n",
      "22/04/23 19:28:09 WARN RowBasedKeyValueBatch: Calling spill() on RowBasedKeyValueBatch. Will not spill but return 0.\n",
      "22/04/23 19:28:10 WARN RowBasedKeyValueBatch: Calling spill() on RowBasedKeyValueBatch. Will not spill but return 0.\n",
      "                                                                                \r"
     ]
    }
   ],
   "source": [
    "results_pd = proba_to_pandas(dataframe = results, prob_col='probability', label_col='isFraud')"
   ]
  },
  {
   "cell_type": "code",
   "execution_count": 33,
   "metadata": {},
   "outputs": [
    {
     "data": {
      "image/png": "[encoded data removed]",
      "text/plain": [
       "<Figure size 1800x864 with 1 Axes>"
      ]
     },
     "metadata": {},
     "output_type": "display_data"
    }
   ],
   "source": [
    "fig, ax = plt.subplots() #figsize = (25,12)\n",
    "RocCurveDisplay.from_predictions(y_pred = results_pd.y_pred, y_true= results_pd.y_true, ax = ax);\n"
   ]
  },
  {
   "cell_type": "code",
   "execution_count": 36,
   "metadata": {},
   "outputs": [
    {
     "data": {
      "text/html": [
       "<div>\n",
       "<style scoped>\n",
       "    .dataframe tbody tr th:only-of-type {\n",
       "        vertical-align: middle;\n",
       "    }\n",
       "\n",
       "    .dataframe tbody tr th {\n",
       "        vertical-align: top;\n",
       "    }\n",
       "\n",
       "    .dataframe thead th {\n",
       "        text-align: right;\n",
       "    }\n",
       "</style>\n",
       "<table border=\"1\" class=\"dataframe\">\n",
       "  <thead>\n",
       "    <tr style=\"text-align: right;\">\n",
       "      <th></th>\n",
       "      <th>y_pred</th>\n",
       "      <th>y_true</th>\n",
       "    </tr>\n",
       "  </thead>\n",
       "  <tbody>\n",
       "    <tr>\n",
       "      <th>0</th>\n",
       "      <td>0.000442</td>\n",
       "      <td>0</td>\n",
       "    </tr>\n",
       "    <tr>\n",
       "      <th>1</th>\n",
       "      <td>0.000442</td>\n",
       "      <td>0</td>\n",
       "    </tr>\n",
       "    <tr>\n",
       "      <th>2</th>\n",
       "      <td>0.000442</td>\n",
       "      <td>0</td>\n",
       "    </tr>\n",
       "    <tr>\n",
       "      <th>3</th>\n",
       "      <td>0.000442</td>\n",
       "      <td>0</td>\n",
       "    </tr>\n",
       "    <tr>\n",
       "      <th>4</th>\n",
       "      <td>0.000442</td>\n",
       "      <td>0</td>\n",
       "    </tr>\n",
       "  </tbody>\n",
       "</table>\n",
       "</div>"
      ],
      "text/plain": [
       "     y_pred  y_true\n",
       "0  0.000442       0\n",
       "1  0.000442       0\n",
       "2  0.000442       0\n",
       "3  0.000442       0\n",
       "4  0.000442       0"
      ]
     },
     "execution_count": 36,
     "metadata": {},
     "output_type": "execute_result"
    }
   ],
   "source": [
    "results_pd.head()"
   ]
  },
  {
   "cell_type": "code",
   "execution_count": 64,
   "metadata": {},
   "outputs": [
    {
     "data": {
      "text/plain": [
       "array([[1271051,      42],\n",
       "       [    560,    1109]])"
      ]
     },
     "execution_count": 64,
     "metadata": {},
     "output_type": "execute_result"
    }
   ],
   "source": [
    "cm = confusion_matrix(y_true=results_pd.y_true, y_pred=results_pd.y_pred > 0.3)\n",
    "cm"
   ]
  },
  {
   "cell_type": "code",
   "execution_count": 85,
   "metadata": {},
   "outputs": [
    {
     "data": {
      "image/png": "[encoded data removed]",
      "text/plain": [
       "<Figure size 1800x864 with 4 Axes>"
      ]
     },
     "metadata": {},
     "output_type": "display_data"
    }
   ],
   "source": [
    "fig, ax = plt.subplots(1,2)\n",
    "\n",
    "# 50 % threshold\n",
    "cm = confusion_matrix(y_true=results_pd.y_true, y_pred=results_pd.y_pred > 0.5)\n",
    "disp = ConfusionMatrixDisplay(cm)\n",
    "disp.plot(ax = ax[0])\n",
    "ax[0].set_title('CM for a threshold of 50%')\n",
    "\n",
    "# 30 % threshold\n",
    "cm = confusion_matrix(y_true=results_pd.y_true, y_pred=results_pd.y_pred > 0.3)\n",
    "disp = ConfusionMatrixDisplay(cm)\n",
    "disp.plot(ax = ax[1])\n",
    "ax[1].set_title('CM for a threshold of 30%');"
   ]
  },
  {
   "cell_type": "code",
   "execution_count": 90,
   "metadata": {},
   "outputs": [],
   "source": [
    "from sklearn.metrics import "
   ]
  },
  {
   "cell_type": "code",
   "execution_count": 92,
   "metadata": {},
   "outputs": [
    {
     "data": {
      "image/png": "[encoded data removed]",
      "text/plain": [
       "<Figure size 1800x864 with 1 Axes>"
      ]
     },
     "metadata": {},
     "output_type": "display_data"
    }
   ],
   "source": [
    "PrecisionRecallDisplay.from_predictions(y_true=results_pd.y_true, y_pred = results_pd.y_pred);"
   ]
  },
  {
   "cell_type": "markdown",
   "metadata": {},
   "source": [
    "We could have a moderate recall (66%) with very high precision (96%) if we lower the threshold to 30% in our first model, as we may see from the confusion matrices and the PR curve.\n",
    "\n",
    "In a real-world situation, we could use this model as an MVP and deploy it while building a more precise one. However, since I am using CRISP-DM, I'll consider this model as a baseline for the project and keep attempting to improve it."
   ]
  }
 ],
 "metadata": {
  "interpreter": {
   "hash": "da8010f0f20355106034bde63a2468ec8e64683c6adfc729f12ddf3965425c16"
  },
  "kernelspec": {
   "display_name": "Python 3.8.0 64-bit ('pyspark')",
   "language": "python",
   "name": "python3"
  },
  "language_info": {
   "codemirror_mode": {
    "name": "ipython",
    "version": 3
   },
   "file_extension": ".py",
   "mimetype": "text/x-python",
   "name": "python",
   "nbconvert_exporter": "python",
   "pygments_lexer": "ipython3",
   "version": "3.8.0"
  },
  "orig_nbformat": 4
 },
 "nbformat": 4,
 "nbformat_minor": 2
}
